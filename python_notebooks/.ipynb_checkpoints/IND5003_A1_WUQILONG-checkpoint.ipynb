{
 "cells": [
  {
   "cell_type": "markdown",
   "metadata": {},
   "source": [
    "<div align=\"center\" style=\"font-size: 32px; font-weight:bold\">\n",
    "IND5003_A1\n",
    "</div>\n",
    "<br>\n",
    "<div align=\"center\" style=\"font-size: 24px;\">\n",
    "WU QILONG<br>E1124649@u.nus.edu<br>A0274903B\n",
    "</div>"
   ]
  },
  {
   "cell_type": "markdown",
   "metadata": {},
   "source": [
    "# Instructions\n",
    "\n",
    "1. This assignment is worth 5% of the final grade.\n",
    "2. Insert cells (code or markdown, as appropriate) below each question and fill in your answers there.\n",
    "2. You are required to work on this individually. Any form of plagiarism will result in 0.\n",
    "3. Please submit your notebook file (name it ``IND5003_A1_<Your_Name>.ipynb``) through Canvas before **17th Sep 2023 23:59hrs**."
   ]
  },
  {
   "cell_type": "code",
   "execution_count": 7,
   "metadata": {
    "ExecuteTime": {
     "end_time": "2023-09-16T17:59:03.427811Z",
     "start_time": "2023-09-16T17:59:03.419868Z"
    }
   },
   "outputs": [],
   "source": [
    "import numpy as np\n",
    "import pandas as pd\n",
    "import matplotlib.pyplot as plt\n",
    "import scipy.stats as stats\n",
    "import seaborn as sns\n",
    "\n",
    "\n",
    "def check_normality(pd_series):\n",
    "    \"\"\"Creates a panel of three plots for checking Normality.\n",
    "    \n",
    "    The input is a pandas series of real numbers.\n",
    "    \n",
    "    The output is a plot figure with three subplots - a boxplot, a histogram and \n",
    "    a qq-plot.\n",
    "    \"\"\"\n",
    "    plt.figure(1, figsize=(15, 4))\n",
    "    plt.subplot(131)\n",
    "    pd_series.plot(kind='box')\n",
    "\n",
    "    plt.subplot(132)\n",
    "    # pd_series.hist(grid=False);\n",
    "    sns.histplot(pd_series, bins=10, kde=True)\n",
    "\n",
    "    plt.subplot(133)\n",
    "    stats.probplot(pd_series, plot=plt)"
   ]
  },
  {
   "cell_type": "markdown",
   "metadata": {},
   "source": [
    "# Question 1\n",
    "\n",
    "The file `resale_flat_prices.csv` contains resale flat prices in Singapore from January 2017 onwards. The file `town_type_region.xlsx` contains the classification of each town as *mature* or *non-mature* and each town's geographical region (*north*, *north-east*, *east*, *west*, or *central*). Use these two files and choose the appropriate hypothesis test to perform the five steps for each question. to answer the following questions:"
   ]
  },
  {
   "cell_type": "code",
   "execution_count": 8,
   "metadata": {
    "ExecuteTime": {
     "end_time": "2023-09-16T17:59:04.561832Z",
     "start_time": "2023-09-16T17:59:04.281492Z"
    }
   },
   "outputs": [],
   "source": [
    "def years_trans(time_string):\n",
    "    lst = time_string.split()\n",
    "    if 'years' in lst:\n",
    "        if 'months' in lst:\n",
    "            return int(lst[0]) + int(lst[2]) / 12\n",
    "        else:\n",
    "            return int(lst[0])\n",
    "    else:\n",
    "        return 0\n",
    "\n",
    "data1 = pd.read_csv('../data/resale_flat_prices.csv')\n",
    "data2 = pd.read_excel('../data/town_type_region.xlsx')\n",
    "data = pd.merge(left=data1, right=data2, how='left', on='town')\n",
    "data['remaining_lease_years'] = data['remaining_lease'].apply(years_trans)"
   ]
  },
  {
   "cell_type": "code",
   "execution_count": 9,
   "metadata": {
    "ExecuteTime": {
     "end_time": "2023-09-16T17:59:05.325371Z",
     "start_time": "2023-09-16T17:59:05.307587Z"
    }
   },
   "outputs": [
    {
     "data": {
      "text/html": [
       "<div>\n",
       "<style scoped>\n",
       "    .dataframe tbody tr th:only-of-type {\n",
       "        vertical-align: middle;\n",
       "    }\n",
       "\n",
       "    .dataframe tbody tr th {\n",
       "        vertical-align: top;\n",
       "    }\n",
       "\n",
       "    .dataframe thead th {\n",
       "        text-align: right;\n",
       "    }\n",
       "</style>\n",
       "<table border=\"1\" class=\"dataframe\">\n",
       "  <thead>\n",
       "    <tr style=\"text-align: right;\">\n",
       "      <th></th>\n",
       "      <th>month</th>\n",
       "      <th>town</th>\n",
       "      <th>flat_type</th>\n",
       "      <th>block</th>\n",
       "      <th>street_name</th>\n",
       "      <th>storey_range</th>\n",
       "      <th>floor_area_sqm</th>\n",
       "      <th>flat_model</th>\n",
       "      <th>lease_commence_date</th>\n",
       "      <th>remaining_lease</th>\n",
       "      <th>resale_price</th>\n",
       "      <th>type</th>\n",
       "      <th>region</th>\n",
       "      <th>remaining_lease_years</th>\n",
       "    </tr>\n",
       "  </thead>\n",
       "  <tbody>\n",
       "    <tr>\n",
       "      <th>0</th>\n",
       "      <td>2017-01</td>\n",
       "      <td>ANG MO KIO</td>\n",
       "      <td>2 ROOM</td>\n",
       "      <td>406</td>\n",
       "      <td>ANG MO KIO AVE 10</td>\n",
       "      <td>10 TO 12</td>\n",
       "      <td>44.0</td>\n",
       "      <td>Improved</td>\n",
       "      <td>1979</td>\n",
       "      <td>61 years 04 months</td>\n",
       "      <td>232000.0</td>\n",
       "      <td>mature</td>\n",
       "      <td>north-east</td>\n",
       "      <td>61.333333</td>\n",
       "    </tr>\n",
       "    <tr>\n",
       "      <th>1</th>\n",
       "      <td>2017-01</td>\n",
       "      <td>ANG MO KIO</td>\n",
       "      <td>3 ROOM</td>\n",
       "      <td>108</td>\n",
       "      <td>ANG MO KIO AVE 4</td>\n",
       "      <td>01 TO 03</td>\n",
       "      <td>67.0</td>\n",
       "      <td>New Generation</td>\n",
       "      <td>1978</td>\n",
       "      <td>60 years 07 months</td>\n",
       "      <td>250000.0</td>\n",
       "      <td>mature</td>\n",
       "      <td>north-east</td>\n",
       "      <td>60.583333</td>\n",
       "    </tr>\n",
       "    <tr>\n",
       "      <th>2</th>\n",
       "      <td>2017-01</td>\n",
       "      <td>ANG MO KIO</td>\n",
       "      <td>3 ROOM</td>\n",
       "      <td>602</td>\n",
       "      <td>ANG MO KIO AVE 5</td>\n",
       "      <td>01 TO 03</td>\n",
       "      <td>67.0</td>\n",
       "      <td>New Generation</td>\n",
       "      <td>1980</td>\n",
       "      <td>62 years 05 months</td>\n",
       "      <td>262000.0</td>\n",
       "      <td>mature</td>\n",
       "      <td>north-east</td>\n",
       "      <td>62.416667</td>\n",
       "    </tr>\n",
       "  </tbody>\n",
       "</table>\n",
       "</div>"
      ],
      "text/plain": [
       "     month        town flat_type block        street_name storey_range  \\\n",
       "0  2017-01  ANG MO KIO    2 ROOM   406  ANG MO KIO AVE 10     10 TO 12   \n",
       "1  2017-01  ANG MO KIO    3 ROOM   108   ANG MO KIO AVE 4     01 TO 03   \n",
       "2  2017-01  ANG MO KIO    3 ROOM   602   ANG MO KIO AVE 5     01 TO 03   \n",
       "\n",
       "   floor_area_sqm      flat_model  lease_commence_date     remaining_lease  \\\n",
       "0            44.0        Improved                 1979  61 years 04 months   \n",
       "1            67.0  New Generation                 1978  60 years 07 months   \n",
       "2            67.0  New Generation                 1980  62 years 05 months   \n",
       "\n",
       "   resale_price    type      region  remaining_lease_years  \n",
       "0      232000.0  mature  north-east              61.333333  \n",
       "1      250000.0  mature  north-east              60.583333  \n",
       "2      262000.0  mature  north-east              62.416667  "
      ]
     },
     "execution_count": 9,
     "metadata": {},
     "output_type": "execute_result"
    }
   ],
   "source": [
    "data.head(3)"
   ]
  },
  {
   "cell_type": "markdown",
   "metadata": {},
   "source": [
    "## 1.1 \n",
    "In the period January 2022 to June 2022, was the mean resale price **per square metre per year of remaining lease** of 4 ROOM flats the same for all geographical regions?"
   ]
  },
  {
   "cell_type": "markdown",
   "metadata": {},
   "source": [
    "### Data Proprocessing"
   ]
  },
  {
   "cell_type": "code",
   "execution_count": 10,
   "metadata": {
    "ExecuteTime": {
     "end_time": "2023-09-16T17:59:05.997372Z",
     "start_time": "2023-09-16T17:59:05.958603Z"
    },
    "scrolled": true
   },
   "outputs": [
    {
     "data": {
      "text/plain": [
       "region\n",
       "central       99.383641\n",
       "east          75.912790\n",
       "north         63.382835\n",
       "north-east    68.816210\n",
       "west          67.386625\n",
       "Name: resale_price_per_sqm_rlyear, dtype: float64"
      ]
     },
     "execution_count": 10,
     "metadata": {},
     "output_type": "execute_result"
    }
   ],
   "source": [
    "dt1 = data[('2022-01' <= data['month']) & (data['month'] <= '2022-06') &\n",
    "           (data['flat_type'] == '4 ROOM')].reset_index(drop=True)\n",
    "dt1['resale_price_per_sqm_rlyear'] = dt1['resale_price'] / dt1[\n",
    "    'remaining_lease_years'] / dt1['floor_area_sqm']\n",
    "dt1 = dt1[['region', 'resale_price_per_sqm_rlyear']]\n",
    "dt1.groupby('region')['resale_price_per_sqm_rlyear'].mean()"
   ]
  },
  {
   "cell_type": "code",
   "execution_count": 11,
   "metadata": {
    "ExecuteTime": {
     "end_time": "2023-09-16T17:59:06.147055Z",
     "start_time": "2023-09-16T17:59:06.139954Z"
    }
   },
   "outputs": [
    {
     "data": {
      "text/html": [
       "<div>\n",
       "<style scoped>\n",
       "    .dataframe tbody tr th:only-of-type {\n",
       "        vertical-align: middle;\n",
       "    }\n",
       "\n",
       "    .dataframe tbody tr th {\n",
       "        vertical-align: top;\n",
       "    }\n",
       "\n",
       "    .dataframe thead th {\n",
       "        text-align: right;\n",
       "    }\n",
       "</style>\n",
       "<table border=\"1\" class=\"dataframe\">\n",
       "  <thead>\n",
       "    <tr style=\"text-align: right;\">\n",
       "      <th></th>\n",
       "      <th>region</th>\n",
       "      <th>resale_price_per_sqm_rlyear</th>\n",
       "    </tr>\n",
       "  </thead>\n",
       "  <tbody>\n",
       "    <tr>\n",
       "      <th>0</th>\n",
       "      <td>north-east</td>\n",
       "      <td>94.720497</td>\n",
       "    </tr>\n",
       "    <tr>\n",
       "      <th>1</th>\n",
       "      <td>north-east</td>\n",
       "      <td>86.363082</td>\n",
       "    </tr>\n",
       "    <tr>\n",
       "      <th>2</th>\n",
       "      <td>north-east</td>\n",
       "      <td>81.996435</td>\n",
       "    </tr>\n",
       "  </tbody>\n",
       "</table>\n",
       "</div>"
      ],
      "text/plain": [
       "       region  resale_price_per_sqm_rlyear\n",
       "0  north-east                    94.720497\n",
       "1  north-east                    86.363082\n",
       "2  north-east                    81.996435"
      ]
     },
     "execution_count": 11,
     "metadata": {},
     "output_type": "execute_result"
    }
   ],
   "source": [
    "dt1.head(3)"
   ]
  },
  {
   "cell_type": "markdown",
   "metadata": {},
   "source": [
    "### Hypothesis tests"
   ]
  },
  {
   "cell_type": "markdown",
   "metadata": {},
   "source": [
    "#### Step 1: Check Assumptions"
   ]
  },
  {
   "cell_type": "code",
   "execution_count": 12,
   "metadata": {
    "ExecuteTime": {
     "end_time": "2023-09-16T17:59:06.725569Z",
     "start_time": "2023-09-16T17:59:06.706134Z"
    }
   },
   "outputs": [
    {
     "data": {
      "text/html": [
       "<div>\n",
       "<style scoped>\n",
       "    .dataframe tbody tr th:only-of-type {\n",
       "        vertical-align: middle;\n",
       "    }\n",
       "\n",
       "    .dataframe tbody tr th {\n",
       "        vertical-align: top;\n",
       "    }\n",
       "\n",
       "    .dataframe thead th {\n",
       "        text-align: right;\n",
       "    }\n",
       "</style>\n",
       "<table border=\"1\" class=\"dataframe\">\n",
       "  <thead>\n",
       "    <tr style=\"text-align: right;\">\n",
       "      <th></th>\n",
       "      <th>region</th>\n",
       "      <th>resale_price_per_sqm_rlyear</th>\n",
       "      <th>res</th>\n",
       "    </tr>\n",
       "  </thead>\n",
       "  <tbody>\n",
       "    <tr>\n",
       "      <th>0</th>\n",
       "      <td>north-east</td>\n",
       "      <td>94.720497</td>\n",
       "      <td>25.904287</td>\n",
       "    </tr>\n",
       "    <tr>\n",
       "      <th>1</th>\n",
       "      <td>north-east</td>\n",
       "      <td>86.363082</td>\n",
       "      <td>17.546872</td>\n",
       "    </tr>\n",
       "    <tr>\n",
       "      <th>2</th>\n",
       "      <td>north-east</td>\n",
       "      <td>81.996435</td>\n",
       "      <td>13.180225</td>\n",
       "    </tr>\n",
       "    <tr>\n",
       "      <th>3</th>\n",
       "      <td>north-east</td>\n",
       "      <td>78.011406</td>\n",
       "      <td>9.195196</td>\n",
       "    </tr>\n",
       "    <tr>\n",
       "      <th>4</th>\n",
       "      <td>north-east</td>\n",
       "      <td>80.489210</td>\n",
       "      <td>11.673000</td>\n",
       "    </tr>\n",
       "    <tr>\n",
       "      <th>...</th>\n",
       "      <td>...</td>\n",
       "      <td>...</td>\n",
       "      <td>...</td>\n",
       "    </tr>\n",
       "    <tr>\n",
       "      <th>5582</th>\n",
       "      <td>north</td>\n",
       "      <td>79.365079</td>\n",
       "      <td>15.982244</td>\n",
       "    </tr>\n",
       "    <tr>\n",
       "      <th>5583</th>\n",
       "      <td>north</td>\n",
       "      <td>75.641517</td>\n",
       "      <td>12.258682</td>\n",
       "    </tr>\n",
       "    <tr>\n",
       "      <th>5584</th>\n",
       "      <td>north</td>\n",
       "      <td>74.404762</td>\n",
       "      <td>11.021927</td>\n",
       "    </tr>\n",
       "    <tr>\n",
       "      <th>5585</th>\n",
       "      <td>north</td>\n",
       "      <td>94.440485</td>\n",
       "      <td>31.057650</td>\n",
       "    </tr>\n",
       "    <tr>\n",
       "      <th>5586</th>\n",
       "      <td>north</td>\n",
       "      <td>87.912088</td>\n",
       "      <td>24.529253</td>\n",
       "    </tr>\n",
       "  </tbody>\n",
       "</table>\n",
       "<p>5587 rows × 3 columns</p>\n",
       "</div>"
      ],
      "text/plain": [
       "          region  resale_price_per_sqm_rlyear        res\n",
       "0     north-east                    94.720497  25.904287\n",
       "1     north-east                    86.363082  17.546872\n",
       "2     north-east                    81.996435  13.180225\n",
       "3     north-east                    78.011406   9.195196\n",
       "4     north-east                    80.489210  11.673000\n",
       "...          ...                          ...        ...\n",
       "5582       north                    79.365079  15.982244\n",
       "5583       north                    75.641517  12.258682\n",
       "5584       north                    74.404762  11.021927\n",
       "5585       north                    94.440485  31.057650\n",
       "5586       north                    87.912088  24.529253\n",
       "\n",
       "[5587 rows x 3 columns]"
      ]
     },
     "execution_count": 12,
     "metadata": {},
     "output_type": "execute_result"
    }
   ],
   "source": [
    "res = dt1.groupby('region', group_keys=True)['resale_price_per_sqm_rlyear'].apply(lambda x: x - np.mean(x))\n",
    "res_index = res.index.droplevel(0)\n",
    "res_values = res.values\n",
    "dt1['res'] = pd.Series(res_values, res_index)\n",
    "dt1"
   ]
  },
  {
   "cell_type": "code",
   "execution_count": 13,
   "metadata": {
    "ExecuteTime": {
     "end_time": "2023-09-16T17:59:07.341736Z",
     "start_time": "2023-09-16T17:59:06.915038Z"
    },
    "scrolled": false
   },
   "outputs": [
    {
     "data": {
      "image/png": "[encoded data removed]",
      "text/plain": [
       "<Figure size 1500x400 with 3 Axes>"
      ]
     },
     "metadata": {},
     "output_type": "display_data"
    }
   ],
   "source": [
    "check_normality(dt1.res)"
   ]
  },
  {
   "cell_type": "markdown",
   "metadata": {},
   "source": [
    "In the normality test, we observed numerous outliers in the box plot. The distribution plot shows skewness and is not symmetrical. In the QQ plot, it is evident that the data points do not all lie on a straight line but start to deviate significantly in the region where the 'res' value ranges from 20-60. Therefore, this distribution is not normally distributed, and we use the Kruskal-Wallis test for evaluation."
   ]
  },
  {
   "cell_type": "markdown",
   "metadata": {},
   "source": [
    "#### Step 2: Null and Alternative Hypotheses -- (Kruskal-Wallis test)\n",
    "\n",
    "The statement of the hypotheses in this case would be:\n",
    "\n",
    "the null hypothesis can be stated as:\n",
    "$$\n",
    "H_0 : \\mu_1 = \\mu_2 = \\cdots = \\mu_k\n",
    "$$\n",
    "\n",
    "The alternative hypothesis is best stated in words:\n",
    "$$\n",
    "H_1 : \\text{At least two of group means are different}\n",
    "$$\n",
    "\n",
    "Remember that null and alternative hypotheses cannot have any overlap in the regions that they specify."
   ]
  },
  {
   "cell_type": "markdown",
   "metadata": {},
   "source": [
    "#### Steps 3 & 4: Compute test statistic and $p$-value -- (Kruskal-Wallis test)"
   ]
  },
  {
   "cell_type": "markdown",
   "metadata": {},
   "source": [
    "The Kruskal-Wallis test's statistic, $ H $, is computed based on the ranks of the data. Given $ k $ samples, the formula for the statistic $ H $ is:\n",
    "\n",
    "\\begin{equation*}\n",
    "H = \\frac{12}{N(N+1)} \\sum_{i=1}^{k} \\frac{R_i^2}{n_i} - 3(N+1)\n",
    "\\end{equation*}\n",
    "\n",
    "Where:\n",
    "- $ N $ is the total number of observations across all samples.\n",
    "- $ R_i $ is the rank sum for the $ i^{th} $ sample.\n",
    "- $ n_i $ is the size of the $ i^{th} $ sample.\n",
    "- $ k $ is the number of groups.\n",
    "\n",
    "This statistic approximately follows a chi-squared distribution for large samples, with degrees of freedom $ k - 1 $.\n"
   ]
  },
  {
   "cell_type": "code",
   "execution_count": 14,
   "metadata": {
    "ExecuteTime": {
     "end_time": "2023-09-16T17:59:07.902361Z",
     "start_time": "2023-09-16T17:59:07.886804Z"
    }
   },
   "outputs": [
    {
     "name": "stdout",
     "output_type": "stream",
     "text": [
      "Statistic: 32.7945951761432\n",
      "P-value: 1.3159092256056765e-06\n"
     ]
    }
   ],
   "source": [
    "from scipy.stats import kruskal\n",
    "\n",
    "regions = [\n",
    "    dt1[dt1['region'] == i]['res'].to_numpy() for i in dt1['region'].unique()\n",
    "]\n",
    "statistic, p_value = kruskal(*regions)\n",
    "\n",
    "print(f\"Statistic: {statistic}\")\n",
    "print(f\"P-value: {p_value}\")"
   ]
  },
  {
   "cell_type": "markdown",
   "metadata": {},
   "source": [
    "#### Step 5: Conclusion from $p$-Value\n",
    "\n",
    "We would conclude that we have strong evidence against the null hypothesis and that At least one region's mean resale price issignificantly different from the others."
   ]
  },
  {
   "cell_type": "code",
   "execution_count": 15,
   "metadata": {
    "ExecuteTime": {
     "end_time": "2023-09-16T17:59:09.028029Z",
     "start_time": "2023-09-16T17:59:09.023623Z"
    }
   },
   "outputs": [
    {
     "name": "stdout",
     "output_type": "stream",
     "text": [
      "Reject the null hypothesis: At least one region's mean resale price issignificantly different from the others.\n"
     ]
    }
   ],
   "source": [
    "# Determine the outcome based on the p-value and a significance level (0.05)\n",
    "alpha = 0.05\n",
    "if p_value < alpha:\n",
    "    print(\n",
    "        \"Reject the null hypothesis: At least one region's mean resale price is\" \\\n",
    "        \"significantly different from the others.\"\n",
    "    )\n",
    "else:\n",
    "    print(\n",
    "        \"Fail to reject the null hypothesis: The mean resale prices across regions might be the same.\"\n",
    "    )"
   ]
  },
  {
   "cell_type": "markdown",
   "metadata": {},
   "source": [
    "## 1.2\n",
    "In the period July 2022 to December 2022, was there any difference in the distribution of geographical regions for each resale flat type? (Please **omit** 1 ROOM and MULTI-GENERATION flats from this analysis.)"
   ]
  },
  {
   "cell_type": "markdown",
   "metadata": {},
   "source": [
    "### Data Preprocessing"
   ]
  },
  {
   "cell_type": "code",
   "execution_count": 16,
   "metadata": {
    "ExecuteTime": {
     "end_time": "2023-09-16T17:59:09.765800Z",
     "start_time": "2023-09-16T17:59:09.684968Z"
    }
   },
   "outputs": [
    {
     "data": {
      "image/png": "[encoded data removed]",
      "text/plain": [
       "<Figure size 640x480 with 1 Axes>"
      ]
     },
     "metadata": {},
     "output_type": "display_data"
    }
   ],
   "source": [
    "plt.hist(dt1['region'])\n",
    "plt.show()"
   ]
  },
  {
   "cell_type": "code",
   "execution_count": 17,
   "metadata": {
    "ExecuteTime": {
     "end_time": "2023-09-16T17:59:10.203710Z",
     "start_time": "2023-09-16T17:59:10.165144Z"
    }
   },
   "outputs": [],
   "source": [
    "omit = ['1 ROOM', 'MULTI-GENERATION']\n",
    "dt2 = data[(data['month'] >= '2022-07') & (data['month'] <= '2022-12') &\n",
    "           (~data['flat_type'].isin(omit))].reset_index(drop=True)\n",
    "dt2 = dt2[['flat_type', 'region']]\n",
    "table = pd.crosstab(dt2['flat_type'], dt2['region'])"
   ]
  },
  {
   "cell_type": "code",
   "execution_count": 18,
   "metadata": {
    "ExecuteTime": {
     "end_time": "2023-09-16T17:59:10.437810Z",
     "start_time": "2023-09-16T17:59:10.428225Z"
    }
   },
   "outputs": [
    {
     "data": {
      "text/html": [
       "<div>\n",
       "<style scoped>\n",
       "    .dataframe tbody tr th:only-of-type {\n",
       "        vertical-align: middle;\n",
       "    }\n",
       "\n",
       "    .dataframe tbody tr th {\n",
       "        vertical-align: top;\n",
       "    }\n",
       "\n",
       "    .dataframe thead th {\n",
       "        text-align: right;\n",
       "    }\n",
       "</style>\n",
       "<table border=\"1\" class=\"dataframe\">\n",
       "  <thead>\n",
       "    <tr style=\"text-align: right;\">\n",
       "      <th>region</th>\n",
       "      <th>central</th>\n",
       "      <th>east</th>\n",
       "      <th>north</th>\n",
       "      <th>north-east</th>\n",
       "      <th>west</th>\n",
       "    </tr>\n",
       "    <tr>\n",
       "      <th>flat_type</th>\n",
       "      <th></th>\n",
       "      <th></th>\n",
       "      <th></th>\n",
       "      <th></th>\n",
       "      <th></th>\n",
       "    </tr>\n",
       "  </thead>\n",
       "  <tbody>\n",
       "    <tr>\n",
       "      <th>2 ROOM</th>\n",
       "      <td>48</td>\n",
       "      <td>19</td>\n",
       "      <td>84</td>\n",
       "      <td>67</td>\n",
       "      <td>38</td>\n",
       "    </tr>\n",
       "    <tr>\n",
       "      <th>3 ROOM</th>\n",
       "      <td>1036</td>\n",
       "      <td>483</td>\n",
       "      <td>484</td>\n",
       "      <td>666</td>\n",
       "      <td>611</td>\n",
       "    </tr>\n",
       "    <tr>\n",
       "      <th>4 ROOM</th>\n",
       "      <td>948</td>\n",
       "      <td>711</td>\n",
       "      <td>1199</td>\n",
       "      <td>1635</td>\n",
       "      <td>1229</td>\n",
       "    </tr>\n",
       "    <tr>\n",
       "      <th>5 ROOM</th>\n",
       "      <td>450</td>\n",
       "      <td>491</td>\n",
       "      <td>624</td>\n",
       "      <td>977</td>\n",
       "      <td>806</td>\n",
       "    </tr>\n",
       "    <tr>\n",
       "      <th>EXECUTIVE</th>\n",
       "      <td>74</td>\n",
       "      <td>251</td>\n",
       "      <td>179</td>\n",
       "      <td>180</td>\n",
       "      <td>270</td>\n",
       "    </tr>\n",
       "  </tbody>\n",
       "</table>\n",
       "</div>"
      ],
      "text/plain": [
       "region     central  east  north  north-east  west\n",
       "flat_type                                        \n",
       "2 ROOM          48    19     84          67    38\n",
       "3 ROOM        1036   483    484         666   611\n",
       "4 ROOM         948   711   1199        1635  1229\n",
       "5 ROOM         450   491    624         977   806\n",
       "EXECUTIVE       74   251    179         180   270"
      ]
     },
     "execution_count": 18,
     "metadata": {},
     "output_type": "execute_result"
    }
   ],
   "source": [
    "table"
   ]
  },
  {
   "cell_type": "markdown",
   "metadata": {},
   "source": [
    "### Hypothesis tests"
   ]
  },
  {
   "cell_type": "code",
   "execution_count": 19,
   "metadata": {
    "ExecuteTime": {
     "end_time": "2023-09-16T17:59:10.963859Z",
     "start_time": "2023-09-16T17:59:10.958171Z"
    }
   },
   "outputs": [
    {
     "name": "stdout",
     "output_type": "stream",
     "text": [
      "chi-square statistic: 734.1655738392806\n",
      "p-value: 6.874279549042282e-146\n",
      "Degrees of freedom: 16\n",
      "Expected frequencies: \n",
      " [[  48.25486726   36.90855457   48.51917404   66.54867257   55.76873156]\n",
      " [ 618.26548673  472.89085546  621.6519174   852.65486726  714.53687316]\n",
      " [1078.57168142  824.96386431 1084.47935103 1487.46681416 1246.51828909]\n",
      " [ 631.08318584  482.69469027  634.53982301  870.33185841  729.35044248]\n",
      " [ 179.82477876  137.5420354   180.80973451  247.99778761  207.82566372]]\n"
     ]
    }
   ],
   "source": [
    "chi2, p, dof, exp = stats.chi2_contingency(table)\n",
    "print(\"chi-square statistic:\", chi2)\n",
    "print(\"p-value:\",p)\n",
    "print(\"Degrees of freedom:\", dof)\n",
    "print(\"Expected frequencies:\", \"\\n\", exp)"
   ]
  },
  {
   "cell_type": "markdown",
   "metadata": {},
   "source": [
    "###### Question 2\n",
    "\n",
    "The secretary problem *in its simplest form* has the following features.\n",
    "\n",
    "1. There is one secretarial position available.\n",
    "2. The number $n$ of applicants is known.\n",
    "3. The applicants are interviewed sequentially in random order, each order being equally likely.\n",
    "4. It is assumed that you can rank all the applicants from best to worst without tties. The decision to accept or reject an applicant must be based only on the relative ranks of those applicants interviewed so far.\n",
    "5. An applicant once rejected cannot later be recalled.\n",
    "6. You are very particular and will be satisfied with nothing but the very best.\n",
    "\n",
    "This basic problem has a remarkably simple solution. First, one shows that attention can be restricted to the class of rules that for some integer $r \\ge 1$ rejects the first $r - 1$ applicants, and then chooses the next applicant who is best in the relative ranking of the observed applicants. For such a rule, the probability, $p_n(r)$, of selecting the best applicant is $1/n$ for $r = 1$, and for $r > 1$,\n",
    "\\begin{equation*}\n",
    "  p_n(r) = \\frac{r - 1}{n} \\sum_{i=r}^n \\frac{1}{i - 1}.\n",
    "\\end{equation*}\n",
    "The optimal $r$ is the one that maximises this probability. For small values of $n$, the optimal $r$ can easily be computed. For example, when $n = 11$, the function $p_n(r)$ takes on its maximum value when $r = 5$.\n",
    "\n",
    "When $n = 11$ and using the optimal solution outlined above, use **simulation** to answer the following questions:"
   ]
  },
  {
   "cell_type": "markdown",
   "metadata": {},
   "source": [
    "## 2.1\n",
    "What is the probability that you **could not find an acceptable applicant?**"
   ]
  },
  {
   "cell_type": "markdown",
   "metadata": {},
   "source": [
    "In this case, we divide the problem into two cases:"
   ]
  },
  {
   "cell_type": "markdown",
   "metadata": {},
   "source": [
    "* rule1: we accept people who is best in the relative ranking of the observed applicants \n",
    "* rule2: we accept people who are the best of all possible applicants "
   ]
  },
  {
   "cell_type": "code",
   "execution_count": 152,
   "metadata": {
    "ExecuteTime": {
     "end_time": "2023-09-17T14:46:47.821560Z",
     "start_time": "2023-09-17T14:46:34.254345Z"
    }
   },
   "outputs": [],
   "source": [
    "r = 5\n",
    "num_people = 11  # batchsize of people\n",
    "test_times = 1000000  # num of simulation times\n",
    "results = []\n",
    "best_pos = []\n",
    "rule1_accept_freq = []\n",
    "rule2_accept_freq = []\n",
    "np.random.seed(23)\n",
    "\n",
    "for i in range(test_times):\n",
    "    single_result = np.arange(1, num_people + 1)\n",
    "    np.random.shuffle(single_result)\n",
    "    best = np.argmax(single_result)\n",
    "    \n",
    "    # rule1: we accept people who is best in the relative ranking of the observed applicants\n",
    "    rule1_accept = [\n",
    "        1 if single_result[i - 1] > single_result[:i - 1].max() else 0\n",
    "        for i in range(2, num_people + 1)\n",
    "    ]\n",
    "\n",
    "    # rule2: we accept people who are the best of all possible applicants\n",
    "    rule2_accept = []\n",
    "    for i in range(num_people):\n",
    "        if single_result[i] == num_people:\n",
    "            rule2_accept.append(1)\n",
    "        elif single_result[i] == (num_people - 1):\n",
    "            rule2_accept.append(-1)\n",
    "        else:\n",
    "            rule2_accept.append(0)\n",
    "\n",
    "    best_pos.append(best)\n",
    "    rule1_accept_freq.append(rule1_accept)\n",
    "    rule2_accept_freq.append(rule2_accept)\n",
    "    results.append(single_result)\n",
    "\n",
    "arr_result = np.array(results)\n",
    "arr_best_pos = np.array(best_pos)\n",
    "arr_rule1_accept_freq = np.array(rule1_accept_freq)\n",
    "arr_rule2_accept_freq = np.array(rule2_accept_freq)"
   ]
  },
  {
   "cell_type": "markdown",
   "metadata": {},
   "source": [
    "### Rule1: We accept people who is best in the relative ranking of the observed applicants, so we cannot find an acceptable people when we the person is not better than before."
   ]
  },
  {
   "cell_type": "code",
   "execution_count": 180,
   "metadata": {
    "ExecuteTime": {
     "end_time": "2023-09-17T15:09:31.869508Z",
     "start_time": "2023-09-17T15:09:31.843750Z"
    }
   },
   "outputs": [
    {
     "name": "stdout",
     "output_type": "stream",
     "text": [
      "P1: 0.182222\n"
     ]
    }
   ],
   "source": [
    "p1 = np.count_nonzero(np.sum(arr_rule1_accept_freq[:, r - 2:], axis=1), 0) / test_times\n",
    "print('P1:', p1)"
   ]
  },
  {
   "cell_type": "markdown",
   "metadata": {},
   "source": [
    "### Rule2: We accept people who is best of all possible applicants, so we cannot find an acceptable people when we the person is not the best of all"
   ]
  },
  {
   "cell_type": "markdown",
   "metadata": {},
   "source": [
    "#### Senario 1 : We choose when we reject the second best before, and then choose the best after that."
   ]
  },
  {
   "cell_type": "code",
   "execution_count": 194,
   "metadata": {
    "ExecuteTime": {
     "end_time": "2023-09-17T15:18:52.044354Z",
     "start_time": "2023-09-17T15:18:51.946044Z"
    }
   },
   "outputs": [
    {
     "name": "stdout",
     "output_type": "stream",
     "text": [
      "P2-1: 0.254349\n"
     ]
    }
   ],
   "source": [
    "r = 5\n",
    "result = 0\n",
    "for i in range(r - 1, num_people):\n",
    "    temp = np.sum((np.sum(arr_rule2_accept_freq[:, 0:r - 1], axis=1) == -1)\n",
    "                  & (arr_rule2_accept_freq[:, i] == 1))\n",
    "    result += temp\n",
    "p2_1 = result / test_times\n",
    "print('P2-1:', p2_1)"
   ]
  },
  {
   "cell_type": "markdown",
   "metadata": {},
   "source": [
    "#### Senario 2: We choose when we just find the best."
   ]
  },
  {
   "cell_type": "code",
   "execution_count": 195,
   "metadata": {
    "ExecuteTime": {
     "end_time": "2023-09-17T15:20:23.958170Z",
     "start_time": "2023-09-17T15:20:23.906863Z"
    }
   },
   "outputs": [
    {
     "name": "stdout",
     "output_type": "stream",
     "text": [
      "P2-2: 0.36293299999999995\n"
     ]
    }
   ],
   "source": [
    "arr_rule22_accept_freq = np.where(arr_rule2_accept_freq == -1, 0, arr_rule2_accept_freq)\n",
    "p2_2 = 1 - np.sum(np.sum(arr_rule22_accept_freq, axis=0)[r - 1:]) / test_times\n",
    "print('P2-2:', p2_2)"
   ]
  },
  {
   "cell_type": "markdown",
   "metadata": {},
   "source": [
    "## 2.2\n",
    "How many applicants do you expect to interview **by the time you accept an applicant?**"
   ]
  },
  {
   "cell_type": "markdown",
   "metadata": {},
   "source": [
    "#### If we accept only best applicant"
   ]
  },
  {
   "cell_type": "code",
   "execution_count": 199,
   "metadata": {
    "ExecuteTime": {
     "end_time": "2023-09-17T15:22:26.503444Z",
     "start_time": "2023-09-17T15:22:26.444202Z"
    },
    "scrolled": false
   },
   "outputs": [
    {
     "name": "stdout",
     "output_type": "stream",
     "text": [
      "We tend to interview: 6.0 people\n"
     ]
    }
   ],
   "source": [
    "print(\"We tend to interview: {0} people\".format(np.round(np.where(arr_rule2_accept_freq==1)[1].mean() + 1)))"
   ]
  }
 ],
 "metadata": {
  "kernelspec": {
   "display_name": "Python 3 (ipykernel)",
   "language": "python",
   "name": "python3"
  },
  "language_info": {
   "codemirror_mode": {
    "name": "ipython",
    "version": 3
   },
   "file_extension": ".py",
   "mimetype": "text/x-python",
   "name": "python",
   "nbconvert_exporter": "python",
   "pygments_lexer": "ipython3",
   "version": "3.11.4"
  },
  "toc": {
   "base_numbering": 1,
   "nav_menu": {},
   "number_sections": false,
   "sideBar": true,
   "skip_h1_title": false,
   "title_cell": "Table of Contents",
   "title_sidebar": "Contents",
   "toc_cell": false,
   "toc_position": {},
   "toc_section_display": true,
   "toc_window_display": false
  },
  "varInspector": {
   "cols": {
    "lenName": 16,
    "lenType": 16,
    "lenVar": 40
   },
   "kernels_config": {
    "python": {
     "delete_cmd_postfix": "",
     "delete_cmd_prefix": "del ",
     "library": "var_list.py",
     "varRefreshCmd": "print(var_dic_list())"
    },
    "r": {
     "delete_cmd_postfix": ") ",
     "delete_cmd_prefix": "rm(",
     "library": "var_list.r",
     "varRefreshCmd": "cat(var_dic_list()) "
    }
   },
   "types_to_exclude": [
    "module",
    "function",
    "builtin_function_or_method",
    "instance",
    "_Feature"
   ],
   "window_display": false
  }
 },
 "nbformat": 4,
 "nbformat_minor": 4
}
