{
 "cells": [
  {
   "cell_type": "markdown",
   "metadata": {
    "tags": []
   },
   "source": [
    "# Introduction\n",
    "\n",
    "This is a markdown cell. In edit mode, we use plain text to describe how we want the material to be presented. If we want bullets, we use asterisks or numbers:\n",
    "\n",
    "* first items\n",
    "* second item\n",
    "* and so on.\n",
    "\n",
    "When we \"run\" this cell, the formatted output is displayed on the web-page."
   ]
  },
  {
   "cell_type": "markdown",
   "metadata": {},
   "source": [
    "### Interactive Computing\n",
    "\n",
    "Now let's take a look at how we work with Python within this environment."
   ]
  },
  {
   "cell_type": "code",
   "execution_count": 1,
   "metadata": {
    "ExecuteTime": {
     "end_time": "2023-08-15T11:07:45.468512Z",
     "start_time": "2023-08-15T11:07:45.462901Z"
    }
   },
   "outputs": [
    {
     "name": "stdout",
     "output_type": "stream",
     "text": [
      "Be careful not to fall off!\n"
     ]
    }
   ],
   "source": [
    "the_world_is_flat = True\n",
    "\n",
    "if the_world_is_flat:\n",
    "    print(\"Be careful not to fall off!\")"
   ]
  },
  {
   "cell_type": "code",
   "execution_count": 9,
   "metadata": {
    "ExecuteTime": {
     "end_time": "2023-08-15T11:52:06.028146Z",
     "start_time": "2023-08-15T11:52:06.020553Z"
    }
   },
   "outputs": [
    {
     "data": {
      "text/plain": [
       "4"
      ]
     },
     "execution_count": 9,
     "metadata": {},
     "output_type": "execute_result"
    }
   ],
   "source": [
    "2 + 2"
   ]
  },
  {
   "cell_type": "code",
   "execution_count": 10,
   "metadata": {
    "ExecuteTime": {
     "end_time": "2023-08-15T11:52:06.291660Z",
     "start_time": "2023-08-15T11:52:06.282723Z"
    }
   },
   "outputs": [
    {
     "data": {
      "text/plain": [
       "5.666666666666667"
      ]
     },
     "execution_count": 10,
     "metadata": {},
     "output_type": "execute_result"
    }
   ],
   "source": [
    "17 / 3"
   ]
  },
  {
   "cell_type": "code",
   "execution_count": 8,
   "metadata": {
    "ExecuteTime": {
     "end_time": "2023-08-15T11:52:02.022887Z",
     "start_time": "2023-08-15T11:52:02.018865Z"
    }
   },
   "outputs": [],
   "source": [
    "w = 4.0\n",
    "h = w * 2.3"
   ]
  },
  {
   "cell_type": "markdown",
   "metadata": {},
   "source": [
    "There are \"magic\" commands in a notebook, that allow you to perform useful actions. For instance, the following command tells you what objects you have created in this session."
   ]
  },
  {
   "cell_type": "code",
   "execution_count": 2,
   "metadata": {
    "ExecuteTime": {
     "end_time": "2023-08-15T11:48:15.196260Z",
     "start_time": "2023-08-15T11:48:15.192904Z"
    },
    "scrolled": true,
    "tags": []
   },
   "outputs": [
    {
     "name": "stdout",
     "output_type": "stream",
     "text": [
      "Variable          Type                          Data/Info\n",
      "---------------------------------------------------------\n",
      "NamespaceMagics   MetaHasTraits                 <class 'IPython.core.magi<...>mespace.NamespaceMagics'>\n",
      "autopep8          module                        <module 'autopep8' from '<...>te-packages/autopep8.py'>\n",
      "get_ipython       function                      <function get_ipython at 0x1049cbec0>\n",
      "getsizeof         builtin_function_or_method    <built-in function getsizeof>\n",
      "h                 float                         9.2\n",
      "json              module                        <module 'json' from '/Use<...>on3.11/json/__init__.py'>\n",
      "np                module                        <module 'numpy' from '/Us<...>kages/numpy/__init__.py'>\n",
      "var_dic_list      function                      <function var_dic_list at 0x106b236a0>\n",
      "w                 float                         4.0\n",
      "yapf_reformat     function                      <function yapf_reformat at 0x106b23b00>\n"
     ]
    }
   ],
   "source": [
    "%whos"
   ]
  },
  {
   "cell_type": "markdown",
   "metadata": {},
   "source": [
    "You can explore other useful magic commands using the following command:"
   ]
  },
  {
   "cell_type": "markdown",
   "metadata": {},
   "source": [
    "**quick reference**"
   ]
  },
  {
   "cell_type": "code",
   "execution_count": 3,
   "metadata": {
    "ExecuteTime": {
     "end_time": "2023-08-15T11:48:27.007263Z",
     "start_time": "2023-08-15T11:48:27.000913Z"
    },
    "tags": []
   },
   "outputs": [],
   "source": [
    "%quickref"
   ]
  },
  {
   "cell_type": "code",
   "execution_count": 14,
   "metadata": {
    "ExecuteTime": {
     "end_time": "2023-08-15T11:24:01.347311Z",
     "start_time": "2023-08-15T11:24:01.342138Z"
    },
    "scrolled": true
   },
   "outputs": [
    {
     "data": {
      "text/plain": [
       "{'MANPATH': '/opt/homebrew/share/man::',\n",
       " 'PYCHARM_VM_OPTIONS': '/Users/wuqilong/jetbra/vmoptions/pycharm.vmoptions',\n",
       " 'WEBIDE_VM_OPTIONS': '/Users/wuqilong/jetbra/vmoptions/webide.vmoptions',\n",
       " 'TERM_PROGRAM': 'Apple_Terminal',\n",
       " 'SHELL': '/bin/zsh',\n",
       " 'TERM': 'xterm-color',\n",
       " 'JETBRAINSCLIENT_VM_OPTIONS': '/Users/wuqilong/jetbra/vmoptions/jetbrainsclient.vmoptions',\n",
       " 'HOMEBREW_REPOSITORY': '/opt/homebrew',\n",
       " 'TMPDIR': '/var/folders/f8/7hy70bj16rbbkp6ckvmkgvnm0000gn/T/',\n",
       " 'CONDA_SHLVL': '1',\n",
       " 'CONDA_PROMPT_MODIFIER': '(base) ',\n",
       " 'TERM_PROGRAM_VERSION': '448',\n",
       " 'TERM_SESSION_ID': '9804A67C-EAAD-4A13-8788-FC16040CF638',\n",
       " 'ZSH': '/Users/wuqilong/.oh-my-zsh',\n",
       " 'USER': 'wuqilong',\n",
       " 'CONDA_EXE': '/Users/wuqilong/anaconda3/bin/conda',\n",
       " 'PHPSTORM_VM_OPTIONS': '/Users/wuqilong/jetbra/vmoptions/phpstorm.vmoptions',\n",
       " 'SSH_AUTH_SOCK': '/private/tmp/com.apple.launchd.NN9uFH7Cc5/Listeners',\n",
       " 'GOLAND_VM_OPTIONS': '/Users/wuqilong/jetbra/vmoptions/goland.vmoptions',\n",
       " 'PAGER': 'cat',\n",
       " 'APPCODE_VM_OPTIONS': '/Users/wuqilong/jetbra/vmoptions/appcode.vmoptions',\n",
       " '_CE_CONDA': '',\n",
       " 'LSCOLORS': 'Gxfxcxdxbxegedabagacad',\n",
       " 'PATH': '/Users/wuqilong/anaconda3/bin:/Users/wuqilong/anaconda3/condabin:/opt/homebrew/bin:/opt/homebrew/sbin:/usr/local/bin:/System/Cryptexes/App/usr/bin:/usr/bin:/bin:/usr/sbin:/sbin:/var/run/com.apple.security.cryptexd/codex.system/bootstrap/usr/local/bin:/var/run/com.apple.security.cryptexd/codex.system/bootstrap/usr/bin:/var/run/com.apple.security.cryptexd/codex.system/bootstrap/usr/appleinternal/bin:/Library/Apple/usr/bin:/Library/TeX/texbin:/usr/local/share/dotnet:~/.dotnet/tools:/usr/local/bin',\n",
       " 'DEVECOSTUDIO_VM_OPTIONS': '/Users/wuqilong/jetbra/vmoptions/devecostudio.vmoptions',\n",
       " 'CONDA_PREFIX': '/Users/wuqilong/anaconda3',\n",
       " '__CFBundleIdentifier': 'com.apple.Terminal',\n",
       " 'PWD': '/Users/wuqilong',\n",
       " 'IDEA_VM_OPTIONS': '/Users/wuqilong/jetbra/vmoptions/idea.vmoptions',\n",
       " 'CLION_VM_OPTIONS': '/Users/wuqilong/jetbra/vmoptions/clion.vmoptions',\n",
       " 'XPC_FLAGS': '0x0',\n",
       " 'WEBSTORM_VM_OPTIONS': '/Users/wuqilong/jetbra/vmoptions/webstorm.vmoptions',\n",
       " 'DATASPELL_VM_OPTIONS': '/Users/wuqilong/jetbra/vmoptions/dataspell.vmoptions',\n",
       " '_CE_M': '',\n",
       " 'XPC_SERVICE_NAME': '0',\n",
       " 'SHLVL': '2',\n",
       " 'HOME': '/Users/wuqilong',\n",
       " 'STUDIO_VM_OPTIONS': '/Users/wuqilong/jetbra/vmoptions/studio.vmoptions',\n",
       " 'HOMEBREW_PREFIX': '/opt/homebrew',\n",
       " 'CONDA_PYTHON_EXE': '/Users/wuqilong/anaconda3/bin/python',\n",
       " 'LESS': '-R',\n",
       " 'LOGNAME': 'wuqilong',\n",
       " 'LC_CTYPE': 'UTF-8',\n",
       " 'GATEWAY_VM_OPTIONS': '/Users/wuqilong/jetbra/vmoptions/gateway.vmoptions',\n",
       " 'CONDA_DEFAULT_ENV': 'base',\n",
       " 'DATAGRIP_VM_OPTIONS': '/Users/wuqilong/jetbra/vmoptions/datagrip.vmoptions',\n",
       " 'INFOPATH': '/opt/homebrew/share/info:',\n",
       " 'HOMEBREW_CELLAR': '/opt/homebrew/Cellar',\n",
       " 'JETBRAINS_CLIENT_VM_OPTIONS': '/Users/wuqilong/jetbra/vmoptions/jetbrains_client.vmoptions',\n",
       " 'RIDER_VM_OPTIONS': '/Users/wuqilong/jetbra/vmoptions/rider.vmoptions',\n",
       " 'RUBYMINE_VM_OPTIONS': '/Users/wuqilong/jetbra/vmoptions/rubymine.vmoptions',\n",
       " '_': '/Users/wuqilong/anaconda3/bin/jupyter-notebook',\n",
       " 'PYDEVD_USE_FRAME_EVAL': 'NO',\n",
       " 'JPY_PARENT_PID': '30239',\n",
       " 'CLICOLOR': '1',\n",
       " 'FORCE_COLOR': '1',\n",
       " 'CLICOLOR_FORCE': '1',\n",
       " 'GIT_PAGER': 'cat',\n",
       " 'MPLBACKEND': 'module://matplotlib_inline.backend_inline'}"
      ]
     },
     "execution_count": 14,
     "metadata": {},
     "output_type": "execute_result"
    }
   ],
   "source": [
    "%env"
   ]
  },
  {
   "cell_type": "code",
   "execution_count": 6,
   "metadata": {
    "ExecuteTime": {
     "end_time": "2023-08-15T11:51:25.946694Z",
     "start_time": "2023-08-15T11:51:25.943397Z"
    },
    "scrolled": false,
    "tags": []
   },
   "outputs": [
    {
     "name": "stdout",
     "output_type": "stream",
     "text": [
      "   1:\n",
      "w = 4.0\n",
      "h = w * 2.3\n",
      "   2: %whos\n",
      "   3: %quickref\n",
      "   4: %hist -n\n",
      "   5: %recall\n",
      "   6: %hist -n\n"
     ]
    }
   ],
   "source": [
    "%hist -n"
   ]
  },
  {
   "cell_type": "code",
   "execution_count": 11,
   "metadata": {
    "ExecuteTime": {
     "end_time": "2023-08-15T11:19:02.160623Z",
     "start_time": "2023-08-15T11:19:02.066667Z"
    }
   },
   "outputs": [
    {
     "name": "stdout",
     "output_type": "stream",
     "text": [
      "=== Executing: ===\n",
      "%rerun\n",
      "=== Output: ===\n",
      "=== Executing: ===\n",
      "%rerun\n",
      "=== Output: ===\n",
      "=== Executing: ===\n",
      "%rerun\n",
      "=== Output: ===\n",
      "=== Executing: ===\n",
      "%rerun\n",
      "=== Output: ===\n",
      "=== Executing: ===\n",
      "%rerun\n",
      "=== Output: ===\n",
      "=== Executing: ===\n",
      "%rerun\n",
      "=== Output: ===\n",
      "=== Executing: ===\n",
      "%rerun\n",
      "=== Output: ===\n",
      "=== Executing: ===\n",
      "%rerun\n",
      "=== Output: ===\n",
      "=== Executing: ===\n",
      "%rerun\n",
      "=== Output: ===\n",
      "=== Executing: ===\n",
      "%rerun\n",
      "=== Output: ===\n",
      "=== Executing: ===\n",
      "%rerun\n",
      "=== Output: ===\n",
      "=== Executing: ===\n",
      "%rerun\n",
      "=== Output: ===\n",
      "=== Executing: ===\n",
      "%rerun\n",
      "=== Output: ===\n",
      "=== Executing: ===\n",
      "%rerun\n",
      "=== Output: ===\n",
      "=== Executing: ===\n",
      "%rerun\n",
      "=== Output: ===\n",
      "=== Executing: ===\n",
      "%rerun\n",
      "=== Output: ===\n",
      "=== Executing: ===\n",
      "%rerun\n",
      "=== Output: ===\n",
      "=== Executing: ===\n",
      "%rerun\n",
      "=== Output: ===\n",
      "=== Executing: ===\n",
      "%rerun\n",
      "=== Output: ===\n",
      "=== Executing: ===\n",
      "%rerun\n",
      "=== Output: ===\n",
      "=== Executing: ===\n",
      "%rerun\n",
      "=== Output: ===\n",
      "=== Executing: ===\n",
      "%rerun\n",
      "=== Output: ===\n",
      "=== Executing: ===\n",
      "%rerun\n",
      "=== Output: ===\n",
      "=== Executing: ===\n",
      "%rerun\n",
      "=== Output: ===\n",
      "=== Executing: ===\n",
      "%rerun\n",
      "=== Output: ===\n",
      "=== Executing: ===\n",
      "%rerun\n",
      "=== Output: ===\n",
      "=== Executing: ===\n",
      "%rerun\n",
      "=== Output: ===\n",
      "=== Executing: ===\n",
      "%rerun\n",
      "=== Output: ===\n",
      "=== Executing: ===\n",
      "%rerun\n",
      "=== Output: ===\n",
      "=== Executing: ===\n",
      "%rerun\n",
      "=== Output: ===\n",
      "=== Executing: ===\n",
      "%rerun\n",
      "=== Output: ===\n",
      "=== Executing: ===\n",
      "%rerun\n",
      "=== Output: ===\n",
      "=== Executing: ===\n",
      "%rerun\n",
      "=== Output: ===\n",
      "=== Executing: ===\n",
      "%rerun\n",
      "=== Output: ===\n",
      "=== Executing: ===\n",
      "%rerun\n",
      "=== Output: ===\n",
      "=== Executing: ===\n",
      "%rerun\n",
      "=== Output: ===\n",
      "=== Executing: ===\n",
      "%rerun\n",
      "=== Output: ===\n",
      "=== Executing: ===\n",
      "%rerun\n",
      "=== Output: ===\n",
      "=== Executing: ===\n",
      "%rerun\n",
      "=== Output: ===\n",
      "=== Executing: ===\n",
      "%rerun\n",
      "=== Output: ===\n",
      "=== Executing: ===\n",
      "%rerun\n",
      "=== Output: ===\n",
      "=== Executing: ===\n",
      "%rerun\n",
      "=== Output: ===\n",
      "=== Executing: ===\n",
      "%rerun\n",
      "=== Output: ===\n",
      "=== Executing: ===\n",
      "%rerun\n",
      "=== Output: ===\n",
      "=== Executing: ===\n",
      "%rerun\n",
      "=== Output: ===\n",
      "=== Executing: ===\n",
      "%rerun\n",
      "=== Output: ===\n",
      "=== Executing: ===\n",
      "%rerun\n",
      "=== Output: ===\n",
      "=== Executing: ===\n",
      "%rerun\n",
      "=== Output: ===\n",
      "=== Executing: ===\n",
      "%rerun\n",
      "=== Output: ===\n",
      "=== Executing: ===\n",
      "%rerun\n",
      "=== Output: ===\n",
      "=== Executing: ===\n",
      "%rerun\n",
      "=== Output: ===\n",
      "=== Executing: ===\n",
      "%rerun\n",
      "=== Output: ===\n",
      "=== Executing: ===\n",
      "%rerun\n",
      "=== Output: ===\n",
      "=== Executing: ===\n",
      "%rerun\n",
      "=== Output: ===\n",
      "=== Executing: ===\n",
      "%rerun\n",
      "=== Output: ===\n",
      "=== Executing: ===\n",
      "%rerun\n",
      "=== Output: ===\n",
      "=== Executing: ===\n",
      "%rerun\n",
      "=== Output: ===\n",
      "=== Executing: ===\n",
      "%rerun\n",
      "=== Output: ===\n",
      "=== Executing: ===\n",
      "%rerun\n",
      "=== Output: ===\n",
      "=== Executing: ===\n",
      "%rerun\n",
      "=== Output: ===\n",
      "=== Executing: ===\n",
      "%rerun\n",
      "=== Output: ===\n",
      "=== Executing: ===\n",
      "%rerun\n",
      "=== Output: ===\n",
      "=== Executing: ===\n",
      "%rerun\n",
      "=== Output: ===\n",
      "=== Executing: ===\n",
      "%rerun\n",
      "=== Output: ===\n",
      "=== Executing: ===\n",
      "%rerun\n",
      "=== Output: ===\n",
      "=== Executing: ===\n",
      "%rerun\n",
      "=== Output: ===\n",
      "=== Executing: ===\n",
      "%rerun\n",
      "=== Output: ===\n",
      "=== Executing: ===\n",
      "%rerun\n",
      "=== Output: ===\n",
      "=== Executing: ===\n",
      "%rerun\n",
      "=== Output: ===\n",
      "=== Executing: ===\n",
      "%rerun\n",
      "=== Output: ===\n",
      "=== Executing: ===\n",
      "%rerun\n",
      "=== Output: ===\n",
      "=== Executing: ===\n",
      "%rerun\n",
      "=== Output: ===\n",
      "=== Executing: ===\n",
      "%rerun\n",
      "=== Output: ===\n",
      "=== Executing: ===\n",
      "%rerun\n",
      "=== Output: ===\n",
      "=== Executing: ===\n",
      "%rerun\n",
      "=== Output: ===\n",
      "=== Executing: ===\n",
      "%rerun\n",
      "=== Output: ===\n",
      "=== Executing: ===\n",
      "%rerun\n",
      "=== Output: ===\n",
      "=== Executing: ===\n",
      "%rerun\n",
      "=== Output: ===\n",
      "=== Executing: ===\n",
      "%rerun\n",
      "=== Output: ===\n",
      "=== Executing: ===\n",
      "%rerun\n",
      "=== Output: ===\n",
      "=== Executing: ===\n",
      "%rerun\n",
      "=== Output: ===\n",
      "=== Executing: ===\n",
      "%rerun\n",
      "=== Output: ===\n",
      "=== Executing: ===\n",
      "%rerun\n",
      "=== Output: ===\n",
      "=== Executing: ===\n",
      "%rerun\n",
      "=== Output: ===\n",
      "=== Executing: ===\n",
      "%rerun\n",
      "=== Output: ===\n",
      "=== Executing: ===\n",
      "%rerun\n",
      "=== Output: ===\n",
      "=== Executing: ===\n",
      "%rerun\n",
      "=== Output: ===\n",
      "=== Executing: ===\n",
      "%rerun\n",
      "=== Output: ===\n",
      "=== Executing: ===\n",
      "%rerun\n",
      "=== Output: ===\n",
      "=== Executing: ===\n",
      "%rerun\n",
      "=== Output: ===\n",
      "=== Executing: ===\n",
      "%rerun\n",
      "=== Output: ===\n",
      "=== Executing: ===\n",
      "%rerun\n",
      "=== Output: ===\n",
      "=== Executing: ===\n",
      "%rerun\n",
      "=== Output: ===\n",
      "=== Executing: ===\n",
      "%rerun\n",
      "=== Output: ===\n",
      "=== Executing: ===\n",
      "%rerun\n",
      "=== Output: ===\n",
      "=== Executing: ===\n",
      "%rerun\n",
      "=== Output: ===\n",
      "=== Executing: ===\n",
      "%rerun\n",
      "=== Output: ===\n",
      "=== Executing: ===\n",
      "%rerun\n",
      "=== Output: ===\n",
      "=== Executing: ===\n",
      "%rerun\n",
      "=== Output: ===\n",
      "=== Executing: ===\n",
      "%rerun\n",
      "=== Output: ===\n",
      "=== Executing: ===\n",
      "%rerun\n",
      "=== Output: ===\n",
      "=== Executing: ===\n",
      "%rerun\n",
      "=== Output: ===\n",
      "=== Executing: ===\n",
      "%rerun\n",
      "=== Output: ===\n",
      "=== Executing: ===\n",
      "%rerun\n",
      "=== Output: ===\n",
      "=== Executing: ===\n",
      "%rerun\n",
      "=== Output: ===\n",
      "=== Executing: ===\n",
      "%rerun\n",
      "=== Output: ===\n",
      "=== Executing: ===\n",
      "%rerun\n",
      "=== Output: ===\n",
      "=== Executing: ===\n",
      "%rerun\n",
      "=== Output: ===\n",
      "=== Executing: ===\n",
      "%rerun\n",
      "=== Output: ===\n",
      "=== Executing: ===\n",
      "%rerun\n",
      "=== Output: ===\n",
      "=== Executing: ===\n",
      "%rerun\n",
      "=== Output: ===\n",
      "=== Executing: ===\n",
      "%rerun\n",
      "=== Output: ===\n",
      "=== Executing: ===\n",
      "%rerun\n",
      "=== Output: ===\n",
      "=== Executing: ===\n",
      "%rerun\n",
      "=== Output: ===\n",
      "=== Executing: ===\n",
      "%rerun\n",
      "=== Output: ===\n",
      "=== Executing: ===\n",
      "%rerun\n",
      "=== Output: ===\n",
      "=== Executing: ===\n",
      "%rerun\n",
      "=== Output: ===\n",
      "=== Executing: ===\n",
      "%rerun\n",
      "=== Output: ===\n",
      "=== Executing: ===\n",
      "%rerun\n",
      "=== Output: ===\n",
      "=== Executing: ===\n",
      "%rerun\n",
      "=== Output: ===\n",
      "=== Executing: ===\n",
      "%rerun\n",
      "=== Output: ===\n",
      "=== Executing: ===\n",
      "%rerun\n",
      "=== Output: ===\n",
      "=== Executing: ===\n",
      "%rerun\n",
      "=== Output: ===\n",
      "=== Executing: ===\n",
      "%rerun\n",
      "=== Output: ===\n",
      "=== Executing: ===\n",
      "%rerun\n",
      "=== Output: ===\n",
      "=== Executing: ===\n",
      "%rerun\n",
      "=== Output: ===\n",
      "=== Executing: ===\n",
      "%rerun\n",
      "=== Output: ===\n",
      "=== Executing: ===\n",
      "%rerun\n",
      "=== Output: ===\n",
      "=== Executing: ===\n",
      "%rerun\n",
      "=== Output: ===\n",
      "=== Executing: ===\n",
      "%rerun\n",
      "=== Output: ===\n",
      "=== Executing: ===\n",
      "%rerun\n",
      "=== Output: ===\n",
      "=== Executing: ===\n",
      "%rerun\n",
      "=== Output: ===\n",
      "=== Executing: ===\n",
      "%rerun\n",
      "=== Output: ===\n",
      "=== Executing: ===\n",
      "%rerun\n",
      "=== Output: ===\n",
      "=== Executing: ===\n",
      "%rerun\n",
      "=== Output: ===\n",
      "=== Executing: ===\n",
      "%rerun\n",
      "=== Output: ===\n",
      "=== Executing: ===\n",
      "%rerun\n",
      "=== Output: ===\n",
      "=== Executing: ===\n",
      "%rerun\n",
      "=== Output: ===\n",
      "=== Executing: ===\n",
      "%rerun\n",
      "=== Output: ===\n",
      "=== Executing: ===\n",
      "%rerun\n",
      "=== Output: ===\n",
      "=== Executing: ===\n",
      "%rerun\n",
      "=== Output: ===\n",
      "=== Executing: ===\n",
      "%rerun\n",
      "=== Output: ===\n",
      "=== Executing: ===\n",
      "%rerun\n",
      "=== Output: ===\n",
      "=== Executing: ===\n",
      "%rerun\n",
      "=== Output: ===\n",
      "=== Executing: ===\n",
      "%rerun\n",
      "=== Output: ===\n",
      "=== Executing: ===\n",
      "%rerun\n",
      "=== Output: ===\n",
      "=== Executing: ===\n",
      "%rerun\n",
      "=== Output: ===\n",
      "=== Executing: ===\n",
      "%rerun\n",
      "=== Output: ===\n",
      "=== Executing: ===\n",
      "%rerun\n",
      "=== Output: ===\n",
      "=== Executing: ===\n",
      "%rerun\n",
      "=== Output: ===\n",
      "=== Executing: ===\n",
      "%rerun\n",
      "=== Output: ===\n",
      "=== Executing: ===\n",
      "%rerun\n",
      "=== Output: ===\n",
      "=== Executing: ===\n",
      "%rerun\n",
      "=== Output: ===\n",
      "=== Executing: ===\n",
      "%rerun\n",
      "=== Output: ===\n",
      "=== Executing: ===\n",
      "%rerun\n",
      "=== Output: ===\n",
      "=== Executing: ===\n",
      "%rerun\n",
      "=== Output: ===\n",
      "=== Executing: ===\n",
      "%rerun\n",
      "=== Output: ===\n",
      "=== Executing: ===\n",
      "%rerun\n",
      "=== Output: ===\n",
      "=== Executing: ===\n",
      "%rerun\n",
      "=== Output: ===\n",
      "=== Executing: ===\n",
      "%rerun\n",
      "=== Output: ===\n",
      "=== Executing: ===\n",
      "%rerun\n",
      "=== Output: ===\n",
      "=== Executing: ===\n",
      "%rerun\n",
      "=== Output: ===\n",
      "=== Executing: ===\n",
      "%rerun\n",
      "=== Output: ===\n",
      "=== Executing: ===\n",
      "%rerun\n",
      "=== Output: ===\n",
      "=== Executing: ===\n",
      "%rerun\n",
      "=== Output: ===\n",
      "=== Executing: ===\n",
      "%rerun\n",
      "=== Output: ===\n",
      "=== Executing: ===\n",
      "%rerun\n",
      "=== Output: ===\n",
      "=== Executing: ===\n",
      "%rerun\n",
      "=== Output: ===\n",
      "=== Executing: ===\n",
      "%rerun\n",
      "=== Output: ===\n",
      "=== Executing: ===\n",
      "%rerun\n",
      "=== Output: ===\n",
      "=== Executing: ===\n",
      "%rerun\n",
      "=== Output: ===\n",
      "=== Executing: ===\n",
      "%rerun\n",
      "=== Output: ===\n",
      "=== Executing: ===\n",
      "%rerun\n",
      "=== Output: ===\n",
      "=== Executing: ===\n",
      "%rerun\n",
      "=== Output: ===\n",
      "=== Executing: ===\n",
      "%rerun\n",
      "=== Output: ===\n",
      "=== Executing: ===\n",
      "%rerun\n",
      "=== Output: ===\n",
      "=== Executing: ===\n",
      "%rerun\n",
      "=== Output: ===\n",
      "=== Executing: ===\n",
      "%rerun\n",
      "=== Output: ===\n",
      "=== Executing: ===\n",
      "%rerun\n",
      "=== Output: ===\n",
      "=== Executing: ===\n",
      "%rerun\n",
      "=== Output: ===\n",
      "=== Executing: ===\n",
      "%rerun\n",
      "=== Output: ===\n",
      "=== Executing: ===\n",
      "%rerun\n",
      "=== Output: ===\n",
      "=== Executing: ===\n",
      "%rerun\n",
      "=== Output: ===\n",
      "=== Executing: ===\n",
      "%rerun\n",
      "=== Output: ===\n",
      "=== Executing: ===\n",
      "%rerun\n",
      "=== Output: ===\n",
      "=== Executing: ===\n",
      "%rerun\n",
      "=== Output: ===\n",
      "=== Executing: ===\n",
      "%rerun\n",
      "=== Output: ===\n",
      "=== Executing: ===\n",
      "%rerun\n",
      "=== Output: ===\n",
      "=== Executing: ===\n",
      "%rerun\n",
      "=== Output: ===\n",
      "=== Executing: ===\n",
      "%rerun\n",
      "=== Output: ===\n",
      "=== Executing: ===\n",
      "%rerun\n",
      "=== Output: ===\n",
      "=== Executing: ===\n",
      "%rerun\n",
      "=== Output: ===\n",
      "=== Executing: ===\n",
      "%rerun\n",
      "=== Output: ===\n",
      "=== Executing: ===\n",
      "%rerun\n",
      "=== Output: ===\n",
      "=== Executing: ===\n",
      "%rerun\n",
      "=== Output: ===\n",
      "=== Executing: ===\n",
      "%rerun\n",
      "=== Output: ===\n",
      "=== Executing: ===\n",
      "%rerun\n",
      "=== Output: ===\n",
      "=== Executing: ===\n",
      "%rerun\n",
      "=== Output: ===\n",
      "=== Executing: ===\n",
      "%rerun\n",
      "=== Output: ===\n",
      "=== Executing: ===\n",
      "%rerun\n",
      "=== Output: ===\n",
      "=== Executing: ===\n",
      "%rerun\n",
      "=== Output: ===\n",
      "=== Executing: ===\n",
      "%rerun\n",
      "=== Output: ===\n",
      "=== Executing: ===\n",
      "%rerun\n",
      "=== Output: ===\n",
      "=== Executing: ===\n",
      "%rerun\n",
      "=== Output: ===\n",
      "=== Executing: ===\n",
      "%rerun\n",
      "=== Output: ===\n",
      "=== Executing: ===\n",
      "%rerun\n",
      "=== Output: ===\n",
      "=== Executing: ===\n",
      "%rerun\n",
      "=== Output: ===\n",
      "=== Executing: ===\n",
      "%rerun\n",
      "=== Output: ===\n",
      "=== Executing: ===\n",
      "%rerun\n",
      "=== Output: ===\n",
      "=== Executing: ===\n",
      "%rerun\n",
      "=== Output: ===\n",
      "=== Executing: ===\n",
      "%rerun\n",
      "=== Output: ===\n",
      "=== Executing: ===\n",
      "%rerun\n",
      "=== Output: ===\n",
      "=== Executing: ===\n",
      "%rerun\n",
      "=== Output: ===\n",
      "=== Executing: ===\n",
      "%rerun\n",
      "=== Output: ===\n",
      "=== Executing: ===\n",
      "%rerun\n",
      "=== Output: ===\n",
      "=== Executing: ===\n",
      "%rerun\n",
      "=== Output: ===\n",
      "=== Executing: ===\n",
      "%rerun\n",
      "=== Output: ===\n",
      "=== Executing: ===\n",
      "%rerun\n",
      "=== Output: ===\n",
      "=== Executing: ===\n",
      "%rerun\n",
      "=== Output: ===\n",
      "=== Executing: ===\n",
      "%rerun\n",
      "=== Output: ===\n",
      "=== Executing: ===\n",
      "%rerun\n",
      "=== Output: ===\n",
      "=== Executing: ===\n",
      "%rerun\n",
      "=== Output: ===\n",
      "=== Executing: ===\n",
      "%rerun\n",
      "=== Output: ===\n",
      "=== Executing: ===\n",
      "%rerun\n",
      "=== Output: ===\n",
      "=== Executing: ===\n",
      "%rerun\n",
      "=== Output: ===\n",
      "=== Executing: ===\n",
      "%rerun\n",
      "=== Output: ===\n",
      "=== Executing: ===\n",
      "%rerun\n",
      "=== Output: ===\n",
      "=== Executing: ===\n",
      "%rerun\n",
      "=== Output: ===\n",
      "=== Executing: ===\n",
      "%rerun\n",
      "=== Output: ===\n",
      "=== Executing: ===\n",
      "%rerun\n",
      "=== Output: ===\n",
      "=== Executing: ===\n",
      "%rerun\n",
      "=== Output: ===\n",
      "=== Executing: ===\n",
      "%rerun\n",
      "=== Output: ===\n",
      "=== Executing: ===\n",
      "%rerun\n",
      "=== Output: ===\n",
      "=== Executing: ===\n",
      "%rerun\n",
      "=== Output: ===\n",
      "=== Executing: ===\n",
      "%rerun\n",
      "=== Output: ===\n",
      "=== Executing: ===\n",
      "%rerun\n",
      "=== Output: ===\n",
      "=== Executing: ===\n",
      "%rerun\n",
      "=== Output: ===\n",
      "=== Executing: ===\n",
      "%rerun\n",
      "=== Output: ===\n",
      "=== Executing: ===\n",
      "%rerun\n",
      "=== Output: ===\n",
      "=== Executing: ===\n",
      "%rerun\n",
      "=== Output: ===\n",
      "=== Executing: ===\n",
      "%rerun\n",
      "=== Output: ===\n",
      "=== Executing: ===\n",
      "%rerun\n",
      "=== Output: ===\n",
      "=== Executing: ===\n",
      "%rerun\n",
      "=== Output: ===\n",
      "=== Executing: ===\n",
      "%rerun\n",
      "=== Output: ===\n",
      "=== Executing: ===\n",
      "%rerun\n",
      "=== Output: ===\n",
      "=== Executing: ===\n",
      "%rerun\n",
      "=== Output: ===\n",
      "=== Executing: ===\n",
      "%rerun\n",
      "=== Output: ===\n",
      "=== Executing: ===\n",
      "%rerun\n",
      "=== Output: ===\n",
      "=== Executing: ===\n",
      "%rerun\n",
      "=== Output: ===\n",
      "=== Executing: ===\n",
      "%rerun\n",
      "=== Output: ===\n",
      "=== Executing: ===\n",
      "%rerun\n",
      "=== Output: ===\n",
      "=== Executing: ===\n",
      "%rerun\n",
      "=== Output: ===\n",
      "=== Executing: ===\n",
      "%rerun\n",
      "=== Output: ===\n",
      "=== Executing: ===\n",
      "%rerun\n",
      "=== Output: ===\n",
      "=== Executing: ===\n",
      "%rerun\n",
      "=== Output: ===\n",
      "=== Executing: ===\n",
      "%rerun\n",
      "=== Output: ===\n",
      "=== Executing: ===\n",
      "%rerun\n",
      "=== Output: ===\n",
      "=== Executing: ===\n",
      "%rerun\n",
      "=== Output: ===\n",
      "=== Executing: ===\n",
      "%rerun\n",
      "=== Output: ===\n",
      "=== Executing: ===\n",
      "%rerun\n",
      "=== Output: ===\n",
      "=== Executing: ===\n",
      "%rerun\n",
      "=== Output: ===\n",
      "=== Executing: ===\n",
      "%rerun\n",
      "=== Output: ===\n",
      "=== Executing: ===\n",
      "%rerun\n",
      "=== Output: ===\n",
      "=== Executing: ===\n",
      "%rerun\n",
      "=== Output: ===\n",
      "=== Executing: ===\n",
      "%rerun\n",
      "=== Output: ===\n",
      "=== Executing: ===\n",
      "%rerun\n",
      "=== Output: ===\n",
      "=== Executing: ===\n",
      "%rerun\n",
      "=== Output: ===\n",
      "=== Executing: ===\n",
      "%rerun\n",
      "=== Output: ===\n",
      "=== Executing: ===\n",
      "%rerun\n",
      "=== Output: ===\n",
      "=== Executing: ===\n",
      "%rerun\n",
      "=== Output: ===\n",
      "Unexpected exception formatting exception. Falling back to standard exception\n",
      "Unexpected exception formatting exception. Falling back to standard exception\n"
     ]
    }
   ],
   "source": [
    "%rerun"
   ]
  },
  {
   "cell_type": "code",
   "execution_count": 11,
   "metadata": {
    "ExecuteTime": {
     "end_time": "2023-08-15T11:52:08.974356Z",
     "start_time": "2023-08-15T11:52:08.970073Z"
    }
   },
   "outputs": [],
   "source": [
    "%recall"
   ]
  },
  {
   "cell_type": "markdown",
   "metadata": {},
   "source": [
    "This markdown cell contains latex code\n",
    "\\begin{equation}\n",
    "x = 1\n",
    "\\end{equation}"
   ]
  },
  {
   "cell_type": "code",
   "execution_count": 20,
   "metadata": {
    "ExecuteTime": {
     "end_time": "2023-08-15T11:37:21.287962Z",
     "start_time": "2023-08-15T11:37:21.282805Z"
    }
   },
   "outputs": [
    {
     "data": {
      "text/latex": [
       "\n",
       "\\[\n",
       "1 = \\frac{1}{2} + \\frac{1}{2} = \\frac{3}{4} + \\frac{1}{4}\n",
       "\\]\n"
      ],
      "text/plain": [
       "<IPython.core.display.Latex object>"
      ]
     },
     "metadata": {},
     "output_type": "display_data"
    }
   ],
   "source": [
    "%%latex\n",
    "\n",
    "\\[\n",
    "1 = \\frac{1}{2} + \\frac{1}{2} = \\frac{3}{4} + \\frac{1}{4}\n",
    "\\]"
   ]
  },
  {
   "cell_type": "markdown",
   "metadata": {},
   "source": [
    "## Python Data Structures"
   ]
  },
  {
   "cell_type": "markdown",
   "metadata": {},
   "source": [
    "### Slice Operator\n",
    "\n",
    "The `:` operator is known as the *slice* operator. It useful in extracting sequences from list-like objects.\n",
    "\n",
    "In Python, strings like the one below are like \"lists\" of individual characters."
   ]
  },
  {
   "cell_type": "code",
   "execution_count": 21,
   "metadata": {
    "ExecuteTime": {
     "end_time": "2023-08-15T11:37:25.644615Z",
     "start_time": "2023-08-15T11:37:25.639101Z"
    }
   },
   "outputs": [
    {
     "data": {
      "text/plain": [
       "'P'"
      ]
     },
     "execution_count": 21,
     "metadata": {},
     "output_type": "execute_result"
    }
   ],
   "source": [
    "word = 'Python'\n",
    "word[0] # first element"
   ]
  },
  {
   "cell_type": "code",
   "execution_count": 22,
   "metadata": {
    "ExecuteTime": {
     "end_time": "2023-08-15T11:37:28.696370Z",
     "start_time": "2023-08-15T11:37:28.690738Z"
    }
   },
   "outputs": [
    {
     "data": {
      "text/plain": [
       "'n'"
      ]
     },
     "execution_count": 22,
     "metadata": {},
     "output_type": "execute_result"
    }
   ],
   "source": [
    "word[-1] # last element (useful when you do not know the total number of elements)"
   ]
  },
  {
   "cell_type": "code",
   "execution_count": 23,
   "metadata": {
    "ExecuteTime": {
     "end_time": "2023-08-15T11:37:30.194504Z",
     "start_time": "2023-08-15T11:37:30.189330Z"
    }
   },
   "outputs": [
    {
     "data": {
      "text/plain": [
       "6"
      ]
     },
     "execution_count": 23,
     "metadata": {},
     "output_type": "execute_result"
    }
   ],
   "source": [
    "len(word)"
   ]
  },
  {
   "cell_type": "code",
   "execution_count": 24,
   "metadata": {
    "ExecuteTime": {
     "end_time": "2023-08-15T11:37:32.127702Z",
     "start_time": "2023-08-15T11:37:32.121554Z"
    }
   },
   "outputs": [
    {
     "data": {
      "text/plain": [
       "'Pto'"
      ]
     },
     "execution_count": 24,
     "metadata": {},
     "output_type": "execute_result"
    }
   ],
   "source": [
    "word[0::2] # starting from the first element till the last element, every 2nd position"
   ]
  },
  {
   "attachments": {
    "python_slice.png": {
     "image/png": "[encoded data removed]"
    }
   },
   "cell_type": "markdown",
   "metadata": {},
   "source": [
    "Here is a pictorial representation of how slices should be envisioned:\n",
    "\n",
    "![python_slice.png](attachment:python_slice.png)\n",
    "\n",
    "The negative indices on the second row are an alternate, right-to-left way we can index strings."
   ]
  },
  {
   "cell_type": "markdown",
   "metadata": {},
   "source": [
    "### Lists, Tuples and Dictionaries\n",
    "\n",
    "The main types of containers in Python are \n",
    "* lists, which are defined with `[ ]`. Lists are **mutable**.\n",
    "* tuples, which are defined with `( )`. Tuples are **immutable**.\n",
    "* dictionaries, which are defined with `{ }`. Dictionaries have keys and items. They are also **mutable**."
   ]
  },
  {
   "cell_type": "markdown",
   "metadata": {},
   "source": [
    "Here's what we mean by mutable. The entries in a list (or dictionary) can be overwritten, but not those in a tuple:"
   ]
  },
  {
   "cell_type": "code",
   "execution_count": 12,
   "metadata": {
    "ExecuteTime": {
     "end_time": "2023-08-15T12:17:42.583939Z",
     "start_time": "2023-08-15T12:17:42.580279Z"
    }
   },
   "outputs": [
    {
     "name": "stdout",
     "output_type": "stream",
     "text": [
      "[1, 3, 5, 17, 8, 9, 10]\n"
     ]
    }
   ],
   "source": [
    "x = [1, 3, 5, 7, 8, 9, 10]\n",
    "\n",
    "# This is OK, because \"x\" is a list.\n",
    "x[3] = 17     \n",
    "print(x)"
   ]
  },
  {
   "cell_type": "code",
   "execution_count": 13,
   "metadata": {
    "ExecuteTime": {
     "end_time": "2023-08-15T12:17:47.950540Z",
     "start_time": "2023-08-15T12:17:47.927713Z"
    },
    "scrolled": true
   },
   "outputs": [
    {
     "ename": "TypeError",
     "evalue": "'tuple' object does not support item assignment",
     "output_type": "error",
     "traceback": [
      "\u001b[0;31m---------------------------------------------------------------------------\u001b[0m",
      "\u001b[0;31mTypeError\u001b[0m                                 Traceback (most recent call last)",
      "Cell \u001b[0;32mIn[13], line 3\u001b[0m\n\u001b[1;32m      1\u001b[0m \u001b[38;5;66;03m# This is not OK, because x_tuple is a tuple\u001b[39;00m\n\u001b[1;32m      2\u001b[0m x_tuple \u001b[38;5;241m=\u001b[39m (\u001b[38;5;241m1\u001b[39m, \u001b[38;5;241m3\u001b[39m, \u001b[38;5;241m5\u001b[39m, \u001b[38;5;241m6\u001b[39m, \u001b[38;5;241m8\u001b[39m, \u001b[38;5;241m9\u001b[39m, \u001b[38;5;241m10\u001b[39m)\n\u001b[0;32m----> 3\u001b[0m x_tuple[\u001b[38;5;241m3\u001b[39m] \u001b[38;5;241m=\u001b[39m \u001b[38;5;241m17\u001b[39m\n",
      "\u001b[0;31mTypeError\u001b[0m: 'tuple' object does not support item assignment"
     ]
    }
   ],
   "source": [
    "# This is not OK, because x_tuple is a tuple\n",
    "x_tuple = (1, 3, 5, 6, 8, 9, 10)\n",
    "x_tuple[3] = 17 "
   ]
  },
  {
   "cell_type": "markdown",
   "metadata": {},
   "source": [
    "Lists, tuples and dictionaries are *iterables*. This means that they can be *iterated over* in `for` loops. This is a convenient concept in Python."
   ]
  },
  {
   "cell_type": "code",
   "execution_count": 14,
   "metadata": {
    "ExecuteTime": {
     "end_time": "2023-08-15T12:17:53.891237Z",
     "start_time": "2023-08-15T12:17:53.886014Z"
    }
   },
   "outputs": [
    {
     "name": "stdout",
     "output_type": "stream",
     "text": [
      "1\n",
      "3\n",
      "5\n",
      "17\n",
      "8\n",
      "9\n",
      "10\n"
     ]
    }
   ],
   "source": [
    "for ele in x:\n",
    "    print(ele)"
   ]
  },
  {
   "cell_type": "markdown",
   "metadata": {},
   "source": [
    "The `range` function allows us to create an iterable conveniently..."
   ]
  },
  {
   "cell_type": "code",
   "execution_count": 15,
   "metadata": {
    "ExecuteTime": {
     "end_time": "2023-08-15T12:17:55.630024Z",
     "start_time": "2023-08-15T12:17:55.625026Z"
    }
   },
   "outputs": [
    {
     "data": {
      "text/plain": [
       "range(1, 11, 2)"
      ]
     },
     "execution_count": 15,
     "metadata": {},
     "output_type": "execute_result"
    }
   ],
   "source": [
    "x_range = range(1, 11, 2)\n",
    "x_range"
   ]
  },
  {
   "cell_type": "code",
   "execution_count": 16,
   "metadata": {
    "ExecuteTime": {
     "end_time": "2023-08-15T12:18:10.333199Z",
     "start_time": "2023-08-15T12:18:10.326145Z"
    }
   },
   "outputs": [
    {
     "data": {
      "text/plain": [
       "range"
      ]
     },
     "execution_count": 16,
     "metadata": {},
     "output_type": "execute_result"
    }
   ],
   "source": [
    "type(x_range)"
   ]
  },
  {
   "cell_type": "code",
   "execution_count": 17,
   "metadata": {
    "ExecuteTime": {
     "end_time": "2023-08-15T12:18:15.015737Z",
     "start_time": "2023-08-15T12:18:15.012771Z"
    }
   },
   "outputs": [
    {
     "name": "stdout",
     "output_type": "stream",
     "text": [
      "1\n",
      "3\n",
      "5\n",
      "7\n",
      "9\n"
     ]
    }
   ],
   "source": [
    "for ele in x_range:\n",
    "    print(ele)"
   ]
  },
  {
   "cell_type": "markdown",
   "metadata": {},
   "source": [
    "**F-String**"
   ]
  },
  {
   "cell_type": "code",
   "execution_count": 45,
   "metadata": {
    "ExecuteTime": {
     "end_time": "2023-08-15T12:34:05.280421Z",
     "start_time": "2023-08-15T12:34:05.277341Z"
    }
   },
   "outputs": [
    {
     "name": "stdout",
     "output_type": "stream",
     "text": [
      "1 squared: 1, cubed: 1.\n",
      "3 squared: 9, cubed: 27.\n",
      "5 squared: 25, cubed: 125.\n",
      "7 squared: 49, cubed: 343.\n",
      "9 squared: 81, cubed: 729.\n"
     ]
    }
   ],
   "source": [
    "for x in x_range:\n",
    "    print(f'{x} squared: {x ** 2}, cubed: {x ** 3}.')"
   ]
  },
  {
   "cell_type": "markdown",
   "metadata": {},
   "source": [
    "...which we can convert to a list to see all of its elements."
   ]
  },
  {
   "cell_type": "code",
   "execution_count": 19,
   "metadata": {
    "ExecuteTime": {
     "end_time": "2023-08-15T12:18:53.100251Z",
     "start_time": "2023-08-15T12:18:53.094119Z"
    }
   },
   "outputs": [
    {
     "data": {
      "text/plain": [
       "[1, 3, 5, 7, 9]"
      ]
     },
     "execution_count": 19,
     "metadata": {},
     "output_type": "execute_result"
    }
   ],
   "source": [
    "list(x_range)"
   ]
  },
  {
   "cell_type": "markdown",
   "metadata": {},
   "source": [
    "In `print`, we have used an f-string (short for a formatted string literal)."
   ]
  },
  {
   "cell_type": "markdown",
   "metadata": {},
   "source": [
    "Dictionaries contain keys and their values."
   ]
  },
  {
   "cell_type": "code",
   "execution_count": 2,
   "metadata": {
    "ExecuteTime": {
     "end_time": "2023-08-15T12:51:28.437127Z",
     "start_time": "2023-08-15T12:51:28.432382Z"
    }
   },
   "outputs": [
    {
     "name": "stdout",
     "output_type": "stream",
     "text": [
      "dict_keys(['marvel', 'dc']) <class 'dict_keys'>\n",
      "['marvel', 'dc']\n"
     ]
    }
   ],
   "source": [
    "comics = {'marvel': 1, 'dc': 0}\n",
    "print(comics.keys(), type(comics.keys()))\n",
    "print(list(comics.keys()))"
   ]
  },
  {
   "cell_type": "code",
   "execution_count": 58,
   "metadata": {
    "ExecuteTime": {
     "end_time": "2023-08-15T12:44:11.313662Z",
     "start_time": "2023-08-15T12:44:11.310218Z"
    }
   },
   "outputs": [],
   "source": [
    "?comics.keys"
   ]
  },
  {
   "cell_type": "code",
   "execution_count": 30,
   "metadata": {
    "ExecuteTime": {
     "end_time": "2023-08-15T12:22:33.119588Z",
     "start_time": "2023-08-15T12:22:33.113389Z"
    }
   },
   "outputs": [
    {
     "name": "stdout",
     "output_type": "stream",
     "text": [
      "dict_items([('marvel', 1), ('dc', 0)]) [('marvel', 1), ('dc', 0)]\n"
     ]
    }
   ],
   "source": [
    "print(comics.items(), list(comics.items()))"
   ]
  },
  {
   "cell_type": "code",
   "execution_count": 31,
   "metadata": {
    "ExecuteTime": {
     "end_time": "2023-08-15T12:22:45.919652Z",
     "start_time": "2023-08-15T12:22:45.913370Z"
    }
   },
   "outputs": [
    {
     "data": {
      "text/plain": [
       "dict_values([1, 0])"
      ]
     },
     "execution_count": 31,
     "metadata": {},
     "output_type": "execute_result"
    }
   ],
   "source": [
    "comics.values()\n",
    "# list(comics.values())"
   ]
  },
  {
   "cell_type": "markdown",
   "metadata": {},
   "source": [
    "We slice/index a dictionary object by a key to retrieve the associated value, if it exists."
   ]
  },
  {
   "cell_type": "code",
   "execution_count": 32,
   "metadata": {
    "ExecuteTime": {
     "end_time": "2023-08-15T12:22:51.216080Z",
     "start_time": "2023-08-15T12:22:51.212159Z"
    },
    "scrolled": true
   },
   "outputs": [
    {
     "data": {
      "text/plain": [
       "1"
      ]
     },
     "execution_count": 32,
     "metadata": {},
     "output_type": "execute_result"
    }
   ],
   "source": [
    "comics['marvel']"
   ]
  },
  {
   "cell_type": "markdown",
   "metadata": {},
   "source": [
    "We then iterate over the items of a dictionary, which are 2-tuples of key-value pairs. Here, we unpack them immediately using the following code:"
   ]
  },
  {
   "cell_type": "code",
   "execution_count": 40,
   "metadata": {
    "ExecuteTime": {
     "end_time": "2023-08-15T12:29:32.632162Z",
     "start_time": "2023-08-15T12:29:32.627287Z"
    }
   },
   "outputs": [
    {
     "name": "stdout",
     "output_type": "stream",
     "text": [
      "Here's the 'test'\n",
      "Here's the test\n",
      "Here's the 'test'\n"
     ]
    }
   ],
   "source": [
    "key = 'test'\n",
    "print(f'Here\\'s the {key!r}')\n",
    "print(f'Here\\'s the {key}')\n",
    "print(f'Here\\'s the {repr(key)}')"
   ]
  },
  {
   "cell_type": "code",
   "execution_count": 41,
   "metadata": {
    "ExecuteTime": {
     "end_time": "2023-08-15T12:29:35.877026Z",
     "start_time": "2023-08-15T12:29:35.871671Z"
    }
   },
   "outputs": [
    {
     "data": {
      "text/plain": [
       "\"'test'\""
      ]
     },
     "execution_count": 41,
     "metadata": {},
     "output_type": "execute_result"
    }
   ],
   "source": [
    "key.__repr__()"
   ]
  },
  {
   "cell_type": "code",
   "execution_count": 47,
   "metadata": {
    "ExecuteTime": {
     "end_time": "2023-08-15T12:36:07.301974Z",
     "start_time": "2023-08-15T12:36:07.298171Z"
    }
   },
   "outputs": [
    {
     "data": {
      "text/plain": [
       "\"{'marvel': 1, 'dc': 0}\""
      ]
     },
     "execution_count": 47,
     "metadata": {},
     "output_type": "execute_result"
    }
   ],
   "source": [
    "comics.__repr__()"
   ]
  },
  {
   "cell_type": "code",
   "execution_count": 4,
   "metadata": {
    "ExecuteTime": {
     "end_time": "2023-08-15T12:51:37.919243Z",
     "start_time": "2023-08-15T12:51:37.914351Z"
    },
    "scrolled": true
   },
   "outputs": [
    {
     "name": "stdout",
     "output_type": "stream",
     "text": [
      "Here's the key 'marvel',\n",
      "and the associated item '1'.\n",
      "\n",
      "Here's the key 'dc',\n",
      "and the associated item '0'.\n",
      "\n"
     ]
    }
   ],
   "source": [
    "for key, value in comics.items():\n",
    "    # Note that we use single-quotes inside a double-quoted\n",
    "    # string. We could instead use double-quotes inside a\n",
    "    # single-quoted string.\n",
    "    print(f\"Here's the key '{key}',\")\n",
    "    print(f\"and the associated item '{value}'.\")\n",
    "    # Insert a newline.\n",
    "    print()"
   ]
  },
  {
   "cell_type": "code",
   "execution_count": 7,
   "metadata": {
    "ExecuteTime": {
     "end_time": "2023-08-15T12:52:18.699676Z",
     "start_time": "2023-08-15T12:52:18.695568Z"
    }
   },
   "outputs": [
    {
     "name": "stdout",
     "output_type": "stream",
     "text": [
      "marvel\n",
      "1\n",
      "('marvel', 1)\n",
      "dc\n",
      "0\n",
      "('dc', 0)\n"
     ]
    }
   ],
   "source": [
    "for key in comics.items():\n",
    "    print(key[0])\n",
    "    print(key[1])\n",
    "    print(key)"
   ]
  },
  {
   "cell_type": "markdown",
   "metadata": {},
   "source": [
    "Notice that splitting the item 2-tuple within the `for` statement of a loop\n",
    "is a bit more convenient than doing it in the loop's body."
   ]
  },
  {
   "cell_type": "code",
   "execution_count": 49,
   "metadata": {
    "ExecuteTime": {
     "end_time": "2023-08-15T12:36:54.589136Z",
     "start_time": "2023-08-15T12:36:54.585917Z"
    }
   },
   "outputs": [
    {
     "name": "stdout",
     "output_type": "stream",
     "text": [
      "marvel 1\n",
      "dc 0\n"
     ]
    }
   ],
   "source": [
    "for item_tuple in comics.items():\n",
    "    key = item_tuple[0]\n",
    "    value = item_tuple[1]\n",
    "    print(key, value)"
   ]
  },
  {
   "cell_type": "markdown",
   "metadata": {},
   "source": [
    "## String Methods\n",
    "\n",
    "### String Formatting\n",
    "\n",
    "Text data in Python is handled with `str`-type objects. Like tuples, strings are iterable and immutable. String operations in Python are fast. There is a comprehensive suite of functions for dealing with strings -- from catenating to capitalising to searching through them."
   ]
  },
  {
   "cell_type": "code",
   "execution_count": 9,
   "metadata": {
    "ExecuteTime": {
     "end_time": "2023-08-15T12:54:09.254609Z",
     "start_time": "2023-08-15T12:54:09.251418Z"
    }
   },
   "outputs": [],
   "source": [
    "test_str = 'Where in the World is Carmen San Diego?'"
   ]
  },
  {
   "cell_type": "markdown",
   "metadata": {},
   "source": [
    "Remember that a string is immutable so this will not work:"
   ]
  },
  {
   "cell_type": "code",
   "execution_count": 1,
   "metadata": {
    "ExecuteTime": {
     "end_time": "2023-08-22T11:05:38.368849Z",
     "start_time": "2023-08-22T11:05:38.110297Z"
    }
   },
   "outputs": [
    {
     "ename": "NameError",
     "evalue": "name 'test_str' is not defined",
     "output_type": "error",
     "traceback": [
      "\u001b[0;31m---------------------------------------------------------------------------\u001b[0m",
      "\u001b[0;31mNameError\u001b[0m                                 Traceback (most recent call last)",
      "Cell \u001b[0;32mIn[1], line 1\u001b[0m\n\u001b[0;32m----> 1\u001b[0m test_str[\u001b[38;5;241m5\u001b[39m] \u001b[38;5;241m=\u001b[39m \u001b[38;5;124m'\u001b[39m\u001b[38;5;124mz\u001b[39m\u001b[38;5;124m'\u001b[39m\n",
      "\u001b[0;31mNameError\u001b[0m: name 'test_str' is not defined"
     ]
    }
   ],
   "source": [
    "test_str[5] = 'z'"
   ]
  },
  {
   "cell_type": "code",
   "execution_count": 14,
   "metadata": {
    "ExecuteTime": {
     "end_time": "2023-08-15T12:55:05.496474Z",
     "start_time": "2023-08-15T12:55:05.491048Z"
    }
   },
   "outputs": [
    {
     "name": "stdout",
     "output_type": "stream",
     "text": [
      "False True\n"
     ]
    }
   ],
   "source": [
    "print('W'.islower(), 'W'.isupper())"
   ]
  },
  {
   "cell_type": "code",
   "execution_count": 11,
   "metadata": {
    "ExecuteTime": {
     "end_time": "2023-08-15T12:54:10.997263Z",
     "start_time": "2023-08-15T12:54:10.991067Z"
    }
   },
   "outputs": [
    {
     "name": "stdout",
     "output_type": "stream",
     "text": [
      "There were 5 upper-case characters in the sentence.\n"
     ]
    }
   ],
   "source": [
    "count = 0\n",
    "for character in test_str:\n",
    "    if character.isupper():\n",
    "        count += 1\n",
    "print(f'There were {count} upper-case characters in the sentence.')"
   ]
  },
  {
   "cell_type": "code",
   "execution_count": 17,
   "metadata": {
    "ExecuteTime": {
     "end_time": "2023-08-15T12:55:57.649118Z",
     "start_time": "2023-08-15T12:55:57.643824Z"
    }
   },
   "outputs": [
    {
     "name": "stdout",
     "output_type": "stream",
     "text": [
      "where in the world is carmen san diego?\n",
      "WHERE IN THE WORLD IS CARMEN SAN DIEGO?\n"
     ]
    }
   ],
   "source": [
    "print(test_str.lower())\n",
    "print(test_str.upper())"
   ]
  },
  {
   "cell_type": "code",
   "execution_count": 16,
   "metadata": {
    "ExecuteTime": {
     "end_time": "2023-08-15T12:55:29.032081Z",
     "start_time": "2023-08-15T12:55:29.028880Z"
    }
   },
   "outputs": [
    {
     "data": {
      "text/plain": [
       "'Where in the world is carmen san diego?'"
      ]
     },
     "execution_count": 16,
     "metadata": {},
     "output_type": "execute_result"
    }
   ],
   "source": [
    "test_str.capitalize()"
   ]
  },
  {
   "cell_type": "markdown",
   "metadata": {},
   "source": [
    "To join strings, we can use the '+' operator, the `str.join()` method, or, if they are part of the same expression, we can just place them next to each other separated by whitespace."
   ]
  },
  {
   "cell_type": "code",
   "execution_count": 20,
   "metadata": {
    "ExecuteTime": {
     "end_time": "2023-08-15T12:57:07.585976Z",
     "start_time": "2023-08-15T12:57:07.581358Z"
    }
   },
   "outputs": [
    {
     "name": "stdout",
     "output_type": "stream",
     "text": [
      "Where shall we go today?\n"
     ]
    }
   ],
   "source": [
    "x = \"Where shall \"\n",
    "y = \"we \"\n",
    "new_str = \"Where shall \"\"we \"\"go today?\"\n",
    "print(new_str)"
   ]
  },
  {
   "cell_type": "code",
   "execution_count": 21,
   "metadata": {
    "ExecuteTime": {
     "end_time": "2023-08-15T12:58:00.329760Z",
     "start_time": "2023-08-15T12:58:00.324143Z"
    }
   },
   "outputs": [
    {
     "data": {
      "text/plain": [
       "'Where+shall+we+go+today?'"
      ]
     },
     "execution_count": 21,
     "metadata": {},
     "output_type": "execute_result"
    }
   ],
   "source": [
    "'+'.join([\"Where\", \"shall\", \"we\", \"go\", \"today?\"])"
   ]
  },
  {
   "cell_type": "code",
   "execution_count": 22,
   "metadata": {
    "ExecuteTime": {
     "end_time": "2023-08-15T12:58:07.015700Z",
     "start_time": "2023-08-15T12:58:07.009418Z"
    },
    "scrolled": true
   },
   "outputs": [
    {
     "data": {
      "text/plain": [
       "'Where shall we go today?'"
      ]
     },
     "execution_count": 22,
     "metadata": {},
     "output_type": "execute_result"
    }
   ],
   "source": [
    "\"Where \" + \"shall\" + \" we go\" + \" today?\""
   ]
  },
  {
   "cell_type": "markdown",
   "metadata": {},
   "source": [
    "To find simple patterns, we may turn to the `find`, `replace`, `startswith` and `endswith` methods."
   ]
  },
  {
   "cell_type": "code",
   "execution_count": 23,
   "metadata": {
    "ExecuteTime": {
     "end_time": "2023-08-15T12:58:20.710868Z",
     "start_time": "2023-08-15T12:58:20.705525Z"
    }
   },
   "outputs": [
    {
     "data": {
      "text/plain": [
       "22"
      ]
     },
     "execution_count": 23,
     "metadata": {},
     "output_type": "execute_result"
    }
   ],
   "source": [
    "test_str.find('Carmen')"
   ]
  },
  {
   "cell_type": "code",
   "execution_count": 24,
   "metadata": {
    "ExecuteTime": {
     "end_time": "2023-08-15T12:58:36.596454Z",
     "start_time": "2023-08-15T12:58:36.591414Z"
    }
   },
   "outputs": [
    {
     "data": {
      "text/plain": [
       "'Carmen San Diego?'"
      ]
     },
     "execution_count": 24,
     "metadata": {},
     "output_type": "execute_result"
    }
   ],
   "source": [
    "test_str[test_str.find('Carmen'):]"
   ]
  },
  {
   "cell_type": "code",
   "execution_count": 25,
   "metadata": {
    "ExecuteTime": {
     "end_time": "2023-08-15T12:58:48.011738Z",
     "start_time": "2023-08-15T12:58:48.005594Z"
    }
   },
   "outputs": [
    {
     "data": {
      "text/plain": [
       "'Where in the World is John San Diego?'"
      ]
     },
     "execution_count": 25,
     "metadata": {},
     "output_type": "execute_result"
    }
   ],
   "source": [
    "test_str.replace('Carmen', 'John')"
   ]
  },
  {
   "cell_type": "code",
   "execution_count": 29,
   "metadata": {
    "ExecuteTime": {
     "end_time": "2023-08-15T13:01:36.409965Z",
     "start_time": "2023-08-15T13:01:36.404161Z"
    }
   },
   "outputs": [
    {
     "data": {
      "text/plain": [
       "'Where in the World is Carmen San Diego?'"
      ]
     },
     "execution_count": 29,
     "metadata": {},
     "output_type": "execute_result"
    }
   ],
   "source": [
    "test_str"
   ]
  },
  {
   "cell_type": "code",
   "execution_count": 40,
   "metadata": {
    "ExecuteTime": {
     "end_time": "2023-08-15T13:04:38.755747Z",
     "start_time": "2023-08-15T13:04:38.751962Z"
    }
   },
   "outputs": [
    {
     "data": {
      "text/plain": [
       "False"
      ]
     },
     "execution_count": 40,
     "metadata": {},
     "output_type": "execute_result"
    }
   ],
   "source": [
    "test_str.startswith('World'), test_str.startswith('World'[0])"
   ]
  },
  {
   "cell_type": "markdown",
   "metadata": {},
   "source": [
    "For more complex patterns, we might have to turn to *regular expressions*."
   ]
  },
  {
   "cell_type": "markdown",
   "metadata": {},
   "source": [
    "### Regular Expressions\n",
    "\n",
    "Regular expressions are a mini-language for specifying a search pattern. Regex-es are not specific to Python. Similar syntax is used in Perl, Ruby, Awk, and R. They are difficult to decipher at first glance sometimes, so if you use them, I recommend you describe it in the comments, so that you will know what you were doing when you come back to it the next day.\n",
    "\n",
    "One of the best write-ups to learn about regexes is from the Python HOWTOs page. I recommend going through it \n",
    "[here](https://docs.python.org/3/howto/regex.html)."
   ]
  },
  {
   "cell_type": "markdown",
   "metadata": {},
   "source": [
    "The following are meta-characters when creating regular expressions:"
   ]
  },
  {
   "cell_type": "markdown",
   "metadata": {},
   "source": [
    ". ^ $ * + ? { } [ ] \\ | ( )"
   ]
  },
  {
   "cell_type": "markdown",
   "metadata": {},
   "source": [
    ". anything\n",
    "\n",
    "^ start of the string\n",
    "\n",
    "\\+ must\n"
   ]
  },
  {
   "cell_type": "markdown",
   "metadata": {},
   "source": [
    "If you look back above, here's what we mean in that expression: the square brackets denote a character class (one of these must match), while the asterisk denotes the number of repeats to look for. The asterisk is a greedy matcher - it tries to match as much or as many times as possible.\n",
    "\n",
    "After we create a regular expression object, we can match it against a string:"
   ]
  },
  {
   "cell_type": "code",
   "execution_count": 6,
   "metadata": {
    "ExecuteTime": {
     "end_time": "2023-08-22T11:09:01.459603Z",
     "start_time": "2023-08-22T11:09:01.454442Z"
    }
   },
   "outputs": [
    {
     "data": {
      "text/plain": [
       "<re.Match object; span=(0, 2), match='ab'>"
      ]
     },
     "execution_count": 6,
     "metadata": {},
     "output_type": "execute_result"
    }
   ],
   "source": [
    "# The re library allows us to execute common regex\n",
    "# operations in Python.\n",
    "import re\n",
    "\n",
    "p = re.compile('a[bcd]*b')\n",
    "out = p.match('abcebd')\n",
    "out"
   ]
  },
  {
   "cell_type": "code",
   "execution_count": 7,
   "metadata": {
    "ExecuteTime": {
     "end_time": "2023-08-22T11:09:02.406670Z",
     "start_time": "2023-08-22T11:09:02.400430Z"
    }
   },
   "outputs": [
    {
     "data": {
      "text/plain": [
       "(0, 2)"
      ]
     },
     "execution_count": 7,
     "metadata": {},
     "output_type": "execute_result"
    }
   ],
   "source": [
    "out.span()"
   ]
  },
  {
   "cell_type": "code",
   "execution_count": 32,
   "metadata": {
    "ExecuteTime": {
     "end_time": "2023-08-22T11:24:33.370915Z",
     "start_time": "2023-08-22T11:24:33.367044Z"
    }
   },
   "outputs": [
    {
     "data": {
      "text/plain": [
       "'abcb'"
      ]
     },
     "execution_count": 32,
     "metadata": {},
     "output_type": "execute_result"
    }
   ],
   "source": [
    "'abcbd'[0:4]"
   ]
  },
  {
   "cell_type": "code",
   "execution_count": 33,
   "metadata": {
    "ExecuteTime": {
     "end_time": "2023-08-22T11:24:33.830877Z",
     "start_time": "2023-08-22T11:24:33.824534Z"
    }
   },
   "outputs": [
    {
     "data": {
      "text/plain": [
       "'ab'"
      ]
     },
     "execution_count": 33,
     "metadata": {},
     "output_type": "execute_result"
    }
   ],
   "source": [
    "out.group()"
   ]
  },
  {
   "cell_type": "markdown",
   "metadata": {},
   "source": [
    "The returned object contains information about the match:\n",
    "* out.group() contains the matched string\n",
    "* out.start() and out.end() returns the start and end of the match\n",
    "* out.span() contains a tuple with the start and end indices"
   ]
  },
  {
   "cell_type": "code",
   "execution_count": 53,
   "metadata": {
    "ExecuteTime": {
     "end_time": "2023-08-15T13:30:00.988155Z",
     "start_time": "2023-08-15T13:30:00.983284Z"
    }
   },
   "outputs": [
    {
     "data": {
      "text/plain": [
       "0"
      ]
     },
     "execution_count": 53,
     "metadata": {},
     "output_type": "execute_result"
    }
   ],
   "source": [
    "out.start()"
   ]
  },
  {
   "cell_type": "code",
   "execution_count": 41,
   "metadata": {
    "ExecuteTime": {
     "end_time": "2023-08-22T11:34:00.843345Z",
     "start_time": "2023-08-22T11:34:00.839540Z"
    }
   },
   "outputs": [
    {
     "data": {
      "text/plain": [
       "2"
      ]
     },
     "execution_count": 41,
     "metadata": {},
     "output_type": "execute_result"
    }
   ],
   "source": [
    "out.end()"
   ]
  },
  {
   "cell_type": "markdown",
   "metadata": {},
   "source": [
    "Using `p.match` matches at the beginning of a string. If we wish to match anywhere, we use `p.search()`."
   ]
  },
  {
   "cell_type": "code",
   "execution_count": 42,
   "metadata": {
    "ExecuteTime": {
     "end_time": "2023-08-22T11:34:07.591203Z",
     "start_time": "2023-08-22T11:34:07.588680Z"
    }
   },
   "outputs": [],
   "source": [
    "# p.match/search/findall('abtyroiutrabb')"
   ]
  },
  {
   "cell_type": "code",
   "execution_count": 43,
   "metadata": {
    "ExecuteTime": {
     "end_time": "2023-08-22T11:34:08.639724Z",
     "start_time": "2023-08-22T11:34:08.634039Z"
    }
   },
   "outputs": [
    {
     "data": {
      "text/plain": [
       "'abcb'"
      ]
     },
     "execution_count": 43,
     "metadata": {},
     "output_type": "execute_result"
    }
   ],
   "source": [
    "# p.match('abcbd').start()\n",
    "p.match('abcbd').group()"
   ]
  },
  {
   "cell_type": "markdown",
   "metadata": {},
   "source": [
    "`*` matches the preceding character 0 or more times, so this will also match:"
   ]
  },
  {
   "cell_type": "code",
   "execution_count": 44,
   "metadata": {
    "ExecuteTime": {
     "end_time": "2023-08-22T11:34:28.180422Z",
     "start_time": "2023-08-22T11:34:28.176285Z"
    }
   },
   "outputs": [
    {
     "data": {
      "text/plain": [
       "'ab'"
      ]
     },
     "execution_count": 44,
     "metadata": {},
     "output_type": "execute_result"
    }
   ],
   "source": [
    "p.match('ab').group()"
   ]
  },
  {
   "cell_type": "markdown",
   "metadata": {},
   "source": [
    "The `+` operator matches at least once. So the following match returns None."
   ]
  },
  {
   "cell_type": "code",
   "execution_count": 45,
   "metadata": {
    "ExecuteTime": {
     "end_time": "2023-08-22T11:34:33.873737Z",
     "start_time": "2023-08-22T11:34:33.865331Z"
    }
   },
   "outputs": [
    {
     "data": {
      "text/plain": [
       "True"
      ]
     },
     "execution_count": 45,
     "metadata": {},
     "output_type": "execute_result"
    }
   ],
   "source": [
    "p2 = re.compile('a[bcd]+b')\n",
    "p2.match('ab') is None"
   ]
  },
  {
   "cell_type": "markdown",
   "metadata": {},
   "source": [
    "Suppose we have a list of email addresses and wish to find only those that are nus.edu.sg addresses:"
   ]
  },
  {
   "cell_type": "code",
   "execution_count": 46,
   "metadata": {
    "ExecuteTime": {
     "end_time": "2023-08-22T11:34:40.992325Z",
     "start_time": "2023-08-22T11:34:40.989272Z"
    }
   },
   "outputs": [],
   "source": [
    "email_adds = ['e1234@nus.edu.sg', 'a2305@nus.edu.sg', 'eric@gmail.com', \n",
    "              'george@yahoo.com', 'e1234@ntu.edu.sg', 'nus.edu.sg@ntu.edu.sg']\n",
    "re1 = re.compile('nus.edu.sg')"
   ]
  },
  {
   "cell_type": "code",
   "execution_count": 48,
   "metadata": {
    "ExecuteTime": {
     "end_time": "2023-08-22T11:35:52.900026Z",
     "start_time": "2023-08-22T11:35:52.894397Z"
    }
   },
   "outputs": [
    {
     "data": {
      "text/plain": [
       "'nus.edu.sg'"
      ]
     },
     "execution_count": 48,
     "metadata": {},
     "output_type": "execute_result"
    }
   ],
   "source": [
    "re1.match(email_adds[5]).group()"
   ]
  },
  {
   "cell_type": "code",
   "execution_count": 49,
   "metadata": {
    "ExecuteTime": {
     "end_time": "2023-08-22T11:43:37.025594Z",
     "start_time": "2023-08-22T11:43:37.021505Z"
    }
   },
   "outputs": [
    {
     "data": {
      "text/plain": [
       "[5]"
      ]
     },
     "execution_count": 49,
     "metadata": {},
     "output_type": "execute_result"
    }
   ],
   "source": [
    "ids = []\n",
    "for x, y in enumerate(email_adds):\n",
    "    if re1.match(y) is not None:\n",
    "        ids.append(x)\n",
    "ids"
   ]
  },
  {
   "cell_type": "markdown",
   "metadata": {},
   "source": [
    "That did not work because `match` looks for strings matching at the beginning of a string."
   ]
  },
  {
   "cell_type": "code",
   "execution_count": 50,
   "metadata": {
    "ExecuteTime": {
     "end_time": "2023-08-22T11:45:07.132021Z",
     "start_time": "2023-08-22T11:45:07.128110Z"
    }
   },
   "outputs": [
    {
     "data": {
      "text/plain": [
       "'nus.edu.sg'"
      ]
     },
     "execution_count": 50,
     "metadata": {},
     "output_type": "execute_result"
    }
   ],
   "source": [
    "re1.search(email_adds[5]).group()"
   ]
  },
  {
   "cell_type": "code",
   "execution_count": 51,
   "metadata": {
    "ExecuteTime": {
     "end_time": "2023-08-22T11:45:12.470688Z",
     "start_time": "2023-08-22T11:45:12.466980Z"
    }
   },
   "outputs": [],
   "source": [
    "ids = []\n",
    "for x, y in enumerate(email_adds):\n",
    "    if re1.search(y) is not None:\n",
    "        ids.append(x)"
   ]
  },
  {
   "cell_type": "code",
   "execution_count": 52,
   "metadata": {
    "ExecuteTime": {
     "end_time": "2023-08-22T11:45:12.827574Z",
     "start_time": "2023-08-22T11:45:12.822887Z"
    }
   },
   "outputs": [
    {
     "data": {
      "text/plain": [
       "[0, 1, 5]"
      ]
     },
     "execution_count": 52,
     "metadata": {},
     "output_type": "execute_result"
    }
   ],
   "source": [
    "ids"
   ]
  },
  {
   "cell_type": "code",
   "execution_count": 53,
   "metadata": {
    "ExecuteTime": {
     "end_time": "2023-08-22T11:45:32.144782Z",
     "start_time": "2023-08-22T11:45:32.141809Z"
    }
   },
   "outputs": [],
   "source": [
    "emails_that_match = []\n",
    "for x in ids:\n",
    "    emails_that_match.append(email_adds[x])"
   ]
  },
  {
   "cell_type": "code",
   "execution_count": 54,
   "metadata": {
    "ExecuteTime": {
     "end_time": "2023-08-22T11:45:33.402289Z",
     "start_time": "2023-08-22T11:45:33.398505Z"
    }
   },
   "outputs": [
    {
     "data": {
      "text/plain": [
       "['e1234@nus.edu.sg', 'a2305@nus.edu.sg', 'nus.edu.sg@ntu.edu.sg']"
      ]
     },
     "execution_count": 54,
     "metadata": {},
     "output_type": "execute_result"
    }
   ],
   "source": [
    "emails_that_match"
   ]
  },
  {
   "cell_type": "code",
   "execution_count": 55,
   "metadata": {
    "ExecuteTime": {
     "end_time": "2023-08-22T11:45:41.522487Z",
     "start_time": "2023-08-22T11:45:41.518557Z"
    }
   },
   "outputs": [
    {
     "data": {
      "text/plain": [
       "['e1234@nus.edu.sg', 'a2305@nus.edu.sg', 'nus.edu.sg@ntu.edu.sg']"
      ]
     },
     "execution_count": 55,
     "metadata": {},
     "output_type": "execute_result"
    }
   ],
   "source": [
    "[email_adds[x] for x in ids]"
   ]
  },
  {
   "cell_type": "markdown",
   "metadata": {},
   "source": [
    "That did not work because of the funny address nus.edu.sg@ntu.edu.sg. \n",
    "\n",
    "We need to pick up only those where nus.edu.sg is at the end of the string."
   ]
  },
  {
   "cell_type": "code",
   "execution_count": 18,
   "metadata": {
    "ExecuteTime": {
     "end_time": "2023-08-22T11:17:03.106311Z",
     "start_time": "2023-08-22T11:17:03.100292Z"
    },
    "scrolled": true
   },
   "outputs": [
    {
     "data": {
      "text/plain": [
       "['e1234@nus.edu.sg', 'a2305@nus.edu.sg']"
      ]
     },
     "execution_count": 18,
     "metadata": {},
     "output_type": "execute_result"
    }
   ],
   "source": [
    "re2 = re.compile('nus.edu.sg$')\n",
    "ids = []\n",
    "for x, y in enumerate(email_adds):\n",
    "    if re2.search(y) is not None:\n",
    "        ids.append(x)\n",
    "[email_adds[x] for x in ids]"
   ]
  },
  {
   "cell_type": "code",
   "execution_count": 68,
   "metadata": {
    "ExecuteTime": {
     "end_time": "2023-08-15T13:39:29.236448Z",
     "start_time": "2023-08-15T13:39:29.229297Z"
    },
    "scrolled": true
   },
   "outputs": [
    {
     "data": {
      "text/plain": [
       "['e1234@nus.edu.sg', 'a2305@nus.edu.sg']"
      ]
     },
     "execution_count": 68,
     "metadata": {},
     "output_type": "execute_result"
    }
   ],
   "source": [
    "[email_adds[x] for x, y in enumerate(email_adds) if re2.search(y) is not None]"
   ]
  },
  {
   "cell_type": "markdown",
   "metadata": {},
   "source": [
    "### Functions\n",
    "\n",
    "Functions encapsulate certain instructions to be carried out on inputs which can produce an output.\n",
    "To define a function in Python, we use the `def` keyword."
   ]
  },
  {
   "cell_type": "code",
   "execution_count": 8,
   "metadata": {
    "ExecuteTime": {
     "end_time": "2023-08-22T11:09:14.864151Z",
     "start_time": "2023-08-22T11:09:14.859413Z"
    }
   },
   "outputs": [
    {
     "name": "stdout",
     "output_type": "stream",
     "text": [
      "You typed test\n"
     ]
    }
   ],
   "source": [
    "def test_function(x):\n",
    "    print('You typed', x)\n",
    "    \n",
    "test_function('test')"
   ]
  },
  {
   "cell_type": "markdown",
   "metadata": {},
   "source": [
    "Sometimes, we do not need the permanence of a named, defined function. In those situations, where we just need a one-line function once, we can use a lambda function."
   ]
  },
  {
   "cell_type": "code",
   "execution_count": 21,
   "metadata": {
    "ExecuteTime": {
     "end_time": "2023-08-22T11:19:05.875217Z",
     "start_time": "2023-08-22T11:19:05.870143Z"
    }
   },
   "outputs": [
    {
     "data": {
      "text/plain": [
       "<map at 0x1126b29e0>"
      ]
     },
     "execution_count": 21,
     "metadata": {},
     "output_type": "execute_result"
    }
   ],
   "source": [
    "y = ['a', 'b', 'd']\n",
    "\n",
    "# Here, we apply the lambda function to \"y\", without\n",
    "# storing it in memory after the map operation has completed.\n",
    "map(lambda x: 'You typed ' + x, y)"
   ]
  },
  {
   "cell_type": "markdown",
   "metadata": {},
   "source": [
    "The `map` function returns the output in an iterator, which we can convert to a list:"
   ]
  },
  {
   "cell_type": "code",
   "execution_count": 13,
   "metadata": {
    "ExecuteTime": {
     "end_time": "2023-08-22T11:14:18.093430Z",
     "start_time": "2023-08-22T11:14:18.090679Z"
    }
   },
   "outputs": [
    {
     "data": {
      "text/plain": [
       "['You typed aaa', 'You typed bbb', 'You typed ddd']"
      ]
     },
     "execution_count": 13,
     "metadata": {},
     "output_type": "execute_result"
    }
   ],
   "source": [
    "list(map(lambda x: 'You typed ' + 3*x, y))"
   ]
  },
  {
   "cell_type": "markdown",
   "metadata": {},
   "source": [
    "We encourage you to avoid the use of `for` loops with the `map` function:"
   ]
  },
  {
   "cell_type": "code",
   "execution_count": 19,
   "metadata": {
    "ExecuteTime": {
     "end_time": "2023-08-22T11:17:05.570432Z",
     "start_time": "2023-08-22T11:17:05.566105Z"
    },
    "scrolled": true
   },
   "outputs": [
    {
     "data": {
      "text/plain": [
       "[<re.Match object; span=(6, 16), match='nus.edu.sg'>,\n",
       " <re.Match object; span=(6, 16), match='nus.edu.sg'>,\n",
       " None,\n",
       " None,\n",
       " None,\n",
       " None]"
      ]
     },
     "execution_count": 19,
     "metadata": {},
     "output_type": "execute_result"
    }
   ],
   "source": [
    "list(map(re2.search, email_adds))"
   ]
  },
  {
   "cell_type": "markdown",
   "metadata": {},
   "source": [
    "Another quick way to iterate and produce output in list form is to use *list comprehension*."
   ]
  },
  {
   "cell_type": "code",
   "execution_count": 22,
   "metadata": {
    "ExecuteTime": {
     "end_time": "2023-08-22T11:19:06.965702Z",
     "start_time": "2023-08-22T11:19:06.961386Z"
    },
    "scrolled": false
   },
   "outputs": [
    {
     "data": {
      "text/plain": [
       "['You typed a', 'You typed b', 'You typed d']"
      ]
     },
     "execution_count": 22,
     "metadata": {},
     "output_type": "execute_result"
    }
   ],
   "source": [
    "['You typed ' + x for x in y]"
   ]
  },
  {
   "cell_type": "markdown",
   "metadata": {},
   "source": [
    "What if we wished to match only the userid in the string of email addresses earlier? In other words, we only wished to match until the `@` symbol in the list?\n",
    "\n",
    "Let's do it in two ways: Using the `split()` method, and then using a look-ahead assertion."
   ]
  },
  {
   "cell_type": "code",
   "execution_count": 23,
   "metadata": {
    "ExecuteTime": {
     "end_time": "2023-08-22T11:23:10.228575Z",
     "start_time": "2023-08-22T11:23:10.225623Z"
    }
   },
   "outputs": [],
   "source": [
    "import pprint"
   ]
  },
  {
   "cell_type": "code",
   "execution_count": 24,
   "metadata": {
    "ExecuteTime": {
     "end_time": "2023-08-22T11:23:10.621839Z",
     "start_time": "2023-08-22T11:23:10.618275Z"
    }
   },
   "outputs": [],
   "source": [
    "pp = pprint.PrettyPrinter(4)"
   ]
  },
  {
   "cell_type": "code",
   "execution_count": 25,
   "metadata": {
    "ExecuteTime": {
     "end_time": "2023-08-22T11:23:12.008375Z",
     "start_time": "2023-08-22T11:23:12.005777Z"
    }
   },
   "outputs": [
    {
     "name": "stdout",
     "output_type": "stream",
     "text": [
      "[   'e1234@nus.edu.sg',\n",
      "    'a2305@nus.edu.sg',\n",
      "    'eric@gmail.com',\n",
      "    'george@yahoo.com',\n",
      "    'e1234@ntu.edu.sg',\n",
      "    'nus.edu.sg@ntu.edu.sg']\n"
     ]
    }
   ],
   "source": [
    "pp.pprint(email_adds)"
   ]
  },
  {
   "cell_type": "code",
   "execution_count": 30,
   "metadata": {
    "ExecuteTime": {
     "end_time": "2023-08-22T11:23:34.132484Z",
     "start_time": "2023-08-22T11:23:34.129506Z"
    }
   },
   "outputs": [],
   "source": [
    "p1 = re.compile('@')\n",
    "userids = [p1.split(x)[0] for x in email_adds]\n",
    "# userids = [x.split('@')[0] for x in email_adds]"
   ]
  },
  {
   "cell_type": "code",
   "execution_count": 31,
   "metadata": {
    "ExecuteTime": {
     "end_time": "2023-08-22T11:23:34.480453Z",
     "start_time": "2023-08-22T11:23:34.477216Z"
    }
   },
   "outputs": [
    {
     "data": {
      "text/plain": [
       "['e1234', 'a2305', 'eric', 'george', 'e1234', 'nus.edu.sg']"
      ]
     },
     "execution_count": 31,
     "metadata": {},
     "output_type": "execute_result"
    }
   ],
   "source": [
    "userids"
   ]
  },
  {
   "cell_type": "code",
   "execution_count": 34,
   "metadata": {
    "ExecuteTime": {
     "end_time": "2023-08-22T11:24:47.223079Z",
     "start_time": "2023-08-22T11:24:47.219516Z"
    }
   },
   "outputs": [],
   "source": [
    "p2 = re.compile('^.*(?=@)')\n",
    "userids = [p2.match(x).group() for x in email_adds]"
   ]
  },
  {
   "cell_type": "code",
   "execution_count": 35,
   "metadata": {
    "ExecuteTime": {
     "end_time": "2023-08-22T11:24:47.517172Z",
     "start_time": "2023-08-22T11:24:47.513553Z"
    }
   },
   "outputs": [
    {
     "data": {
      "text/plain": [
       "['e1234', 'a2305', 'eric', 'george', 'e1234', 'nus.edu.sg']"
      ]
     },
     "execution_count": 35,
     "metadata": {},
     "output_type": "execute_result"
    }
   ],
   "source": [
    "userids"
   ]
  },
  {
   "cell_type": "markdown",
   "metadata": {},
   "source": [
    "#### Modules and Packages\n",
    "\n",
    "You may have noticed we \"imported\" the `re` package earlier. What did we mean by that?\n",
    "\n",
    "* A Python module is a file containing Python definitions (of functions and constants) and statements.\n",
    "* Instead of re-typing functions every time, we can simply load the module. We would then have access to the functions.\n",
    "* We access objects within the module using the ``dot'' notation.\n",
    "* There are several modules that ship with the default Python installation.\n",
    "* Packages are collections of modules."
   ]
  },
  {
   "cell_type": "code",
   "execution_count": 36,
   "metadata": {
    "ExecuteTime": {
     "end_time": "2023-08-22T11:25:58.682929Z",
     "start_time": "2023-08-22T11:25:58.324689Z"
    }
   },
   "outputs": [],
   "source": [
    "import numpy as np\n",
    "import pandas as pd"
   ]
  },
  {
   "cell_type": "code",
   "execution_count": 37,
   "metadata": {
    "ExecuteTime": {
     "end_time": "2023-08-22T11:25:59.114623Z",
     "start_time": "2023-08-22T11:25:59.108126Z"
    }
   },
   "outputs": [
    {
     "data": {
      "text/plain": [
       "3"
      ]
     },
     "execution_count": 37,
     "metadata": {},
     "output_type": "execute_result"
    }
   ],
   "source": [
    "np.max([1, 2, 3])"
   ]
  },
  {
   "cell_type": "markdown",
   "metadata": {},
   "source": [
    "### Object-Oriented Programming"
   ]
  },
  {
   "cell_type": "markdown",
   "metadata": {},
   "source": [
    "We can create new object-types in Python, which contain their own data and methods.\n",
    "In the example below, we create the `Circle` class. This class definition is a blueprint\n",
    "that will allow us to create `Circle`-objects. These objects need to be initialized\n",
    "with a radius. After initialization, we can query how big a given `Circle`-object is."
   ]
  },
  {
   "cell_type": "code",
   "execution_count": 38,
   "metadata": {
    "ExecuteTime": {
     "end_time": "2023-08-22T11:27:55.843765Z",
     "start_time": "2023-08-22T11:27:55.835735Z"
    }
   },
   "outputs": [],
   "source": [
    "from math import pi\n",
    "\n",
    "class Circle:\n",
    "    \"\"\" A simple class definition \n",
    "    \n",
    "    c0 = Circle()\n",
    "    c0.radius\n",
    "    \n",
    "    \"\"\"\n",
    "    # If no radius is specified, default to 1.\n",
    "    def __init__(self, radius = 1.0):\n",
    "        self.radius = radius\n",
    "    \n",
    "    def set_radius(self, new_radius):\n",
    "        \"\"\" Set radius of circle\"\"\"\n",
    "        self.radius = new_radius\n",
    "    \n",
    "    def get_area(self):\n",
    "        \"\"\" Compute area of circle\"\"\"\n",
    "        return pi * (self.radius ** 2)"
   ]
  },
  {
   "cell_type": "code",
   "execution_count": 39,
   "metadata": {
    "ExecuteTime": {
     "end_time": "2023-08-22T11:29:19.095197Z",
     "start_time": "2023-08-22T11:29:19.089036Z"
    }
   },
   "outputs": [
    {
     "data": {
      "text/plain": [
       "32.169908772759484"
      ]
     },
     "execution_count": 39,
     "metadata": {},
     "output_type": "execute_result"
    }
   ],
   "source": [
    "c1 = Circle(3.2)\n",
    "c1.get_area()"
   ]
  },
  {
   "cell_type": "code",
   "execution_count": 40,
   "metadata": {
    "ExecuteTime": {
     "end_time": "2023-08-22T11:29:19.314939Z",
     "start_time": "2023-08-22T11:29:19.309330Z"
    }
   },
   "outputs": [
    {
     "data": {
      "text/plain": [
       "113.09733552923255"
      ]
     },
     "execution_count": 40,
     "metadata": {},
     "output_type": "execute_result"
    }
   ],
   "source": [
    "c1.set_radius(6)\n",
    "c1.get_area()"
   ]
  },
  {
   "cell_type": "code",
   "execution_count": null,
   "metadata": {},
   "outputs": [],
   "source": []
  }
 ],
 "metadata": {
  "kernelspec": {
   "display_name": "Python 3 (ipykernel)",
   "language": "python",
   "name": "python3"
  },
  "language_info": {
   "codemirror_mode": {
    "name": "ipython",
    "version": 3
   },
   "file_extension": ".py",
   "mimetype": "text/x-python",
   "name": "python",
   "nbconvert_exporter": "python",
   "pygments_lexer": "ipython3",
   "version": "3.11.3"
  },
  "toc": {
   "base_numbering": 1,
   "nav_menu": {},
   "number_sections": false,
   "sideBar": true,
   "skip_h1_title": false,
   "title_cell": "Table of Contents",
   "title_sidebar": "Contents",
   "toc_cell": false,
   "toc_position": {},
   "toc_section_display": true,
   "toc_window_display": false
  },
  "varInspector": {
   "cols": {
    "lenName": 16,
    "lenType": 16,
    "lenVar": 40
   },
   "kernels_config": {
    "python": {
     "delete_cmd_postfix": "",
     "delete_cmd_prefix": "del ",
     "library": "var_list.py",
     "varRefreshCmd": "print(var_dic_list())"
    },
    "r": {
     "delete_cmd_postfix": ") ",
     "delete_cmd_prefix": "rm(",
     "library": "var_list.r",
     "varRefreshCmd": "cat(var_dic_list()) "
    }
   },
   "types_to_exclude": [
    "module",
    "function",
    "builtin_function_or_method",
    "instance",
    "_Feature"
   ],
   "window_display": false
  }
 },
 "nbformat": 4,
 "nbformat_minor": 4
}
