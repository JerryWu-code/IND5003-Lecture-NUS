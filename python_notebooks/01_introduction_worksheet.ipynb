{
 "cells": [
  {
   "cell_type": "markdown",
   "metadata": {},
   "source": [
    "<div align=\"center\">\n",
    "\n",
    "## <span style=\"font-size:16pt;\">**Wu Qilong**</span>\n",
    "\n",
    "</div>"
   ]
  },
  {
   "cell_type": "markdown",
   "metadata": {},
   "source": [
    "## Learning Outcomes\n",
    "\n",
    "1. To familiarise with Jupyter notebooks\n",
    "2. To practise with Python programming:\n",
    "    * slice operator\n",
    "    * searching with regular expresssions\n",
    "    * writing small functions\n",
    "    * working with the OOP paradigm in Python"
   ]
  },
  {
   "cell_type": "markdown",
   "metadata": {},
   "source": [
    "## Tasks"
   ]
  },
  {
   "cell_type": "markdown",
   "metadata": {},
   "source": [
    "1. Create a list containing the following strings in Python, in this order: *The Long Halloween*, *The Killing Joke*, *Year One*, *The Dark Knight Returns*, *Hush* and *Dark Victory*. Use as many variations of the **slice notation** as you can to extract:\n",
    "\n",
    "    1. The first two strings.\n",
    "    2. The strings in odd positions (not indices).\n",
    "    3. The last two strings.\n",
    "    4. The two strings just before the final one."
   ]
  },
  {
   "cell_type": "code",
   "execution_count": null,
   "metadata": {
    "ExecuteTime": {
     "end_time": "2023-08-15T17:23:28.919660Z",
     "start_time": "2023-08-15T17:23:28.914359Z"
    }
   },
   "outputs": [],
   "source": [
    "list_1 = ['The Long Halloween', 'The Killing Joke', 'Year One', 'The Dark Knight Returns', 'Hush and Dark Victory']\n",
    "# A.The first two strings\n",
    "print(list_1[:2])\n",
    "# B.The strings in odd positions\n",
    "print(list_1[0::2])\n",
    "# C.The last two strings\n",
    "print(list_1[-2:])\n",
    "# D.The two strings just before the final one\n",
    "print(list_1[-3:-1])"
   ]
  },
  {
   "cell_type": "markdown",
   "metadata": {},
   "source": [
    "2. Create a list (of length 6) that contains the number of letters in each title. Try doing it in the following ways:\n",
    "\n",
    "    1. Using a 'for' loop. You might need to use the `.append()` function for lists in this case.\n",
    "    2. Using list comprehension"
   ]
  },
  {
   "cell_type": "code",
   "execution_count": null,
   "metadata": {
    "ExecuteTime": {
     "end_time": "2023-08-15T17:23:29.623362Z",
     "start_time": "2023-08-15T17:23:29.619578Z"
    }
   },
   "outputs": [],
   "source": [
    "list_2 = []\n",
    "for i in list_1:\n",
    "    list_2.append(sum([j.isalpha() for j in i]))  # list_2.append(len(i) - i.count(' '))\n",
    "print(list_2)"
   ]
  },
  {
   "cell_type": "markdown",
   "metadata": {},
   "source": [
    "3. The following **example** code snippet will check if the string 'The Dark Knight Rises' contains the words 'Dark Knight'. Package it into a function that takes one argument and returns True if the argument contains 'Dark Knight' and False otherwise. Apply this function to the list of titles you originally created."
   ]
  },
  {
   "cell_type": "code",
   "execution_count": null,
   "metadata": {
    "ExecuteTime": {
     "end_time": "2023-08-15T17:23:30.046953Z",
     "start_time": "2023-08-15T17:23:30.042494Z"
    },
    "scrolled": true
   },
   "outputs": [],
   "source": [
    "import re\n",
    "\n",
    "x = re.search('Dark Knight', 'The Dark Knight Rises')\n",
    "if x is not None:\n",
    "    print(\"Found\")\n",
    "else:\n",
    "    print(\"Not Found\")"
   ]
  },
  {
   "cell_type": "code",
   "execution_count": null,
   "metadata": {
    "ExecuteTime": {
     "end_time": "2023-08-15T17:23:30.471124Z",
     "start_time": "2023-08-15T17:23:30.467441Z"
    }
   },
   "outputs": [],
   "source": [
    "def detector(title):\n",
    "    x = re.search('Dark Knight', string=title)\n",
    "    if x is not None:\n",
    "        return True\n",
    "    else:\n",
    "        return False\n",
    "\n",
    "for i in list_1:\n",
    "    print(detector(i))"
   ]
  },
  {
   "cell_type": "markdown",
   "metadata": {},
   "source": [
    "4. Write a function that will rotate a string by a specified number of characters. It should take two arguments, a string and an integer, and return the rotated string. For instance, `rot_fn('abcdefgh', 3)` should return"
   ]
  },
  {
   "cell_type": "code",
   "execution_count": 11,
   "metadata": {
    "ExecuteTime": {
     "end_time": "2023-08-22T08:19:37.112165Z",
     "start_time": "2023-08-22T08:19:37.106931Z"
    }
   },
   "outputs": [
    {
     "name": "stdout",
     "output_type": "stream",
     "text": [
      "adfas\n"
     ]
    }
   ],
   "source": [
    "def rot_fn(string, integer):\n",
    "    try:\n",
    "        assert isinstance(integer, int) and isinstance(string, str)\n",
    "        num = integer % len(string)\n",
    "        result = string[-num:] + string[:-num]\n",
    "        return result\n",
    "    except:\n",
    "        print(\"Please enter a valid pair of string and integer!\")\n",
    "\n",
    "x = rot_fn('adfas', 35)\n",
    "if x:\n",
    "    print(x)"
   ]
  },
  {
   "cell_type": "code",
   "execution_count": 7,
   "metadata": {
    "ExecuteTime": {
     "end_time": "2023-08-22T08:17:53.672989Z",
     "start_time": "2023-08-22T08:17:53.670669Z"
    }
   },
   "outputs": [],
   "source": [
    "assert isinstance(['sefr23'], list), 'NONONO'"
   ]
  },
  {
   "cell_type": "markdown",
   "metadata": {},
   "source": [
    "5. In the lecture, we defined a `Circle` class. Add a method to return the circumference of the \n",
    "circle object."
   ]
  },
  {
   "cell_type": "code",
   "execution_count": null,
   "metadata": {
    "ExecuteTime": {
     "end_time": "2023-08-15T17:23:33.013860Z",
     "start_time": "2023-08-15T17:23:33.009054Z"
    }
   },
   "outputs": [],
   "source": [
    "from math import pi\n",
    "\n",
    "class Circle:\n",
    "    \n",
    "    def __init__(self, radius = 1.0):\n",
    "        self.radius = radius\n",
    "        \n",
    "    def set_radius(self, new_radius):\n",
    "        self.radius = new_radius\n",
    "        \n",
    "    def get_area(self):\n",
    "        return pi * self.radius ** 2\n",
    "    \n",
    "    def get_circumference(self):\n",
    "        return 2 * pi * self.radius"
   ]
  },
  {
   "cell_type": "code",
   "execution_count": null,
   "metadata": {
    "ExecuteTime": {
     "end_time": "2023-08-15T17:23:35.230597Z",
     "start_time": "2023-08-15T17:23:35.224122Z"
    }
   },
   "outputs": [],
   "source": [
    "c = Circle(10)\n",
    "c.get_area()"
   ]
  },
  {
   "cell_type": "code",
   "execution_count": null,
   "metadata": {
    "ExecuteTime": {
     "end_time": "2023-08-15T17:23:35.750278Z",
     "start_time": "2023-08-15T17:23:35.745835Z"
    }
   },
   "outputs": [],
   "source": [
    "c.set_radius(100)\n",
    "c.get_circumference()"
   ]
  },
  {
   "cell_type": "code",
   "execution_count": null,
   "metadata": {},
   "outputs": [],
   "source": []
  }
 ],
 "metadata": {
  "kernelspec": {
   "display_name": "Python 3 (ipykernel)",
   "language": "python",
   "name": "python3"
  },
  "language_info": {
   "codemirror_mode": {
    "name": "ipython",
    "version": 3
   },
   "file_extension": ".py",
   "mimetype": "text/x-python",
   "name": "python",
   "nbconvert_exporter": "python",
   "pygments_lexer": "ipython3",
   "version": "3.11.3"
  },
  "toc": {
   "base_numbering": 1,
   "nav_menu": {},
   "number_sections": false,
   "sideBar": true,
   "skip_h1_title": false,
   "title_cell": "Table of Contents",
   "title_sidebar": "Contents",
   "toc_cell": false,
   "toc_position": {},
   "toc_section_display": true,
   "toc_window_display": false
  },
  "varInspector": {
   "cols": {
    "lenName": 16,
    "lenType": 16,
    "lenVar": 40
   },
   "kernels_config": {
    "python": {
     "delete_cmd_postfix": "",
     "delete_cmd_prefix": "del ",
     "library": "var_list.py",
     "varRefreshCmd": "print(var_dic_list())"
    },
    "r": {
     "delete_cmd_postfix": ") ",
     "delete_cmd_prefix": "rm(",
     "library": "var_list.r",
     "varRefreshCmd": "cat(var_dic_list()) "
    }
   },
   "types_to_exclude": [
    "module",
    "function",
    "builtin_function_or_method",
    "instance",
    "_Feature"
   ],
   "window_display": false
  }
 },
 "nbformat": 4,
 "nbformat_minor": 4
}
