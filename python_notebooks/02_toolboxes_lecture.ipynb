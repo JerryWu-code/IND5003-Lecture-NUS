{
 "cells": [
  {
   "cell_type": "markdown",
   "metadata": {
    "slideshow": {
     "slide_type": "slide"
    }
   },
   "source": [
    "## Contents <a id='top'></a>\n",
    "\n",
    "1. <a href=#np>NumPy</a>\n",
    "1. <a href=#pandas>Pandas</a>\n",
    "    1. <a href=#pandas>Series</a>\n",
    "    1. <a href=#df>DataFrames</a>\n",
    "    1. <a href=#functions>Applying Functions to DataFrame</a>\n",
    "    1. <a href=#categorical>Categorical Variables</a>\n",
    "    1. <a href=#split>Split-Apply-Transform</a>\n",
    "    1. <a href=#multiple>Working with Multiple DataFrames</a>\n",
    "1. <a href=#ref>References and Links</a>"
   ]
  },
  {
   "cell_type": "code",
   "execution_count": 1,
   "metadata": {
    "ExecuteTime": {
     "end_time": "2023-08-29T11:11:10.912195Z",
     "start_time": "2023-08-29T11:10:59.485220Z"
    }
   },
   "outputs": [],
   "source": [
    "import numpy as np\n",
    "import pandas as pd\n",
    "\n",
    "# %precision 4\n",
    "# %matplotlib inline\n",
    "\n",
    "# pd.set_option('display.precision', 4)"
   ]
  },
  {
   "cell_type": "markdown",
   "metadata": {},
   "source": [
    "<a id='np'></a>\n",
    "# 1. NumPy\n",
    "<a href=#top>(back to top)</a>\n",
    "\n",
    "The basic object in this package is the `ndarray` object, which can represent *n*-dimensional arrays of homogeneous data types. This is the key difference between NumPy and Pandas objects -- while Pandas objects are also tabular in nature, they allow you to deal with inhomogenous objects. Specifically, Pandas' `DataFrame`s allow columns to be of different types.\n",
    "\n",
    "An `ndarray` object is an *n*-dimensional array (i.e., a [tensor](https://www.i2tutorials.com/wp-content/uploads/2019/09/Tensor-Datatype-and-Ranks-1i2tutorials.jpg)) of elements, indexed by a tuple of non-negative integers.\n",
    "\n",
    "The dimensions of the array are referred to as **axes** in NumPy: a three-dimensional array will have three axes.\n",
    "\n",
    "Each array has several attributes. These include:\n",
    "* `ndim`: the number of axes/dimensions.\n",
    "* `shape`: a tuple describing the length of each dimension.\n",
    "* `size`: the total number of elements in the array. This is a product of the integers in the shape attribute."
   ]
  },
  {
   "cell_type": "code",
   "execution_count": null,
   "metadata": {
    "ExecuteTime": {
     "end_time": "2023-08-22T11:41:44.166897Z",
     "start_time": "2023-08-22T11:41:44.163390Z"
    }
   },
   "outputs": [],
   "source": [
    "arr = np.array([(1.5, 2, 3), (4, 5, 6)])"
   ]
  },
  {
   "cell_type": "code",
   "execution_count": null,
   "metadata": {
    "ExecuteTime": {
     "end_time": "2023-08-22T11:41:44.362975Z",
     "start_time": "2023-08-22T11:41:44.353581Z"
    }
   },
   "outputs": [],
   "source": [
    "arr"
   ]
  },
  {
   "cell_type": "code",
   "execution_count": null,
   "metadata": {
    "ExecuteTime": {
     "end_time": "2023-08-22T11:41:44.524633Z",
     "start_time": "2023-08-22T11:41:44.520544Z"
    }
   },
   "outputs": [],
   "source": [
    "arr.ndim"
   ]
  },
  {
   "cell_type": "code",
   "execution_count": null,
   "metadata": {
    "ExecuteTime": {
     "end_time": "2023-08-22T11:41:44.673757Z",
     "start_time": "2023-08-22T11:41:44.669683Z"
    }
   },
   "outputs": [],
   "source": [
    "arr.shape"
   ]
  },
  {
   "cell_type": "code",
   "execution_count": null,
   "metadata": {
    "ExecuteTime": {
     "end_time": "2023-08-22T11:41:45.797528Z",
     "start_time": "2023-08-22T11:41:45.792511Z"
    }
   },
   "outputs": [],
   "source": [
    "arr.size # the number of elements in \"arr\""
   ]
  },
  {
   "cell_type": "markdown",
   "metadata": {},
   "source": [
    "### Array Creation\n",
    "\n",
    "One way to create an array containing regular sequences is to use the `np.arange()` function. This creates a sequence of integers, with a specified separation."
   ]
  },
  {
   "cell_type": "code",
   "execution_count": null,
   "metadata": {
    "ExecuteTime": {
     "end_time": "2023-08-22T11:48:49.230405Z",
     "start_time": "2023-08-22T11:48:49.223452Z"
    }
   },
   "outputs": [],
   "source": [
    "seq = np.arange(0, 10, 3)\n",
    "seq, seq[:, None]"
   ]
  },
  {
   "cell_type": "markdown",
   "metadata": {},
   "source": [
    "The shape of an `ndarray` is given by a tuple. Note that an array of shape (4,) is different from one with shape (4, 1). The former has only **1 dimension**, while the latter has **2 dimensions**."
   ]
  },
  {
   "cell_type": "code",
   "execution_count": null,
   "metadata": {
    "ExecuteTime": {
     "end_time": "2023-08-22T11:48:35.492831Z",
     "start_time": "2023-08-22T11:48:35.486688Z"
    }
   },
   "outputs": [],
   "source": [
    "seq.shape, seq[:, None].shape"
   ]
  },
  {
   "cell_type": "code",
   "execution_count": null,
   "metadata": {
    "ExecuteTime": {
     "end_time": "2023-08-22T11:50:52.472535Z",
     "start_time": "2023-08-22T11:50:52.468613Z"
    }
   },
   "outputs": [],
   "source": [
    "col_vect = seq.reshape(4, 1) # (4, -1)\n",
    "col_vect"
   ]
  },
  {
   "cell_type": "markdown",
   "metadata": {},
   "source": [
    "To create an array of regularly spaced **real numbers**, use `np.linspace()`."
   ]
  },
  {
   "cell_type": "code",
   "execution_count": 15,
   "metadata": {
    "ExecuteTime": {
     "end_time": "2023-08-22T13:09:55.241907Z",
     "start_time": "2023-08-22T13:09:55.236582Z"
    },
    "scrolled": true
   },
   "outputs": [
    {
     "data": {
      "text/plain": [
       "array([[[0.2       , 0.33478261, 0.46956522, 0.60434783],\n",
       "        [0.73913043, 0.87391304, 1.00869565, 1.14347826],\n",
       "        [1.27826087, 1.41304348, 1.54782609, 1.6826087 ]],\n",
       "\n",
       "       [[1.8173913 , 1.95217391, 2.08695652, 2.22173913],\n",
       "        [2.35652174, 2.49130435, 2.62608696, 2.76086957],\n",
       "        [2.89565217, 3.03043478, 3.16521739, 3.3       ]]])"
      ]
     },
     "execution_count": 15,
     "metadata": {},
     "output_type": "execute_result"
    }
   ],
   "source": [
    "arr_real = np.linspace(start = 0.2, stop = 3.3, num = 24).reshape(2, 3, 4)  \n",
    "arr_real"
   ]
  },
  {
   "cell_type": "code",
   "execution_count": null,
   "metadata": {
    "ExecuteTime": {
     "end_time": "2023-08-22T11:57:05.051007Z",
     "start_time": "2023-08-22T11:57:05.044532Z"
    }
   },
   "outputs": [],
   "source": [
    "np.arange(24).reshape(4, 3, 2)"
   ]
  },
  {
   "cell_type": "markdown",
   "metadata": {},
   "source": [
    "Sometimes we need to create a placeholder array with the appropriate dimensions, and then fill it in later. This is preferrable to growing an array by appending to it."
   ]
  },
  {
   "cell_type": "code",
   "execution_count": null,
   "metadata": {
    "ExecuteTime": {
     "end_time": "2023-08-22T11:57:07.570279Z",
     "start_time": "2023-08-22T11:57:07.564415Z"
    }
   },
   "outputs": [],
   "source": [
    "np.zeros((3, 5)) # there is also an np.ones() function"
   ]
  },
  {
   "cell_type": "markdown",
   "metadata": {},
   "source": [
    "Instead of specifying the dimensions of an array ourselves, we can create arrays of zeros or ones in the shape of other existing arrays."
   ]
  },
  {
   "cell_type": "code",
   "execution_count": null,
   "metadata": {
    "ExecuteTime": {
     "end_time": "2023-08-22T11:57:45.988406Z",
     "start_time": "2023-08-22T11:57:45.983830Z"
    },
    "scrolled": true
   },
   "outputs": [],
   "source": [
    "# Creates an array of zeros, of the same shape as \"arr_real\".\n",
    "np.ones_like(arr_real)"
   ]
  },
  {
   "cell_type": "code",
   "execution_count": null,
   "metadata": {
    "ExecuteTime": {
     "end_time": "2023-08-22T11:58:09.522763Z",
     "start_time": "2023-08-22T11:58:09.515964Z"
    }
   },
   "outputs": [],
   "source": [
    "np.zeros_like(arr_real)"
   ]
  },
  {
   "cell_type": "markdown",
   "metadata": {},
   "source": [
    "### Slice Operator in Multiple Dimensions\n",
    "\n",
    "Multidimensional NumPy arrays can be accessed with comma separated slice notation. When fewer indices are provided than the number of axes, the missing indices are considered complete slices for the remaining dimensions.\n",
    "\n",
    "By the way, when printing, the *last* axis will be printed left-to-right, and the second last axis will be printed from top-to-bottom. The remaining axes will be printed with a line in between:"
   ]
  },
  {
   "cell_type": "code",
   "execution_count": null,
   "metadata": {
    "ExecuteTime": {
     "end_time": "2023-08-22T12:17:25.737638Z",
     "start_time": "2023-08-22T12:17:25.733758Z"
    }
   },
   "outputs": [],
   "source": [
    "arr_real"
   ]
  },
  {
   "cell_type": "markdown",
   "metadata": {},
   "source": [
    "Here are examples based on this array. Try to guess what each will return before you run it:"
   ]
  },
  {
   "cell_type": "code",
   "execution_count": null,
   "metadata": {
    "ExecuteTime": {
     "end_time": "2023-08-22T12:20:34.889347Z",
     "start_time": "2023-08-22T12:20:34.883662Z"
    }
   },
   "outputs": [],
   "source": [
    "arr_real[1, 2, 3]"
   ]
  },
  {
   "cell_type": "code",
   "execution_count": null,
   "metadata": {
    "ExecuteTime": {
     "end_time": "2023-08-22T12:23:35.206637Z",
     "start_time": "2023-08-22T12:23:35.200662Z"
    }
   },
   "outputs": [],
   "source": [
    "arr_real[0, 2, ::-1]"
   ]
  },
  {
   "cell_type": "code",
   "execution_count": null,
   "metadata": {
    "ExecuteTime": {
     "end_time": "2023-08-22T12:24:28.515632Z",
     "start_time": "2023-08-22T12:24:28.512084Z"
    }
   },
   "outputs": [],
   "source": [
    "arr_real[1, 0:3:2]"
   ]
  },
  {
   "cell_type": "code",
   "execution_count": null,
   "metadata": {
    "ExecuteTime": {
     "end_time": "2023-08-22T12:26:16.425935Z",
     "start_time": "2023-08-22T12:26:16.422299Z"
    }
   },
   "outputs": [],
   "source": [
    "arr_real[:, 2, :]"
   ]
  },
  {
   "cell_type": "markdown",
   "metadata": {},
   "source": [
    "Here are examples using Boolean indexing, which means that we use an array of `True` and `False` entries to determine which elements to return."
   ]
  },
  {
   "cell_type": "code",
   "execution_count": null,
   "metadata": {
    "ExecuteTime": {
     "end_time": "2023-08-22T12:30:38.452177Z",
     "start_time": "2023-08-22T12:30:38.445023Z"
    }
   },
   "outputs": [],
   "source": [
    "(arr_real > 3).reshape(1,-1).shape"
   ]
  },
  {
   "cell_type": "code",
   "execution_count": null,
   "metadata": {
    "ExecuteTime": {
     "end_time": "2023-08-22T12:29:57.432707Z",
     "start_time": "2023-08-22T12:29:57.425749Z"
    }
   },
   "outputs": [],
   "source": [
    "arr_real[(arr_real > 3)]"
   ]
  },
  {
   "cell_type": "markdown",
   "metadata": {},
   "source": [
    "### Basic Operations"
   ]
  },
  {
   "cell_type": "code",
   "execution_count": null,
   "metadata": {
    "ExecuteTime": {
     "end_time": "2023-08-22T12:34:01.900725Z",
     "start_time": "2023-08-22T12:34:01.896893Z"
    }
   },
   "outputs": [],
   "source": [
    "# Setting a seed allows for reproducibility of random number generation\n",
    "# across sessions.\n",
    "np.random.seed(5003)"
   ]
  },
  {
   "cell_type": "code",
   "execution_count": null,
   "metadata": {
    "ExecuteTime": {
     "end_time": "2023-08-22T12:34:02.275031Z",
     "start_time": "2023-08-22T12:34:02.269034Z"
    }
   },
   "outputs": [],
   "source": [
    "a = np.random.randn(3, 5)\n",
    "a"
   ]
  },
  {
   "cell_type": "code",
   "execution_count": null,
   "metadata": {
    "ExecuteTime": {
     "end_time": "2023-08-22T12:34:02.719156Z",
     "start_time": "2023-08-22T12:34:02.712313Z"
    }
   },
   "outputs": [],
   "source": [
    "b = np.random.randn(3, 5)\n",
    "b"
   ]
  },
  {
   "cell_type": "code",
   "execution_count": null,
   "metadata": {
    "ExecuteTime": {
     "end_time": "2023-08-22T12:35:55.669591Z",
     "start_time": "2023-08-22T12:35:55.662513Z"
    }
   },
   "outputs": [],
   "source": [
    "# Element-wise addition.\n",
    "a + b"
   ]
  },
  {
   "cell_type": "code",
   "execution_count": null,
   "metadata": {
    "ExecuteTime": {
     "end_time": "2023-08-22T12:35:56.076378Z",
     "start_time": "2023-08-22T12:35:56.072896Z"
    }
   },
   "outputs": [],
   "source": [
    "# Element-wise multiplication: NOT matrix multiplication.\n",
    "a * b"
   ]
  },
  {
   "cell_type": "code",
   "execution_count": null,
   "metadata": {
    "ExecuteTime": {
     "end_time": "2023-08-22T12:38:04.523181Z",
     "start_time": "2023-08-22T12:38:04.518279Z"
    }
   },
   "outputs": [],
   "source": [
    "# Matrix multiplication (need to transpose \"b\" to match get the right dimensions).\n",
    "# We can also do \"a @ b.T\".\n",
    "\n",
    "# a.dot(b.T)\n",
    "a @ b.T"
   ]
  },
  {
   "cell_type": "code",
   "execution_count": null,
   "metadata": {
    "ExecuteTime": {
     "end_time": "2023-08-22T12:41:34.166207Z",
     "start_time": "2023-08-22T12:41:34.161215Z"
    }
   },
   "outputs": [],
   "source": [
    "np.ones_like(arr_real).ravel().shape   # ndarray.flatten()  to 1-D vector"
   ]
  },
  {
   "cell_type": "markdown",
   "metadata": {},
   "source": [
    "### Broadcasting"
   ]
  },
  {
   "cell_type": "code",
   "execution_count": null,
   "metadata": {
    "ExecuteTime": {
     "end_time": "2023-08-22T12:42:06.723637Z",
     "start_time": "2023-08-22T12:42:06.717617Z"
    },
    "scrolled": true
   },
   "outputs": [],
   "source": [
    "2 * a + 1"
   ]
  },
  {
   "cell_type": "markdown",
   "metadata": {},
   "source": [
    "It's easy enough to guess what happened there, but what if we added a 4 x 5 array to a 2 x 1 x 5 array? In general what would happen if we operated on two arrays with different shapes? \n",
    "\n",
    "That's when the broadcasting rules come into play.\n",
    "\n",
    "1. If all input arrays do not have the same number of dimensions, a \"1\" will be *pre-pended* to the **shapes** of the smaller arrays until all the arrays have the same number of dimensions.\n",
    "2. Arrays with size 1 along a particular dimension act as if they had the size of the array with the largest shape along that dimension."
   ]
  },
  {
   "cell_type": "code",
   "execution_count": 2,
   "metadata": {
    "ExecuteTime": {
     "end_time": "2023-08-22T12:46:21.314292Z",
     "start_time": "2023-08-22T12:46:21.304909Z"
    }
   },
   "outputs": [
    {
     "data": {
      "text/plain": [
       "(array([0, 1, 2, 3]), (4,))"
      ]
     },
     "execution_count": 2,
     "metadata": {},
     "output_type": "execute_result"
    }
   ],
   "source": [
    "x = np.arange(4)           # shape           4\n",
    "x, x.shape"
   ]
  },
  {
   "cell_type": "code",
   "execution_count": 3,
   "metadata": {
    "ExecuteTime": {
     "end_time": "2023-08-22T12:46:21.596718Z",
     "start_time": "2023-08-22T12:46:21.591779Z"
    }
   },
   "outputs": [
    {
     "data": {
      "text/plain": [
       "array([[0],\n",
       "       [1],\n",
       "       [2],\n",
       "       [3]])"
      ]
     },
     "execution_count": 3,
     "metadata": {},
     "output_type": "execute_result"
    }
   ],
   "source": [
    "xx = x.reshape((4, 1))      # shape       4 x 1\n",
    "xx"
   ]
  },
  {
   "cell_type": "code",
   "execution_count": 4,
   "metadata": {
    "ExecuteTime": {
     "end_time": "2023-08-22T12:46:21.940802Z",
     "start_time": "2023-08-22T12:46:21.935478Z"
    }
   },
   "outputs": [
    {
     "data": {
      "text/plain": [
       "array([[0, 1, 2, 3],\n",
       "       [1, 2, 3, 4],\n",
       "       [2, 3, 4, 5],\n",
       "       [3, 4, 5, 6]])"
      ]
     },
     "execution_count": 4,
     "metadata": {},
     "output_type": "execute_result"
    }
   ],
   "source": [
    "xx + x                     # shape       4 x 4"
   ]
  },
  {
   "cell_type": "markdown",
   "metadata": {},
   "source": [
    "`x` acts like an array with size (1, 4) in the addition above, and rule 2 applies for `xx`.\n",
    "The following code gives us the same output:"
   ]
  },
  {
   "cell_type": "code",
   "execution_count": 5,
   "metadata": {
    "ExecuteTime": {
     "end_time": "2023-08-22T12:56:23.490530Z",
     "start_time": "2023-08-22T12:56:23.484022Z"
    }
   },
   "outputs": [
    {
     "data": {
      "text/plain": [
       "array([[0, 1, 2, 3],\n",
       "       [1, 2, 3, 4],\n",
       "       [2, 3, 4, 5],\n",
       "       [3, 4, 5, 6]])"
      ]
     },
     "execution_count": 5,
     "metadata": {},
     "output_type": "execute_result"
    }
   ],
   "source": [
    "np.tile(xx, 4) + x.reshape((1, 4))"
   ]
  },
  {
   "cell_type": "code",
   "execution_count": 13,
   "metadata": {
    "ExecuteTime": {
     "end_time": "2023-08-22T12:59:50.689350Z",
     "start_time": "2023-08-22T12:59:50.680509Z"
    }
   },
   "outputs": [
    {
     "data": {
      "text/plain": [
       "array([[1., 2., 3., 4.],\n",
       "       [1., 2., 3., 4.]])"
      ]
     },
     "execution_count": 13,
     "metadata": {},
     "output_type": "execute_result"
    }
   ],
   "source": [
    "y = np.ones(8).reshape(2,-1)           # shape           5\n",
    "x + y"
   ]
  },
  {
   "cell_type": "code",
   "execution_count": 8,
   "metadata": {
    "ExecuteTime": {
     "end_time": "2023-08-22T12:56:30.029564Z",
     "start_time": "2023-08-22T12:56:30.024786Z"
    },
    "scrolled": true
   },
   "outputs": [
    {
     "data": {
      "text/plain": [
       "array([[1., 1., 1., 1., 1.],\n",
       "       [2., 2., 2., 2., 2.],\n",
       "       [3., 3., 3., 3., 3.],\n",
       "       [4., 4., 4., 4., 4.]])"
      ]
     },
     "execution_count": 8,
     "metadata": {},
     "output_type": "execute_result"
    }
   ],
   "source": [
    "xx + y                  # shape        4 x 5"
   ]
  },
  {
   "cell_type": "code",
   "execution_count": 7,
   "metadata": {
    "ExecuteTime": {
     "end_time": "2023-08-22T12:56:27.386946Z",
     "start_time": "2023-08-22T12:56:27.382117Z"
    },
    "scrolled": true
   },
   "outputs": [
    {
     "data": {
      "text/plain": [
       "array([[1., 2., 3., 4.],\n",
       "       [1., 2., 3., 4.],\n",
       "       [1., 2., 3., 4.]])"
      ]
     },
     "execution_count": 7,
     "metadata": {},
     "output_type": "execute_result"
    }
   ],
   "source": [
    "z = np.ones((3, 4))\n",
    "x + z"
   ]
  },
  {
   "cell_type": "markdown",
   "metadata": {},
   "source": [
    "### Axis-wise Operations"
   ]
  },
  {
   "cell_type": "code",
   "execution_count": 16,
   "metadata": {
    "ExecuteTime": {
     "end_time": "2023-08-22T13:10:00.417088Z",
     "start_time": "2023-08-22T13:10:00.411554Z"
    }
   },
   "outputs": [
    {
     "data": {
      "text/plain": [
       "(2, 3, 4)"
      ]
     },
     "execution_count": 16,
     "metadata": {},
     "output_type": "execute_result"
    }
   ],
   "source": [
    "arr_real.shape"
   ]
  },
  {
   "cell_type": "code",
   "execution_count": 18,
   "metadata": {
    "ExecuteTime": {
     "end_time": "2023-08-22T13:11:25.552832Z",
     "start_time": "2023-08-22T13:11:25.546215Z"
    }
   },
   "outputs": [
    {
     "data": {
      "text/plain": [
       "array([[[0.2       , 0.33478261, 0.46956522, 0.60434783],\n",
       "        [0.73913043, 0.87391304, 1.00869565, 1.14347826],\n",
       "        [1.27826087, 1.41304348, 1.54782609, 1.6826087 ]],\n",
       "\n",
       "       [[1.8173913 , 1.95217391, 2.08695652, 2.22173913],\n",
       "        [2.35652174, 2.49130435, 2.62608696, 2.76086957],\n",
       "        [2.89565217, 3.03043478, 3.16521739, 3.3       ]]])"
      ]
     },
     "execution_count": 18,
     "metadata": {},
     "output_type": "execute_result"
    }
   ],
   "source": [
    "arr_real"
   ]
  },
  {
   "cell_type": "code",
   "execution_count": 19,
   "metadata": {
    "ExecuteTime": {
     "end_time": "2023-08-22T13:11:26.020016Z",
     "start_time": "2023-08-22T13:11:26.015027Z"
    }
   },
   "outputs": [
    {
     "data": {
      "text/plain": [
       "array([[1.00869565, 1.14347826, 1.27826087, 1.41304348],\n",
       "       [1.54782609, 1.6826087 , 1.8173913 , 1.95217391],\n",
       "       [2.08695652, 2.22173913, 2.35652174, 2.49130435]])"
      ]
     },
     "execution_count": 19,
     "metadata": {},
     "output_type": "execute_result"
    }
   ],
   "source": [
    "arr_real.mean(axis = 0) # mean across the 0th (\"first\") axis"
   ]
  },
  {
   "cell_type": "markdown",
   "metadata": {},
   "source": [
    "The top-left element comes from the mean of `arr_real[0, 0, 0]` and `arr_real[1, 0, 0]`. Similarly, the element to the right of it comes from the mean of `arr_real[0, 0, 1]` and `arr_real[1, 0, 1]`."
   ]
  },
  {
   "cell_type": "code",
   "execution_count": 25,
   "metadata": {
    "ExecuteTime": {
     "end_time": "2023-08-22T13:16:05.365406Z",
     "start_time": "2023-08-22T13:16:05.361555Z"
    }
   },
   "outputs": [
    {
     "data": {
      "text/plain": [
       "1.143478260869565"
      ]
     },
     "execution_count": 25,
     "metadata": {},
     "output_type": "execute_result"
    }
   ],
   "source": [
    "(arr_real[0, 0, 1] + arr_real[1, 0, 1]) / 2"
   ]
  },
  {
   "cell_type": "code",
   "execution_count": 28,
   "metadata": {
    "ExecuteTime": {
     "end_time": "2023-08-22T13:19:18.159148Z",
     "start_time": "2023-08-22T13:19:18.154707Z"
    }
   },
   "outputs": [
    {
     "data": {
      "text/plain": [
       "array([[0.73913043, 0.87391304, 1.00869565, 1.14347826],\n",
       "       [2.35652174, 2.49130435, 2.62608696, 2.76086957]])"
      ]
     },
     "execution_count": 28,
     "metadata": {},
     "output_type": "execute_result"
    }
   ],
   "source": [
    "arr_real.mean(axis = 1)"
   ]
  },
  {
   "cell_type": "code",
   "execution_count": 29,
   "metadata": {
    "ExecuteTime": {
     "end_time": "2023-08-22T13:19:19.505611Z",
     "start_time": "2023-08-22T13:19:19.500542Z"
    }
   },
   "outputs": [
    {
     "data": {
      "text/plain": [
       "array([1.54782609, 1.6826087 , 1.8173913 , 1.95217391])"
      ]
     },
     "execution_count": 29,
     "metadata": {},
     "output_type": "execute_result"
    }
   ],
   "source": [
    "arr_real.mean(axis = (0, 1)) # the mean across the first two axes"
   ]
  },
  {
   "cell_type": "code",
   "execution_count": null,
   "metadata": {},
   "outputs": [],
   "source": [
    "arr_real.mean(axis = 2) # which is the mean across the third axis"
   ]
  },
  {
   "cell_type": "markdown",
   "metadata": {},
   "source": [
    "Note that `arr_real[0]` is a 2D array, with shape (3, 4). Suppose we wish to compute the row means. This means we have to apply the operation by the column axis (axis = 1)."
   ]
  },
  {
   "cell_type": "code",
   "execution_count": 30,
   "metadata": {
    "ExecuteTime": {
     "end_time": "2023-08-22T13:19:56.151010Z",
     "start_time": "2023-08-22T13:19:56.143700Z"
    }
   },
   "outputs": [
    {
     "data": {
      "text/plain": [
       "array([0.40217391, 0.94130435, 1.48043478])"
      ]
     },
     "execution_count": 30,
     "metadata": {},
     "output_type": "execute_result"
    }
   ],
   "source": [
    "arr_real[0].mean(axis = 1) # the mean across the second axis of arr_real[0], not of arr_real itself."
   ]
  },
  {
   "cell_type": "markdown",
   "metadata": {},
   "source": [
    "If we wanted to identify the row with the largest mean, we use `argmax()` on the resulting array."
   ]
  },
  {
   "cell_type": "code",
   "execution_count": 31,
   "metadata": {
    "ExecuteTime": {
     "end_time": "2023-08-22T13:20:08.200389Z",
     "start_time": "2023-08-22T13:20:08.193838Z"
    }
   },
   "outputs": [
    {
     "data": {
      "text/plain": [
       "2"
      ]
     },
     "execution_count": 31,
     "metadata": {},
     "output_type": "execute_result"
    }
   ],
   "source": [
    "arr_real[0].mean(axis = 1).argmax()"
   ]
  },
  {
   "cell_type": "markdown",
   "metadata": {},
   "source": [
    "<a id='pandas'></a>\n",
    "# 2. Pandas\n",
    "<a href=#top>(back to top)</a>\n",
    "\n",
    "## Series \n",
    "\n",
    "A *Series* is a one-dimensional labeled array. The axis labels are referred to as the **index**. The simplest way to create a Series is to pass a sequence and an index to `pd.Series()`."
   ]
  },
  {
   "cell_type": "code",
   "execution_count": 32,
   "metadata": {
    "ExecuteTime": {
     "end_time": "2023-08-22T13:23:13.628473Z",
     "start_time": "2023-08-22T13:23:13.621408Z"
    }
   },
   "outputs": [],
   "source": [
    "year = pd.Series(list(range(2010, 2013) ) * 3)\n",
    "\n",
    "team = [\"Barcelona\", \"RealMadrid\", \"Valencia\"] * 3\n",
    "team.sort()\n",
    "team = pd.Series(team)\n",
    "\n",
    "wins = pd.Series([30, 28, 32, 29, 32, 26, 21, 17, 19])\n",
    "draws = pd.Series([6, 7, 4, 5, 4, 7, 8, 10, 8])\n",
    "losses = pd.Series([2, 3, 2, 4, 2, 5, 9, 11, 11])"
   ]
  },
  {
   "cell_type": "code",
   "execution_count": 33,
   "metadata": {
    "ExecuteTime": {
     "end_time": "2023-08-22T13:23:20.720041Z",
     "start_time": "2023-08-22T13:23:20.714018Z"
    }
   },
   "outputs": [
    {
     "data": {
      "text/plain": [
       "0    2010\n",
       "1    2011\n",
       "2    2012\n",
       "3    2010\n",
       "4    2011\n",
       "5    2012\n",
       "6    2010\n",
       "7    2011\n",
       "8    2012\n",
       "dtype: int64"
      ]
     },
     "execution_count": 33,
     "metadata": {},
     "output_type": "execute_result"
    }
   ],
   "source": [
    "year"
   ]
  },
  {
   "cell_type": "code",
   "execution_count": 34,
   "metadata": {
    "ExecuteTime": {
     "end_time": "2023-08-22T13:23:41.265116Z",
     "start_time": "2023-08-22T13:23:41.257903Z"
    }
   },
   "outputs": [
    {
     "data": {
      "text/plain": [
       "0     Barcelona\n",
       "1     Barcelona\n",
       "2     Barcelona\n",
       "3    RealMadrid\n",
       "4    RealMadrid\n",
       "5    RealMadrid\n",
       "6      Valencia\n",
       "7      Valencia\n",
       "8      Valencia\n",
       "dtype: object"
      ]
     },
     "execution_count": 34,
     "metadata": {},
     "output_type": "execute_result"
    }
   ],
   "source": [
    "team"
   ]
  },
  {
   "cell_type": "code",
   "execution_count": 40,
   "metadata": {
    "ExecuteTime": {
     "end_time": "2023-08-22T13:26:56.748196Z",
     "start_time": "2023-08-22T13:26:56.743338Z"
    }
   },
   "outputs": [
    {
     "data": {
      "text/plain": [
       "(pandas.core.indexes.range.RangeIndex, RangeIndex(start=0, stop=9, step=1))"
      ]
     },
     "execution_count": 40,
     "metadata": {},
     "output_type": "execute_result"
    }
   ],
   "source": [
    "type(wins.index), wins.index"
   ]
  },
  {
   "cell_type": "code",
   "execution_count": 39,
   "metadata": {
    "ExecuteTime": {
     "end_time": "2023-08-22T13:26:48.690492Z",
     "start_time": "2023-08-22T13:26:48.684530Z"
    }
   },
   "outputs": [
    {
     "data": {
      "text/plain": [
       "range"
      ]
     },
     "execution_count": 39,
     "metadata": {},
     "output_type": "execute_result"
    }
   ],
   "source": [
    "type(range(0,9))"
   ]
  },
  {
   "cell_type": "code",
   "execution_count": 36,
   "metadata": {
    "ExecuteTime": {
     "end_time": "2023-08-22T13:26:05.788627Z",
     "start_time": "2023-08-22T13:26:05.781957Z"
    }
   },
   "outputs": [
    {
     "data": {
      "text/plain": [
       "array([30, 28, 32, 29, 32, 26, 21, 17, 19])"
      ]
     },
     "execution_count": 36,
     "metadata": {},
     "output_type": "execute_result"
    }
   ],
   "source": [
    "wins.values"
   ]
  },
  {
   "cell_type": "markdown",
   "metadata": {},
   "source": [
    "To access particular values, we can use the slice operator."
   ]
  },
  {
   "cell_type": "code",
   "execution_count": 41,
   "metadata": {
    "ExecuteTime": {
     "end_time": "2023-08-22T13:27:11.668794Z",
     "start_time": "2023-08-22T13:27:11.661777Z"
    }
   },
   "outputs": [
    {
     "data": {
      "text/plain": [
       "0    30\n",
       "2    32\n",
       "4    32\n",
       "dtype: int64"
      ]
     },
     "execution_count": 41,
     "metadata": {},
     "output_type": "execute_result"
    }
   ],
   "source": [
    "wins[0:6:2]"
   ]
  },
  {
   "cell_type": "markdown",
   "metadata": {},
   "source": [
    "To convert a Series object to an `ndarray`, we use the following method:"
   ]
  },
  {
   "cell_type": "code",
   "execution_count": 45,
   "metadata": {
    "ExecuteTime": {
     "end_time": "2023-08-22T13:28:43.904920Z",
     "start_time": "2023-08-22T13:28:43.899868Z"
    }
   },
   "outputs": [
    {
     "data": {
      "text/plain": [
       "array([30, 28, 32, 29, 32, 26, 21, 17, 19])"
      ]
     },
     "execution_count": 45,
     "metadata": {},
     "output_type": "execute_result"
    }
   ],
   "source": [
    "wins.to_numpy()"
   ]
  },
  {
   "cell_type": "markdown",
   "metadata": {},
   "source": [
    "If we specify an index, we can use it to access values in the Series. With Pandas, using the slice operator with labels is inclusive on both sides!"
   ]
  },
  {
   "cell_type": "code",
   "execution_count": 42,
   "metadata": {
    "ExecuteTime": {
     "end_time": "2023-08-22T13:28:21.639183Z",
     "start_time": "2023-08-22T13:28:21.632601Z"
    }
   },
   "outputs": [
    {
     "data": {
      "text/plain": [
       "a   -1.028087\n",
       "b    0.145177\n",
       "c    0.310982\n",
       "d   -0.804749\n",
       "e   -0.355000\n",
       "dtype: float64"
      ]
     },
     "execution_count": 42,
     "metadata": {},
     "output_type": "execute_result"
    }
   ],
   "source": [
    "s = pd.Series(np.random.randn(5), \n",
    "             index=['a', 'b', 'c', 'd', 'e'])\n",
    "s"
   ]
  },
  {
   "cell_type": "code",
   "execution_count": 44,
   "metadata": {
    "ExecuteTime": {
     "end_time": "2023-08-22T13:28:30.909143Z",
     "start_time": "2023-08-22T13:28:30.905123Z"
    }
   },
   "outputs": [
    {
     "data": {
      "text/plain": [
       "(Index(['a', 'b', 'c', 'd', 'e'], dtype='object'),\n",
       " pandas.core.indexes.base.Index)"
      ]
     },
     "execution_count": 44,
     "metadata": {},
     "output_type": "execute_result"
    }
   ],
   "source": [
    "s.index, type(s.index)"
   ]
  },
  {
   "cell_type": "code",
   "execution_count": 46,
   "metadata": {
    "ExecuteTime": {
     "end_time": "2023-08-22T13:28:59.014386Z",
     "start_time": "2023-08-22T13:28:59.009455Z"
    }
   },
   "outputs": [
    {
     "data": {
      "text/plain": [
       "array([-1.02808736,  0.14517714,  0.31098182, -0.80474946, -0.35499994])"
      ]
     },
     "execution_count": 46,
     "metadata": {},
     "output_type": "execute_result"
    }
   ],
   "source": [
    "s.values"
   ]
  },
  {
   "cell_type": "code",
   "execution_count": 47,
   "metadata": {
    "ExecuteTime": {
     "end_time": "2023-08-22T13:29:00.619979Z",
     "start_time": "2023-08-22T13:29:00.611089Z"
    }
   },
   "outputs": [
    {
     "data": {
      "text/plain": [
       "a   -1.028087\n",
       "c    0.310982\n",
       "dtype: float64"
      ]
     },
     "execution_count": 47,
     "metadata": {},
     "output_type": "execute_result"
    }
   ],
   "source": [
    "s[['a', 'c']] "
   ]
  },
  {
   "cell_type": "markdown",
   "metadata": {},
   "source": [
    "Be careful when you combine the slice operator with label-based indexing. Unlike vanilla Python, Pandas includes **both** end-points!"
   ]
  },
  {
   "cell_type": "code",
   "execution_count": 48,
   "metadata": {
    "ExecuteTime": {
     "end_time": "2023-08-22T13:29:03.480549Z",
     "start_time": "2023-08-22T13:29:03.473611Z"
    }
   },
   "outputs": [
    {
     "data": {
      "text/plain": [
       "a   -1.028087\n",
       "b    0.145177\n",
       "c    0.310982\n",
       "d   -0.804749\n",
       "dtype: float64"
      ]
     },
     "execution_count": 48,
     "metadata": {},
     "output_type": "execute_result"
    }
   ],
   "source": [
    "s['a':'d']  # different from using numbers to slice, using labels including the last label"
   ]
  },
  {
   "cell_type": "markdown",
   "metadata": {},
   "source": [
    "<a id='df'></a>\n",
    "## DataFrames"
   ]
  },
  {
   "cell_type": "markdown",
   "metadata": {},
   "source": [
    "A *DataFrame* is a 2-dimensional labeled data structure with possibly **different** data types. It is the most commonly used Pandas object. The *index* of a DataFrame refers to the row labels (axis 0). The *columns* refer to the column labels (axis 1).\n",
    "\n",
    "DataFrames can be constructed from Series, dictionaries, lists and 2-d arrays. For our course, we will typically create a DataFrame directly from a file.\n",
    "\n",
    "We can create a DataFrame from the earlier series."
   ]
  },
  {
   "cell_type": "code",
   "execution_count": 51,
   "metadata": {
    "ExecuteTime": {
     "end_time": "2023-08-22T13:32:51.387203Z",
     "start_time": "2023-08-22T13:32:51.382587Z"
    }
   },
   "outputs": [],
   "source": [
    "laliga = pd.DataFrame({'Year': year,\n",
    "              'Team': team,\n",
    "              'Wins': wins,\n",
    "              'Draws': draws,\n",
    "              'Losses': losses\n",
    "})"
   ]
  },
  {
   "cell_type": "markdown",
   "metadata": {},
   "source": [
    "To inspect a DataFrame, we can use `info()`, `head()` and `tail()` methods."
   ]
  },
  {
   "cell_type": "code",
   "execution_count": 52,
   "metadata": {
    "ExecuteTime": {
     "end_time": "2023-08-22T13:32:51.916414Z",
     "start_time": "2023-08-22T13:32:51.908026Z"
    }
   },
   "outputs": [
    {
     "name": "stdout",
     "output_type": "stream",
     "text": [
      "<class 'pandas.core.frame.DataFrame'>\n",
      "RangeIndex: 9 entries, 0 to 8\n",
      "Data columns (total 5 columns):\n",
      " #   Column  Non-Null Count  Dtype \n",
      "---  ------  --------------  ----- \n",
      " 0   Year    9 non-null      int64 \n",
      " 1   Team    9 non-null      object\n",
      " 2   Wins    9 non-null      int64 \n",
      " 3   Draws   9 non-null      int64 \n",
      " 4   Losses  9 non-null      int64 \n",
      "dtypes: int64(4), object(1)\n",
      "memory usage: 492.0+ bytes\n"
     ]
    }
   ],
   "source": [
    "laliga.info()"
   ]
  },
  {
   "cell_type": "code",
   "execution_count": 54,
   "metadata": {
    "ExecuteTime": {
     "end_time": "2023-08-22T13:33:32.846722Z",
     "start_time": "2023-08-22T13:33:32.836423Z"
    },
    "scrolled": true
   },
   "outputs": [
    {
     "data": {
      "text/html": [
       "<div>\n",
       "<style scoped>\n",
       "    .dataframe tbody tr th:only-of-type {\n",
       "        vertical-align: middle;\n",
       "    }\n",
       "\n",
       "    .dataframe tbody tr th {\n",
       "        vertical-align: top;\n",
       "    }\n",
       "\n",
       "    .dataframe thead th {\n",
       "        text-align: right;\n",
       "    }\n",
       "</style>\n",
       "<table border=\"1\" class=\"dataframe\">\n",
       "  <thead>\n",
       "    <tr style=\"text-align: right;\">\n",
       "      <th></th>\n",
       "      <th>Year</th>\n",
       "      <th>Team</th>\n",
       "      <th>Wins</th>\n",
       "      <th>Draws</th>\n",
       "      <th>Losses</th>\n",
       "    </tr>\n",
       "  </thead>\n",
       "  <tbody>\n",
       "    <tr>\n",
       "      <th>0</th>\n",
       "      <td>2010</td>\n",
       "      <td>Barcelona</td>\n",
       "      <td>30</td>\n",
       "      <td>6</td>\n",
       "      <td>2</td>\n",
       "    </tr>\n",
       "    <tr>\n",
       "      <th>1</th>\n",
       "      <td>2011</td>\n",
       "      <td>Barcelona</td>\n",
       "      <td>28</td>\n",
       "      <td>7</td>\n",
       "      <td>3</td>\n",
       "    </tr>\n",
       "    <tr>\n",
       "      <th>2</th>\n",
       "      <td>2012</td>\n",
       "      <td>Barcelona</td>\n",
       "      <td>32</td>\n",
       "      <td>4</td>\n",
       "      <td>2</td>\n",
       "    </tr>\n",
       "    <tr>\n",
       "      <th>3</th>\n",
       "      <td>2010</td>\n",
       "      <td>RealMadrid</td>\n",
       "      <td>29</td>\n",
       "      <td>5</td>\n",
       "      <td>4</td>\n",
       "    </tr>\n",
       "    <tr>\n",
       "      <th>4</th>\n",
       "      <td>2011</td>\n",
       "      <td>RealMadrid</td>\n",
       "      <td>32</td>\n",
       "      <td>4</td>\n",
       "      <td>2</td>\n",
       "    </tr>\n",
       "  </tbody>\n",
       "</table>\n",
       "</div>"
      ],
      "text/plain": [
       "   Year        Team  Wins  Draws  Losses\n",
       "0  2010   Barcelona    30      6       2\n",
       "1  2011   Barcelona    28      7       3\n",
       "2  2012   Barcelona    32      4       2\n",
       "3  2010  RealMadrid    29      5       4\n",
       "4  2011  RealMadrid    32      4       2"
      ]
     },
     "execution_count": 54,
     "metadata": {},
     "output_type": "execute_result"
    }
   ],
   "source": [
    "laliga.head()"
   ]
  },
  {
   "cell_type": "markdown",
   "metadata": {},
   "source": [
    "We can also export the DataFrame to disk as plaintext (e.g., JSON, CSV, etc.)."
   ]
  },
  {
   "cell_type": "code",
   "execution_count": 55,
   "metadata": {
    "ExecuteTime": {
     "end_time": "2023-08-22T13:33:33.589468Z",
     "start_time": "2023-08-22T13:33:33.574950Z"
    }
   },
   "outputs": [],
   "source": [
    "laliga.to_json('../data/laliga.json')"
   ]
  },
  {
   "cell_type": "code",
   "execution_count": 58,
   "metadata": {
    "ExecuteTime": {
     "end_time": "2023-08-22T13:35:57.094567Z",
     "start_time": "2023-08-22T13:35:57.083669Z"
    }
   },
   "outputs": [],
   "source": [
    "import json\n",
    "\n",
    "js = pd.read_json(\"../data/laliga.json\")"
   ]
  },
  {
   "cell_type": "code",
   "execution_count": 59,
   "metadata": {
    "ExecuteTime": {
     "end_time": "2023-08-22T13:36:03.938037Z",
     "start_time": "2023-08-22T13:36:03.925065Z"
    }
   },
   "outputs": [
    {
     "data": {
      "text/html": [
       "<div>\n",
       "<style scoped>\n",
       "    .dataframe tbody tr th:only-of-type {\n",
       "        vertical-align: middle;\n",
       "    }\n",
       "\n",
       "    .dataframe tbody tr th {\n",
       "        vertical-align: top;\n",
       "    }\n",
       "\n",
       "    .dataframe thead th {\n",
       "        text-align: right;\n",
       "    }\n",
       "</style>\n",
       "<table border=\"1\" class=\"dataframe\">\n",
       "  <thead>\n",
       "    <tr style=\"text-align: right;\">\n",
       "      <th></th>\n",
       "      <th>Year</th>\n",
       "      <th>Team</th>\n",
       "      <th>Wins</th>\n",
       "      <th>Draws</th>\n",
       "      <th>Losses</th>\n",
       "    </tr>\n",
       "  </thead>\n",
       "  <tbody>\n",
       "    <tr>\n",
       "      <th>0</th>\n",
       "      <td>2010</td>\n",
       "      <td>Barcelona</td>\n",
       "      <td>30</td>\n",
       "      <td>6</td>\n",
       "      <td>2</td>\n",
       "    </tr>\n",
       "    <tr>\n",
       "      <th>1</th>\n",
       "      <td>2011</td>\n",
       "      <td>Barcelona</td>\n",
       "      <td>28</td>\n",
       "      <td>7</td>\n",
       "      <td>3</td>\n",
       "    </tr>\n",
       "    <tr>\n",
       "      <th>2</th>\n",
       "      <td>2012</td>\n",
       "      <td>Barcelona</td>\n",
       "      <td>32</td>\n",
       "      <td>4</td>\n",
       "      <td>2</td>\n",
       "    </tr>\n",
       "    <tr>\n",
       "      <th>3</th>\n",
       "      <td>2010</td>\n",
       "      <td>RealMadrid</td>\n",
       "      <td>29</td>\n",
       "      <td>5</td>\n",
       "      <td>4</td>\n",
       "    </tr>\n",
       "    <tr>\n",
       "      <th>4</th>\n",
       "      <td>2011</td>\n",
       "      <td>RealMadrid</td>\n",
       "      <td>32</td>\n",
       "      <td>4</td>\n",
       "      <td>2</td>\n",
       "    </tr>\n",
       "    <tr>\n",
       "      <th>5</th>\n",
       "      <td>2012</td>\n",
       "      <td>RealMadrid</td>\n",
       "      <td>26</td>\n",
       "      <td>7</td>\n",
       "      <td>5</td>\n",
       "    </tr>\n",
       "    <tr>\n",
       "      <th>6</th>\n",
       "      <td>2010</td>\n",
       "      <td>Valencia</td>\n",
       "      <td>21</td>\n",
       "      <td>8</td>\n",
       "      <td>9</td>\n",
       "    </tr>\n",
       "    <tr>\n",
       "      <th>7</th>\n",
       "      <td>2011</td>\n",
       "      <td>Valencia</td>\n",
       "      <td>17</td>\n",
       "      <td>10</td>\n",
       "      <td>11</td>\n",
       "    </tr>\n",
       "    <tr>\n",
       "      <th>8</th>\n",
       "      <td>2012</td>\n",
       "      <td>Valencia</td>\n",
       "      <td>19</td>\n",
       "      <td>8</td>\n",
       "      <td>11</td>\n",
       "    </tr>\n",
       "  </tbody>\n",
       "</table>\n",
       "</div>"
      ],
      "text/plain": [
       "   Year        Team  Wins  Draws  Losses\n",
       "0  2010   Barcelona    30      6       2\n",
       "1  2011   Barcelona    28      7       3\n",
       "2  2012   Barcelona    32      4       2\n",
       "3  2010  RealMadrid    29      5       4\n",
       "4  2011  RealMadrid    32      4       2\n",
       "5  2012  RealMadrid    26      7       5\n",
       "6  2010    Valencia    21      8       9\n",
       "7  2011    Valencia    17     10      11\n",
       "8  2012    Valencia    19      8      11"
      ]
     },
     "execution_count": 59,
     "metadata": {},
     "output_type": "execute_result"
    }
   ],
   "source": [
    "js"
   ]
  },
  {
   "cell_type": "markdown",
   "metadata": {},
   "source": [
    "### DataFrame from NumPy Arrays"
   ]
  },
  {
   "cell_type": "code",
   "execution_count": null,
   "metadata": {},
   "outputs": [],
   "source": [
    "np.random.seed(5003)\n",
    "x = np.random.randn(12, 5)\n",
    "x_df = pd.DataFrame(x, columns = list('ABCDE')) # list(string) creates a list of its characters."
   ]
  },
  {
   "cell_type": "code",
   "execution_count": null,
   "metadata": {},
   "outputs": [],
   "source": [
    "x_df.head(n = 3)"
   ]
  },
  {
   "cell_type": "code",
   "execution_count": null,
   "metadata": {},
   "outputs": [],
   "source": [
    "# We can convert DataFrames back to ndarrays.\n",
    "x_df.to_numpy() == x"
   ]
  },
  {
   "cell_type": "markdown",
   "metadata": {},
   "source": [
    "### Reading in Data\n",
    "\n",
    "The CSV file read here contains the happiness scores of 164 countries from 2015 to 2017. Click [here](https://worldhappiness.report/ed/2017/) for a full report on the dataset.\n",
    "\n",
    "The final score was based on many other factors (such as GDP per capita, family, freedom etc) which is included in the file as well. We will simplify things by just reading in the country, final score computed and year.\n",
    "\n",
    "In each year, not all of the 164 countries had their scores surveyed and taken. This results in some countries having missing values (`NaN`) in certain years.\n",
    "\n",
    "Besides reading in CSV formats, pandas can read in tab-separated files, Excel files and HDF5 files."
   ]
  },
  {
   "cell_type": "code",
   "execution_count": 33,
   "metadata": {
    "ExecuteTime": {
     "end_time": "2023-08-29T11:33:33.117084Z",
     "start_time": "2023-08-29T11:33:33.097802Z"
    }
   },
   "outputs": [
    {
     "data": {
      "text/html": [
       "<div>\n",
       "<style scoped>\n",
       "    .dataframe tbody tr th:only-of-type {\n",
       "        vertical-align: middle;\n",
       "    }\n",
       "\n",
       "    .dataframe tbody tr th {\n",
       "        vertical-align: top;\n",
       "    }\n",
       "\n",
       "    .dataframe thead th {\n",
       "        text-align: right;\n",
       "    }\n",
       "</style>\n",
       "<table border=\"1\" class=\"dataframe\">\n",
       "  <thead>\n",
       "    <tr style=\"text-align: right;\">\n",
       "      <th></th>\n",
       "      <th>Country</th>\n",
       "      <th>Happiness.Rank</th>\n",
       "      <th>Happiness.Score</th>\n",
       "      <th>GDP</th>\n",
       "      <th>Family</th>\n",
       "      <th>Life.Expectancy</th>\n",
       "      <th>Freedom</th>\n",
       "      <th>Govt.Corruption</th>\n",
       "      <th>Generosity</th>\n",
       "      <th>Dystopia.Residual</th>\n",
       "      <th>Year</th>\n",
       "    </tr>\n",
       "  </thead>\n",
       "  <tbody>\n",
       "    <tr>\n",
       "      <th>0</th>\n",
       "      <td>Switzerland</td>\n",
       "      <td>1.0</td>\n",
       "      <td>7.587</td>\n",
       "      <td>1.39651</td>\n",
       "      <td>1.34951</td>\n",
       "      <td>0.94143</td>\n",
       "      <td>0.66557</td>\n",
       "      <td>0.41978</td>\n",
       "      <td>0.29678</td>\n",
       "      <td>2.51738</td>\n",
       "      <td>2015</td>\n",
       "    </tr>\n",
       "    <tr>\n",
       "      <th>1</th>\n",
       "      <td>Iceland</td>\n",
       "      <td>2.0</td>\n",
       "      <td>7.561</td>\n",
       "      <td>1.30232</td>\n",
       "      <td>1.40223</td>\n",
       "      <td>0.94784</td>\n",
       "      <td>0.62877</td>\n",
       "      <td>0.14145</td>\n",
       "      <td>0.43630</td>\n",
       "      <td>2.70201</td>\n",
       "      <td>2015</td>\n",
       "    </tr>\n",
       "    <tr>\n",
       "      <th>2</th>\n",
       "      <td>Denmark</td>\n",
       "      <td>3.0</td>\n",
       "      <td>7.527</td>\n",
       "      <td>1.32548</td>\n",
       "      <td>1.36058</td>\n",
       "      <td>0.87464</td>\n",
       "      <td>0.64938</td>\n",
       "      <td>0.48357</td>\n",
       "      <td>0.34139</td>\n",
       "      <td>2.49204</td>\n",
       "      <td>2015</td>\n",
       "    </tr>\n",
       "    <tr>\n",
       "      <th>3</th>\n",
       "      <td>Norway</td>\n",
       "      <td>4.0</td>\n",
       "      <td>7.522</td>\n",
       "      <td>1.45900</td>\n",
       "      <td>1.33095</td>\n",
       "      <td>0.88521</td>\n",
       "      <td>0.66973</td>\n",
       "      <td>0.36503</td>\n",
       "      <td>0.34699</td>\n",
       "      <td>2.46531</td>\n",
       "      <td>2015</td>\n",
       "    </tr>\n",
       "    <tr>\n",
       "      <th>4</th>\n",
       "      <td>Canada</td>\n",
       "      <td>5.0</td>\n",
       "      <td>7.427</td>\n",
       "      <td>1.32629</td>\n",
       "      <td>1.32261</td>\n",
       "      <td>0.90563</td>\n",
       "      <td>0.63297</td>\n",
       "      <td>0.32957</td>\n",
       "      <td>0.45811</td>\n",
       "      <td>2.45176</td>\n",
       "      <td>2015</td>\n",
       "    </tr>\n",
       "  </tbody>\n",
       "</table>\n",
       "</div>"
      ],
      "text/plain": [
       "       Country  Happiness.Rank  Happiness.Score      GDP   Family  \\\n",
       "0  Switzerland             1.0            7.587  1.39651  1.34951   \n",
       "1      Iceland             2.0            7.561  1.30232  1.40223   \n",
       "2      Denmark             3.0            7.527  1.32548  1.36058   \n",
       "3       Norway             4.0            7.522  1.45900  1.33095   \n",
       "4       Canada             5.0            7.427  1.32629  1.32261   \n",
       "\n",
       "   Life.Expectancy  Freedom  Govt.Corruption  Generosity  Dystopia.Residual  \\\n",
       "0          0.94143  0.66557          0.41978     0.29678            2.51738   \n",
       "1          0.94784  0.62877          0.14145     0.43630            2.70201   \n",
       "2          0.87464  0.64938          0.48357     0.34139            2.49204   \n",
       "3          0.88521  0.66973          0.36503     0.34699            2.46531   \n",
       "4          0.90563  0.63297          0.32957     0.45811            2.45176   \n",
       "\n",
       "   Year  \n",
       "0  2015  \n",
       "1  2015  \n",
       "2  2015  \n",
       "3  2015  \n",
       "4  2015  "
      ]
     },
     "execution_count": 33,
     "metadata": {},
     "output_type": "execute_result"
    }
   ],
   "source": [
    "happ = pd.read_csv('../data/happiness_report.csv', header = 0, na_values = 'NA')\n",
    "\n",
    "happ.head()\n",
    "#happ.tail()\n",
    "#happ.info()"
   ]
  },
  {
   "cell_type": "code",
   "execution_count": 92,
   "metadata": {
    "ExecuteTime": {
     "end_time": "2023-08-22T13:43:25.752127Z",
     "start_time": "2023-08-22T13:43:25.740592Z"
    }
   },
   "outputs": [
    {
     "name": "stdout",
     "output_type": "stream",
     "text": [
      "<class 'pandas.core.frame.DataFrame'>\n",
      "RangeIndex: 492 entries, 0 to 491\n",
      "Data columns (total 11 columns):\n",
      " #   Column             Non-Null Count  Dtype  \n",
      "---  ------             --------------  -----  \n",
      " 0   Country            492 non-null    object \n",
      " 1   Happiness.Rank     471 non-null    float64\n",
      " 2   Happiness.Score    471 non-null    float64\n",
      " 3   GDP                471 non-null    float64\n",
      " 4   Family             471 non-null    float64\n",
      " 5   Life.Expectancy    471 non-null    float64\n",
      " 6   Freedom            471 non-null    float64\n",
      " 7   Govt.Corruption    471 non-null    float64\n",
      " 8   Generosity         471 non-null    float64\n",
      " 9   Dystopia.Residual  471 non-null    float64\n",
      " 10  Year               492 non-null    int64  \n",
      "dtypes: float64(9), int64(1), object(1)\n",
      "memory usage: 42.4+ KB\n"
     ]
    }
   ],
   "source": [
    "happ.info()"
   ]
  },
  {
   "cell_type": "code",
   "execution_count": 93,
   "metadata": {
    "ExecuteTime": {
     "end_time": "2023-08-22T13:43:27.055968Z",
     "start_time": "2023-08-22T13:43:27.041930Z"
    }
   },
   "outputs": [
    {
     "data": {
      "text/html": [
       "<div>\n",
       "<style scoped>\n",
       "    .dataframe tbody tr th:only-of-type {\n",
       "        vertical-align: middle;\n",
       "    }\n",
       "\n",
       "    .dataframe tbody tr th {\n",
       "        vertical-align: top;\n",
       "    }\n",
       "\n",
       "    .dataframe thead th {\n",
       "        text-align: right;\n",
       "    }\n",
       "</style>\n",
       "<table border=\"1\" class=\"dataframe\">\n",
       "  <thead>\n",
       "    <tr style=\"text-align: right;\">\n",
       "      <th></th>\n",
       "      <th>Country</th>\n",
       "      <th>Happiness.Rank</th>\n",
       "      <th>Happiness.Score</th>\n",
       "      <th>GDP</th>\n",
       "      <th>Family</th>\n",
       "      <th>Life.Expectancy</th>\n",
       "      <th>Freedom</th>\n",
       "      <th>Govt.Corruption</th>\n",
       "      <th>Generosity</th>\n",
       "      <th>Dystopia.Residual</th>\n",
       "      <th>Year</th>\n",
       "    </tr>\n",
       "  </thead>\n",
       "  <tbody>\n",
       "    <tr>\n",
       "      <th>487</th>\n",
       "      <td>Somaliland region</td>\n",
       "      <td>NaN</td>\n",
       "      <td>NaN</td>\n",
       "      <td>NaN</td>\n",
       "      <td>NaN</td>\n",
       "      <td>NaN</td>\n",
       "      <td>NaN</td>\n",
       "      <td>NaN</td>\n",
       "      <td>NaN</td>\n",
       "      <td>NaN</td>\n",
       "      <td>2017</td>\n",
       "    </tr>\n",
       "    <tr>\n",
       "      <th>488</th>\n",
       "      <td>Laos</td>\n",
       "      <td>NaN</td>\n",
       "      <td>NaN</td>\n",
       "      <td>NaN</td>\n",
       "      <td>NaN</td>\n",
       "      <td>NaN</td>\n",
       "      <td>NaN</td>\n",
       "      <td>NaN</td>\n",
       "      <td>NaN</td>\n",
       "      <td>NaN</td>\n",
       "      <td>2017</td>\n",
       "    </tr>\n",
       "    <tr>\n",
       "      <th>489</th>\n",
       "      <td>Swaziland</td>\n",
       "      <td>NaN</td>\n",
       "      <td>NaN</td>\n",
       "      <td>NaN</td>\n",
       "      <td>NaN</td>\n",
       "      <td>NaN</td>\n",
       "      <td>NaN</td>\n",
       "      <td>NaN</td>\n",
       "      <td>NaN</td>\n",
       "      <td>NaN</td>\n",
       "      <td>2017</td>\n",
       "    </tr>\n",
       "    <tr>\n",
       "      <th>490</th>\n",
       "      <td>Djibouti</td>\n",
       "      <td>NaN</td>\n",
       "      <td>NaN</td>\n",
       "      <td>NaN</td>\n",
       "      <td>NaN</td>\n",
       "      <td>NaN</td>\n",
       "      <td>NaN</td>\n",
       "      <td>NaN</td>\n",
       "      <td>NaN</td>\n",
       "      <td>NaN</td>\n",
       "      <td>2017</td>\n",
       "    </tr>\n",
       "    <tr>\n",
       "      <th>491</th>\n",
       "      <td>Comoros</td>\n",
       "      <td>NaN</td>\n",
       "      <td>NaN</td>\n",
       "      <td>NaN</td>\n",
       "      <td>NaN</td>\n",
       "      <td>NaN</td>\n",
       "      <td>NaN</td>\n",
       "      <td>NaN</td>\n",
       "      <td>NaN</td>\n",
       "      <td>NaN</td>\n",
       "      <td>2017</td>\n",
       "    </tr>\n",
       "  </tbody>\n",
       "</table>\n",
       "</div>"
      ],
      "text/plain": [
       "               Country  Happiness.Rank  Happiness.Score  GDP  Family  \\\n",
       "487  Somaliland region             NaN              NaN  NaN     NaN   \n",
       "488               Laos             NaN              NaN  NaN     NaN   \n",
       "489          Swaziland             NaN              NaN  NaN     NaN   \n",
       "490           Djibouti             NaN              NaN  NaN     NaN   \n",
       "491            Comoros             NaN              NaN  NaN     NaN   \n",
       "\n",
       "     Life.Expectancy  Freedom  Govt.Corruption  Generosity  Dystopia.Residual  \\\n",
       "487              NaN      NaN              NaN         NaN                NaN   \n",
       "488              NaN      NaN              NaN         NaN                NaN   \n",
       "489              NaN      NaN              NaN         NaN                NaN   \n",
       "490              NaN      NaN              NaN         NaN                NaN   \n",
       "491              NaN      NaN              NaN         NaN                NaN   \n",
       "\n",
       "     Year  \n",
       "487  2017  \n",
       "488  2017  \n",
       "489  2017  \n",
       "490  2017  \n",
       "491  2017  "
      ]
     },
     "execution_count": 93,
     "metadata": {},
     "output_type": "execute_result"
    }
   ],
   "source": [
    "happ.tail()"
   ]
  },
  {
   "cell_type": "code",
   "execution_count": 94,
   "metadata": {
    "ExecuteTime": {
     "end_time": "2023-08-22T13:43:29.663297Z",
     "start_time": "2023-08-22T13:43:29.658371Z"
    },
    "scrolled": true
   },
   "outputs": [
    {
     "data": {
      "text/plain": [
       "(Index(['Country', 'Happiness.Rank', 'Happiness.Score', 'GDP', 'Family',\n",
       "        'Life.Expectancy', 'Freedom', 'Govt.Corruption', 'Generosity',\n",
       "        'Dystopia.Residual', 'Year'],\n",
       "       dtype='object'),\n",
       " pandas.core.indexes.base.Index)"
      ]
     },
     "execution_count": 94,
     "metadata": {},
     "output_type": "execute_result"
    }
   ],
   "source": [
    "happ.columns, type(happ.columns)"
   ]
  },
  {
   "cell_type": "code",
   "execution_count": 71,
   "metadata": {
    "ExecuteTime": {
     "end_time": "2023-08-22T13:38:34.073318Z",
     "start_time": "2023-08-22T13:38:34.069616Z"
    }
   },
   "outputs": [
    {
     "data": {
      "text/plain": [
       "(492, 11)"
      ]
     },
     "execution_count": 71,
     "metadata": {},
     "output_type": "execute_result"
    }
   ],
   "source": [
    "happ.shape"
   ]
  },
  {
   "cell_type": "code",
   "execution_count": 72,
   "metadata": {
    "ExecuteTime": {
     "end_time": "2023-08-22T13:38:35.615358Z",
     "start_time": "2023-08-22T13:38:35.591054Z"
    },
    "scrolled": true
   },
   "outputs": [
    {
     "data": {
      "text/html": [
       "<div>\n",
       "<style scoped>\n",
       "    .dataframe tbody tr th:only-of-type {\n",
       "        vertical-align: middle;\n",
       "    }\n",
       "\n",
       "    .dataframe tbody tr th {\n",
       "        vertical-align: top;\n",
       "    }\n",
       "\n",
       "    .dataframe thead th {\n",
       "        text-align: right;\n",
       "    }\n",
       "</style>\n",
       "<table border=\"1\" class=\"dataframe\">\n",
       "  <thead>\n",
       "    <tr style=\"text-align: right;\">\n",
       "      <th></th>\n",
       "      <th>Happiness.Rank</th>\n",
       "      <th>Happiness.Score</th>\n",
       "      <th>GDP</th>\n",
       "      <th>Family</th>\n",
       "      <th>Life.Expectancy</th>\n",
       "      <th>Freedom</th>\n",
       "      <th>Govt.Corruption</th>\n",
       "      <th>Generosity</th>\n",
       "      <th>Dystopia.Residual</th>\n",
       "      <th>Year</th>\n",
       "    </tr>\n",
       "  </thead>\n",
       "  <tbody>\n",
       "    <tr>\n",
       "      <th>count</th>\n",
       "      <td>471.000000</td>\n",
       "      <td>471.000000</td>\n",
       "      <td>471.000000</td>\n",
       "      <td>471.000000</td>\n",
       "      <td>471.000000</td>\n",
       "      <td>471.000000</td>\n",
       "      <td>471.000000</td>\n",
       "      <td>471.000000</td>\n",
       "      <td>471.000000</td>\n",
       "      <td>492.000000</td>\n",
       "    </tr>\n",
       "    <tr>\n",
       "      <th>mean</th>\n",
       "      <td>79.002123</td>\n",
       "      <td>5.368588</td>\n",
       "      <td>0.891742</td>\n",
       "      <td>1.056156</td>\n",
       "      <td>0.604288</td>\n",
       "      <td>0.422089</td>\n",
       "      <td>0.136741</td>\n",
       "      <td>0.240451</td>\n",
       "      <td>2.017120</td>\n",
       "      <td>2016.000000</td>\n",
       "    </tr>\n",
       "    <tr>\n",
       "      <th>std</th>\n",
       "      <td>45.379933</td>\n",
       "      <td>1.138111</td>\n",
       "      <td>0.413322</td>\n",
       "      <td>0.291996</td>\n",
       "      <td>0.246127</td>\n",
       "      <td>0.150433</td>\n",
       "      <td>0.114470</td>\n",
       "      <td>0.129208</td>\n",
       "      <td>0.548021</td>\n",
       "      <td>0.817328</td>\n",
       "    </tr>\n",
       "    <tr>\n",
       "      <th>min</th>\n",
       "      <td>1.000000</td>\n",
       "      <td>2.693000</td>\n",
       "      <td>0.000000</td>\n",
       "      <td>0.000000</td>\n",
       "      <td>0.000000</td>\n",
       "      <td>0.000000</td>\n",
       "      <td>0.000000</td>\n",
       "      <td>0.000000</td>\n",
       "      <td>0.328580</td>\n",
       "      <td>2015.000000</td>\n",
       "    </tr>\n",
       "    <tr>\n",
       "      <th>25%</th>\n",
       "      <td>40.000000</td>\n",
       "      <td>4.517500</td>\n",
       "      <td>0.593250</td>\n",
       "      <td>0.904550</td>\n",
       "      <td>0.431752</td>\n",
       "      <td>0.319140</td>\n",
       "      <td>0.059815</td>\n",
       "      <td>0.152412</td>\n",
       "      <td>1.684842</td>\n",
       "      <td>2015.000000</td>\n",
       "    </tr>\n",
       "    <tr>\n",
       "      <th>50%</th>\n",
       "      <td>79.000000</td>\n",
       "      <td>5.268000</td>\n",
       "      <td>0.958470</td>\n",
       "      <td>1.095620</td>\n",
       "      <td>0.650880</td>\n",
       "      <td>0.436260</td>\n",
       "      <td>0.099872</td>\n",
       "      <td>0.219000</td>\n",
       "      <td>1.978736</td>\n",
       "      <td>2016.000000</td>\n",
       "    </tr>\n",
       "    <tr>\n",
       "      <th>75%</th>\n",
       "      <td>118.000000</td>\n",
       "      <td>6.168000</td>\n",
       "      <td>1.211830</td>\n",
       "      <td>1.265725</td>\n",
       "      <td>0.790819</td>\n",
       "      <td>0.542100</td>\n",
       "      <td>0.174220</td>\n",
       "      <td>0.318440</td>\n",
       "      <td>2.368290</td>\n",
       "      <td>2017.000000</td>\n",
       "    </tr>\n",
       "    <tr>\n",
       "      <th>max</th>\n",
       "      <td>158.000000</td>\n",
       "      <td>7.587000</td>\n",
       "      <td>1.870766</td>\n",
       "      <td>1.610574</td>\n",
       "      <td>1.025250</td>\n",
       "      <td>0.669730</td>\n",
       "      <td>0.551910</td>\n",
       "      <td>0.838075</td>\n",
       "      <td>3.602140</td>\n",
       "      <td>2017.000000</td>\n",
       "    </tr>\n",
       "  </tbody>\n",
       "</table>\n",
       "</div>"
      ],
      "text/plain": [
       "       Happiness.Rank  Happiness.Score         GDP      Family  \\\n",
       "count      471.000000       471.000000  471.000000  471.000000   \n",
       "mean        79.002123         5.368588    0.891742    1.056156   \n",
       "std         45.379933         1.138111    0.413322    0.291996   \n",
       "min          1.000000         2.693000    0.000000    0.000000   \n",
       "25%         40.000000         4.517500    0.593250    0.904550   \n",
       "50%         79.000000         5.268000    0.958470    1.095620   \n",
       "75%        118.000000         6.168000    1.211830    1.265725   \n",
       "max        158.000000         7.587000    1.870766    1.610574   \n",
       "\n",
       "       Life.Expectancy     Freedom  Govt.Corruption  Generosity  \\\n",
       "count       471.000000  471.000000       471.000000  471.000000   \n",
       "mean          0.604288    0.422089         0.136741    0.240451   \n",
       "std           0.246127    0.150433         0.114470    0.129208   \n",
       "min           0.000000    0.000000         0.000000    0.000000   \n",
       "25%           0.431752    0.319140         0.059815    0.152412   \n",
       "50%           0.650880    0.436260         0.099872    0.219000   \n",
       "75%           0.790819    0.542100         0.174220    0.318440   \n",
       "max           1.025250    0.669730         0.551910    0.838075   \n",
       "\n",
       "       Dystopia.Residual         Year  \n",
       "count         471.000000   492.000000  \n",
       "mean            2.017120  2016.000000  \n",
       "std             0.548021     0.817328  \n",
       "min             0.328580  2015.000000  \n",
       "25%             1.684842  2015.000000  \n",
       "50%             1.978736  2016.000000  \n",
       "75%             2.368290  2017.000000  \n",
       "max             3.602140  2017.000000  "
      ]
     },
     "execution_count": 72,
     "metadata": {},
     "output_type": "execute_result"
    }
   ],
   "source": [
    "happ.describe()"
   ]
  },
  {
   "cell_type": "code",
   "execution_count": 80,
   "metadata": {
    "ExecuteTime": {
     "end_time": "2023-08-22T13:40:27.855061Z",
     "start_time": "2023-08-22T13:40:27.844857Z"
    }
   },
   "outputs": [
    {
     "data": {
      "text/html": [
       "<div>\n",
       "<style scoped>\n",
       "    .dataframe tbody tr th:only-of-type {\n",
       "        vertical-align: middle;\n",
       "    }\n",
       "\n",
       "    .dataframe tbody tr th {\n",
       "        vertical-align: top;\n",
       "    }\n",
       "\n",
       "    .dataframe thead th {\n",
       "        text-align: right;\n",
       "    }\n",
       "</style>\n",
       "<table border=\"1\" class=\"dataframe\">\n",
       "  <thead>\n",
       "    <tr style=\"text-align: right;\">\n",
       "      <th></th>\n",
       "      <th>Country</th>\n",
       "      <th>Happiness.Rank</th>\n",
       "      <th>Happiness.Score</th>\n",
       "      <th>GDP</th>\n",
       "      <th>Family</th>\n",
       "      <th>Life.Expectancy</th>\n",
       "      <th>Freedom</th>\n",
       "      <th>Govt.Corruption</th>\n",
       "      <th>Generosity</th>\n",
       "      <th>Dystopia.Residual</th>\n",
       "      <th>Year</th>\n",
       "    </tr>\n",
       "  </thead>\n",
       "  <tbody>\n",
       "    <tr>\n",
       "      <th>23</th>\n",
       "      <td>Singapore</td>\n",
       "      <td>24.0</td>\n",
       "      <td>6.798</td>\n",
       "      <td>1.521860</td>\n",
       "      <td>1.020000</td>\n",
       "      <td>1.025250</td>\n",
       "      <td>0.542520</td>\n",
       "      <td>0.492100</td>\n",
       "      <td>0.311050</td>\n",
       "      <td>1.885010</td>\n",
       "      <td>2015</td>\n",
       "    </tr>\n",
       "    <tr>\n",
       "      <th>187</th>\n",
       "      <td>Singapore</td>\n",
       "      <td>24.0</td>\n",
       "      <td>6.798</td>\n",
       "      <td>1.521860</td>\n",
       "      <td>1.020000</td>\n",
       "      <td>1.025250</td>\n",
       "      <td>0.542520</td>\n",
       "      <td>0.492100</td>\n",
       "      <td>0.311050</td>\n",
       "      <td>1.885010</td>\n",
       "      <td>2016</td>\n",
       "    </tr>\n",
       "    <tr>\n",
       "      <th>353</th>\n",
       "      <td>Singapore</td>\n",
       "      <td>26.0</td>\n",
       "      <td>6.572</td>\n",
       "      <td>1.692278</td>\n",
       "      <td>1.353814</td>\n",
       "      <td>0.949492</td>\n",
       "      <td>0.549841</td>\n",
       "      <td>0.464308</td>\n",
       "      <td>0.345966</td>\n",
       "      <td>1.216362</td>\n",
       "      <td>2017</td>\n",
       "    </tr>\n",
       "  </tbody>\n",
       "</table>\n",
       "</div>"
      ],
      "text/plain": [
       "       Country  Happiness.Rank  Happiness.Score       GDP    Family  \\\n",
       "23   Singapore            24.0            6.798  1.521860  1.020000   \n",
       "187  Singapore            24.0            6.798  1.521860  1.020000   \n",
       "353  Singapore            26.0            6.572  1.692278  1.353814   \n",
       "\n",
       "     Life.Expectancy   Freedom  Govt.Corruption  Generosity  \\\n",
       "23          1.025250  0.542520         0.492100    0.311050   \n",
       "187         1.025250  0.542520         0.492100    0.311050   \n",
       "353         0.949492  0.549841         0.464308    0.345966   \n",
       "\n",
       "     Dystopia.Residual  Year  \n",
       "23            1.885010  2015  \n",
       "187           1.885010  2016  \n",
       "353           1.216362  2017  "
      ]
     },
     "execution_count": 80,
     "metadata": {},
     "output_type": "execute_result"
    }
   ],
   "source": [
    "happ[happ['Country'] == 'Singapore']"
   ]
  },
  {
   "cell_type": "code",
   "execution_count": 88,
   "metadata": {
    "ExecuteTime": {
     "end_time": "2023-08-22T13:42:55.049142Z",
     "start_time": "2023-08-22T13:42:55.040470Z"
    }
   },
   "outputs": [
    {
     "data": {
      "text/plain": [
       "[0      True\n",
       " 1      True\n",
       " 2      True\n",
       " 3      True\n",
       " 4      True\n",
       "        ... \n",
       " 487    True\n",
       " 488    True\n",
       " 489    True\n",
       " 490    True\n",
       " 491    True\n",
       " Name: Govt.Corruption, Length: 492, dtype: bool]"
      ]
     },
     "execution_count": 88,
     "metadata": {},
     "output_type": "execute_result"
    }
   ],
   "source": [
    "[happ['Govt.Corruption'] != np.nan]"
   ]
  },
  {
   "cell_type": "code",
   "execution_count": 81,
   "metadata": {
    "ExecuteTime": {
     "end_time": "2023-08-22T13:40:35.049235Z",
     "start_time": "2023-08-22T13:40:34.938573Z"
    },
    "scrolled": false
   },
   "outputs": [
    {
     "data": {
      "image/png": "[encoded data removed]",
      "text/plain": [
       "<Figure size 640x480 with 1 Axes>"
      ]
     },
     "metadata": {},
     "output_type": "display_data"
    }
   ],
   "source": [
    "happ['Govt.Corruption'].plot(kind = \"hist\");"
   ]
  },
  {
   "cell_type": "markdown",
   "metadata": {},
   "source": [
    "### Basic Selection\n",
    "\n",
    "Row selection can be done with integers in the slice operator. In practice, this is not used, because we typically wish to select a set of rows based on a condition."
   ]
  },
  {
   "cell_type": "code",
   "execution_count": 95,
   "metadata": {
    "ExecuteTime": {
     "end_time": "2023-08-22T13:43:32.527937Z",
     "start_time": "2023-08-22T13:43:32.522967Z"
    }
   },
   "outputs": [
    {
     "data": {
      "text/plain": [
       "RangeIndex(start=0, stop=492, step=1)"
      ]
     },
     "execution_count": 95,
     "metadata": {},
     "output_type": "execute_result"
    }
   ],
   "source": [
    "happ.index"
   ]
  },
  {
   "cell_type": "code",
   "execution_count": 96,
   "metadata": {
    "ExecuteTime": {
     "end_time": "2023-08-22T13:43:42.308716Z",
     "start_time": "2023-08-22T13:43:42.293216Z"
    },
    "scrolled": true
   },
   "outputs": [
    {
     "data": {
      "text/html": [
       "<div>\n",
       "<style scoped>\n",
       "    .dataframe tbody tr th:only-of-type {\n",
       "        vertical-align: middle;\n",
       "    }\n",
       "\n",
       "    .dataframe tbody tr th {\n",
       "        vertical-align: top;\n",
       "    }\n",
       "\n",
       "    .dataframe thead th {\n",
       "        text-align: right;\n",
       "    }\n",
       "</style>\n",
       "<table border=\"1\" class=\"dataframe\">\n",
       "  <thead>\n",
       "    <tr style=\"text-align: right;\">\n",
       "      <th></th>\n",
       "      <th>Country</th>\n",
       "      <th>Happiness.Rank</th>\n",
       "      <th>Happiness.Score</th>\n",
       "      <th>GDP</th>\n",
       "      <th>Family</th>\n",
       "      <th>Life.Expectancy</th>\n",
       "      <th>Freedom</th>\n",
       "      <th>Govt.Corruption</th>\n",
       "      <th>Generosity</th>\n",
       "      <th>Dystopia.Residual</th>\n",
       "      <th>Year</th>\n",
       "    </tr>\n",
       "  </thead>\n",
       "  <tbody>\n",
       "    <tr>\n",
       "      <th>10</th>\n",
       "      <td>Israel</td>\n",
       "      <td>11.0</td>\n",
       "      <td>7.278</td>\n",
       "      <td>1.22857</td>\n",
       "      <td>1.22393</td>\n",
       "      <td>0.91387</td>\n",
       "      <td>0.41319</td>\n",
       "      <td>0.07785</td>\n",
       "      <td>0.33172</td>\n",
       "      <td>3.08854</td>\n",
       "      <td>2015</td>\n",
       "    </tr>\n",
       "    <tr>\n",
       "      <th>11</th>\n",
       "      <td>Costa Rica</td>\n",
       "      <td>12.0</td>\n",
       "      <td>7.226</td>\n",
       "      <td>0.95578</td>\n",
       "      <td>1.23788</td>\n",
       "      <td>0.86027</td>\n",
       "      <td>0.63376</td>\n",
       "      <td>0.10583</td>\n",
       "      <td>0.25497</td>\n",
       "      <td>3.17728</td>\n",
       "      <td>2015</td>\n",
       "    </tr>\n",
       "  </tbody>\n",
       "</table>\n",
       "</div>"
      ],
      "text/plain": [
       "       Country  Happiness.Rank  Happiness.Score      GDP   Family  \\\n",
       "10      Israel            11.0            7.278  1.22857  1.22393   \n",
       "11  Costa Rica            12.0            7.226  0.95578  1.23788   \n",
       "\n",
       "    Life.Expectancy  Freedom  Govt.Corruption  Generosity  Dystopia.Residual  \\\n",
       "10          0.91387  0.41319          0.07785     0.33172            3.08854   \n",
       "11          0.86027  0.63376          0.10583     0.25497            3.17728   \n",
       "\n",
       "    Year  \n",
       "10  2015  \n",
       "11  2015  "
      ]
     },
     "execution_count": 96,
     "metadata": {},
     "output_type": "execute_result"
    }
   ],
   "source": [
    "happ[10:12]"
   ]
  },
  {
   "cell_type": "markdown",
   "metadata": {},
   "source": [
    "To select columns, you may use a list of column names."
   ]
  },
  {
   "cell_type": "code",
   "execution_count": 98,
   "metadata": {
    "ExecuteTime": {
     "end_time": "2023-08-22T13:43:58.682161Z",
     "start_time": "2023-08-22T13:43:58.669671Z"
    }
   },
   "outputs": [
    {
     "data": {
      "text/html": [
       "<div>\n",
       "<style scoped>\n",
       "    .dataframe tbody tr th:only-of-type {\n",
       "        vertical-align: middle;\n",
       "    }\n",
       "\n",
       "    .dataframe tbody tr th {\n",
       "        vertical-align: top;\n",
       "    }\n",
       "\n",
       "    .dataframe thead th {\n",
       "        text-align: right;\n",
       "    }\n",
       "</style>\n",
       "<table border=\"1\" class=\"dataframe\">\n",
       "  <thead>\n",
       "    <tr style=\"text-align: right;\">\n",
       "      <th></th>\n",
       "      <th>GDP</th>\n",
       "      <th>Freedom</th>\n",
       "    </tr>\n",
       "  </thead>\n",
       "  <tbody>\n",
       "    <tr>\n",
       "      <th>0</th>\n",
       "      <td>1.39651</td>\n",
       "      <td>0.66557</td>\n",
       "    </tr>\n",
       "    <tr>\n",
       "      <th>1</th>\n",
       "      <td>1.30232</td>\n",
       "      <td>0.62877</td>\n",
       "    </tr>\n",
       "    <tr>\n",
       "      <th>2</th>\n",
       "      <td>1.32548</td>\n",
       "      <td>0.64938</td>\n",
       "    </tr>\n",
       "    <tr>\n",
       "      <th>3</th>\n",
       "      <td>1.45900</td>\n",
       "      <td>0.66973</td>\n",
       "    </tr>\n",
       "    <tr>\n",
       "      <th>4</th>\n",
       "      <td>1.32629</td>\n",
       "      <td>0.63297</td>\n",
       "    </tr>\n",
       "    <tr>\n",
       "      <th>...</th>\n",
       "      <td>...</td>\n",
       "      <td>...</td>\n",
       "    </tr>\n",
       "    <tr>\n",
       "      <th>487</th>\n",
       "      <td>NaN</td>\n",
       "      <td>NaN</td>\n",
       "    </tr>\n",
       "    <tr>\n",
       "      <th>488</th>\n",
       "      <td>NaN</td>\n",
       "      <td>NaN</td>\n",
       "    </tr>\n",
       "    <tr>\n",
       "      <th>489</th>\n",
       "      <td>NaN</td>\n",
       "      <td>NaN</td>\n",
       "    </tr>\n",
       "    <tr>\n",
       "      <th>490</th>\n",
       "      <td>NaN</td>\n",
       "      <td>NaN</td>\n",
       "    </tr>\n",
       "    <tr>\n",
       "      <th>491</th>\n",
       "      <td>NaN</td>\n",
       "      <td>NaN</td>\n",
       "    </tr>\n",
       "  </tbody>\n",
       "</table>\n",
       "<p>492 rows × 2 columns</p>\n",
       "</div>"
      ],
      "text/plain": [
       "         GDP  Freedom\n",
       "0    1.39651  0.66557\n",
       "1    1.30232  0.62877\n",
       "2    1.32548  0.64938\n",
       "3    1.45900  0.66973\n",
       "4    1.32629  0.63297\n",
       "..       ...      ...\n",
       "487      NaN      NaN\n",
       "488      NaN      NaN\n",
       "489      NaN      NaN\n",
       "490      NaN      NaN\n",
       "491      NaN      NaN\n",
       "\n",
       "[492 rows x 2 columns]"
      ]
     },
     "execution_count": 98,
     "metadata": {},
     "output_type": "execute_result"
    }
   ],
   "source": [
    "happ[['GDP', 'Freedom']] # note the difference with happ['GDP']\n",
    "# happ.GDP.head()"
   ]
  },
  {
   "cell_type": "markdown",
   "metadata": {},
   "source": [
    "Remember that we are not working with numpy arrays, so this will not work:"
   ]
  },
  {
   "cell_type": "code",
   "execution_count": 100,
   "metadata": {
    "ExecuteTime": {
     "end_time": "2023-08-22T13:44:08.675066Z",
     "start_time": "2023-08-22T13:44:08.665660Z"
    }
   },
   "outputs": [
    {
     "data": {
      "text/html": [
       "<div>\n",
       "<style scoped>\n",
       "    .dataframe tbody tr th:only-of-type {\n",
       "        vertical-align: middle;\n",
       "    }\n",
       "\n",
       "    .dataframe tbody tr th {\n",
       "        vertical-align: top;\n",
       "    }\n",
       "\n",
       "    .dataframe thead th {\n",
       "        text-align: right;\n",
       "    }\n",
       "</style>\n",
       "<table border=\"1\" class=\"dataframe\">\n",
       "  <thead>\n",
       "    <tr style=\"text-align: right;\">\n",
       "      <th></th>\n",
       "      <th>Happiness.Score</th>\n",
       "      <th>GDP</th>\n",
       "    </tr>\n",
       "  </thead>\n",
       "  <tbody>\n",
       "    <tr>\n",
       "      <th>0</th>\n",
       "      <td>7.587</td>\n",
       "      <td>1.39651</td>\n",
       "    </tr>\n",
       "    <tr>\n",
       "      <th>1</th>\n",
       "      <td>7.561</td>\n",
       "      <td>1.30232</td>\n",
       "    </tr>\n",
       "    <tr>\n",
       "      <th>2</th>\n",
       "      <td>7.527</td>\n",
       "      <td>1.32548</td>\n",
       "    </tr>\n",
       "    <tr>\n",
       "      <th>3</th>\n",
       "      <td>7.522</td>\n",
       "      <td>1.45900</td>\n",
       "    </tr>\n",
       "    <tr>\n",
       "      <th>4</th>\n",
       "      <td>7.427</td>\n",
       "      <td>1.32629</td>\n",
       "    </tr>\n",
       "    <tr>\n",
       "      <th>5</th>\n",
       "      <td>7.406</td>\n",
       "      <td>1.29025</td>\n",
       "    </tr>\n",
       "    <tr>\n",
       "      <th>6</th>\n",
       "      <td>7.378</td>\n",
       "      <td>1.32944</td>\n",
       "    </tr>\n",
       "    <tr>\n",
       "      <th>7</th>\n",
       "      <td>7.364</td>\n",
       "      <td>1.33171</td>\n",
       "    </tr>\n",
       "    <tr>\n",
       "      <th>8</th>\n",
       "      <td>7.286</td>\n",
       "      <td>1.25018</td>\n",
       "    </tr>\n",
       "    <tr>\n",
       "      <th>9</th>\n",
       "      <td>7.284</td>\n",
       "      <td>1.33358</td>\n",
       "    </tr>\n",
       "  </tbody>\n",
       "</table>\n",
       "</div>"
      ],
      "text/plain": [
       "   Happiness.Score      GDP\n",
       "0            7.587  1.39651\n",
       "1            7.561  1.30232\n",
       "2            7.527  1.32548\n",
       "3            7.522  1.45900\n",
       "4            7.427  1.32629\n",
       "5            7.406  1.29025\n",
       "6            7.378  1.32944\n",
       "7            7.364  1.33171\n",
       "8            7.286  1.25018\n",
       "9            7.284  1.33358"
      ]
     },
     "execution_count": 100,
     "metadata": {},
     "output_type": "execute_result"
    }
   ],
   "source": [
    "happ.iloc[0:10, 2:4]"
   ]
  },
  {
   "cell_type": "markdown",
   "metadata": {},
   "source": [
    "### Indexing and Selecting Data\n",
    "\n",
    "The two main methods of advanced data selection use the `.loc` and `.iloc` functions. Although we call them functions, they are summoned using the `[ ]` notation. The `.loc` is primarily $$label-based$$. The common allowed inputs to `.loc` are \n",
    "* a single label,\n",
    "* a list of labels,\n",
    "* a slice object, \n",
    "* a boolean array.\n",
    "\n",
    "The `.iloc` is primarily an $$integer-based $$input. The common allowed inputs to `.iloc` are \n",
    "* a single integer,\n",
    "* a list of integers,\n",
    "* a slice object, \n",
    "* a boolean array.\n",
    "  \n",
    "When selecting from a DataFrame with `.loc` or `.iloc`, we can provide a comma-separated index, just as with NumPy. It is good to keep this [reference](https://pandas.pydata.org/pandas-docs/stable/user_guide/indexing.html) page bookmarked.\n",
    "\n",
    "*Take note that this next command will only work if the Index is made up of integers!*"
   ]
  },
  {
   "cell_type": "code",
   "execution_count": 101,
   "metadata": {
    "ExecuteTime": {
     "end_time": "2023-08-22T13:45:01.137925Z",
     "start_time": "2023-08-22T13:45:01.118506Z"
    }
   },
   "outputs": [
    {
     "data": {
      "text/html": [
       "<div>\n",
       "<style scoped>\n",
       "    .dataframe tbody tr th:only-of-type {\n",
       "        vertical-align: middle;\n",
       "    }\n",
       "\n",
       "    .dataframe tbody tr th {\n",
       "        vertical-align: top;\n",
       "    }\n",
       "\n",
       "    .dataframe thead th {\n",
       "        text-align: right;\n",
       "    }\n",
       "</style>\n",
       "<table border=\"1\" class=\"dataframe\">\n",
       "  <thead>\n",
       "    <tr style=\"text-align: right;\">\n",
       "      <th></th>\n",
       "      <th>Country</th>\n",
       "      <th>Happiness.Rank</th>\n",
       "      <th>Happiness.Score</th>\n",
       "      <th>GDP</th>\n",
       "      <th>Family</th>\n",
       "      <th>Life.Expectancy</th>\n",
       "      <th>Freedom</th>\n",
       "      <th>Govt.Corruption</th>\n",
       "      <th>Generosity</th>\n",
       "      <th>Dystopia.Residual</th>\n",
       "      <th>Year</th>\n",
       "    </tr>\n",
       "  </thead>\n",
       "  <tbody>\n",
       "    <tr>\n",
       "      <th>0</th>\n",
       "      <td>Switzerland</td>\n",
       "      <td>1.0</td>\n",
       "      <td>7.587</td>\n",
       "      <td>1.39651</td>\n",
       "      <td>1.34951</td>\n",
       "      <td>0.94143</td>\n",
       "      <td>0.66557</td>\n",
       "      <td>0.41978</td>\n",
       "      <td>0.29678</td>\n",
       "      <td>2.51738</td>\n",
       "      <td>2015</td>\n",
       "    </tr>\n",
       "    <tr>\n",
       "      <th>1</th>\n",
       "      <td>Iceland</td>\n",
       "      <td>2.0</td>\n",
       "      <td>7.561</td>\n",
       "      <td>1.30232</td>\n",
       "      <td>1.40223</td>\n",
       "      <td>0.94784</td>\n",
       "      <td>0.62877</td>\n",
       "      <td>0.14145</td>\n",
       "      <td>0.43630</td>\n",
       "      <td>2.70201</td>\n",
       "      <td>2015</td>\n",
       "    </tr>\n",
       "    <tr>\n",
       "      <th>2</th>\n",
       "      <td>Denmark</td>\n",
       "      <td>3.0</td>\n",
       "      <td>7.527</td>\n",
       "      <td>1.32548</td>\n",
       "      <td>1.36058</td>\n",
       "      <td>0.87464</td>\n",
       "      <td>0.64938</td>\n",
       "      <td>0.48357</td>\n",
       "      <td>0.34139</td>\n",
       "      <td>2.49204</td>\n",
       "      <td>2015</td>\n",
       "    </tr>\n",
       "    <tr>\n",
       "      <th>3</th>\n",
       "      <td>Norway</td>\n",
       "      <td>4.0</td>\n",
       "      <td>7.522</td>\n",
       "      <td>1.45900</td>\n",
       "      <td>1.33095</td>\n",
       "      <td>0.88521</td>\n",
       "      <td>0.66973</td>\n",
       "      <td>0.36503</td>\n",
       "      <td>0.34699</td>\n",
       "      <td>2.46531</td>\n",
       "      <td>2015</td>\n",
       "    </tr>\n",
       "    <tr>\n",
       "      <th>4</th>\n",
       "      <td>Canada</td>\n",
       "      <td>5.0</td>\n",
       "      <td>7.427</td>\n",
       "      <td>1.32629</td>\n",
       "      <td>1.32261</td>\n",
       "      <td>0.90563</td>\n",
       "      <td>0.63297</td>\n",
       "      <td>0.32957</td>\n",
       "      <td>0.45811</td>\n",
       "      <td>2.45176</td>\n",
       "      <td>2015</td>\n",
       "    </tr>\n",
       "    <tr>\n",
       "      <th>...</th>\n",
       "      <td>...</td>\n",
       "      <td>...</td>\n",
       "      <td>...</td>\n",
       "      <td>...</td>\n",
       "      <td>...</td>\n",
       "      <td>...</td>\n",
       "      <td>...</td>\n",
       "      <td>...</td>\n",
       "      <td>...</td>\n",
       "      <td>...</td>\n",
       "      <td>...</td>\n",
       "    </tr>\n",
       "    <tr>\n",
       "      <th>487</th>\n",
       "      <td>Somaliland region</td>\n",
       "      <td>NaN</td>\n",
       "      <td>NaN</td>\n",
       "      <td>NaN</td>\n",
       "      <td>NaN</td>\n",
       "      <td>NaN</td>\n",
       "      <td>NaN</td>\n",
       "      <td>NaN</td>\n",
       "      <td>NaN</td>\n",
       "      <td>NaN</td>\n",
       "      <td>2017</td>\n",
       "    </tr>\n",
       "    <tr>\n",
       "      <th>488</th>\n",
       "      <td>Laos</td>\n",
       "      <td>NaN</td>\n",
       "      <td>NaN</td>\n",
       "      <td>NaN</td>\n",
       "      <td>NaN</td>\n",
       "      <td>NaN</td>\n",
       "      <td>NaN</td>\n",
       "      <td>NaN</td>\n",
       "      <td>NaN</td>\n",
       "      <td>NaN</td>\n",
       "      <td>2017</td>\n",
       "    </tr>\n",
       "    <tr>\n",
       "      <th>489</th>\n",
       "      <td>Swaziland</td>\n",
       "      <td>NaN</td>\n",
       "      <td>NaN</td>\n",
       "      <td>NaN</td>\n",
       "      <td>NaN</td>\n",
       "      <td>NaN</td>\n",
       "      <td>NaN</td>\n",
       "      <td>NaN</td>\n",
       "      <td>NaN</td>\n",
       "      <td>NaN</td>\n",
       "      <td>2017</td>\n",
       "    </tr>\n",
       "    <tr>\n",
       "      <th>490</th>\n",
       "      <td>Djibouti</td>\n",
       "      <td>NaN</td>\n",
       "      <td>NaN</td>\n",
       "      <td>NaN</td>\n",
       "      <td>NaN</td>\n",
       "      <td>NaN</td>\n",
       "      <td>NaN</td>\n",
       "      <td>NaN</td>\n",
       "      <td>NaN</td>\n",
       "      <td>NaN</td>\n",
       "      <td>2017</td>\n",
       "    </tr>\n",
       "    <tr>\n",
       "      <th>491</th>\n",
       "      <td>Comoros</td>\n",
       "      <td>NaN</td>\n",
       "      <td>NaN</td>\n",
       "      <td>NaN</td>\n",
       "      <td>NaN</td>\n",
       "      <td>NaN</td>\n",
       "      <td>NaN</td>\n",
       "      <td>NaN</td>\n",
       "      <td>NaN</td>\n",
       "      <td>NaN</td>\n",
       "      <td>2017</td>\n",
       "    </tr>\n",
       "  </tbody>\n",
       "</table>\n",
       "<p>492 rows × 11 columns</p>\n",
       "</div>"
      ],
      "text/plain": [
       "               Country  Happiness.Rank  Happiness.Score      GDP   Family  \\\n",
       "0          Switzerland             1.0            7.587  1.39651  1.34951   \n",
       "1              Iceland             2.0            7.561  1.30232  1.40223   \n",
       "2              Denmark             3.0            7.527  1.32548  1.36058   \n",
       "3               Norway             4.0            7.522  1.45900  1.33095   \n",
       "4               Canada             5.0            7.427  1.32629  1.32261   \n",
       "..                 ...             ...              ...      ...      ...   \n",
       "487  Somaliland region             NaN              NaN      NaN      NaN   \n",
       "488               Laos             NaN              NaN      NaN      NaN   \n",
       "489          Swaziland             NaN              NaN      NaN      NaN   \n",
       "490           Djibouti             NaN              NaN      NaN      NaN   \n",
       "491            Comoros             NaN              NaN      NaN      NaN   \n",
       "\n",
       "     Life.Expectancy  Freedom  Govt.Corruption  Generosity  Dystopia.Residual  \\\n",
       "0            0.94143  0.66557          0.41978     0.29678            2.51738   \n",
       "1            0.94784  0.62877          0.14145     0.43630            2.70201   \n",
       "2            0.87464  0.64938          0.48357     0.34139            2.49204   \n",
       "3            0.88521  0.66973          0.36503     0.34699            2.46531   \n",
       "4            0.90563  0.63297          0.32957     0.45811            2.45176   \n",
       "..               ...      ...              ...         ...                ...   \n",
       "487              NaN      NaN              NaN         NaN                NaN   \n",
       "488              NaN      NaN              NaN         NaN                NaN   \n",
       "489              NaN      NaN              NaN         NaN                NaN   \n",
       "490              NaN      NaN              NaN         NaN                NaN   \n",
       "491              NaN      NaN              NaN         NaN                NaN   \n",
       "\n",
       "     Year  \n",
       "0    2015  \n",
       "1    2015  \n",
       "2    2015  \n",
       "3    2015  \n",
       "4    2015  \n",
       "..    ...  \n",
       "487  2017  \n",
       "488  2017  \n",
       "489  2017  \n",
       "490  2017  \n",
       "491  2017  \n",
       "\n",
       "[492 rows x 11 columns]"
      ]
     },
     "execution_count": 101,
     "metadata": {},
     "output_type": "execute_result"
    }
   ],
   "source": [
    "happ"
   ]
  },
  {
   "cell_type": "code",
   "execution_count": 102,
   "metadata": {
    "ExecuteTime": {
     "end_time": "2023-08-22T13:45:06.951292Z",
     "start_time": "2023-08-22T13:45:06.936112Z"
    }
   },
   "outputs": [
    {
     "data": {
      "text/html": [
       "<div>\n",
       "<style scoped>\n",
       "    .dataframe tbody tr th:only-of-type {\n",
       "        vertical-align: middle;\n",
       "    }\n",
       "\n",
       "    .dataframe tbody tr th {\n",
       "        vertical-align: top;\n",
       "    }\n",
       "\n",
       "    .dataframe thead th {\n",
       "        text-align: right;\n",
       "    }\n",
       "</style>\n",
       "<table border=\"1\" class=\"dataframe\">\n",
       "  <thead>\n",
       "    <tr style=\"text-align: right;\">\n",
       "      <th></th>\n",
       "      <th>Country</th>\n",
       "      <th>Happiness.Rank</th>\n",
       "      <th>Happiness.Score</th>\n",
       "      <th>GDP</th>\n",
       "      <th>Family</th>\n",
       "      <th>Life.Expectancy</th>\n",
       "      <th>Freedom</th>\n",
       "      <th>Govt.Corruption</th>\n",
       "      <th>Generosity</th>\n",
       "      <th>Dystopia.Residual</th>\n",
       "      <th>Year</th>\n",
       "    </tr>\n",
       "  </thead>\n",
       "  <tbody>\n",
       "    <tr>\n",
       "      <th>2</th>\n",
       "      <td>Denmark</td>\n",
       "      <td>3.0</td>\n",
       "      <td>7.527</td>\n",
       "      <td>1.32548</td>\n",
       "      <td>1.36058</td>\n",
       "      <td>0.87464</td>\n",
       "      <td>0.64938</td>\n",
       "      <td>0.48357</td>\n",
       "      <td>0.34139</td>\n",
       "      <td>2.49204</td>\n",
       "      <td>2015</td>\n",
       "    </tr>\n",
       "    <tr>\n",
       "      <th>3</th>\n",
       "      <td>Norway</td>\n",
       "      <td>4.0</td>\n",
       "      <td>7.522</td>\n",
       "      <td>1.45900</td>\n",
       "      <td>1.33095</td>\n",
       "      <td>0.88521</td>\n",
       "      <td>0.66973</td>\n",
       "      <td>0.36503</td>\n",
       "      <td>0.34699</td>\n",
       "      <td>2.46531</td>\n",
       "      <td>2015</td>\n",
       "    </tr>\n",
       "    <tr>\n",
       "      <th>4</th>\n",
       "      <td>Canada</td>\n",
       "      <td>5.0</td>\n",
       "      <td>7.427</td>\n",
       "      <td>1.32629</td>\n",
       "      <td>1.32261</td>\n",
       "      <td>0.90563</td>\n",
       "      <td>0.63297</td>\n",
       "      <td>0.32957</td>\n",
       "      <td>0.45811</td>\n",
       "      <td>2.45176</td>\n",
       "      <td>2015</td>\n",
       "    </tr>\n",
       "    <tr>\n",
       "      <th>5</th>\n",
       "      <td>Finland</td>\n",
       "      <td>6.0</td>\n",
       "      <td>7.406</td>\n",
       "      <td>1.29025</td>\n",
       "      <td>1.31826</td>\n",
       "      <td>0.88911</td>\n",
       "      <td>0.64169</td>\n",
       "      <td>0.41372</td>\n",
       "      <td>0.23351</td>\n",
       "      <td>2.61955</td>\n",
       "      <td>2015</td>\n",
       "    </tr>\n",
       "  </tbody>\n",
       "</table>\n",
       "</div>"
      ],
      "text/plain": [
       "   Country  Happiness.Rank  Happiness.Score      GDP   Family  \\\n",
       "2  Denmark             3.0            7.527  1.32548  1.36058   \n",
       "3   Norway             4.0            7.522  1.45900  1.33095   \n",
       "4   Canada             5.0            7.427  1.32629  1.32261   \n",
       "5  Finland             6.0            7.406  1.29025  1.31826   \n",
       "\n",
       "   Life.Expectancy  Freedom  Govt.Corruption  Generosity  Dystopia.Residual  \\\n",
       "2          0.87464  0.64938          0.48357     0.34139            2.49204   \n",
       "3          0.88521  0.66973          0.36503     0.34699            2.46531   \n",
       "4          0.90563  0.63297          0.32957     0.45811            2.45176   \n",
       "5          0.88911  0.64169          0.41372     0.23351            2.61955   \n",
       "\n",
       "   Year  \n",
       "2  2015  \n",
       "3  2015  \n",
       "4  2015  \n",
       "5  2015  "
      ]
     },
     "execution_count": 102,
     "metadata": {},
     "output_type": "execute_result"
    }
   ],
   "source": [
    "happ.loc[2:5]"
   ]
  },
  {
   "cell_type": "code",
   "execution_count": 103,
   "metadata": {
    "ExecuteTime": {
     "end_time": "2023-08-22T13:45:07.482200Z",
     "start_time": "2023-08-22T13:45:07.464491Z"
    }
   },
   "outputs": [
    {
     "data": {
      "text/html": [
       "<div>\n",
       "<style scoped>\n",
       "    .dataframe tbody tr th:only-of-type {\n",
       "        vertical-align: middle;\n",
       "    }\n",
       "\n",
       "    .dataframe tbody tr th {\n",
       "        vertical-align: top;\n",
       "    }\n",
       "\n",
       "    .dataframe thead th {\n",
       "        text-align: right;\n",
       "    }\n",
       "</style>\n",
       "<table border=\"1\" class=\"dataframe\">\n",
       "  <thead>\n",
       "    <tr style=\"text-align: right;\">\n",
       "      <th></th>\n",
       "      <th>Country</th>\n",
       "      <th>Happiness.Rank</th>\n",
       "      <th>Happiness.Score</th>\n",
       "      <th>GDP</th>\n",
       "      <th>Family</th>\n",
       "      <th>Life.Expectancy</th>\n",
       "      <th>Freedom</th>\n",
       "      <th>Govt.Corruption</th>\n",
       "      <th>Generosity</th>\n",
       "      <th>Dystopia.Residual</th>\n",
       "      <th>Year</th>\n",
       "    </tr>\n",
       "  </thead>\n",
       "  <tbody>\n",
       "    <tr>\n",
       "      <th>2</th>\n",
       "      <td>Denmark</td>\n",
       "      <td>3.0</td>\n",
       "      <td>7.527</td>\n",
       "      <td>1.32548</td>\n",
       "      <td>1.36058</td>\n",
       "      <td>0.87464</td>\n",
       "      <td>0.64938</td>\n",
       "      <td>0.48357</td>\n",
       "      <td>0.34139</td>\n",
       "      <td>2.49204</td>\n",
       "      <td>2015</td>\n",
       "    </tr>\n",
       "    <tr>\n",
       "      <th>3</th>\n",
       "      <td>Norway</td>\n",
       "      <td>4.0</td>\n",
       "      <td>7.522</td>\n",
       "      <td>1.45900</td>\n",
       "      <td>1.33095</td>\n",
       "      <td>0.88521</td>\n",
       "      <td>0.66973</td>\n",
       "      <td>0.36503</td>\n",
       "      <td>0.34699</td>\n",
       "      <td>2.46531</td>\n",
       "      <td>2015</td>\n",
       "    </tr>\n",
       "    <tr>\n",
       "      <th>4</th>\n",
       "      <td>Canada</td>\n",
       "      <td>5.0</td>\n",
       "      <td>7.427</td>\n",
       "      <td>1.32629</td>\n",
       "      <td>1.32261</td>\n",
       "      <td>0.90563</td>\n",
       "      <td>0.63297</td>\n",
       "      <td>0.32957</td>\n",
       "      <td>0.45811</td>\n",
       "      <td>2.45176</td>\n",
       "      <td>2015</td>\n",
       "    </tr>\n",
       "    <tr>\n",
       "      <th>5</th>\n",
       "      <td>Finland</td>\n",
       "      <td>6.0</td>\n",
       "      <td>7.406</td>\n",
       "      <td>1.29025</td>\n",
       "      <td>1.31826</td>\n",
       "      <td>0.88911</td>\n",
       "      <td>0.64169</td>\n",
       "      <td>0.41372</td>\n",
       "      <td>0.23351</td>\n",
       "      <td>2.61955</td>\n",
       "      <td>2015</td>\n",
       "    </tr>\n",
       "  </tbody>\n",
       "</table>\n",
       "</div>"
      ],
      "text/plain": [
       "   Country  Happiness.Rank  Happiness.Score      GDP   Family  \\\n",
       "2  Denmark             3.0            7.527  1.32548  1.36058   \n",
       "3   Norway             4.0            7.522  1.45900  1.33095   \n",
       "4   Canada             5.0            7.427  1.32629  1.32261   \n",
       "5  Finland             6.0            7.406  1.29025  1.31826   \n",
       "\n",
       "   Life.Expectancy  Freedom  Govt.Corruption  Generosity  Dystopia.Residual  \\\n",
       "2          0.87464  0.64938          0.48357     0.34139            2.49204   \n",
       "3          0.88521  0.66973          0.36503     0.34699            2.46531   \n",
       "4          0.90563  0.63297          0.32957     0.45811            2.45176   \n",
       "5          0.88911  0.64169          0.41372     0.23351            2.61955   \n",
       "\n",
       "   Year  \n",
       "2  2015  \n",
       "3  2015  \n",
       "4  2015  \n",
       "5  2015  "
      ]
     },
     "execution_count": 103,
     "metadata": {},
     "output_type": "execute_result"
    }
   ],
   "source": [
    "happ.loc[[2, 3, 4, 5]]"
   ]
  },
  {
   "cell_type": "markdown",
   "metadata": {},
   "source": [
    "Notice how the slice operator inclusive when we use `.loc`, but not inclusive when we use `.iloc`."
   ]
  },
  {
   "cell_type": "code",
   "execution_count": 105,
   "metadata": {
    "ExecuteTime": {
     "end_time": "2023-08-22T13:47:27.567896Z",
     "start_time": "2023-08-22T13:47:27.557823Z"
    }
   },
   "outputs": [
    {
     "data": {
      "text/html": [
       "<div>\n",
       "<style scoped>\n",
       "    .dataframe tbody tr th:only-of-type {\n",
       "        vertical-align: middle;\n",
       "    }\n",
       "\n",
       "    .dataframe tbody tr th {\n",
       "        vertical-align: top;\n",
       "    }\n",
       "\n",
       "    .dataframe thead th {\n",
       "        text-align: right;\n",
       "    }\n",
       "</style>\n",
       "<table border=\"1\" class=\"dataframe\">\n",
       "  <thead>\n",
       "    <tr style=\"text-align: right;\">\n",
       "      <th></th>\n",
       "      <th>GDP</th>\n",
       "      <th>Life.Expectancy</th>\n",
       "      <th>Govt.Corruption</th>\n",
       "    </tr>\n",
       "  </thead>\n",
       "  <tbody>\n",
       "    <tr>\n",
       "      <th>2</th>\n",
       "      <td>1.32548</td>\n",
       "      <td>0.87464</td>\n",
       "      <td>0.48357</td>\n",
       "    </tr>\n",
       "    <tr>\n",
       "      <th>6</th>\n",
       "      <td>1.32944</td>\n",
       "      <td>0.89284</td>\n",
       "      <td>0.31814</td>\n",
       "    </tr>\n",
       "    <tr>\n",
       "      <th>10</th>\n",
       "      <td>1.22857</td>\n",
       "      <td>0.91387</td>\n",
       "      <td>0.07785</td>\n",
       "    </tr>\n",
       "  </tbody>\n",
       "</table>\n",
       "</div>"
      ],
      "text/plain": [
       "        GDP  Life.Expectancy  Govt.Corruption\n",
       "2   1.32548          0.87464          0.48357\n",
       "6   1.32944          0.89284          0.31814\n",
       "10  1.22857          0.91387          0.07785"
      ]
     },
     "execution_count": 105,
     "metadata": {},
     "output_type": "execute_result"
    }
   ],
   "source": [
    "happ.loc[2:10:4, \"GDP\":\"Generosity\":2]"
   ]
  },
  {
   "cell_type": "code",
   "execution_count": 108,
   "metadata": {
    "ExecuteTime": {
     "end_time": "2023-08-22T13:48:04.089686Z",
     "start_time": "2023-08-22T13:48:04.083779Z"
    },
    "scrolled": true
   },
   "outputs": [
    {
     "data": {
      "text/html": [
       "<div>\n",
       "<style scoped>\n",
       "    .dataframe tbody tr th:only-of-type {\n",
       "        vertical-align: middle;\n",
       "    }\n",
       "\n",
       "    .dataframe tbody tr th {\n",
       "        vertical-align: top;\n",
       "    }\n",
       "\n",
       "    .dataframe thead th {\n",
       "        text-align: right;\n",
       "    }\n",
       "</style>\n",
       "<table border=\"1\" class=\"dataframe\">\n",
       "  <thead>\n",
       "    <tr style=\"text-align: right;\">\n",
       "      <th></th>\n",
       "      <th>GDP</th>\n",
       "      <th>Life.Expectancy</th>\n",
       "    </tr>\n",
       "  </thead>\n",
       "  <tbody>\n",
       "    <tr>\n",
       "      <th>2</th>\n",
       "      <td>1.32548</td>\n",
       "      <td>0.87464</td>\n",
       "    </tr>\n",
       "    <tr>\n",
       "      <th>6</th>\n",
       "      <td>1.32944</td>\n",
       "      <td>0.89284</td>\n",
       "    </tr>\n",
       "  </tbody>\n",
       "</table>\n",
       "</div>"
      ],
      "text/plain": [
       "       GDP  Life.Expectancy\n",
       "2  1.32548          0.87464\n",
       "6  1.32944          0.89284"
      ]
     },
     "execution_count": 108,
     "metadata": {},
     "output_type": "execute_result"
    }
   ],
   "source": [
    "happ.iloc[2:10:4, 3:7:2] # Same as above, but with .iloc"
   ]
  },
  {
   "cell_type": "markdown",
   "metadata": {},
   "source": [
    "### Filtering Data"
   ]
  },
  {
   "cell_type": "code",
   "execution_count": 17,
   "metadata": {
    "ExecuteTime": {
     "end_time": "2023-08-29T11:26:19.375183Z",
     "start_time": "2023-08-29T11:26:19.359056Z"
    }
   },
   "outputs": [
    {
     "data": {
      "text/html": [
       "<div>\n",
       "<style scoped>\n",
       "    .dataframe tbody tr th:only-of-type {\n",
       "        vertical-align: middle;\n",
       "    }\n",
       "\n",
       "    .dataframe tbody tr th {\n",
       "        vertical-align: top;\n",
       "    }\n",
       "\n",
       "    .dataframe thead th {\n",
       "        text-align: right;\n",
       "    }\n",
       "</style>\n",
       "<table border=\"1\" class=\"dataframe\">\n",
       "  <thead>\n",
       "    <tr style=\"text-align: right;\">\n",
       "      <th></th>\n",
       "      <th>Happiness.Score</th>\n",
       "      <th>GDP</th>\n",
       "    </tr>\n",
       "  </thead>\n",
       "  <tbody>\n",
       "    <tr>\n",
       "      <th>count</th>\n",
       "      <td>471.000000</td>\n",
       "      <td>471.000000</td>\n",
       "    </tr>\n",
       "    <tr>\n",
       "      <th>mean</th>\n",
       "      <td>5.368588</td>\n",
       "      <td>0.891742</td>\n",
       "    </tr>\n",
       "    <tr>\n",
       "      <th>std</th>\n",
       "      <td>1.138111</td>\n",
       "      <td>0.413322</td>\n",
       "    </tr>\n",
       "    <tr>\n",
       "      <th>min</th>\n",
       "      <td>2.693000</td>\n",
       "      <td>0.000000</td>\n",
       "    </tr>\n",
       "    <tr>\n",
       "      <th>25%</th>\n",
       "      <td>4.517500</td>\n",
       "      <td>0.593250</td>\n",
       "    </tr>\n",
       "    <tr>\n",
       "      <th>50%</th>\n",
       "      <td>5.268000</td>\n",
       "      <td>0.958470</td>\n",
       "    </tr>\n",
       "    <tr>\n",
       "      <th>80%</th>\n",
       "      <td>6.455000</td>\n",
       "      <td>1.281778</td>\n",
       "    </tr>\n",
       "    <tr>\n",
       "      <th>90%</th>\n",
       "      <td>6.951000</td>\n",
       "      <td>1.386040</td>\n",
       "    </tr>\n",
       "    <tr>\n",
       "      <th>max</th>\n",
       "      <td>7.587000</td>\n",
       "      <td>1.870766</td>\n",
       "    </tr>\n",
       "  </tbody>\n",
       "</table>\n",
       "</div>"
      ],
      "text/plain": [
       "       Happiness.Score         GDP\n",
       "count       471.000000  471.000000\n",
       "mean          5.368588    0.891742\n",
       "std           1.138111    0.413322\n",
       "min           2.693000    0.000000\n",
       "25%           4.517500    0.593250\n",
       "50%           5.268000    0.958470\n",
       "80%           6.455000    1.281778\n",
       "90%           6.951000    1.386040\n",
       "max           7.587000    1.870766"
      ]
     },
     "execution_count": 17,
     "metadata": {},
     "output_type": "execute_result"
    }
   ],
   "source": [
    "happ.iloc[:, 2:4].describe(percentiles=[0.25, .5, .80, .9])"
   ]
  },
  {
   "cell_type": "markdown",
   "metadata": {},
   "source": [
    "It looks like Happiness Score is a left-skewed distribution. Suppose we are interested in the very happy countries. Here is how we can filter the data with a boolean array."
   ]
  },
  {
   "cell_type": "code",
   "execution_count": 110,
   "metadata": {
    "ExecuteTime": {
     "end_time": "2023-08-22T13:50:17.076246Z",
     "start_time": "2023-08-22T13:50:17.072033Z"
    }
   },
   "outputs": [],
   "source": [
    "happiest = happ[happ['Happiness.Score'] > 6.95]"
   ]
  },
  {
   "cell_type": "code",
   "execution_count": 113,
   "metadata": {
    "ExecuteTime": {
     "end_time": "2023-08-22T13:52:18.883599Z",
     "start_time": "2023-08-22T13:52:18.854717Z"
    }
   },
   "outputs": [
    {
     "data": {
      "text/html": [
       "<div>\n",
       "<style scoped>\n",
       "    .dataframe tbody tr th:only-of-type {\n",
       "        vertical-align: middle;\n",
       "    }\n",
       "\n",
       "    .dataframe tbody tr th {\n",
       "        vertical-align: top;\n",
       "    }\n",
       "\n",
       "    .dataframe thead th {\n",
       "        text-align: right;\n",
       "    }\n",
       "</style>\n",
       "<table border=\"1\" class=\"dataframe\">\n",
       "  <thead>\n",
       "    <tr style=\"text-align: right;\">\n",
       "      <th></th>\n",
       "      <th>Country</th>\n",
       "      <th>Happiness.Rank</th>\n",
       "      <th>Happiness.Score</th>\n",
       "      <th>GDP</th>\n",
       "      <th>Family</th>\n",
       "      <th>Life.Expectancy</th>\n",
       "      <th>Freedom</th>\n",
       "      <th>Govt.Corruption</th>\n",
       "      <th>Generosity</th>\n",
       "      <th>Dystopia.Residual</th>\n",
       "      <th>Year</th>\n",
       "    </tr>\n",
       "  </thead>\n",
       "  <tbody>\n",
       "    <tr>\n",
       "      <th>0</th>\n",
       "      <td>Switzerland</td>\n",
       "      <td>1.0</td>\n",
       "      <td>7.587</td>\n",
       "      <td>1.396510</td>\n",
       "      <td>1.349510</td>\n",
       "      <td>0.941430</td>\n",
       "      <td>0.665570</td>\n",
       "      <td>0.419780</td>\n",
       "      <td>0.296780</td>\n",
       "      <td>2.517380</td>\n",
       "      <td>2015</td>\n",
       "    </tr>\n",
       "    <tr>\n",
       "      <th>1</th>\n",
       "      <td>Iceland</td>\n",
       "      <td>2.0</td>\n",
       "      <td>7.561</td>\n",
       "      <td>1.302320</td>\n",
       "      <td>1.402230</td>\n",
       "      <td>0.947840</td>\n",
       "      <td>0.628770</td>\n",
       "      <td>0.141450</td>\n",
       "      <td>0.436300</td>\n",
       "      <td>2.702010</td>\n",
       "      <td>2015</td>\n",
       "    </tr>\n",
       "    <tr>\n",
       "      <th>2</th>\n",
       "      <td>Denmark</td>\n",
       "      <td>3.0</td>\n",
       "      <td>7.527</td>\n",
       "      <td>1.325480</td>\n",
       "      <td>1.360580</td>\n",
       "      <td>0.874640</td>\n",
       "      <td>0.649380</td>\n",
       "      <td>0.483570</td>\n",
       "      <td>0.341390</td>\n",
       "      <td>2.492040</td>\n",
       "      <td>2015</td>\n",
       "    </tr>\n",
       "    <tr>\n",
       "      <th>3</th>\n",
       "      <td>Norway</td>\n",
       "      <td>4.0</td>\n",
       "      <td>7.522</td>\n",
       "      <td>1.459000</td>\n",
       "      <td>1.330950</td>\n",
       "      <td>0.885210</td>\n",
       "      <td>0.669730</td>\n",
       "      <td>0.365030</td>\n",
       "      <td>0.346990</td>\n",
       "      <td>2.465310</td>\n",
       "      <td>2015</td>\n",
       "    </tr>\n",
       "    <tr>\n",
       "      <th>4</th>\n",
       "      <td>Canada</td>\n",
       "      <td>5.0</td>\n",
       "      <td>7.427</td>\n",
       "      <td>1.326290</td>\n",
       "      <td>1.322610</td>\n",
       "      <td>0.905630</td>\n",
       "      <td>0.632970</td>\n",
       "      <td>0.329570</td>\n",
       "      <td>0.458110</td>\n",
       "      <td>2.451760</td>\n",
       "      <td>2015</td>\n",
       "    </tr>\n",
       "    <tr>\n",
       "      <th>5</th>\n",
       "      <td>Finland</td>\n",
       "      <td>6.0</td>\n",
       "      <td>7.406</td>\n",
       "      <td>1.290250</td>\n",
       "      <td>1.318260</td>\n",
       "      <td>0.889110</td>\n",
       "      <td>0.641690</td>\n",
       "      <td>0.413720</td>\n",
       "      <td>0.233510</td>\n",
       "      <td>2.619550</td>\n",
       "      <td>2015</td>\n",
       "    </tr>\n",
       "    <tr>\n",
       "      <th>6</th>\n",
       "      <td>Netherlands</td>\n",
       "      <td>7.0</td>\n",
       "      <td>7.378</td>\n",
       "      <td>1.329440</td>\n",
       "      <td>1.280170</td>\n",
       "      <td>0.892840</td>\n",
       "      <td>0.615760</td>\n",
       "      <td>0.318140</td>\n",
       "      <td>0.476100</td>\n",
       "      <td>2.465700</td>\n",
       "      <td>2015</td>\n",
       "    </tr>\n",
       "    <tr>\n",
       "      <th>7</th>\n",
       "      <td>Sweden</td>\n",
       "      <td>8.0</td>\n",
       "      <td>7.364</td>\n",
       "      <td>1.331710</td>\n",
       "      <td>1.289070</td>\n",
       "      <td>0.910870</td>\n",
       "      <td>0.659800</td>\n",
       "      <td>0.438440</td>\n",
       "      <td>0.362620</td>\n",
       "      <td>2.371190</td>\n",
       "      <td>2015</td>\n",
       "    </tr>\n",
       "    <tr>\n",
       "      <th>8</th>\n",
       "      <td>New Zealand</td>\n",
       "      <td>9.0</td>\n",
       "      <td>7.286</td>\n",
       "      <td>1.250180</td>\n",
       "      <td>1.319670</td>\n",
       "      <td>0.908370</td>\n",
       "      <td>0.639380</td>\n",
       "      <td>0.429220</td>\n",
       "      <td>0.475010</td>\n",
       "      <td>2.264250</td>\n",
       "      <td>2015</td>\n",
       "    </tr>\n",
       "    <tr>\n",
       "      <th>9</th>\n",
       "      <td>Australia</td>\n",
       "      <td>10.0</td>\n",
       "      <td>7.284</td>\n",
       "      <td>1.333580</td>\n",
       "      <td>1.309230</td>\n",
       "      <td>0.931560</td>\n",
       "      <td>0.651240</td>\n",
       "      <td>0.356370</td>\n",
       "      <td>0.435620</td>\n",
       "      <td>2.266460</td>\n",
       "      <td>2015</td>\n",
       "    </tr>\n",
       "    <tr>\n",
       "      <th>10</th>\n",
       "      <td>Israel</td>\n",
       "      <td>11.0</td>\n",
       "      <td>7.278</td>\n",
       "      <td>1.228570</td>\n",
       "      <td>1.223930</td>\n",
       "      <td>0.913870</td>\n",
       "      <td>0.413190</td>\n",
       "      <td>0.077850</td>\n",
       "      <td>0.331720</td>\n",
       "      <td>3.088540</td>\n",
       "      <td>2015</td>\n",
       "    </tr>\n",
       "    <tr>\n",
       "      <th>11</th>\n",
       "      <td>Costa Rica</td>\n",
       "      <td>12.0</td>\n",
       "      <td>7.226</td>\n",
       "      <td>0.955780</td>\n",
       "      <td>1.237880</td>\n",
       "      <td>0.860270</td>\n",
       "      <td>0.633760</td>\n",
       "      <td>0.105830</td>\n",
       "      <td>0.254970</td>\n",
       "      <td>3.177280</td>\n",
       "      <td>2015</td>\n",
       "    </tr>\n",
       "    <tr>\n",
       "      <th>12</th>\n",
       "      <td>Austria</td>\n",
       "      <td>13.0</td>\n",
       "      <td>7.200</td>\n",
       "      <td>1.337230</td>\n",
       "      <td>1.297040</td>\n",
       "      <td>0.890420</td>\n",
       "      <td>0.624330</td>\n",
       "      <td>0.186760</td>\n",
       "      <td>0.330880</td>\n",
       "      <td>2.533200</td>\n",
       "      <td>2015</td>\n",
       "    </tr>\n",
       "    <tr>\n",
       "      <th>13</th>\n",
       "      <td>Mexico</td>\n",
       "      <td>14.0</td>\n",
       "      <td>7.187</td>\n",
       "      <td>1.020540</td>\n",
       "      <td>0.914510</td>\n",
       "      <td>0.814440</td>\n",
       "      <td>0.481810</td>\n",
       "      <td>0.213120</td>\n",
       "      <td>0.140740</td>\n",
       "      <td>3.602140</td>\n",
       "      <td>2015</td>\n",
       "    </tr>\n",
       "    <tr>\n",
       "      <th>14</th>\n",
       "      <td>United States</td>\n",
       "      <td>15.0</td>\n",
       "      <td>7.119</td>\n",
       "      <td>1.394510</td>\n",
       "      <td>1.247110</td>\n",
       "      <td>0.861790</td>\n",
       "      <td>0.546040</td>\n",
       "      <td>0.158900</td>\n",
       "      <td>0.401050</td>\n",
       "      <td>2.510110</td>\n",
       "      <td>2015</td>\n",
       "    </tr>\n",
       "    <tr>\n",
       "      <th>15</th>\n",
       "      <td>Brazil</td>\n",
       "      <td>16.0</td>\n",
       "      <td>6.983</td>\n",
       "      <td>0.981240</td>\n",
       "      <td>1.232870</td>\n",
       "      <td>0.697020</td>\n",
       "      <td>0.490490</td>\n",
       "      <td>0.175210</td>\n",
       "      <td>0.145740</td>\n",
       "      <td>3.260010</td>\n",
       "      <td>2015</td>\n",
       "    </tr>\n",
       "    <tr>\n",
       "      <th>164</th>\n",
       "      <td>Switzerland</td>\n",
       "      <td>1.0</td>\n",
       "      <td>7.587</td>\n",
       "      <td>1.396510</td>\n",
       "      <td>1.349510</td>\n",
       "      <td>0.941430</td>\n",
       "      <td>0.665570</td>\n",
       "      <td>0.419780</td>\n",
       "      <td>0.296780</td>\n",
       "      <td>2.517380</td>\n",
       "      <td>2016</td>\n",
       "    </tr>\n",
       "    <tr>\n",
       "      <th>165</th>\n",
       "      <td>Iceland</td>\n",
       "      <td>2.0</td>\n",
       "      <td>7.561</td>\n",
       "      <td>1.302320</td>\n",
       "      <td>1.402230</td>\n",
       "      <td>0.947840</td>\n",
       "      <td>0.628770</td>\n",
       "      <td>0.141450</td>\n",
       "      <td>0.436300</td>\n",
       "      <td>2.702010</td>\n",
       "      <td>2016</td>\n",
       "    </tr>\n",
       "    <tr>\n",
       "      <th>166</th>\n",
       "      <td>Denmark</td>\n",
       "      <td>3.0</td>\n",
       "      <td>7.527</td>\n",
       "      <td>1.325480</td>\n",
       "      <td>1.360580</td>\n",
       "      <td>0.874640</td>\n",
       "      <td>0.649380</td>\n",
       "      <td>0.483570</td>\n",
       "      <td>0.341390</td>\n",
       "      <td>2.492040</td>\n",
       "      <td>2016</td>\n",
       "    </tr>\n",
       "    <tr>\n",
       "      <th>167</th>\n",
       "      <td>Norway</td>\n",
       "      <td>4.0</td>\n",
       "      <td>7.522</td>\n",
       "      <td>1.459000</td>\n",
       "      <td>1.330950</td>\n",
       "      <td>0.885210</td>\n",
       "      <td>0.669730</td>\n",
       "      <td>0.365030</td>\n",
       "      <td>0.346990</td>\n",
       "      <td>2.465310</td>\n",
       "      <td>2016</td>\n",
       "    </tr>\n",
       "    <tr>\n",
       "      <th>168</th>\n",
       "      <td>Canada</td>\n",
       "      <td>5.0</td>\n",
       "      <td>7.427</td>\n",
       "      <td>1.326290</td>\n",
       "      <td>1.322610</td>\n",
       "      <td>0.905630</td>\n",
       "      <td>0.632970</td>\n",
       "      <td>0.329570</td>\n",
       "      <td>0.458110</td>\n",
       "      <td>2.451760</td>\n",
       "      <td>2016</td>\n",
       "    </tr>\n",
       "    <tr>\n",
       "      <th>169</th>\n",
       "      <td>Finland</td>\n",
       "      <td>6.0</td>\n",
       "      <td>7.406</td>\n",
       "      <td>1.290250</td>\n",
       "      <td>1.318260</td>\n",
       "      <td>0.889110</td>\n",
       "      <td>0.641690</td>\n",
       "      <td>0.413720</td>\n",
       "      <td>0.233510</td>\n",
       "      <td>2.619550</td>\n",
       "      <td>2016</td>\n",
       "    </tr>\n",
       "    <tr>\n",
       "      <th>170</th>\n",
       "      <td>Netherlands</td>\n",
       "      <td>7.0</td>\n",
       "      <td>7.378</td>\n",
       "      <td>1.329440</td>\n",
       "      <td>1.280170</td>\n",
       "      <td>0.892840</td>\n",
       "      <td>0.615760</td>\n",
       "      <td>0.318140</td>\n",
       "      <td>0.476100</td>\n",
       "      <td>2.465700</td>\n",
       "      <td>2016</td>\n",
       "    </tr>\n",
       "    <tr>\n",
       "      <th>171</th>\n",
       "      <td>Sweden</td>\n",
       "      <td>8.0</td>\n",
       "      <td>7.364</td>\n",
       "      <td>1.331710</td>\n",
       "      <td>1.289070</td>\n",
       "      <td>0.910870</td>\n",
       "      <td>0.659800</td>\n",
       "      <td>0.438440</td>\n",
       "      <td>0.362620</td>\n",
       "      <td>2.371190</td>\n",
       "      <td>2016</td>\n",
       "    </tr>\n",
       "    <tr>\n",
       "      <th>172</th>\n",
       "      <td>New Zealand</td>\n",
       "      <td>9.0</td>\n",
       "      <td>7.286</td>\n",
       "      <td>1.250180</td>\n",
       "      <td>1.319670</td>\n",
       "      <td>0.908370</td>\n",
       "      <td>0.639380</td>\n",
       "      <td>0.429220</td>\n",
       "      <td>0.475010</td>\n",
       "      <td>2.264250</td>\n",
       "      <td>2016</td>\n",
       "    </tr>\n",
       "    <tr>\n",
       "      <th>173</th>\n",
       "      <td>Australia</td>\n",
       "      <td>10.0</td>\n",
       "      <td>7.284</td>\n",
       "      <td>1.333580</td>\n",
       "      <td>1.309230</td>\n",
       "      <td>0.931560</td>\n",
       "      <td>0.651240</td>\n",
       "      <td>0.356370</td>\n",
       "      <td>0.435620</td>\n",
       "      <td>2.266460</td>\n",
       "      <td>2016</td>\n",
       "    </tr>\n",
       "    <tr>\n",
       "      <th>174</th>\n",
       "      <td>Israel</td>\n",
       "      <td>11.0</td>\n",
       "      <td>7.278</td>\n",
       "      <td>1.228570</td>\n",
       "      <td>1.223930</td>\n",
       "      <td>0.913870</td>\n",
       "      <td>0.413190</td>\n",
       "      <td>0.077850</td>\n",
       "      <td>0.331720</td>\n",
       "      <td>3.088540</td>\n",
       "      <td>2016</td>\n",
       "    </tr>\n",
       "    <tr>\n",
       "      <th>175</th>\n",
       "      <td>Costa Rica</td>\n",
       "      <td>12.0</td>\n",
       "      <td>7.226</td>\n",
       "      <td>0.955780</td>\n",
       "      <td>1.237880</td>\n",
       "      <td>0.860270</td>\n",
       "      <td>0.633760</td>\n",
       "      <td>0.105830</td>\n",
       "      <td>0.254970</td>\n",
       "      <td>3.177280</td>\n",
       "      <td>2016</td>\n",
       "    </tr>\n",
       "    <tr>\n",
       "      <th>176</th>\n",
       "      <td>Austria</td>\n",
       "      <td>13.0</td>\n",
       "      <td>7.200</td>\n",
       "      <td>1.337230</td>\n",
       "      <td>1.297040</td>\n",
       "      <td>0.890420</td>\n",
       "      <td>0.624330</td>\n",
       "      <td>0.186760</td>\n",
       "      <td>0.330880</td>\n",
       "      <td>2.533200</td>\n",
       "      <td>2016</td>\n",
       "    </tr>\n",
       "    <tr>\n",
       "      <th>177</th>\n",
       "      <td>Mexico</td>\n",
       "      <td>14.0</td>\n",
       "      <td>7.187</td>\n",
       "      <td>1.020540</td>\n",
       "      <td>0.914510</td>\n",
       "      <td>0.814440</td>\n",
       "      <td>0.481810</td>\n",
       "      <td>0.213120</td>\n",
       "      <td>0.140740</td>\n",
       "      <td>3.602140</td>\n",
       "      <td>2016</td>\n",
       "    </tr>\n",
       "    <tr>\n",
       "      <th>178</th>\n",
       "      <td>United States</td>\n",
       "      <td>15.0</td>\n",
       "      <td>7.119</td>\n",
       "      <td>1.394510</td>\n",
       "      <td>1.247110</td>\n",
       "      <td>0.861790</td>\n",
       "      <td>0.546040</td>\n",
       "      <td>0.158900</td>\n",
       "      <td>0.401050</td>\n",
       "      <td>2.510110</td>\n",
       "      <td>2016</td>\n",
       "    </tr>\n",
       "    <tr>\n",
       "      <th>179</th>\n",
       "      <td>Brazil</td>\n",
       "      <td>16.0</td>\n",
       "      <td>6.983</td>\n",
       "      <td>0.981240</td>\n",
       "      <td>1.232870</td>\n",
       "      <td>0.697020</td>\n",
       "      <td>0.490490</td>\n",
       "      <td>0.175210</td>\n",
       "      <td>0.145740</td>\n",
       "      <td>3.260010</td>\n",
       "      <td>2016</td>\n",
       "    </tr>\n",
       "    <tr>\n",
       "      <th>328</th>\n",
       "      <td>Norway</td>\n",
       "      <td>1.0</td>\n",
       "      <td>7.537</td>\n",
       "      <td>1.616463</td>\n",
       "      <td>1.533524</td>\n",
       "      <td>0.796667</td>\n",
       "      <td>0.635423</td>\n",
       "      <td>0.315964</td>\n",
       "      <td>0.362012</td>\n",
       "      <td>2.277027</td>\n",
       "      <td>2017</td>\n",
       "    </tr>\n",
       "    <tr>\n",
       "      <th>329</th>\n",
       "      <td>Denmark</td>\n",
       "      <td>2.0</td>\n",
       "      <td>7.522</td>\n",
       "      <td>1.482383</td>\n",
       "      <td>1.551122</td>\n",
       "      <td>0.792566</td>\n",
       "      <td>0.626007</td>\n",
       "      <td>0.400770</td>\n",
       "      <td>0.355280</td>\n",
       "      <td>2.313707</td>\n",
       "      <td>2017</td>\n",
       "    </tr>\n",
       "    <tr>\n",
       "      <th>330</th>\n",
       "      <td>Iceland</td>\n",
       "      <td>3.0</td>\n",
       "      <td>7.504</td>\n",
       "      <td>1.480633</td>\n",
       "      <td>1.610574</td>\n",
       "      <td>0.833552</td>\n",
       "      <td>0.627163</td>\n",
       "      <td>0.153527</td>\n",
       "      <td>0.475540</td>\n",
       "      <td>2.322715</td>\n",
       "      <td>2017</td>\n",
       "    </tr>\n",
       "    <tr>\n",
       "      <th>331</th>\n",
       "      <td>Switzerland</td>\n",
       "      <td>4.0</td>\n",
       "      <td>7.494</td>\n",
       "      <td>1.564980</td>\n",
       "      <td>1.516912</td>\n",
       "      <td>0.858131</td>\n",
       "      <td>0.620071</td>\n",
       "      <td>0.367007</td>\n",
       "      <td>0.290549</td>\n",
       "      <td>2.276716</td>\n",
       "      <td>2017</td>\n",
       "    </tr>\n",
       "    <tr>\n",
       "      <th>332</th>\n",
       "      <td>Finland</td>\n",
       "      <td>5.0</td>\n",
       "      <td>7.469</td>\n",
       "      <td>1.443572</td>\n",
       "      <td>1.540247</td>\n",
       "      <td>0.809158</td>\n",
       "      <td>0.617951</td>\n",
       "      <td>0.382612</td>\n",
       "      <td>0.245483</td>\n",
       "      <td>2.430182</td>\n",
       "      <td>2017</td>\n",
       "    </tr>\n",
       "    <tr>\n",
       "      <th>333</th>\n",
       "      <td>Netherlands</td>\n",
       "      <td>6.0</td>\n",
       "      <td>7.377</td>\n",
       "      <td>1.503945</td>\n",
       "      <td>1.428939</td>\n",
       "      <td>0.810696</td>\n",
       "      <td>0.585384</td>\n",
       "      <td>0.282662</td>\n",
       "      <td>0.470490</td>\n",
       "      <td>2.294804</td>\n",
       "      <td>2017</td>\n",
       "    </tr>\n",
       "    <tr>\n",
       "      <th>334</th>\n",
       "      <td>Canada</td>\n",
       "      <td>7.0</td>\n",
       "      <td>7.316</td>\n",
       "      <td>1.479204</td>\n",
       "      <td>1.481349</td>\n",
       "      <td>0.834558</td>\n",
       "      <td>0.611101</td>\n",
       "      <td>0.287372</td>\n",
       "      <td>0.435540</td>\n",
       "      <td>2.187264</td>\n",
       "      <td>2017</td>\n",
       "    </tr>\n",
       "    <tr>\n",
       "      <th>335</th>\n",
       "      <td>New Zealand</td>\n",
       "      <td>8.0</td>\n",
       "      <td>7.314</td>\n",
       "      <td>1.405706</td>\n",
       "      <td>1.548195</td>\n",
       "      <td>0.816760</td>\n",
       "      <td>0.614062</td>\n",
       "      <td>0.382817</td>\n",
       "      <td>0.500005</td>\n",
       "      <td>2.046456</td>\n",
       "      <td>2017</td>\n",
       "    </tr>\n",
       "    <tr>\n",
       "      <th>336</th>\n",
       "      <td>Sweden</td>\n",
       "      <td>9.0</td>\n",
       "      <td>7.284</td>\n",
       "      <td>1.494387</td>\n",
       "      <td>1.478162</td>\n",
       "      <td>0.830875</td>\n",
       "      <td>0.612924</td>\n",
       "      <td>0.384399</td>\n",
       "      <td>0.385399</td>\n",
       "      <td>2.097538</td>\n",
       "      <td>2017</td>\n",
       "    </tr>\n",
       "    <tr>\n",
       "      <th>337</th>\n",
       "      <td>Australia</td>\n",
       "      <td>10.0</td>\n",
       "      <td>7.284</td>\n",
       "      <td>1.484415</td>\n",
       "      <td>1.510042</td>\n",
       "      <td>0.843887</td>\n",
       "      <td>0.601607</td>\n",
       "      <td>0.301184</td>\n",
       "      <td>0.477699</td>\n",
       "      <td>2.065211</td>\n",
       "      <td>2017</td>\n",
       "    </tr>\n",
       "    <tr>\n",
       "      <th>338</th>\n",
       "      <td>Israel</td>\n",
       "      <td>11.0</td>\n",
       "      <td>7.213</td>\n",
       "      <td>1.375382</td>\n",
       "      <td>1.376290</td>\n",
       "      <td>0.838404</td>\n",
       "      <td>0.405989</td>\n",
       "      <td>0.085242</td>\n",
       "      <td>0.330083</td>\n",
       "      <td>2.801757</td>\n",
       "      <td>2017</td>\n",
       "    </tr>\n",
       "    <tr>\n",
       "      <th>339</th>\n",
       "      <td>Costa Rica</td>\n",
       "      <td>12.0</td>\n",
       "      <td>7.079</td>\n",
       "      <td>1.109706</td>\n",
       "      <td>1.416404</td>\n",
       "      <td>0.759509</td>\n",
       "      <td>0.580132</td>\n",
       "      <td>0.100107</td>\n",
       "      <td>0.214613</td>\n",
       "      <td>2.898639</td>\n",
       "      <td>2017</td>\n",
       "    </tr>\n",
       "    <tr>\n",
       "      <th>340</th>\n",
       "      <td>Austria</td>\n",
       "      <td>13.0</td>\n",
       "      <td>7.006</td>\n",
       "      <td>1.487097</td>\n",
       "      <td>1.459945</td>\n",
       "      <td>0.815328</td>\n",
       "      <td>0.567766</td>\n",
       "      <td>0.221060</td>\n",
       "      <td>0.316472</td>\n",
       "      <td>2.138506</td>\n",
       "      <td>2017</td>\n",
       "    </tr>\n",
       "    <tr>\n",
       "      <th>341</th>\n",
       "      <td>United States</td>\n",
       "      <td>14.0</td>\n",
       "      <td>6.993</td>\n",
       "      <td>1.546259</td>\n",
       "      <td>1.419921</td>\n",
       "      <td>0.774287</td>\n",
       "      <td>0.505741</td>\n",
       "      <td>0.135639</td>\n",
       "      <td>0.392579</td>\n",
       "      <td>2.218113</td>\n",
       "      <td>2017</td>\n",
       "    </tr>\n",
       "    <tr>\n",
       "      <th>342</th>\n",
       "      <td>Ireland</td>\n",
       "      <td>15.0</td>\n",
       "      <td>6.977</td>\n",
       "      <td>1.535707</td>\n",
       "      <td>1.558231</td>\n",
       "      <td>0.809783</td>\n",
       "      <td>0.573110</td>\n",
       "      <td>0.298388</td>\n",
       "      <td>0.427858</td>\n",
       "      <td>1.773869</td>\n",
       "      <td>2017</td>\n",
       "    </tr>\n",
       "    <tr>\n",
       "      <th>343</th>\n",
       "      <td>Germany</td>\n",
       "      <td>16.0</td>\n",
       "      <td>6.951</td>\n",
       "      <td>1.487923</td>\n",
       "      <td>1.472520</td>\n",
       "      <td>0.798951</td>\n",
       "      <td>0.562511</td>\n",
       "      <td>0.276732</td>\n",
       "      <td>0.336269</td>\n",
       "      <td>2.015770</td>\n",
       "      <td>2017</td>\n",
       "    </tr>\n",
       "  </tbody>\n",
       "</table>\n",
       "</div>"
      ],
      "text/plain": [
       "           Country  Happiness.Rank  Happiness.Score       GDP    Family  \\\n",
       "0      Switzerland             1.0            7.587  1.396510  1.349510   \n",
       "1          Iceland             2.0            7.561  1.302320  1.402230   \n",
       "2          Denmark             3.0            7.527  1.325480  1.360580   \n",
       "3           Norway             4.0            7.522  1.459000  1.330950   \n",
       "4           Canada             5.0            7.427  1.326290  1.322610   \n",
       "5          Finland             6.0            7.406  1.290250  1.318260   \n",
       "6      Netherlands             7.0            7.378  1.329440  1.280170   \n",
       "7           Sweden             8.0            7.364  1.331710  1.289070   \n",
       "8      New Zealand             9.0            7.286  1.250180  1.319670   \n",
       "9        Australia            10.0            7.284  1.333580  1.309230   \n",
       "10          Israel            11.0            7.278  1.228570  1.223930   \n",
       "11      Costa Rica            12.0            7.226  0.955780  1.237880   \n",
       "12         Austria            13.0            7.200  1.337230  1.297040   \n",
       "13          Mexico            14.0            7.187  1.020540  0.914510   \n",
       "14   United States            15.0            7.119  1.394510  1.247110   \n",
       "15          Brazil            16.0            6.983  0.981240  1.232870   \n",
       "164    Switzerland             1.0            7.587  1.396510  1.349510   \n",
       "165        Iceland             2.0            7.561  1.302320  1.402230   \n",
       "166        Denmark             3.0            7.527  1.325480  1.360580   \n",
       "167         Norway             4.0            7.522  1.459000  1.330950   \n",
       "168         Canada             5.0            7.427  1.326290  1.322610   \n",
       "169        Finland             6.0            7.406  1.290250  1.318260   \n",
       "170    Netherlands             7.0            7.378  1.329440  1.280170   \n",
       "171         Sweden             8.0            7.364  1.331710  1.289070   \n",
       "172    New Zealand             9.0            7.286  1.250180  1.319670   \n",
       "173      Australia            10.0            7.284  1.333580  1.309230   \n",
       "174         Israel            11.0            7.278  1.228570  1.223930   \n",
       "175     Costa Rica            12.0            7.226  0.955780  1.237880   \n",
       "176        Austria            13.0            7.200  1.337230  1.297040   \n",
       "177         Mexico            14.0            7.187  1.020540  0.914510   \n",
       "178  United States            15.0            7.119  1.394510  1.247110   \n",
       "179         Brazil            16.0            6.983  0.981240  1.232870   \n",
       "328         Norway             1.0            7.537  1.616463  1.533524   \n",
       "329        Denmark             2.0            7.522  1.482383  1.551122   \n",
       "330        Iceland             3.0            7.504  1.480633  1.610574   \n",
       "331    Switzerland             4.0            7.494  1.564980  1.516912   \n",
       "332        Finland             5.0            7.469  1.443572  1.540247   \n",
       "333    Netherlands             6.0            7.377  1.503945  1.428939   \n",
       "334         Canada             7.0            7.316  1.479204  1.481349   \n",
       "335    New Zealand             8.0            7.314  1.405706  1.548195   \n",
       "336         Sweden             9.0            7.284  1.494387  1.478162   \n",
       "337      Australia            10.0            7.284  1.484415  1.510042   \n",
       "338         Israel            11.0            7.213  1.375382  1.376290   \n",
       "339     Costa Rica            12.0            7.079  1.109706  1.416404   \n",
       "340        Austria            13.0            7.006  1.487097  1.459945   \n",
       "341  United States            14.0            6.993  1.546259  1.419921   \n",
       "342        Ireland            15.0            6.977  1.535707  1.558231   \n",
       "343        Germany            16.0            6.951  1.487923  1.472520   \n",
       "\n",
       "     Life.Expectancy   Freedom  Govt.Corruption  Generosity  \\\n",
       "0           0.941430  0.665570         0.419780    0.296780   \n",
       "1           0.947840  0.628770         0.141450    0.436300   \n",
       "2           0.874640  0.649380         0.483570    0.341390   \n",
       "3           0.885210  0.669730         0.365030    0.346990   \n",
       "4           0.905630  0.632970         0.329570    0.458110   \n",
       "5           0.889110  0.641690         0.413720    0.233510   \n",
       "6           0.892840  0.615760         0.318140    0.476100   \n",
       "7           0.910870  0.659800         0.438440    0.362620   \n",
       "8           0.908370  0.639380         0.429220    0.475010   \n",
       "9           0.931560  0.651240         0.356370    0.435620   \n",
       "10          0.913870  0.413190         0.077850    0.331720   \n",
       "11          0.860270  0.633760         0.105830    0.254970   \n",
       "12          0.890420  0.624330         0.186760    0.330880   \n",
       "13          0.814440  0.481810         0.213120    0.140740   \n",
       "14          0.861790  0.546040         0.158900    0.401050   \n",
       "15          0.697020  0.490490         0.175210    0.145740   \n",
       "164         0.941430  0.665570         0.419780    0.296780   \n",
       "165         0.947840  0.628770         0.141450    0.436300   \n",
       "166         0.874640  0.649380         0.483570    0.341390   \n",
       "167         0.885210  0.669730         0.365030    0.346990   \n",
       "168         0.905630  0.632970         0.329570    0.458110   \n",
       "169         0.889110  0.641690         0.413720    0.233510   \n",
       "170         0.892840  0.615760         0.318140    0.476100   \n",
       "171         0.910870  0.659800         0.438440    0.362620   \n",
       "172         0.908370  0.639380         0.429220    0.475010   \n",
       "173         0.931560  0.651240         0.356370    0.435620   \n",
       "174         0.913870  0.413190         0.077850    0.331720   \n",
       "175         0.860270  0.633760         0.105830    0.254970   \n",
       "176         0.890420  0.624330         0.186760    0.330880   \n",
       "177         0.814440  0.481810         0.213120    0.140740   \n",
       "178         0.861790  0.546040         0.158900    0.401050   \n",
       "179         0.697020  0.490490         0.175210    0.145740   \n",
       "328         0.796667  0.635423         0.315964    0.362012   \n",
       "329         0.792566  0.626007         0.400770    0.355280   \n",
       "330         0.833552  0.627163         0.153527    0.475540   \n",
       "331         0.858131  0.620071         0.367007    0.290549   \n",
       "332         0.809158  0.617951         0.382612    0.245483   \n",
       "333         0.810696  0.585384         0.282662    0.470490   \n",
       "334         0.834558  0.611101         0.287372    0.435540   \n",
       "335         0.816760  0.614062         0.382817    0.500005   \n",
       "336         0.830875  0.612924         0.384399    0.385399   \n",
       "337         0.843887  0.601607         0.301184    0.477699   \n",
       "338         0.838404  0.405989         0.085242    0.330083   \n",
       "339         0.759509  0.580132         0.100107    0.214613   \n",
       "340         0.815328  0.567766         0.221060    0.316472   \n",
       "341         0.774287  0.505741         0.135639    0.392579   \n",
       "342         0.809783  0.573110         0.298388    0.427858   \n",
       "343         0.798951  0.562511         0.276732    0.336269   \n",
       "\n",
       "     Dystopia.Residual  Year  \n",
       "0             2.517380  2015  \n",
       "1             2.702010  2015  \n",
       "2             2.492040  2015  \n",
       "3             2.465310  2015  \n",
       "4             2.451760  2015  \n",
       "5             2.619550  2015  \n",
       "6             2.465700  2015  \n",
       "7             2.371190  2015  \n",
       "8             2.264250  2015  \n",
       "9             2.266460  2015  \n",
       "10            3.088540  2015  \n",
       "11            3.177280  2015  \n",
       "12            2.533200  2015  \n",
       "13            3.602140  2015  \n",
       "14            2.510110  2015  \n",
       "15            3.260010  2015  \n",
       "164           2.517380  2016  \n",
       "165           2.702010  2016  \n",
       "166           2.492040  2016  \n",
       "167           2.465310  2016  \n",
       "168           2.451760  2016  \n",
       "169           2.619550  2016  \n",
       "170           2.465700  2016  \n",
       "171           2.371190  2016  \n",
       "172           2.264250  2016  \n",
       "173           2.266460  2016  \n",
       "174           3.088540  2016  \n",
       "175           3.177280  2016  \n",
       "176           2.533200  2016  \n",
       "177           3.602140  2016  \n",
       "178           2.510110  2016  \n",
       "179           3.260010  2016  \n",
       "328           2.277027  2017  \n",
       "329           2.313707  2017  \n",
       "330           2.322715  2017  \n",
       "331           2.276716  2017  \n",
       "332           2.430182  2017  \n",
       "333           2.294804  2017  \n",
       "334           2.187264  2017  \n",
       "335           2.046456  2017  \n",
       "336           2.097538  2017  \n",
       "337           2.065211  2017  \n",
       "338           2.801757  2017  \n",
       "339           2.898639  2017  \n",
       "340           2.138506  2017  \n",
       "341           2.218113  2017  \n",
       "342           1.773869  2017  \n",
       "343           2.015770  2017  "
      ]
     },
     "execution_count": 113,
     "metadata": {},
     "output_type": "execute_result"
    }
   ],
   "source": [
    "happiest"
   ]
  },
  {
   "cell_type": "code",
   "execution_count": 114,
   "metadata": {
    "ExecuteTime": {
     "end_time": "2023-08-22T13:53:18.733467Z",
     "start_time": "2023-08-22T13:53:18.728316Z"
    }
   },
   "outputs": [
    {
     "data": {
      "text/plain": [
       "18"
      ]
     },
     "execution_count": 114,
     "metadata": {},
     "output_type": "execute_result"
    }
   ],
   "source": [
    "happiest.Country.nunique()"
   ]
  },
  {
   "cell_type": "code",
   "execution_count": 115,
   "metadata": {
    "ExecuteTime": {
     "end_time": "2023-08-22T13:54:06.798016Z",
     "start_time": "2023-08-22T13:54:06.792403Z"
    }
   },
   "outputs": [
    {
     "data": {
      "text/plain": [
       "array(['Switzerland', 'Iceland', 'Denmark', 'Norway', 'Canada', 'Finland',\n",
       "       'Netherlands', 'Sweden', 'New Zealand', 'Australia', 'Israel',\n",
       "       'Costa Rica', 'Austria', 'Mexico', 'United States', 'Brazil',\n",
       "       'Ireland', 'Germany'], dtype=object)"
      ]
     },
     "execution_count": 115,
     "metadata": {},
     "output_type": "execute_result"
    }
   ],
   "source": [
    "# happiest.Country.unique()\n",
    "happiest['Country'].unique()"
   ]
  },
  {
   "cell_type": "markdown",
   "metadata": {},
   "source": [
    "There isn't a single Asian or African country in the happiest 10% of countries!\n",
    "\n",
    "We can also combine Boolean indices."
   ]
  },
  {
   "cell_type": "code",
   "execution_count": 119,
   "metadata": {
    "ExecuteTime": {
     "end_time": "2023-08-22T13:56:18.915222Z",
     "start_time": "2023-08-22T13:56:18.898543Z"
    }
   },
   "outputs": [
    {
     "data": {
      "text/html": [
       "<div>\n",
       "<style scoped>\n",
       "    .dataframe tbody tr th:only-of-type {\n",
       "        vertical-align: middle;\n",
       "    }\n",
       "\n",
       "    .dataframe tbody tr th {\n",
       "        vertical-align: top;\n",
       "    }\n",
       "\n",
       "    .dataframe thead th {\n",
       "        text-align: right;\n",
       "    }\n",
       "</style>\n",
       "<table border=\"1\" class=\"dataframe\">\n",
       "  <thead>\n",
       "    <tr style=\"text-align: right;\">\n",
       "      <th></th>\n",
       "      <th>Country</th>\n",
       "      <th>Happiness.Rank</th>\n",
       "      <th>Happiness.Score</th>\n",
       "      <th>GDP</th>\n",
       "      <th>Family</th>\n",
       "      <th>Life.Expectancy</th>\n",
       "      <th>Freedom</th>\n",
       "      <th>Govt.Corruption</th>\n",
       "      <th>Generosity</th>\n",
       "      <th>Dystopia.Residual</th>\n",
       "      <th>Year</th>\n",
       "    </tr>\n",
       "  </thead>\n",
       "  <tbody>\n",
       "    <tr>\n",
       "      <th>0</th>\n",
       "      <td>Switzerland</td>\n",
       "      <td>1.0</td>\n",
       "      <td>7.587</td>\n",
       "      <td>1.39651</td>\n",
       "      <td>1.34951</td>\n",
       "      <td>0.94143</td>\n",
       "      <td>0.66557</td>\n",
       "      <td>0.41978</td>\n",
       "      <td>0.29678</td>\n",
       "      <td>2.51738</td>\n",
       "      <td>2015</td>\n",
       "    </tr>\n",
       "    <tr>\n",
       "      <th>1</th>\n",
       "      <td>Iceland</td>\n",
       "      <td>2.0</td>\n",
       "      <td>7.561</td>\n",
       "      <td>1.30232</td>\n",
       "      <td>1.40223</td>\n",
       "      <td>0.94784</td>\n",
       "      <td>0.62877</td>\n",
       "      <td>0.14145</td>\n",
       "      <td>0.43630</td>\n",
       "      <td>2.70201</td>\n",
       "      <td>2015</td>\n",
       "    </tr>\n",
       "    <tr>\n",
       "      <th>2</th>\n",
       "      <td>Denmark</td>\n",
       "      <td>3.0</td>\n",
       "      <td>7.527</td>\n",
       "      <td>1.32548</td>\n",
       "      <td>1.36058</td>\n",
       "      <td>0.87464</td>\n",
       "      <td>0.64938</td>\n",
       "      <td>0.48357</td>\n",
       "      <td>0.34139</td>\n",
       "      <td>2.49204</td>\n",
       "      <td>2015</td>\n",
       "    </tr>\n",
       "  </tbody>\n",
       "</table>\n",
       "</div>"
      ],
      "text/plain": [
       "       Country  Happiness.Rank  Happiness.Score      GDP   Family  \\\n",
       "0  Switzerland             1.0            7.587  1.39651  1.34951   \n",
       "1      Iceland             2.0            7.561  1.30232  1.40223   \n",
       "2      Denmark             3.0            7.527  1.32548  1.36058   \n",
       "\n",
       "   Life.Expectancy  Freedom  Govt.Corruption  Generosity  Dystopia.Residual  \\\n",
       "0          0.94143  0.66557          0.41978     0.29678            2.51738   \n",
       "1          0.94784  0.62877          0.14145     0.43630            2.70201   \n",
       "2          0.87464  0.64938          0.48357     0.34139            2.49204   \n",
       "\n",
       "   Year  \n",
       "0  2015  \n",
       "1  2015  \n",
       "2  2015  "
      ]
     },
     "execution_count": 119,
     "metadata": {},
     "output_type": "execute_result"
    }
   ],
   "source": [
    "# Top 3 happiest countries in 2015\n",
    "\n",
    "happ[(happ.Year == 2015) & (happ['Happiness.Rank'] <= 3)]\n",
    "# happ[np.logical_and(happ.Year == 2015, happ['Happiness.Rank'] <= 3)]"
   ]
  },
  {
   "cell_type": "markdown",
   "metadata": {},
   "source": [
    "### Missing Values\n",
    "\n",
    "The `.info()` method will yield information on missing values, column by column. We can see there are 21 rows with missing values. "
   ]
  },
  {
   "cell_type": "code",
   "execution_count": 120,
   "metadata": {
    "ExecuteTime": {
     "end_time": "2023-08-22T13:56:19.609779Z",
     "start_time": "2023-08-22T13:56:19.599625Z"
    },
    "scrolled": true
   },
   "outputs": [
    {
     "name": "stdout",
     "output_type": "stream",
     "text": [
      "<class 'pandas.core.frame.DataFrame'>\n",
      "RangeIndex: 492 entries, 0 to 491\n",
      "Data columns (total 11 columns):\n",
      " #   Column             Non-Null Count  Dtype  \n",
      "---  ------             --------------  -----  \n",
      " 0   Country            492 non-null    object \n",
      " 1   Happiness.Rank     471 non-null    float64\n",
      " 2   Happiness.Score    471 non-null    float64\n",
      " 3   GDP                471 non-null    float64\n",
      " 4   Family             471 non-null    float64\n",
      " 5   Life.Expectancy    471 non-null    float64\n",
      " 6   Freedom            471 non-null    float64\n",
      " 7   Govt.Corruption    471 non-null    float64\n",
      " 8   Generosity         471 non-null    float64\n",
      " 9   Dystopia.Residual  471 non-null    float64\n",
      " 10  Year               492 non-null    int64  \n",
      "dtypes: float64(9), int64(1), object(1)\n",
      "memory usage: 42.4+ KB\n"
     ]
    }
   ],
   "source": [
    "happ.info()"
   ]
  },
  {
   "cell_type": "markdown",
   "metadata": {},
   "source": [
    "*Sometimes*, it is appropriate to drop rows with missing values. This can be done with the `.dropna` method. Remember that it returns a new dataframe. The original one remains unchanged, unless you include the `inplace=True` argument."
   ]
  },
  {
   "cell_type": "code",
   "execution_count": 127,
   "metadata": {
    "ExecuteTime": {
     "end_time": "2023-08-22T13:59:01.750061Z",
     "start_time": "2023-08-22T13:59:01.731171Z"
    }
   },
   "outputs": [
    {
     "data": {
      "text/html": [
       "<div>\n",
       "<style scoped>\n",
       "    .dataframe tbody tr th:only-of-type {\n",
       "        vertical-align: middle;\n",
       "    }\n",
       "\n",
       "    .dataframe tbody tr th {\n",
       "        vertical-align: top;\n",
       "    }\n",
       "\n",
       "    .dataframe thead th {\n",
       "        text-align: right;\n",
       "    }\n",
       "</style>\n",
       "<table border=\"1\" class=\"dataframe\">\n",
       "  <thead>\n",
       "    <tr style=\"text-align: right;\">\n",
       "      <th></th>\n",
       "      <th>Country</th>\n",
       "      <th>Happiness.Rank</th>\n",
       "      <th>Happiness.Score</th>\n",
       "      <th>GDP</th>\n",
       "      <th>Family</th>\n",
       "      <th>Life.Expectancy</th>\n",
       "      <th>Freedom</th>\n",
       "      <th>Govt.Corruption</th>\n",
       "      <th>Generosity</th>\n",
       "      <th>Dystopia.Residual</th>\n",
       "      <th>Year</th>\n",
       "    </tr>\n",
       "  </thead>\n",
       "  <tbody>\n",
       "    <tr>\n",
       "      <th>0</th>\n",
       "      <td>Switzerland</td>\n",
       "      <td>1.0</td>\n",
       "      <td>7.587</td>\n",
       "      <td>1.396510</td>\n",
       "      <td>1.349510</td>\n",
       "      <td>0.941430</td>\n",
       "      <td>0.665570</td>\n",
       "      <td>0.419780</td>\n",
       "      <td>0.296780</td>\n",
       "      <td>2.517380</td>\n",
       "      <td>2015</td>\n",
       "    </tr>\n",
       "    <tr>\n",
       "      <th>1</th>\n",
       "      <td>Iceland</td>\n",
       "      <td>2.0</td>\n",
       "      <td>7.561</td>\n",
       "      <td>1.302320</td>\n",
       "      <td>1.402230</td>\n",
       "      <td>0.947840</td>\n",
       "      <td>0.628770</td>\n",
       "      <td>0.141450</td>\n",
       "      <td>0.436300</td>\n",
       "      <td>2.702010</td>\n",
       "      <td>2015</td>\n",
       "    </tr>\n",
       "    <tr>\n",
       "      <th>2</th>\n",
       "      <td>Denmark</td>\n",
       "      <td>3.0</td>\n",
       "      <td>7.527</td>\n",
       "      <td>1.325480</td>\n",
       "      <td>1.360580</td>\n",
       "      <td>0.874640</td>\n",
       "      <td>0.649380</td>\n",
       "      <td>0.483570</td>\n",
       "      <td>0.341390</td>\n",
       "      <td>2.492040</td>\n",
       "      <td>2015</td>\n",
       "    </tr>\n",
       "    <tr>\n",
       "      <th>3</th>\n",
       "      <td>Norway</td>\n",
       "      <td>4.0</td>\n",
       "      <td>7.522</td>\n",
       "      <td>1.459000</td>\n",
       "      <td>1.330950</td>\n",
       "      <td>0.885210</td>\n",
       "      <td>0.669730</td>\n",
       "      <td>0.365030</td>\n",
       "      <td>0.346990</td>\n",
       "      <td>2.465310</td>\n",
       "      <td>2015</td>\n",
       "    </tr>\n",
       "    <tr>\n",
       "      <th>4</th>\n",
       "      <td>Canada</td>\n",
       "      <td>5.0</td>\n",
       "      <td>7.427</td>\n",
       "      <td>1.326290</td>\n",
       "      <td>1.322610</td>\n",
       "      <td>0.905630</td>\n",
       "      <td>0.632970</td>\n",
       "      <td>0.329570</td>\n",
       "      <td>0.458110</td>\n",
       "      <td>2.451760</td>\n",
       "      <td>2015</td>\n",
       "    </tr>\n",
       "    <tr>\n",
       "      <th>...</th>\n",
       "      <td>...</td>\n",
       "      <td>...</td>\n",
       "      <td>...</td>\n",
       "      <td>...</td>\n",
       "      <td>...</td>\n",
       "      <td>...</td>\n",
       "      <td>...</td>\n",
       "      <td>...</td>\n",
       "      <td>...</td>\n",
       "      <td>...</td>\n",
       "      <td>...</td>\n",
       "    </tr>\n",
       "    <tr>\n",
       "      <th>478</th>\n",
       "      <td>Rwanda</td>\n",
       "      <td>151.0</td>\n",
       "      <td>3.471</td>\n",
       "      <td>0.368746</td>\n",
       "      <td>0.945707</td>\n",
       "      <td>0.326425</td>\n",
       "      <td>0.581844</td>\n",
       "      <td>0.455220</td>\n",
       "      <td>0.252756</td>\n",
       "      <td>0.540061</td>\n",
       "      <td>2017</td>\n",
       "    </tr>\n",
       "    <tr>\n",
       "      <th>479</th>\n",
       "      <td>Syria</td>\n",
       "      <td>152.0</td>\n",
       "      <td>3.462</td>\n",
       "      <td>0.777153</td>\n",
       "      <td>0.396103</td>\n",
       "      <td>0.500533</td>\n",
       "      <td>0.081539</td>\n",
       "      <td>0.151347</td>\n",
       "      <td>0.493664</td>\n",
       "      <td>1.061574</td>\n",
       "      <td>2017</td>\n",
       "    </tr>\n",
       "    <tr>\n",
       "      <th>480</th>\n",
       "      <td>Tanzania</td>\n",
       "      <td>153.0</td>\n",
       "      <td>3.349</td>\n",
       "      <td>0.511136</td>\n",
       "      <td>1.041990</td>\n",
       "      <td>0.364509</td>\n",
       "      <td>0.390018</td>\n",
       "      <td>0.066035</td>\n",
       "      <td>0.354256</td>\n",
       "      <td>0.621130</td>\n",
       "      <td>2017</td>\n",
       "    </tr>\n",
       "    <tr>\n",
       "      <th>481</th>\n",
       "      <td>Burundi</td>\n",
       "      <td>154.0</td>\n",
       "      <td>2.905</td>\n",
       "      <td>0.091623</td>\n",
       "      <td>0.629794</td>\n",
       "      <td>0.151611</td>\n",
       "      <td>0.059901</td>\n",
       "      <td>0.084148</td>\n",
       "      <td>0.204435</td>\n",
       "      <td>1.683024</td>\n",
       "      <td>2017</td>\n",
       "    </tr>\n",
       "    <tr>\n",
       "      <th>482</th>\n",
       "      <td>Central African Republic</td>\n",
       "      <td>155.0</td>\n",
       "      <td>2.693</td>\n",
       "      <td>0.000000</td>\n",
       "      <td>0.000000</td>\n",
       "      <td>0.018773</td>\n",
       "      <td>0.270842</td>\n",
       "      <td>0.056565</td>\n",
       "      <td>0.280876</td>\n",
       "      <td>2.066005</td>\n",
       "      <td>2017</td>\n",
       "    </tr>\n",
       "  </tbody>\n",
       "</table>\n",
       "<p>471 rows × 11 columns</p>\n",
       "</div>"
      ],
      "text/plain": [
       "                      Country  Happiness.Rank  Happiness.Score       GDP  \\\n",
       "0                 Switzerland             1.0            7.587  1.396510   \n",
       "1                     Iceland             2.0            7.561  1.302320   \n",
       "2                     Denmark             3.0            7.527  1.325480   \n",
       "3                      Norway             4.0            7.522  1.459000   \n",
       "4                      Canada             5.0            7.427  1.326290   \n",
       "..                        ...             ...              ...       ...   \n",
       "478                    Rwanda           151.0            3.471  0.368746   \n",
       "479                     Syria           152.0            3.462  0.777153   \n",
       "480                  Tanzania           153.0            3.349  0.511136   \n",
       "481                   Burundi           154.0            2.905  0.091623   \n",
       "482  Central African Republic           155.0            2.693  0.000000   \n",
       "\n",
       "       Family  Life.Expectancy   Freedom  Govt.Corruption  Generosity  \\\n",
       "0    1.349510         0.941430  0.665570         0.419780    0.296780   \n",
       "1    1.402230         0.947840  0.628770         0.141450    0.436300   \n",
       "2    1.360580         0.874640  0.649380         0.483570    0.341390   \n",
       "3    1.330950         0.885210  0.669730         0.365030    0.346990   \n",
       "4    1.322610         0.905630  0.632970         0.329570    0.458110   \n",
       "..        ...              ...       ...              ...         ...   \n",
       "478  0.945707         0.326425  0.581844         0.455220    0.252756   \n",
       "479  0.396103         0.500533  0.081539         0.151347    0.493664   \n",
       "480  1.041990         0.364509  0.390018         0.066035    0.354256   \n",
       "481  0.629794         0.151611  0.059901         0.084148    0.204435   \n",
       "482  0.000000         0.018773  0.270842         0.056565    0.280876   \n",
       "\n",
       "     Dystopia.Residual  Year  \n",
       "0             2.517380  2015  \n",
       "1             2.702010  2015  \n",
       "2             2.492040  2015  \n",
       "3             2.465310  2015  \n",
       "4             2.451760  2015  \n",
       "..                 ...   ...  \n",
       "478           0.540061  2017  \n",
       "479           1.061574  2017  \n",
       "480           0.621130  2017  \n",
       "481           1.683024  2017  \n",
       "482           2.066005  2017  \n",
       "\n",
       "[471 rows x 11 columns]"
      ]
     },
     "execution_count": 127,
     "metadata": {},
     "output_type": "execute_result"
    }
   ],
   "source": [
    "happ.dropna(axis=0, how='any')"
   ]
  },
  {
   "cell_type": "code",
   "execution_count": 125,
   "metadata": {
    "ExecuteTime": {
     "end_time": "2023-08-22T13:58:03.818950Z",
     "start_time": "2023-08-22T13:58:03.806457Z"
    }
   },
   "outputs": [
    {
     "data": {
      "text/html": [
       "<div>\n",
       "<style scoped>\n",
       "    .dataframe tbody tr th:only-of-type {\n",
       "        vertical-align: middle;\n",
       "    }\n",
       "\n",
       "    .dataframe tbody tr th {\n",
       "        vertical-align: top;\n",
       "    }\n",
       "\n",
       "    .dataframe thead th {\n",
       "        text-align: right;\n",
       "    }\n",
       "</style>\n",
       "<table border=\"1\" class=\"dataframe\">\n",
       "  <thead>\n",
       "    <tr style=\"text-align: right;\">\n",
       "      <th></th>\n",
       "      <th>Country</th>\n",
       "      <th>Happiness.Rank</th>\n",
       "      <th>Happiness.Score</th>\n",
       "      <th>GDP</th>\n",
       "      <th>Family</th>\n",
       "      <th>Life.Expectancy</th>\n",
       "      <th>Freedom</th>\n",
       "      <th>Govt.Corruption</th>\n",
       "      <th>Generosity</th>\n",
       "      <th>Dystopia.Residual</th>\n",
       "      <th>Year</th>\n",
       "    </tr>\n",
       "  </thead>\n",
       "  <tbody>\n",
       "    <tr>\n",
       "      <th>0</th>\n",
       "      <td>False</td>\n",
       "      <td>False</td>\n",
       "      <td>False</td>\n",
       "      <td>False</td>\n",
       "      <td>False</td>\n",
       "      <td>False</td>\n",
       "      <td>False</td>\n",
       "      <td>False</td>\n",
       "      <td>False</td>\n",
       "      <td>False</td>\n",
       "      <td>False</td>\n",
       "    </tr>\n",
       "    <tr>\n",
       "      <th>1</th>\n",
       "      <td>False</td>\n",
       "      <td>False</td>\n",
       "      <td>False</td>\n",
       "      <td>False</td>\n",
       "      <td>False</td>\n",
       "      <td>False</td>\n",
       "      <td>False</td>\n",
       "      <td>False</td>\n",
       "      <td>False</td>\n",
       "      <td>False</td>\n",
       "      <td>False</td>\n",
       "    </tr>\n",
       "    <tr>\n",
       "      <th>2</th>\n",
       "      <td>False</td>\n",
       "      <td>False</td>\n",
       "      <td>False</td>\n",
       "      <td>False</td>\n",
       "      <td>False</td>\n",
       "      <td>False</td>\n",
       "      <td>False</td>\n",
       "      <td>False</td>\n",
       "      <td>False</td>\n",
       "      <td>False</td>\n",
       "      <td>False</td>\n",
       "    </tr>\n",
       "    <tr>\n",
       "      <th>3</th>\n",
       "      <td>False</td>\n",
       "      <td>False</td>\n",
       "      <td>False</td>\n",
       "      <td>False</td>\n",
       "      <td>False</td>\n",
       "      <td>False</td>\n",
       "      <td>False</td>\n",
       "      <td>False</td>\n",
       "      <td>False</td>\n",
       "      <td>False</td>\n",
       "      <td>False</td>\n",
       "    </tr>\n",
       "    <tr>\n",
       "      <th>4</th>\n",
       "      <td>False</td>\n",
       "      <td>False</td>\n",
       "      <td>False</td>\n",
       "      <td>False</td>\n",
       "      <td>False</td>\n",
       "      <td>False</td>\n",
       "      <td>False</td>\n",
       "      <td>False</td>\n",
       "      <td>False</td>\n",
       "      <td>False</td>\n",
       "      <td>False</td>\n",
       "    </tr>\n",
       "    <tr>\n",
       "      <th>...</th>\n",
       "      <td>...</td>\n",
       "      <td>...</td>\n",
       "      <td>...</td>\n",
       "      <td>...</td>\n",
       "      <td>...</td>\n",
       "      <td>...</td>\n",
       "      <td>...</td>\n",
       "      <td>...</td>\n",
       "      <td>...</td>\n",
       "      <td>...</td>\n",
       "      <td>...</td>\n",
       "    </tr>\n",
       "    <tr>\n",
       "      <th>487</th>\n",
       "      <td>False</td>\n",
       "      <td>True</td>\n",
       "      <td>True</td>\n",
       "      <td>True</td>\n",
       "      <td>True</td>\n",
       "      <td>True</td>\n",
       "      <td>True</td>\n",
       "      <td>True</td>\n",
       "      <td>True</td>\n",
       "      <td>True</td>\n",
       "      <td>False</td>\n",
       "    </tr>\n",
       "    <tr>\n",
       "      <th>488</th>\n",
       "      <td>False</td>\n",
       "      <td>True</td>\n",
       "      <td>True</td>\n",
       "      <td>True</td>\n",
       "      <td>True</td>\n",
       "      <td>True</td>\n",
       "      <td>True</td>\n",
       "      <td>True</td>\n",
       "      <td>True</td>\n",
       "      <td>True</td>\n",
       "      <td>False</td>\n",
       "    </tr>\n",
       "    <tr>\n",
       "      <th>489</th>\n",
       "      <td>False</td>\n",
       "      <td>True</td>\n",
       "      <td>True</td>\n",
       "      <td>True</td>\n",
       "      <td>True</td>\n",
       "      <td>True</td>\n",
       "      <td>True</td>\n",
       "      <td>True</td>\n",
       "      <td>True</td>\n",
       "      <td>True</td>\n",
       "      <td>False</td>\n",
       "    </tr>\n",
       "    <tr>\n",
       "      <th>490</th>\n",
       "      <td>False</td>\n",
       "      <td>True</td>\n",
       "      <td>True</td>\n",
       "      <td>True</td>\n",
       "      <td>True</td>\n",
       "      <td>True</td>\n",
       "      <td>True</td>\n",
       "      <td>True</td>\n",
       "      <td>True</td>\n",
       "      <td>True</td>\n",
       "      <td>False</td>\n",
       "    </tr>\n",
       "    <tr>\n",
       "      <th>491</th>\n",
       "      <td>False</td>\n",
       "      <td>True</td>\n",
       "      <td>True</td>\n",
       "      <td>True</td>\n",
       "      <td>True</td>\n",
       "      <td>True</td>\n",
       "      <td>True</td>\n",
       "      <td>True</td>\n",
       "      <td>True</td>\n",
       "      <td>True</td>\n",
       "      <td>False</td>\n",
       "    </tr>\n",
       "  </tbody>\n",
       "</table>\n",
       "<p>492 rows × 11 columns</p>\n",
       "</div>"
      ],
      "text/plain": [
       "     Country  Happiness.Rank  Happiness.Score    GDP  Family  Life.Expectancy  \\\n",
       "0      False           False            False  False   False            False   \n",
       "1      False           False            False  False   False            False   \n",
       "2      False           False            False  False   False            False   \n",
       "3      False           False            False  False   False            False   \n",
       "4      False           False            False  False   False            False   \n",
       "..       ...             ...              ...    ...     ...              ...   \n",
       "487    False            True             True   True    True             True   \n",
       "488    False            True             True   True    True             True   \n",
       "489    False            True             True   True    True             True   \n",
       "490    False            True             True   True    True             True   \n",
       "491    False            True             True   True    True             True   \n",
       "\n",
       "     Freedom  Govt.Corruption  Generosity  Dystopia.Residual   Year  \n",
       "0      False            False       False              False  False  \n",
       "1      False            False       False              False  False  \n",
       "2      False            False       False              False  False  \n",
       "3      False            False       False              False  False  \n",
       "4      False            False       False              False  False  \n",
       "..       ...              ...         ...                ...    ...  \n",
       "487     True             True        True               True  False  \n",
       "488     True             True        True               True  False  \n",
       "489     True             True        True               True  False  \n",
       "490     True             True        True               True  False  \n",
       "491     True             True        True               True  False  \n",
       "\n",
       "[492 rows x 11 columns]"
      ]
     },
     "execution_count": 125,
     "metadata": {},
     "output_type": "execute_result"
    }
   ],
   "source": [
    "pd.isna(happ)"
   ]
  },
  {
   "cell_type": "markdown",
   "metadata": {},
   "source": [
    "<a id='functions'></a>\n",
    "## Applying Functions to DataFrame\n",
    "\n",
    "A common task in data analysis is to apply a function to each column, or to each row. With a Pandas DataFrame, this can be achieved in a few ways, depending on how the function is to be applied:\n",
    "* To apply a function to *the entire DataFrame*, e.g. fitting a model, we use the `pipe` function. We shall see this later in the course.\n",
    "* To apply a function to *each row or each column*, we use the `apply` function.\n",
    "* To apply a function to *each element*, we use the `applymap` function. This is typically used with a lambda function.\n",
    "* There are several built-in functions that we can call to aggregate a column or a row. Examples of these are `count`, `sum`, `mean`, `median`, and so on. A full list can be found [here](https://pandas.pydata.org/docs/user_guide/basics.html#descriptive-statistics).\n",
    "\n",
    "Remember that the happiness dataframe contains 11 columns, but not all of them are numerical measures. Suppose we wish to count how many non-null values there are in each of the columns, apart from Happiness Rank, Country, and Year."
   ]
  },
  {
   "cell_type": "code",
   "execution_count": 5,
   "metadata": {
    "ExecuteTime": {
     "end_time": "2023-08-29T11:13:43.969010Z",
     "start_time": "2023-08-29T11:13:43.945761Z"
    }
   },
   "outputs": [
    {
     "data": {
      "text/html": [
       "<div>\n",
       "<style scoped>\n",
       "    .dataframe tbody tr th:only-of-type {\n",
       "        vertical-align: middle;\n",
       "    }\n",
       "\n",
       "    .dataframe tbody tr th {\n",
       "        vertical-align: top;\n",
       "    }\n",
       "\n",
       "    .dataframe thead th {\n",
       "        text-align: right;\n",
       "    }\n",
       "</style>\n",
       "<table border=\"1\" class=\"dataframe\">\n",
       "  <thead>\n",
       "    <tr style=\"text-align: right;\">\n",
       "      <th></th>\n",
       "      <th>Country</th>\n",
       "      <th>Happiness.Rank</th>\n",
       "      <th>Happiness.Score</th>\n",
       "      <th>GDP</th>\n",
       "      <th>Family</th>\n",
       "      <th>Life.Expectancy</th>\n",
       "      <th>Freedom</th>\n",
       "      <th>Govt.Corruption</th>\n",
       "      <th>Generosity</th>\n",
       "      <th>Dystopia.Residual</th>\n",
       "      <th>Year</th>\n",
       "    </tr>\n",
       "  </thead>\n",
       "  <tbody>\n",
       "    <tr>\n",
       "      <th>0</th>\n",
       "      <td>Switzerland</td>\n",
       "      <td>1.0</td>\n",
       "      <td>7.587</td>\n",
       "      <td>1.39651</td>\n",
       "      <td>1.34951</td>\n",
       "      <td>0.94143</td>\n",
       "      <td>0.66557</td>\n",
       "      <td>0.41978</td>\n",
       "      <td>0.29678</td>\n",
       "      <td>2.51738</td>\n",
       "      <td>2015</td>\n",
       "    </tr>\n",
       "    <tr>\n",
       "      <th>1</th>\n",
       "      <td>Iceland</td>\n",
       "      <td>2.0</td>\n",
       "      <td>7.561</td>\n",
       "      <td>1.30232</td>\n",
       "      <td>1.40223</td>\n",
       "      <td>0.94784</td>\n",
       "      <td>0.62877</td>\n",
       "      <td>0.14145</td>\n",
       "      <td>0.43630</td>\n",
       "      <td>2.70201</td>\n",
       "      <td>2015</td>\n",
       "    </tr>\n",
       "    <tr>\n",
       "      <th>2</th>\n",
       "      <td>Denmark</td>\n",
       "      <td>3.0</td>\n",
       "      <td>7.527</td>\n",
       "      <td>1.32548</td>\n",
       "      <td>1.36058</td>\n",
       "      <td>0.87464</td>\n",
       "      <td>0.64938</td>\n",
       "      <td>0.48357</td>\n",
       "      <td>0.34139</td>\n",
       "      <td>2.49204</td>\n",
       "      <td>2015</td>\n",
       "    </tr>\n",
       "    <tr>\n",
       "      <th>3</th>\n",
       "      <td>Norway</td>\n",
       "      <td>4.0</td>\n",
       "      <td>7.522</td>\n",
       "      <td>1.45900</td>\n",
       "      <td>1.33095</td>\n",
       "      <td>0.88521</td>\n",
       "      <td>0.66973</td>\n",
       "      <td>0.36503</td>\n",
       "      <td>0.34699</td>\n",
       "      <td>2.46531</td>\n",
       "      <td>2015</td>\n",
       "    </tr>\n",
       "    <tr>\n",
       "      <th>4</th>\n",
       "      <td>Canada</td>\n",
       "      <td>5.0</td>\n",
       "      <td>7.427</td>\n",
       "      <td>1.32629</td>\n",
       "      <td>1.32261</td>\n",
       "      <td>0.90563</td>\n",
       "      <td>0.63297</td>\n",
       "      <td>0.32957</td>\n",
       "      <td>0.45811</td>\n",
       "      <td>2.45176</td>\n",
       "      <td>2015</td>\n",
       "    </tr>\n",
       "    <tr>\n",
       "      <th>...</th>\n",
       "      <td>...</td>\n",
       "      <td>...</td>\n",
       "      <td>...</td>\n",
       "      <td>...</td>\n",
       "      <td>...</td>\n",
       "      <td>...</td>\n",
       "      <td>...</td>\n",
       "      <td>...</td>\n",
       "      <td>...</td>\n",
       "      <td>...</td>\n",
       "      <td>...</td>\n",
       "    </tr>\n",
       "    <tr>\n",
       "      <th>487</th>\n",
       "      <td>Somaliland region</td>\n",
       "      <td>NaN</td>\n",
       "      <td>NaN</td>\n",
       "      <td>NaN</td>\n",
       "      <td>NaN</td>\n",
       "      <td>NaN</td>\n",
       "      <td>NaN</td>\n",
       "      <td>NaN</td>\n",
       "      <td>NaN</td>\n",
       "      <td>NaN</td>\n",
       "      <td>2017</td>\n",
       "    </tr>\n",
       "    <tr>\n",
       "      <th>488</th>\n",
       "      <td>Laos</td>\n",
       "      <td>NaN</td>\n",
       "      <td>NaN</td>\n",
       "      <td>NaN</td>\n",
       "      <td>NaN</td>\n",
       "      <td>NaN</td>\n",
       "      <td>NaN</td>\n",
       "      <td>NaN</td>\n",
       "      <td>NaN</td>\n",
       "      <td>NaN</td>\n",
       "      <td>2017</td>\n",
       "    </tr>\n",
       "    <tr>\n",
       "      <th>489</th>\n",
       "      <td>Swaziland</td>\n",
       "      <td>NaN</td>\n",
       "      <td>NaN</td>\n",
       "      <td>NaN</td>\n",
       "      <td>NaN</td>\n",
       "      <td>NaN</td>\n",
       "      <td>NaN</td>\n",
       "      <td>NaN</td>\n",
       "      <td>NaN</td>\n",
       "      <td>NaN</td>\n",
       "      <td>2017</td>\n",
       "    </tr>\n",
       "    <tr>\n",
       "      <th>490</th>\n",
       "      <td>Djibouti</td>\n",
       "      <td>NaN</td>\n",
       "      <td>NaN</td>\n",
       "      <td>NaN</td>\n",
       "      <td>NaN</td>\n",
       "      <td>NaN</td>\n",
       "      <td>NaN</td>\n",
       "      <td>NaN</td>\n",
       "      <td>NaN</td>\n",
       "      <td>NaN</td>\n",
       "      <td>2017</td>\n",
       "    </tr>\n",
       "    <tr>\n",
       "      <th>491</th>\n",
       "      <td>Comoros</td>\n",
       "      <td>NaN</td>\n",
       "      <td>NaN</td>\n",
       "      <td>NaN</td>\n",
       "      <td>NaN</td>\n",
       "      <td>NaN</td>\n",
       "      <td>NaN</td>\n",
       "      <td>NaN</td>\n",
       "      <td>NaN</td>\n",
       "      <td>NaN</td>\n",
       "      <td>2017</td>\n",
       "    </tr>\n",
       "  </tbody>\n",
       "</table>\n",
       "<p>492 rows × 11 columns</p>\n",
       "</div>"
      ],
      "text/plain": [
       "               Country  Happiness.Rank  Happiness.Score      GDP   Family  \\\n",
       "0          Switzerland             1.0            7.587  1.39651  1.34951   \n",
       "1              Iceland             2.0            7.561  1.30232  1.40223   \n",
       "2              Denmark             3.0            7.527  1.32548  1.36058   \n",
       "3               Norway             4.0            7.522  1.45900  1.33095   \n",
       "4               Canada             5.0            7.427  1.32629  1.32261   \n",
       "..                 ...             ...              ...      ...      ...   \n",
       "487  Somaliland region             NaN              NaN      NaN      NaN   \n",
       "488               Laos             NaN              NaN      NaN      NaN   \n",
       "489          Swaziland             NaN              NaN      NaN      NaN   \n",
       "490           Djibouti             NaN              NaN      NaN      NaN   \n",
       "491            Comoros             NaN              NaN      NaN      NaN   \n",
       "\n",
       "     Life.Expectancy  Freedom  Govt.Corruption  Generosity  Dystopia.Residual  \\\n",
       "0            0.94143  0.66557          0.41978     0.29678            2.51738   \n",
       "1            0.94784  0.62877          0.14145     0.43630            2.70201   \n",
       "2            0.87464  0.64938          0.48357     0.34139            2.49204   \n",
       "3            0.88521  0.66973          0.36503     0.34699            2.46531   \n",
       "4            0.90563  0.63297          0.32957     0.45811            2.45176   \n",
       "..               ...      ...              ...         ...                ...   \n",
       "487              NaN      NaN              NaN         NaN                NaN   \n",
       "488              NaN      NaN              NaN         NaN                NaN   \n",
       "489              NaN      NaN              NaN         NaN                NaN   \n",
       "490              NaN      NaN              NaN         NaN                NaN   \n",
       "491              NaN      NaN              NaN         NaN                NaN   \n",
       "\n",
       "     Year  \n",
       "0    2015  \n",
       "1    2015  \n",
       "2    2015  \n",
       "3    2015  \n",
       "4    2015  \n",
       "..    ...  \n",
       "487  2017  \n",
       "488  2017  \n",
       "489  2017  \n",
       "490  2017  \n",
       "491  2017  \n",
       "\n",
       "[492 rows x 11 columns]"
      ]
     },
     "execution_count": 5,
     "metadata": {},
     "output_type": "execute_result"
    }
   ],
   "source": [
    "happ"
   ]
  },
  {
   "cell_type": "code",
   "execution_count": 4,
   "metadata": {
    "ExecuteTime": {
     "end_time": "2023-08-29T11:13:27.626708Z",
     "start_time": "2023-08-29T11:13:27.617183Z"
    }
   },
   "outputs": [
    {
     "data": {
      "text/plain": [
       "Happiness.Score      471\n",
       "GDP                  471\n",
       "Family               471\n",
       "Life.Expectancy      471\n",
       "Freedom              471\n",
       "Govt.Corruption      471\n",
       "Generosity           471\n",
       "Dystopia.Residual    471\n",
       "dtype: int64"
      ]
     },
     "execution_count": 4,
     "metadata": {},
     "output_type": "execute_result"
    }
   ],
   "source": [
    "happ.loc[:, 'Happiness.Score':'Dystopia.Residual'].count(axis = 0)"
   ]
  },
  {
   "cell_type": "markdown",
   "metadata": {},
   "source": [
    "The `count()` function was applied to each column (along `axis=0`). Similarly, suppose we wish to compute the standard deviation of each column."
   ]
  },
  {
   "cell_type": "code",
   "execution_count": 8,
   "metadata": {
    "ExecuteTime": {
     "end_time": "2023-08-29T11:16:43.415560Z",
     "start_time": "2023-08-29T11:16:43.404135Z"
    }
   },
   "outputs": [
    {
     "data": {
      "text/plain": [
       "Happiness.Score      1.138111\n",
       "GDP                  0.413322\n",
       "Family               0.291996\n",
       "Life.Expectancy      0.246127\n",
       "Freedom              0.150433\n",
       "Govt.Corruption      0.114470\n",
       "Generosity           0.129208\n",
       "Dystopia.Residual    0.548021\n",
       "dtype: float64"
      ]
     },
     "execution_count": 8,
     "metadata": {},
     "output_type": "execute_result"
    }
   ],
   "source": [
    "happ.loc[:, 'Happiness.Score':'Dystopia.Residual'].std(axis = 0)"
   ]
  },
  {
   "cell_type": "markdown",
   "metadata": {},
   "source": [
    "Suppose we wish to find the **range** of values for each numeric column, which we define as the maximum minus the minimum value of that column. We can apply a lambda function of our own here."
   ]
  },
  {
   "cell_type": "code",
   "execution_count": 7,
   "metadata": {
    "ExecuteTime": {
     "end_time": "2023-08-29T11:14:07.304598Z",
     "start_time": "2023-08-29T11:14:07.266729Z"
    }
   },
   "outputs": [],
   "source": [
    "pd.DataFrame.apply?"
   ]
  },
  {
   "cell_type": "code",
   "execution_count": 9,
   "metadata": {
    "ExecuteTime": {
     "end_time": "2023-08-29T11:16:48.848230Z",
     "start_time": "2023-08-29T11:16:48.835569Z"
    },
    "scrolled": true
   },
   "outputs": [
    {
     "data": {
      "text/plain": [
       "Happiness.Score      4.894000\n",
       "GDP                  1.870766\n",
       "Family               1.610574\n",
       "Life.Expectancy      1.025250\n",
       "Freedom              0.669730\n",
       "Govt.Corruption      0.551910\n",
       "Generosity           0.838075\n",
       "Dystopia.Residual    3.273560\n",
       "dtype: float64"
      ]
     },
     "execution_count": 9,
     "metadata": {},
     "output_type": "execute_result"
    }
   ],
   "source": [
    "happ.loc[:, 'Happiness.Score':'Dystopia.Residual'].apply(lambda x: x.max() - x.min())"
   ]
  },
  {
   "cell_type": "markdown",
   "metadata": {},
   "source": [
    "Between-Series operations are conducted element-wise. Note the two different ways of indexing a column."
   ]
  },
  {
   "cell_type": "code",
   "execution_count": 10,
   "metadata": {
    "ExecuteTime": {
     "end_time": "2023-08-29T11:16:54.160081Z",
     "start_time": "2023-08-29T11:16:54.152121Z"
    }
   },
   "outputs": [
    {
     "data": {
      "text/plain": [
       "0      1.414472\n",
       "1      1.507451\n",
       "2      1.346885\n",
       "3      1.321742\n",
       "4      1.430763\n",
       "         ...   \n",
       "487         NaN\n",
       "488         NaN\n",
       "489         NaN\n",
       "490         NaN\n",
       "491         NaN\n",
       "Length: 492, dtype: float64"
      ]
     },
     "execution_count": 10,
     "metadata": {},
     "output_type": "execute_result"
    }
   ],
   "source": [
    "happ['Life.Expectancy'] / happ.Freedom"
   ]
  },
  {
   "cell_type": "markdown",
   "metadata": {},
   "source": [
    "### Adding or Deleting Columns"
   ]
  },
  {
   "cell_type": "markdown",
   "metadata": {},
   "source": [
    "To delete columns, we can use the DataFrame `.drop()` method. Unless we specify `inplace=True`, a new copy of the DataFrame will be created by `.drop()`."
   ]
  },
  {
   "cell_type": "code",
   "execution_count": 11,
   "metadata": {
    "ExecuteTime": {
     "end_time": "2023-08-29T11:18:32.269271Z",
     "start_time": "2023-08-29T11:18:32.255474Z"
    }
   },
   "outputs": [
    {
     "data": {
      "text/html": [
       "<div>\n",
       "<style scoped>\n",
       "    .dataframe tbody tr th:only-of-type {\n",
       "        vertical-align: middle;\n",
       "    }\n",
       "\n",
       "    .dataframe tbody tr th {\n",
       "        vertical-align: top;\n",
       "    }\n",
       "\n",
       "    .dataframe thead th {\n",
       "        text-align: right;\n",
       "    }\n",
       "</style>\n",
       "<table border=\"1\" class=\"dataframe\">\n",
       "  <thead>\n",
       "    <tr style=\"text-align: right;\">\n",
       "      <th></th>\n",
       "      <th>Country</th>\n",
       "      <th>Happiness.Rank</th>\n",
       "      <th>Happiness.Score</th>\n",
       "      <th>Family</th>\n",
       "      <th>Life.Expectancy</th>\n",
       "      <th>Govt.Corruption</th>\n",
       "      <th>Generosity</th>\n",
       "      <th>Dystopia.Residual</th>\n",
       "    </tr>\n",
       "  </thead>\n",
       "  <tbody>\n",
       "    <tr>\n",
       "      <th>0</th>\n",
       "      <td>Switzerland</td>\n",
       "      <td>1.0</td>\n",
       "      <td>7.587</td>\n",
       "      <td>1.34951</td>\n",
       "      <td>0.94143</td>\n",
       "      <td>0.41978</td>\n",
       "      <td>0.29678</td>\n",
       "      <td>2.51738</td>\n",
       "    </tr>\n",
       "    <tr>\n",
       "      <th>1</th>\n",
       "      <td>Iceland</td>\n",
       "      <td>2.0</td>\n",
       "      <td>7.561</td>\n",
       "      <td>1.40223</td>\n",
       "      <td>0.94784</td>\n",
       "      <td>0.14145</td>\n",
       "      <td>0.43630</td>\n",
       "      <td>2.70201</td>\n",
       "    </tr>\n",
       "    <tr>\n",
       "      <th>2</th>\n",
       "      <td>Denmark</td>\n",
       "      <td>3.0</td>\n",
       "      <td>7.527</td>\n",
       "      <td>1.36058</td>\n",
       "      <td>0.87464</td>\n",
       "      <td>0.48357</td>\n",
       "      <td>0.34139</td>\n",
       "      <td>2.49204</td>\n",
       "    </tr>\n",
       "  </tbody>\n",
       "</table>\n",
       "</div>"
      ],
      "text/plain": [
       "       Country  Happiness.Rank  Happiness.Score   Family  Life.Expectancy  \\\n",
       "0  Switzerland             1.0            7.587  1.34951          0.94143   \n",
       "1      Iceland             2.0            7.561  1.40223          0.94784   \n",
       "2      Denmark             3.0            7.527  1.36058          0.87464   \n",
       "\n",
       "   Govt.Corruption  Generosity  Dystopia.Residual  \n",
       "0          0.41978     0.29678            2.51738  \n",
       "1          0.14145     0.43630            2.70201  \n",
       "2          0.48357     0.34139            2.49204  "
      ]
     },
     "execution_count": 11,
     "metadata": {},
     "output_type": "execute_result"
    }
   ],
   "source": [
    "# To delete columns:\n",
    "happ.drop(columns=['GDP', 'Freedom', 'Year']).head(n = 3)"
   ]
  },
  {
   "cell_type": "markdown",
   "metadata": {},
   "source": [
    "We can create a new column simply by specifying it."
   ]
  },
  {
   "cell_type": "code",
   "execution_count": 12,
   "metadata": {
    "ExecuteTime": {
     "end_time": "2023-08-29T11:20:07.798437Z",
     "start_time": "2023-08-29T11:20:07.795083Z"
    }
   },
   "outputs": [],
   "source": [
    "# To create a new column, that contains square root of Happiness Score.\n",
    "# happ['sqrt_HS'] = np.sqrt(happ['Happiness.Score'])\n",
    "happ.loc[:, 'sqrt_HS'] = happ['Happiness.Score'].apply(np.sqrt)"
   ]
  },
  {
   "cell_type": "markdown",
   "metadata": {},
   "source": [
    "Suppose we were given the following classification of GDP. We can create that new feature \n",
    "as follows."
   ]
  },
  {
   "cell_type": "code",
   "execution_count": 13,
   "metadata": {
    "ExecuteTime": {
     "end_time": "2023-08-29T11:23:09.543836Z",
     "start_time": "2023-08-29T11:23:09.534296Z"
    }
   },
   "outputs": [
    {
     "data": {
      "text/plain": [
       "count    471.000000\n",
       "mean       0.891742\n",
       "std        0.413322\n",
       "min        0.000000\n",
       "25%        0.593250\n",
       "50%        0.958470\n",
       "75%        1.211830\n",
       "max        1.870766\n",
       "Name: GDP, dtype: float64"
      ]
     },
     "execution_count": 13,
     "metadata": {},
     "output_type": "execute_result"
    }
   ],
   "source": [
    "happ.GDP.describe()"
   ]
  },
  {
   "cell_type": "code",
   "execution_count": 14,
   "metadata": {
    "ExecuteTime": {
     "end_time": "2023-08-29T11:23:19.418786Z",
     "start_time": "2023-08-29T11:23:18.907668Z"
    }
   },
   "outputs": [
    {
     "data": {
      "image/png": "[encoded data removed]",
      "text/plain": [
       "<Figure size 640x480 with 1 Axes>"
      ]
     },
     "metadata": {},
     "output_type": "display_data"
    }
   ],
   "source": [
    "happ.GDP.plot(kind = \"hist\");"
   ]
  },
  {
   "cell_type": "code",
   "execution_count": 35,
   "metadata": {
    "ExecuteTime": {
     "end_time": "2023-08-29T11:34:07.730956Z",
     "start_time": "2023-08-29T11:34:07.721761Z"
    },
    "scrolled": true
   },
   "outputs": [],
   "source": [
    "# To create a new column, that bucketizes the GDP into high, low, medium\n",
    "happ['GDP_cat'] = pd.cut(happ.GDP, bins = [0, 0.5, 1.5, 1.870765686], labels = ['low', 'med', 'high'] )\n",
    "#happ.loc[:, 'GDP_cat'] = pd.cut(happ.GDP, bins = [0, 0.5, 1.5, 2], labels = ['low', 'med', 'high'] )"
   ]
  },
  {
   "cell_type": "code",
   "execution_count": 16,
   "metadata": {
    "ExecuteTime": {
     "end_time": "2023-08-29T11:25:55.783105Z",
     "start_time": "2023-08-29T11:25:55.772413Z"
    }
   },
   "outputs": [
    {
     "data": {
      "text/html": [
       "<div>\n",
       "<style scoped>\n",
       "    .dataframe tbody tr th:only-of-type {\n",
       "        vertical-align: middle;\n",
       "    }\n",
       "\n",
       "    .dataframe tbody tr th {\n",
       "        vertical-align: top;\n",
       "    }\n",
       "\n",
       "    .dataframe thead th {\n",
       "        text-align: right;\n",
       "    }\n",
       "</style>\n",
       "<table border=\"1\" class=\"dataframe\">\n",
       "  <thead>\n",
       "    <tr style=\"text-align: right;\">\n",
       "      <th></th>\n",
       "      <th>GDP</th>\n",
       "      <th>GDP_cat</th>\n",
       "    </tr>\n",
       "  </thead>\n",
       "  <tbody>\n",
       "    <tr>\n",
       "      <th>0</th>\n",
       "      <td>1.39651</td>\n",
       "      <td>med</td>\n",
       "    </tr>\n",
       "    <tr>\n",
       "      <th>1</th>\n",
       "      <td>1.30232</td>\n",
       "      <td>med</td>\n",
       "    </tr>\n",
       "    <tr>\n",
       "      <th>2</th>\n",
       "      <td>1.32548</td>\n",
       "      <td>med</td>\n",
       "    </tr>\n",
       "    <tr>\n",
       "      <th>3</th>\n",
       "      <td>1.45900</td>\n",
       "      <td>med</td>\n",
       "    </tr>\n",
       "    <tr>\n",
       "      <th>4</th>\n",
       "      <td>1.32629</td>\n",
       "      <td>med</td>\n",
       "    </tr>\n",
       "    <tr>\n",
       "      <th>5</th>\n",
       "      <td>1.29025</td>\n",
       "      <td>med</td>\n",
       "    </tr>\n",
       "  </tbody>\n",
       "</table>\n",
       "</div>"
      ],
      "text/plain": [
       "       GDP GDP_cat\n",
       "0  1.39651     med\n",
       "1  1.30232     med\n",
       "2  1.32548     med\n",
       "3  1.45900     med\n",
       "4  1.32629     med\n",
       "5  1.29025     med"
      ]
     },
     "execution_count": 16,
     "metadata": {},
     "output_type": "execute_result"
    }
   ],
   "source": [
    "happ.loc[0:5, ['GDP', 'GDP_cat']]"
   ]
  },
  {
   "cell_type": "code",
   "execution_count": 32,
   "metadata": {
    "ExecuteTime": {
     "end_time": "2023-08-29T11:33:15.407036Z",
     "start_time": "2023-08-29T11:33:15.394140Z"
    }
   },
   "outputs": [
    {
     "data": {
      "text/html": [
       "<div>\n",
       "<style scoped>\n",
       "    .dataframe tbody tr th:only-of-type {\n",
       "        vertical-align: middle;\n",
       "    }\n",
       "\n",
       "    .dataframe tbody tr th {\n",
       "        vertical-align: top;\n",
       "    }\n",
       "\n",
       "    .dataframe thead th {\n",
       "        text-align: right;\n",
       "    }\n",
       "</style>\n",
       "<table border=\"1\" class=\"dataframe\">\n",
       "  <thead>\n",
       "    <tr style=\"text-align: right;\">\n",
       "      <th></th>\n",
       "      <th>Happiness.Score</th>\n",
       "      <th>sqrt_HS</th>\n",
       "      <th>Family</th>\n",
       "    </tr>\n",
       "  </thead>\n",
       "  <tbody>\n",
       "    <tr>\n",
       "      <th>0</th>\n",
       "      <td>7.587</td>\n",
       "      <td>2.754451</td>\n",
       "      <td>1.34951</td>\n",
       "    </tr>\n",
       "    <tr>\n",
       "      <th>1</th>\n",
       "      <td>7.561</td>\n",
       "      <td>2.749727</td>\n",
       "      <td>1.40223</td>\n",
       "    </tr>\n",
       "    <tr>\n",
       "      <th>2</th>\n",
       "      <td>7.527</td>\n",
       "      <td>2.743538</td>\n",
       "      <td>1.36058</td>\n",
       "    </tr>\n",
       "    <tr>\n",
       "      <th>3</th>\n",
       "      <td>7.522</td>\n",
       "      <td>2.742626</td>\n",
       "      <td>1.33095</td>\n",
       "    </tr>\n",
       "    <tr>\n",
       "      <th>4</th>\n",
       "      <td>7.427</td>\n",
       "      <td>2.725252</td>\n",
       "      <td>1.32261</td>\n",
       "    </tr>\n",
       "    <tr>\n",
       "      <th>5</th>\n",
       "      <td>7.406</td>\n",
       "      <td>2.721397</td>\n",
       "      <td>1.31826</td>\n",
       "    </tr>\n",
       "    <tr>\n",
       "      <th>6</th>\n",
       "      <td>7.378</td>\n",
       "      <td>2.716247</td>\n",
       "      <td>1.28017</td>\n",
       "    </tr>\n",
       "    <tr>\n",
       "      <th>7</th>\n",
       "      <td>7.364</td>\n",
       "      <td>2.713669</td>\n",
       "      <td>1.28907</td>\n",
       "    </tr>\n",
       "    <tr>\n",
       "      <th>8</th>\n",
       "      <td>7.286</td>\n",
       "      <td>2.699259</td>\n",
       "      <td>1.31967</td>\n",
       "    </tr>\n",
       "    <tr>\n",
       "      <th>9</th>\n",
       "      <td>7.284</td>\n",
       "      <td>2.698889</td>\n",
       "      <td>1.30923</td>\n",
       "    </tr>\n",
       "    <tr>\n",
       "      <th>10</th>\n",
       "      <td>7.278</td>\n",
       "      <td>2.697777</td>\n",
       "      <td>1.22393</td>\n",
       "    </tr>\n",
       "  </tbody>\n",
       "</table>\n",
       "</div>"
      ],
      "text/plain": [
       "    Happiness.Score   sqrt_HS   Family\n",
       "0             7.587  2.754451  1.34951\n",
       "1             7.561  2.749727  1.40223\n",
       "2             7.527  2.743538  1.36058\n",
       "3             7.522  2.742626  1.33095\n",
       "4             7.427  2.725252  1.32261\n",
       "5             7.406  2.721397  1.31826\n",
       "6             7.378  2.716247  1.28017\n",
       "7             7.364  2.713669  1.28907\n",
       "8             7.286  2.699259  1.31967\n",
       "9             7.284  2.698889  1.30923\n",
       "10            7.278  2.697777  1.22393"
      ]
     },
     "execution_count": 32,
     "metadata": {},
     "output_type": "execute_result"
    }
   ],
   "source": [
    "# happ.loc[:, ['GDP', 'GDP_cat']].sample(n=10)   # choose several rows randomly\n",
    "happ.loc[0:10, :].sample(n=3, axis=1)"
   ]
  },
  {
   "cell_type": "markdown",
   "metadata": {},
   "source": [
    "<a id='categorical'></a>\n",
    "## Categorical Variables\n",
    "\n",
    "### Tables of Counts\n",
    "\n",
    "To summarise categorical variables, one option is to use tables. These tables could present counts of levels, or proportions.\n",
    "\n",
    "When assessing the relationship between categorical variables, the simplest option is to print a table of counts.\n",
    "\n",
    "When we wish to assess a variable, or an aggregation of it, conditional on two or more categorical levels, we use a pivot table.\n",
    "\n",
    "Suppose that, in the happiness dataset, we wish to understand if the distribution of high, low, med GDP has changed in the three years. We can set up a cross-table."
   ]
  },
  {
   "cell_type": "code",
   "execution_count": 46,
   "metadata": {
    "ExecuteTime": {
     "end_time": "2023-08-29T11:45:36.497931Z",
     "start_time": "2023-08-29T11:45:36.479570Z"
    }
   },
   "outputs": [
    {
     "data": {
      "text/html": [
       "<div>\n",
       "<style scoped>\n",
       "    .dataframe tbody tr th:only-of-type {\n",
       "        vertical-align: middle;\n",
       "    }\n",
       "\n",
       "    .dataframe tbody tr th {\n",
       "        vertical-align: top;\n",
       "    }\n",
       "\n",
       "    .dataframe thead th {\n",
       "        text-align: right;\n",
       "    }\n",
       "</style>\n",
       "<table border=\"1\" class=\"dataframe\">\n",
       "  <thead>\n",
       "    <tr style=\"text-align: right;\">\n",
       "      <th>GDP_cat</th>\n",
       "      <th>low</th>\n",
       "      <th>med</th>\n",
       "      <th>high</th>\n",
       "    </tr>\n",
       "    <tr>\n",
       "      <th>Year</th>\n",
       "      <th></th>\n",
       "      <th></th>\n",
       "      <th></th>\n",
       "    </tr>\n",
       "  </thead>\n",
       "  <tbody>\n",
       "    <tr>\n",
       "      <th>2015</th>\n",
       "      <td>37</td>\n",
       "      <td>116</td>\n",
       "      <td>4</td>\n",
       "    </tr>\n",
       "    <tr>\n",
       "      <th>2016</th>\n",
       "      <td>37</td>\n",
       "      <td>116</td>\n",
       "      <td>4</td>\n",
       "    </tr>\n",
       "    <tr>\n",
       "      <th>2017</th>\n",
       "      <td>25</td>\n",
       "      <td>117</td>\n",
       "      <td>12</td>\n",
       "    </tr>\n",
       "  </tbody>\n",
       "</table>\n",
       "</div>"
      ],
      "text/plain": [
       "GDP_cat  low  med  high\n",
       "Year                   \n",
       "2015      37  116     4\n",
       "2016      37  116     4\n",
       "2017      25  117    12"
      ]
     },
     "execution_count": 46,
     "metadata": {},
     "output_type": "execute_result"
    }
   ],
   "source": [
    "# pd.crosstab(happ.Year, happ.GDP_cat)\n",
    "happ.pivot_table(index='Year', columns='GDP_cat', values = 'Happiness.Score', aggfunc='count')"
   ]
  },
  {
   "cell_type": "markdown",
   "metadata": {},
   "source": [
    "It is interesting to note that in 2017, the tails of the distribution changed the most. We can compute the proportion of high/med/low within each year by adding the normalize argument. What else piques your curiosity?"
   ]
  },
  {
   "cell_type": "code",
   "execution_count": 38,
   "metadata": {
    "ExecuteTime": {
     "end_time": "2023-08-29T11:37:44.093050Z",
     "start_time": "2023-08-29T11:37:44.070586Z"
    }
   },
   "outputs": [
    {
     "data": {
      "text/html": [
       "<div>\n",
       "<style scoped>\n",
       "    .dataframe tbody tr th:only-of-type {\n",
       "        vertical-align: middle;\n",
       "    }\n",
       "\n",
       "    .dataframe tbody tr th {\n",
       "        vertical-align: top;\n",
       "    }\n",
       "\n",
       "    .dataframe thead th {\n",
       "        text-align: right;\n",
       "    }\n",
       "</style>\n",
       "<table border=\"1\" class=\"dataframe\">\n",
       "  <thead>\n",
       "    <tr style=\"text-align: right;\">\n",
       "      <th>GDP_cat</th>\n",
       "      <th>low</th>\n",
       "      <th>med</th>\n",
       "      <th>high</th>\n",
       "    </tr>\n",
       "    <tr>\n",
       "      <th>Year</th>\n",
       "      <th></th>\n",
       "      <th></th>\n",
       "      <th></th>\n",
       "    </tr>\n",
       "  </thead>\n",
       "  <tbody>\n",
       "    <tr>\n",
       "      <th>2015</th>\n",
       "      <td>0.235669</td>\n",
       "      <td>0.738854</td>\n",
       "      <td>0.025478</td>\n",
       "    </tr>\n",
       "    <tr>\n",
       "      <th>2016</th>\n",
       "      <td>0.235669</td>\n",
       "      <td>0.738854</td>\n",
       "      <td>0.025478</td>\n",
       "    </tr>\n",
       "    <tr>\n",
       "      <th>2017</th>\n",
       "      <td>0.162338</td>\n",
       "      <td>0.759740</td>\n",
       "      <td>0.077922</td>\n",
       "    </tr>\n",
       "  </tbody>\n",
       "</table>\n",
       "</div>"
      ],
      "text/plain": [
       "GDP_cat       low       med      high\n",
       "Year                                 \n",
       "2015     0.235669  0.738854  0.025478\n",
       "2016     0.235669  0.738854  0.025478\n",
       "2017     0.162338  0.759740  0.077922"
      ]
     },
     "execution_count": 38,
     "metadata": {},
     "output_type": "execute_result"
    }
   ],
   "source": [
    "tab_out = pd.crosstab(happ.Year, happ.GDP_cat, normalize = 'index')   \n",
    "# each row sum to 1 when it comes to(normalize='index')\n",
    "tab_out"
   ]
  },
  {
   "cell_type": "code",
   "execution_count": 39,
   "metadata": {
    "ExecuteTime": {
     "end_time": "2023-08-29T11:38:25.134289Z",
     "start_time": "2023-08-29T11:38:25.033644Z"
    }
   },
   "outputs": [
    {
     "data": {
      "image/png": "[encoded data removed]",
      "text/plain": [
       "<Figure size 1000x400 with 1 Axes>"
      ]
     },
     "metadata": {},
     "output_type": "display_data"
    }
   ],
   "source": [
    "tab_out.plot(kind = 'bar', figsize = (10, 4));"
   ]
  },
  {
   "cell_type": "markdown",
   "metadata": {},
   "source": [
    "Does Happiness Score change with GDP category (as we have defined them) over the years? To introduce a third variable, we shall have to create a pivot table."
   ]
  },
  {
   "cell_type": "code",
   "execution_count": 40,
   "metadata": {
    "ExecuteTime": {
     "end_time": "2023-08-29T11:42:07.561916Z",
     "start_time": "2023-08-29T11:42:07.541581Z"
    }
   },
   "outputs": [
    {
     "data": {
      "text/html": [
       "<div>\n",
       "<style scoped>\n",
       "    .dataframe tbody tr th:only-of-type {\n",
       "        vertical-align: middle;\n",
       "    }\n",
       "\n",
       "    .dataframe tbody tr th {\n",
       "        vertical-align: top;\n",
       "    }\n",
       "\n",
       "    .dataframe thead th {\n",
       "        text-align: right;\n",
       "    }\n",
       "</style>\n",
       "<table border=\"1\" class=\"dataframe\">\n",
       "  <thead>\n",
       "    <tr style=\"text-align: right;\">\n",
       "      <th>GDP_cat</th>\n",
       "      <th>low</th>\n",
       "      <th>med</th>\n",
       "      <th>high</th>\n",
       "    </tr>\n",
       "    <tr>\n",
       "      <th>Year</th>\n",
       "      <th></th>\n",
       "      <th></th>\n",
       "      <th></th>\n",
       "    </tr>\n",
       "  </thead>\n",
       "  <tbody>\n",
       "    <tr>\n",
       "      <th>2015</th>\n",
       "      <td>4.146135</td>\n",
       "      <td>5.730966</td>\n",
       "      <td>6.66250</td>\n",
       "    </tr>\n",
       "    <tr>\n",
       "      <th>2016</th>\n",
       "      <td>4.146135</td>\n",
       "      <td>5.730966</td>\n",
       "      <td>6.66250</td>\n",
       "    </tr>\n",
       "    <tr>\n",
       "      <th>2017</th>\n",
       "      <td>4.020160</td>\n",
       "      <td>5.520675</td>\n",
       "      <td>6.72975</td>\n",
       "    </tr>\n",
       "  </tbody>\n",
       "</table>\n",
       "</div>"
      ],
      "text/plain": [
       "GDP_cat       low       med     high\n",
       "Year                                \n",
       "2015     4.146135  5.730966  6.66250\n",
       "2016     4.146135  5.730966  6.66250\n",
       "2017     4.020160  5.520675  6.72975"
      ]
     },
     "execution_count": 40,
     "metadata": {},
     "output_type": "execute_result"
    }
   ],
   "source": [
    "happ.pivot_table(index = 'Year', columns = 'GDP_cat', values = 'Happiness.Score', aggfunc = 'mean')"
   ]
  },
  {
   "cell_type": "markdown",
   "metadata": {},
   "source": [
    "To complicate things further, suppose we compare SEA nations to non-SEA nations."
   ]
  },
  {
   "cell_type": "code",
   "execution_count": 47,
   "metadata": {
    "ExecuteTime": {
     "end_time": "2023-08-29T11:46:32.800042Z",
     "start_time": "2023-08-29T11:46:32.793403Z"
    }
   },
   "outputs": [],
   "source": [
    "SEA_nations = ['Singapore', 'Malaysia', 'Indonesia', 'Laos', 'Thailand', 'Vietnam', 'Myanmar']\n",
    "happ['region'] = happ.Country.apply(lambda x: 'SEA' if x in SEA_nations else 'not_SEA')"
   ]
  },
  {
   "cell_type": "code",
   "execution_count": 48,
   "metadata": {
    "ExecuteTime": {
     "end_time": "2023-08-29T11:46:33.780607Z",
     "start_time": "2023-08-29T11:46:33.759970Z"
    }
   },
   "outputs": [
    {
     "data": {
      "text/html": [
       "<div>\n",
       "<style scoped>\n",
       "    .dataframe tbody tr th:only-of-type {\n",
       "        vertical-align: middle;\n",
       "    }\n",
       "\n",
       "    .dataframe tbody tr th {\n",
       "        vertical-align: top;\n",
       "    }\n",
       "\n",
       "    .dataframe thead th {\n",
       "        text-align: right;\n",
       "    }\n",
       "</style>\n",
       "<table border=\"1\" class=\"dataframe\">\n",
       "  <thead>\n",
       "    <tr style=\"text-align: right;\">\n",
       "      <th></th>\n",
       "      <th>Country</th>\n",
       "      <th>Happiness.Rank</th>\n",
       "      <th>Happiness.Score</th>\n",
       "      <th>GDP</th>\n",
       "      <th>Family</th>\n",
       "      <th>Life.Expectancy</th>\n",
       "      <th>Freedom</th>\n",
       "      <th>Govt.Corruption</th>\n",
       "      <th>Generosity</th>\n",
       "      <th>Dystopia.Residual</th>\n",
       "      <th>Year</th>\n",
       "      <th>GDP_cat</th>\n",
       "      <th>region</th>\n",
       "    </tr>\n",
       "  </thead>\n",
       "  <tbody>\n",
       "    <tr>\n",
       "      <th>0</th>\n",
       "      <td>Switzerland</td>\n",
       "      <td>1.0</td>\n",
       "      <td>7.587</td>\n",
       "      <td>1.39651</td>\n",
       "      <td>1.34951</td>\n",
       "      <td>0.94143</td>\n",
       "      <td>0.66557</td>\n",
       "      <td>0.41978</td>\n",
       "      <td>0.29678</td>\n",
       "      <td>2.51738</td>\n",
       "      <td>2015</td>\n",
       "      <td>med</td>\n",
       "      <td>not_SEA</td>\n",
       "    </tr>\n",
       "    <tr>\n",
       "      <th>1</th>\n",
       "      <td>Iceland</td>\n",
       "      <td>2.0</td>\n",
       "      <td>7.561</td>\n",
       "      <td>1.30232</td>\n",
       "      <td>1.40223</td>\n",
       "      <td>0.94784</td>\n",
       "      <td>0.62877</td>\n",
       "      <td>0.14145</td>\n",
       "      <td>0.43630</td>\n",
       "      <td>2.70201</td>\n",
       "      <td>2015</td>\n",
       "      <td>med</td>\n",
       "      <td>not_SEA</td>\n",
       "    </tr>\n",
       "    <tr>\n",
       "      <th>2</th>\n",
       "      <td>Denmark</td>\n",
       "      <td>3.0</td>\n",
       "      <td>7.527</td>\n",
       "      <td>1.32548</td>\n",
       "      <td>1.36058</td>\n",
       "      <td>0.87464</td>\n",
       "      <td>0.64938</td>\n",
       "      <td>0.48357</td>\n",
       "      <td>0.34139</td>\n",
       "      <td>2.49204</td>\n",
       "      <td>2015</td>\n",
       "      <td>med</td>\n",
       "      <td>not_SEA</td>\n",
       "    </tr>\n",
       "    <tr>\n",
       "      <th>3</th>\n",
       "      <td>Norway</td>\n",
       "      <td>4.0</td>\n",
       "      <td>7.522</td>\n",
       "      <td>1.45900</td>\n",
       "      <td>1.33095</td>\n",
       "      <td>0.88521</td>\n",
       "      <td>0.66973</td>\n",
       "      <td>0.36503</td>\n",
       "      <td>0.34699</td>\n",
       "      <td>2.46531</td>\n",
       "      <td>2015</td>\n",
       "      <td>med</td>\n",
       "      <td>not_SEA</td>\n",
       "    </tr>\n",
       "    <tr>\n",
       "      <th>4</th>\n",
       "      <td>Canada</td>\n",
       "      <td>5.0</td>\n",
       "      <td>7.427</td>\n",
       "      <td>1.32629</td>\n",
       "      <td>1.32261</td>\n",
       "      <td>0.90563</td>\n",
       "      <td>0.63297</td>\n",
       "      <td>0.32957</td>\n",
       "      <td>0.45811</td>\n",
       "      <td>2.45176</td>\n",
       "      <td>2015</td>\n",
       "      <td>med</td>\n",
       "      <td>not_SEA</td>\n",
       "    </tr>\n",
       "    <tr>\n",
       "      <th>...</th>\n",
       "      <td>...</td>\n",
       "      <td>...</td>\n",
       "      <td>...</td>\n",
       "      <td>...</td>\n",
       "      <td>...</td>\n",
       "      <td>...</td>\n",
       "      <td>...</td>\n",
       "      <td>...</td>\n",
       "      <td>...</td>\n",
       "      <td>...</td>\n",
       "      <td>...</td>\n",
       "      <td>...</td>\n",
       "      <td>...</td>\n",
       "    </tr>\n",
       "    <tr>\n",
       "      <th>487</th>\n",
       "      <td>Somaliland region</td>\n",
       "      <td>NaN</td>\n",
       "      <td>NaN</td>\n",
       "      <td>NaN</td>\n",
       "      <td>NaN</td>\n",
       "      <td>NaN</td>\n",
       "      <td>NaN</td>\n",
       "      <td>NaN</td>\n",
       "      <td>NaN</td>\n",
       "      <td>NaN</td>\n",
       "      <td>2017</td>\n",
       "      <td>NaN</td>\n",
       "      <td>not_SEA</td>\n",
       "    </tr>\n",
       "    <tr>\n",
       "      <th>488</th>\n",
       "      <td>Laos</td>\n",
       "      <td>NaN</td>\n",
       "      <td>NaN</td>\n",
       "      <td>NaN</td>\n",
       "      <td>NaN</td>\n",
       "      <td>NaN</td>\n",
       "      <td>NaN</td>\n",
       "      <td>NaN</td>\n",
       "      <td>NaN</td>\n",
       "      <td>NaN</td>\n",
       "      <td>2017</td>\n",
       "      <td>NaN</td>\n",
       "      <td>SEA</td>\n",
       "    </tr>\n",
       "    <tr>\n",
       "      <th>489</th>\n",
       "      <td>Swaziland</td>\n",
       "      <td>NaN</td>\n",
       "      <td>NaN</td>\n",
       "      <td>NaN</td>\n",
       "      <td>NaN</td>\n",
       "      <td>NaN</td>\n",
       "      <td>NaN</td>\n",
       "      <td>NaN</td>\n",
       "      <td>NaN</td>\n",
       "      <td>NaN</td>\n",
       "      <td>2017</td>\n",
       "      <td>NaN</td>\n",
       "      <td>not_SEA</td>\n",
       "    </tr>\n",
       "    <tr>\n",
       "      <th>490</th>\n",
       "      <td>Djibouti</td>\n",
       "      <td>NaN</td>\n",
       "      <td>NaN</td>\n",
       "      <td>NaN</td>\n",
       "      <td>NaN</td>\n",
       "      <td>NaN</td>\n",
       "      <td>NaN</td>\n",
       "      <td>NaN</td>\n",
       "      <td>NaN</td>\n",
       "      <td>NaN</td>\n",
       "      <td>2017</td>\n",
       "      <td>NaN</td>\n",
       "      <td>not_SEA</td>\n",
       "    </tr>\n",
       "    <tr>\n",
       "      <th>491</th>\n",
       "      <td>Comoros</td>\n",
       "      <td>NaN</td>\n",
       "      <td>NaN</td>\n",
       "      <td>NaN</td>\n",
       "      <td>NaN</td>\n",
       "      <td>NaN</td>\n",
       "      <td>NaN</td>\n",
       "      <td>NaN</td>\n",
       "      <td>NaN</td>\n",
       "      <td>NaN</td>\n",
       "      <td>2017</td>\n",
       "      <td>NaN</td>\n",
       "      <td>not_SEA</td>\n",
       "    </tr>\n",
       "  </tbody>\n",
       "</table>\n",
       "<p>492 rows × 13 columns</p>\n",
       "</div>"
      ],
      "text/plain": [
       "               Country  Happiness.Rank  Happiness.Score      GDP   Family  \\\n",
       "0          Switzerland             1.0            7.587  1.39651  1.34951   \n",
       "1              Iceland             2.0            7.561  1.30232  1.40223   \n",
       "2              Denmark             3.0            7.527  1.32548  1.36058   \n",
       "3               Norway             4.0            7.522  1.45900  1.33095   \n",
       "4               Canada             5.0            7.427  1.32629  1.32261   \n",
       "..                 ...             ...              ...      ...      ...   \n",
       "487  Somaliland region             NaN              NaN      NaN      NaN   \n",
       "488               Laos             NaN              NaN      NaN      NaN   \n",
       "489          Swaziland             NaN              NaN      NaN      NaN   \n",
       "490           Djibouti             NaN              NaN      NaN      NaN   \n",
       "491            Comoros             NaN              NaN      NaN      NaN   \n",
       "\n",
       "     Life.Expectancy  Freedom  Govt.Corruption  Generosity  Dystopia.Residual  \\\n",
       "0            0.94143  0.66557          0.41978     0.29678            2.51738   \n",
       "1            0.94784  0.62877          0.14145     0.43630            2.70201   \n",
       "2            0.87464  0.64938          0.48357     0.34139            2.49204   \n",
       "3            0.88521  0.66973          0.36503     0.34699            2.46531   \n",
       "4            0.90563  0.63297          0.32957     0.45811            2.45176   \n",
       "..               ...      ...              ...         ...                ...   \n",
       "487              NaN      NaN              NaN         NaN                NaN   \n",
       "488              NaN      NaN              NaN         NaN                NaN   \n",
       "489              NaN      NaN              NaN         NaN                NaN   \n",
       "490              NaN      NaN              NaN         NaN                NaN   \n",
       "491              NaN      NaN              NaN         NaN                NaN   \n",
       "\n",
       "     Year GDP_cat   region  \n",
       "0    2015     med  not_SEA  \n",
       "1    2015     med  not_SEA  \n",
       "2    2015     med  not_SEA  \n",
       "3    2015     med  not_SEA  \n",
       "4    2015     med  not_SEA  \n",
       "..    ...     ...      ...  \n",
       "487  2017     NaN  not_SEA  \n",
       "488  2017     NaN      SEA  \n",
       "489  2017     NaN  not_SEA  \n",
       "490  2017     NaN  not_SEA  \n",
       "491  2017     NaN  not_SEA  \n",
       "\n",
       "[492 rows x 13 columns]"
      ]
     },
     "execution_count": 48,
     "metadata": {},
     "output_type": "execute_result"
    }
   ],
   "source": [
    "happ"
   ]
  },
  {
   "cell_type": "code",
   "execution_count": 49,
   "metadata": {
    "ExecuteTime": {
     "end_time": "2023-08-29T11:46:34.741664Z",
     "start_time": "2023-08-29T11:46:34.720624Z"
    }
   },
   "outputs": [
    {
     "data": {
      "text/html": [
       "<div>\n",
       "<style scoped>\n",
       "    .dataframe tbody tr th:only-of-type {\n",
       "        vertical-align: middle;\n",
       "    }\n",
       "\n",
       "    .dataframe tbody tr th {\n",
       "        vertical-align: top;\n",
       "    }\n",
       "\n",
       "    .dataframe thead th {\n",
       "        text-align: right;\n",
       "    }\n",
       "</style>\n",
       "<table border=\"1\" class=\"dataframe\">\n",
       "  <thead>\n",
       "    <tr style=\"text-align: right;\">\n",
       "      <th></th>\n",
       "      <th>GDP_cat</th>\n",
       "      <th>low</th>\n",
       "      <th>med</th>\n",
       "      <th>high</th>\n",
       "    </tr>\n",
       "    <tr>\n",
       "      <th>region</th>\n",
       "      <th>Year</th>\n",
       "      <th></th>\n",
       "      <th></th>\n",
       "      <th></th>\n",
       "    </tr>\n",
       "  </thead>\n",
       "  <tbody>\n",
       "    <tr>\n",
       "      <th rowspan=\"3\" valign=\"top\">SEA</th>\n",
       "      <th>2015</th>\n",
       "      <td>4.307000</td>\n",
       "      <td>5.572000</td>\n",
       "      <td>6.798000</td>\n",
       "    </tr>\n",
       "    <tr>\n",
       "      <th>2016</th>\n",
       "      <td>4.307000</td>\n",
       "      <td>5.572000</td>\n",
       "      <td>6.798000</td>\n",
       "    </tr>\n",
       "    <tr>\n",
       "      <th>2017</th>\n",
       "      <td>4.545000</td>\n",
       "      <td>5.711000</td>\n",
       "      <td>6.572000</td>\n",
       "    </tr>\n",
       "    <tr>\n",
       "      <th rowspan=\"3\" valign=\"top\">not_SEA</th>\n",
       "      <th>2015</th>\n",
       "      <td>4.141667</td>\n",
       "      <td>5.738126</td>\n",
       "      <td>6.617333</td>\n",
       "    </tr>\n",
       "    <tr>\n",
       "      <th>2016</th>\n",
       "      <td>4.141667</td>\n",
       "      <td>5.738126</td>\n",
       "      <td>6.617333</td>\n",
       "    </tr>\n",
       "    <tr>\n",
       "      <th>2017</th>\n",
       "      <td>3.998292</td>\n",
       "      <td>5.513938</td>\n",
       "      <td>6.744091</td>\n",
       "    </tr>\n",
       "  </tbody>\n",
       "</table>\n",
       "</div>"
      ],
      "text/plain": [
       "GDP_cat            low       med      high\n",
       "region  Year                              \n",
       "SEA     2015  4.307000  5.572000  6.798000\n",
       "        2016  4.307000  5.572000  6.798000\n",
       "        2017  4.545000  5.711000  6.572000\n",
       "not_SEA 2015  4.141667  5.738126  6.617333\n",
       "        2016  4.141667  5.738126  6.617333\n",
       "        2017  3.998292  5.513938  6.744091"
      ]
     },
     "execution_count": 49,
     "metadata": {},
     "output_type": "execute_result"
    }
   ],
   "source": [
    "happ.pivot_table(index = ['region', 'Year'], columns = 'GDP_cat', values = 'Happiness.Score', aggfunc = 'mean')\n",
    "# pass multi-indexes into pivot_table"
   ]
  },
  {
   "cell_type": "markdown",
   "metadata": {},
   "source": [
    "<a id='split'></a>\n",
    "## Split-Apply-Transform\n",
    "\n",
    "### Grouping"
   ]
  },
  {
   "cell_type": "code",
   "execution_count": 53,
   "metadata": {
    "ExecuteTime": {
     "end_time": "2023-08-29T11:50:25.168586Z",
     "start_time": "2023-08-29T11:50:25.156474Z"
    }
   },
   "outputs": [
    {
     "data": {
      "text/plain": [
       "(Country                   Year\n",
       " Central African Republic  2017    2.693\n",
       " Togo                      2016    2.839\n",
       "                           2015    2.839\n",
       " Burundi                   2017    2.905\n",
       "                           2016    2.905\n",
       "                                   ...  \n",
       " Suriname                  2017      NaN\n",
       " Swaziland                 2017      NaN\n",
       " Taiwan                    2017      NaN\n",
       " Taiwan Province of China  2015      NaN\n",
       "                           2016      NaN\n",
       " Name: Happiness.Score, Length: 492, dtype: float64,\n",
       " pandas.core.series.Series)"
      ]
     },
     "execution_count": 53,
     "metadata": {},
     "output_type": "execute_result"
    }
   ],
   "source": [
    "a = happ.groupby(['Country', 'Year'])['Happiness.Score'].mean().sort_values()\n",
    "a, type(a)"
   ]
  },
  {
   "cell_type": "code",
   "execution_count": 54,
   "metadata": {
    "ExecuteTime": {
     "end_time": "2023-08-29T11:53:52.700721Z",
     "start_time": "2023-08-29T11:53:52.688515Z"
    }
   },
   "outputs": [
    {
     "data": {
      "text/plain": [
       "Country\n",
       "Switzerland    7.556000\n",
       "Iceland        7.542000\n",
       "Norway         7.527000\n",
       "Denmark        7.525333\n",
       "Finland        7.427000\n",
       "Name: Happiness.Score, dtype: float64"
      ]
     },
     "execution_count": 54,
     "metadata": {},
     "output_type": "execute_result"
    }
   ],
   "source": [
    "happ.groupby('Country')['Happiness.Score'].mean().sort_values(ascending = False).head()"
   ]
  },
  {
   "cell_type": "markdown",
   "metadata": {},
   "source": [
    "### Basic Plotting"
   ]
  },
  {
   "cell_type": "code",
   "execution_count": 55,
   "metadata": {
    "ExecuteTime": {
     "end_time": "2023-08-29T11:53:54.733409Z",
     "start_time": "2023-08-29T11:53:54.716727Z"
    }
   },
   "outputs": [
    {
     "data": {
      "text/html": [
       "<div>\n",
       "<style scoped>\n",
       "    .dataframe tbody tr th:only-of-type {\n",
       "        vertical-align: middle;\n",
       "    }\n",
       "\n",
       "    .dataframe tbody tr th {\n",
       "        vertical-align: top;\n",
       "    }\n",
       "\n",
       "    .dataframe thead th {\n",
       "        text-align: right;\n",
       "    }\n",
       "</style>\n",
       "<table border=\"1\" class=\"dataframe\">\n",
       "  <thead>\n",
       "    <tr style=\"text-align: right;\">\n",
       "      <th></th>\n",
       "      <th>Country</th>\n",
       "      <th>Happiness.Rank</th>\n",
       "      <th>Happiness.Score</th>\n",
       "      <th>GDP</th>\n",
       "      <th>Family</th>\n",
       "      <th>Life.Expectancy</th>\n",
       "      <th>Freedom</th>\n",
       "      <th>Govt.Corruption</th>\n",
       "      <th>Generosity</th>\n",
       "      <th>Dystopia.Residual</th>\n",
       "      <th>Year</th>\n",
       "      <th>GDP_cat</th>\n",
       "      <th>region</th>\n",
       "    </tr>\n",
       "  </thead>\n",
       "  <tbody>\n",
       "    <tr>\n",
       "      <th>0</th>\n",
       "      <td>Switzerland</td>\n",
       "      <td>1.0</td>\n",
       "      <td>7.587</td>\n",
       "      <td>1.39651</td>\n",
       "      <td>1.34951</td>\n",
       "      <td>0.94143</td>\n",
       "      <td>0.66557</td>\n",
       "      <td>0.41978</td>\n",
       "      <td>0.29678</td>\n",
       "      <td>2.51738</td>\n",
       "      <td>2015</td>\n",
       "      <td>med</td>\n",
       "      <td>not_SEA</td>\n",
       "    </tr>\n",
       "    <tr>\n",
       "      <th>1</th>\n",
       "      <td>Iceland</td>\n",
       "      <td>2.0</td>\n",
       "      <td>7.561</td>\n",
       "      <td>1.30232</td>\n",
       "      <td>1.40223</td>\n",
       "      <td>0.94784</td>\n",
       "      <td>0.62877</td>\n",
       "      <td>0.14145</td>\n",
       "      <td>0.43630</td>\n",
       "      <td>2.70201</td>\n",
       "      <td>2015</td>\n",
       "      <td>med</td>\n",
       "      <td>not_SEA</td>\n",
       "    </tr>\n",
       "    <tr>\n",
       "      <th>2</th>\n",
       "      <td>Denmark</td>\n",
       "      <td>3.0</td>\n",
       "      <td>7.527</td>\n",
       "      <td>1.32548</td>\n",
       "      <td>1.36058</td>\n",
       "      <td>0.87464</td>\n",
       "      <td>0.64938</td>\n",
       "      <td>0.48357</td>\n",
       "      <td>0.34139</td>\n",
       "      <td>2.49204</td>\n",
       "      <td>2015</td>\n",
       "      <td>med</td>\n",
       "      <td>not_SEA</td>\n",
       "    </tr>\n",
       "    <tr>\n",
       "      <th>3</th>\n",
       "      <td>Norway</td>\n",
       "      <td>4.0</td>\n",
       "      <td>7.522</td>\n",
       "      <td>1.45900</td>\n",
       "      <td>1.33095</td>\n",
       "      <td>0.88521</td>\n",
       "      <td>0.66973</td>\n",
       "      <td>0.36503</td>\n",
       "      <td>0.34699</td>\n",
       "      <td>2.46531</td>\n",
       "      <td>2015</td>\n",
       "      <td>med</td>\n",
       "      <td>not_SEA</td>\n",
       "    </tr>\n",
       "    <tr>\n",
       "      <th>4</th>\n",
       "      <td>Canada</td>\n",
       "      <td>5.0</td>\n",
       "      <td>7.427</td>\n",
       "      <td>1.32629</td>\n",
       "      <td>1.32261</td>\n",
       "      <td>0.90563</td>\n",
       "      <td>0.63297</td>\n",
       "      <td>0.32957</td>\n",
       "      <td>0.45811</td>\n",
       "      <td>2.45176</td>\n",
       "      <td>2015</td>\n",
       "      <td>med</td>\n",
       "      <td>not_SEA</td>\n",
       "    </tr>\n",
       "  </tbody>\n",
       "</table>\n",
       "</div>"
      ],
      "text/plain": [
       "       Country  Happiness.Rank  Happiness.Score      GDP   Family  \\\n",
       "0  Switzerland             1.0            7.587  1.39651  1.34951   \n",
       "1      Iceland             2.0            7.561  1.30232  1.40223   \n",
       "2      Denmark             3.0            7.527  1.32548  1.36058   \n",
       "3       Norway             4.0            7.522  1.45900  1.33095   \n",
       "4       Canada             5.0            7.427  1.32629  1.32261   \n",
       "\n",
       "   Life.Expectancy  Freedom  Govt.Corruption  Generosity  Dystopia.Residual  \\\n",
       "0          0.94143  0.66557          0.41978     0.29678            2.51738   \n",
       "1          0.94784  0.62877          0.14145     0.43630            2.70201   \n",
       "2          0.87464  0.64938          0.48357     0.34139            2.49204   \n",
       "3          0.88521  0.66973          0.36503     0.34699            2.46531   \n",
       "4          0.90563  0.63297          0.32957     0.45811            2.45176   \n",
       "\n",
       "   Year GDP_cat   region  \n",
       "0  2015     med  not_SEA  \n",
       "1  2015     med  not_SEA  \n",
       "2  2015     med  not_SEA  \n",
       "3  2015     med  not_SEA  \n",
       "4  2015     med  not_SEA  "
      ]
     },
     "execution_count": 55,
     "metadata": {},
     "output_type": "execute_result"
    }
   ],
   "source": [
    "happ.head()"
   ]
  },
  {
   "cell_type": "code",
   "execution_count": 60,
   "metadata": {
    "ExecuteTime": {
     "end_time": "2023-08-29T11:56:50.807772Z",
     "start_time": "2023-08-29T11:56:50.779876Z"
    }
   },
   "outputs": [
    {
     "data": {
      "text/html": [
       "<div>\n",
       "<style scoped>\n",
       "    .dataframe tbody tr th:only-of-type {\n",
       "        vertical-align: middle;\n",
       "    }\n",
       "\n",
       "    .dataframe tbody tr th {\n",
       "        vertical-align: top;\n",
       "    }\n",
       "\n",
       "    .dataframe thead th {\n",
       "        text-align: right;\n",
       "    }\n",
       "</style>\n",
       "<table border=\"1\" class=\"dataframe\">\n",
       "  <thead>\n",
       "    <tr style=\"text-align: right;\">\n",
       "      <th></th>\n",
       "      <th>Happiness.Rank</th>\n",
       "      <th>Happiness.Score</th>\n",
       "      <th>GDP</th>\n",
       "      <th>Family</th>\n",
       "      <th>Life.Expectancy</th>\n",
       "      <th>Freedom</th>\n",
       "      <th>Govt.Corruption</th>\n",
       "      <th>Generosity</th>\n",
       "      <th>Dystopia.Residual</th>\n",
       "      <th>Year</th>\n",
       "    </tr>\n",
       "  </thead>\n",
       "  <tbody>\n",
       "    <tr>\n",
       "      <th>count</th>\n",
       "      <td>471.000000</td>\n",
       "      <td>471.000000</td>\n",
       "      <td>471.000000</td>\n",
       "      <td>471.000000</td>\n",
       "      <td>471.000000</td>\n",
       "      <td>471.000000</td>\n",
       "      <td>471.000000</td>\n",
       "      <td>471.000000</td>\n",
       "      <td>471.000000</td>\n",
       "      <td>492.000000</td>\n",
       "    </tr>\n",
       "    <tr>\n",
       "      <th>mean</th>\n",
       "      <td>79.002123</td>\n",
       "      <td>5.368588</td>\n",
       "      <td>0.891742</td>\n",
       "      <td>1.056156</td>\n",
       "      <td>0.604288</td>\n",
       "      <td>0.422089</td>\n",
       "      <td>0.136741</td>\n",
       "      <td>0.240451</td>\n",
       "      <td>2.017120</td>\n",
       "      <td>2016.000000</td>\n",
       "    </tr>\n",
       "    <tr>\n",
       "      <th>std</th>\n",
       "      <td>45.379933</td>\n",
       "      <td>1.138111</td>\n",
       "      <td>0.413322</td>\n",
       "      <td>0.291996</td>\n",
       "      <td>0.246127</td>\n",
       "      <td>0.150433</td>\n",
       "      <td>0.114470</td>\n",
       "      <td>0.129208</td>\n",
       "      <td>0.548021</td>\n",
       "      <td>0.817328</td>\n",
       "    </tr>\n",
       "    <tr>\n",
       "      <th>min</th>\n",
       "      <td>1.000000</td>\n",
       "      <td>2.693000</td>\n",
       "      <td>0.000000</td>\n",
       "      <td>0.000000</td>\n",
       "      <td>0.000000</td>\n",
       "      <td>0.000000</td>\n",
       "      <td>0.000000</td>\n",
       "      <td>0.000000</td>\n",
       "      <td>0.328580</td>\n",
       "      <td>2015.000000</td>\n",
       "    </tr>\n",
       "    <tr>\n",
       "      <th>25%</th>\n",
       "      <td>40.000000</td>\n",
       "      <td>4.517500</td>\n",
       "      <td>0.593250</td>\n",
       "      <td>0.904550</td>\n",
       "      <td>0.431752</td>\n",
       "      <td>0.319140</td>\n",
       "      <td>0.059815</td>\n",
       "      <td>0.152412</td>\n",
       "      <td>1.684842</td>\n",
       "      <td>2015.000000</td>\n",
       "    </tr>\n",
       "    <tr>\n",
       "      <th>50%</th>\n",
       "      <td>79.000000</td>\n",
       "      <td>5.268000</td>\n",
       "      <td>0.958470</td>\n",
       "      <td>1.095620</td>\n",
       "      <td>0.650880</td>\n",
       "      <td>0.436260</td>\n",
       "      <td>0.099872</td>\n",
       "      <td>0.219000</td>\n",
       "      <td>1.978736</td>\n",
       "      <td>2016.000000</td>\n",
       "    </tr>\n",
       "    <tr>\n",
       "      <th>90%</th>\n",
       "      <td>142.000000</td>\n",
       "      <td>6.951000</td>\n",
       "      <td>1.386040</td>\n",
       "      <td>1.387777</td>\n",
       "      <td>0.891860</td>\n",
       "      <td>0.614770</td>\n",
       "      <td>0.318834</td>\n",
       "      <td>0.421920</td>\n",
       "      <td>2.765790</td>\n",
       "      <td>2017.000000</td>\n",
       "    </tr>\n",
       "    <tr>\n",
       "      <th>max</th>\n",
       "      <td>158.000000</td>\n",
       "      <td>7.587000</td>\n",
       "      <td>1.870766</td>\n",
       "      <td>1.610574</td>\n",
       "      <td>1.025250</td>\n",
       "      <td>0.669730</td>\n",
       "      <td>0.551910</td>\n",
       "      <td>0.838075</td>\n",
       "      <td>3.602140</td>\n",
       "      <td>2017.000000</td>\n",
       "    </tr>\n",
       "  </tbody>\n",
       "</table>\n",
       "</div>"
      ],
      "text/plain": [
       "       Happiness.Rank  Happiness.Score         GDP      Family  \\\n",
       "count      471.000000       471.000000  471.000000  471.000000   \n",
       "mean        79.002123         5.368588    0.891742    1.056156   \n",
       "std         45.379933         1.138111    0.413322    0.291996   \n",
       "min          1.000000         2.693000    0.000000    0.000000   \n",
       "25%         40.000000         4.517500    0.593250    0.904550   \n",
       "50%         79.000000         5.268000    0.958470    1.095620   \n",
       "90%        142.000000         6.951000    1.386040    1.387777   \n",
       "max        158.000000         7.587000    1.870766    1.610574   \n",
       "\n",
       "       Life.Expectancy     Freedom  Govt.Corruption  Generosity  \\\n",
       "count       471.000000  471.000000       471.000000  471.000000   \n",
       "mean          0.604288    0.422089         0.136741    0.240451   \n",
       "std           0.246127    0.150433         0.114470    0.129208   \n",
       "min           0.000000    0.000000         0.000000    0.000000   \n",
       "25%           0.431752    0.319140         0.059815    0.152412   \n",
       "50%           0.650880    0.436260         0.099872    0.219000   \n",
       "90%           0.891860    0.614770         0.318834    0.421920   \n",
       "max           1.025250    0.669730         0.551910    0.838075   \n",
       "\n",
       "       Dystopia.Residual         Year  \n",
       "count         471.000000   492.000000  \n",
       "mean            2.017120  2016.000000  \n",
       "std             0.548021     0.817328  \n",
       "min             0.328580  2015.000000  \n",
       "25%             1.684842  2015.000000  \n",
       "50%             1.978736  2016.000000  \n",
       "90%             2.765790  2017.000000  \n",
       "max             3.602140  2017.000000  "
      ]
     },
     "execution_count": 60,
     "metadata": {},
     "output_type": "execute_result"
    }
   ],
   "source": [
    "happ.describe(percentiles=[0.25, 0.50, 0.90])"
   ]
  },
  {
   "cell_type": "code",
   "execution_count": 61,
   "metadata": {
    "ExecuteTime": {
     "end_time": "2023-08-29T11:57:13.121967Z",
     "start_time": "2023-08-29T11:57:13.032797Z"
    }
   },
   "outputs": [
    {
     "data": {
      "image/png": "[encoded data removed]",
      "text/plain": [
       "<Figure size 640x480 with 1 Axes>"
      ]
     },
     "metadata": {},
     "output_type": "display_data"
    }
   ],
   "source": [
    "happ.plot(x = 'Generosity', y = 'Life.Expectancy', kind = 'scatter');"
   ]
  },
  {
   "cell_type": "code",
   "execution_count": 62,
   "metadata": {
    "ExecuteTime": {
     "end_time": "2023-08-29T11:57:20.940779Z",
     "start_time": "2023-08-29T11:57:20.921661Z"
    }
   },
   "outputs": [
    {
     "data": {
      "text/html": [
       "<div>\n",
       "<style scoped>\n",
       "    .dataframe tbody tr th:only-of-type {\n",
       "        vertical-align: middle;\n",
       "    }\n",
       "\n",
       "    .dataframe tbody tr th {\n",
       "        vertical-align: top;\n",
       "    }\n",
       "\n",
       "    .dataframe thead th {\n",
       "        text-align: right;\n",
       "    }\n",
       "</style>\n",
       "<table border=\"1\" class=\"dataframe\">\n",
       "  <thead>\n",
       "    <tr style=\"text-align: right;\">\n",
       "      <th></th>\n",
       "      <th>Country</th>\n",
       "      <th>Happiness.Rank</th>\n",
       "      <th>Happiness.Score</th>\n",
       "      <th>GDP</th>\n",
       "      <th>Family</th>\n",
       "      <th>Life.Expectancy</th>\n",
       "      <th>Freedom</th>\n",
       "      <th>Govt.Corruption</th>\n",
       "      <th>Generosity</th>\n",
       "      <th>Dystopia.Residual</th>\n",
       "      <th>Year</th>\n",
       "      <th>GDP_cat</th>\n",
       "      <th>region</th>\n",
       "    </tr>\n",
       "  </thead>\n",
       "  <tbody>\n",
       "    <tr>\n",
       "      <th>33</th>\n",
       "      <td>Thailand</td>\n",
       "      <td>34.0</td>\n",
       "      <td>6.455</td>\n",
       "      <td>0.966900</td>\n",
       "      <td>1.265040</td>\n",
       "      <td>0.738500</td>\n",
       "      <td>0.556640</td>\n",
       "      <td>0.031870</td>\n",
       "      <td>0.576300</td>\n",
       "      <td>2.319450</td>\n",
       "      <td>2015</td>\n",
       "      <td>med</td>\n",
       "      <td>SEA</td>\n",
       "    </tr>\n",
       "    <tr>\n",
       "      <th>128</th>\n",
       "      <td>Myanmar</td>\n",
       "      <td>129.0</td>\n",
       "      <td>4.307</td>\n",
       "      <td>0.271080</td>\n",
       "      <td>0.709050</td>\n",
       "      <td>0.482460</td>\n",
       "      <td>0.440170</td>\n",
       "      <td>0.190340</td>\n",
       "      <td>0.795880</td>\n",
       "      <td>1.418050</td>\n",
       "      <td>2015</td>\n",
       "      <td>low</td>\n",
       "      <td>SEA</td>\n",
       "    </tr>\n",
       "    <tr>\n",
       "      <th>197</th>\n",
       "      <td>Thailand</td>\n",
       "      <td>34.0</td>\n",
       "      <td>6.455</td>\n",
       "      <td>0.966900</td>\n",
       "      <td>1.265040</td>\n",
       "      <td>0.738500</td>\n",
       "      <td>0.556640</td>\n",
       "      <td>0.031870</td>\n",
       "      <td>0.576300</td>\n",
       "      <td>2.319450</td>\n",
       "      <td>2016</td>\n",
       "      <td>med</td>\n",
       "      <td>SEA</td>\n",
       "    </tr>\n",
       "    <tr>\n",
       "      <th>292</th>\n",
       "      <td>Myanmar</td>\n",
       "      <td>129.0</td>\n",
       "      <td>4.307</td>\n",
       "      <td>0.271080</td>\n",
       "      <td>0.709050</td>\n",
       "      <td>0.482460</td>\n",
       "      <td>0.440170</td>\n",
       "      <td>0.190340</td>\n",
       "      <td>0.795880</td>\n",
       "      <td>1.418050</td>\n",
       "      <td>2016</td>\n",
       "      <td>low</td>\n",
       "      <td>SEA</td>\n",
       "    </tr>\n",
       "    <tr>\n",
       "      <th>354</th>\n",
       "      <td>Malta</td>\n",
       "      <td>27.0</td>\n",
       "      <td>6.527</td>\n",
       "      <td>1.343280</td>\n",
       "      <td>1.488412</td>\n",
       "      <td>0.821944</td>\n",
       "      <td>0.588767</td>\n",
       "      <td>0.153066</td>\n",
       "      <td>0.574731</td>\n",
       "      <td>1.556863</td>\n",
       "      <td>2017</td>\n",
       "      <td>med</td>\n",
       "      <td>not_SEA</td>\n",
       "    </tr>\n",
       "    <tr>\n",
       "      <th>359</th>\n",
       "      <td>Thailand</td>\n",
       "      <td>32.0</td>\n",
       "      <td>6.424</td>\n",
       "      <td>1.127869</td>\n",
       "      <td>1.425792</td>\n",
       "      <td>0.647239</td>\n",
       "      <td>0.580201</td>\n",
       "      <td>0.031613</td>\n",
       "      <td>0.572123</td>\n",
       "      <td>2.039508</td>\n",
       "      <td>2017</td>\n",
       "      <td>med</td>\n",
       "      <td>SEA</td>\n",
       "    </tr>\n",
       "    <tr>\n",
       "      <th>408</th>\n",
       "      <td>Indonesia</td>\n",
       "      <td>81.0</td>\n",
       "      <td>5.262</td>\n",
       "      <td>0.995539</td>\n",
       "      <td>1.274445</td>\n",
       "      <td>0.492346</td>\n",
       "      <td>0.443323</td>\n",
       "      <td>0.015317</td>\n",
       "      <td>0.611705</td>\n",
       "      <td>1.429477</td>\n",
       "      <td>2017</td>\n",
       "      <td>med</td>\n",
       "      <td>SEA</td>\n",
       "    </tr>\n",
       "    <tr>\n",
       "      <th>441</th>\n",
       "      <td>Myanmar</td>\n",
       "      <td>114.0</td>\n",
       "      <td>4.545</td>\n",
       "      <td>0.367111</td>\n",
       "      <td>1.123236</td>\n",
       "      <td>0.397523</td>\n",
       "      <td>0.514492</td>\n",
       "      <td>0.188816</td>\n",
       "      <td>0.838075</td>\n",
       "      <td>1.115290</td>\n",
       "      <td>2017</td>\n",
       "      <td>low</td>\n",
       "      <td>SEA</td>\n",
       "    </tr>\n",
       "  </tbody>\n",
       "</table>\n",
       "</div>"
      ],
      "text/plain": [
       "       Country  Happiness.Rank  Happiness.Score       GDP    Family  \\\n",
       "33    Thailand            34.0            6.455  0.966900  1.265040   \n",
       "128    Myanmar           129.0            4.307  0.271080  0.709050   \n",
       "197   Thailand            34.0            6.455  0.966900  1.265040   \n",
       "292    Myanmar           129.0            4.307  0.271080  0.709050   \n",
       "354      Malta            27.0            6.527  1.343280  1.488412   \n",
       "359   Thailand            32.0            6.424  1.127869  1.425792   \n",
       "408  Indonesia            81.0            5.262  0.995539  1.274445   \n",
       "441    Myanmar           114.0            4.545  0.367111  1.123236   \n",
       "\n",
       "     Life.Expectancy   Freedom  Govt.Corruption  Generosity  \\\n",
       "33          0.738500  0.556640         0.031870    0.576300   \n",
       "128         0.482460  0.440170         0.190340    0.795880   \n",
       "197         0.738500  0.556640         0.031870    0.576300   \n",
       "292         0.482460  0.440170         0.190340    0.795880   \n",
       "354         0.821944  0.588767         0.153066    0.574731   \n",
       "359         0.647239  0.580201         0.031613    0.572123   \n",
       "408         0.492346  0.443323         0.015317    0.611705   \n",
       "441         0.397523  0.514492         0.188816    0.838075   \n",
       "\n",
       "     Dystopia.Residual  Year GDP_cat   region  \n",
       "33            2.319450  2015     med      SEA  \n",
       "128           1.418050  2015     low      SEA  \n",
       "197           2.319450  2016     med      SEA  \n",
       "292           1.418050  2016     low      SEA  \n",
       "354           1.556863  2017     med  not_SEA  \n",
       "359           2.039508  2017     med      SEA  \n",
       "408           1.429477  2017     med      SEA  \n",
       "441           1.115290  2017     low      SEA  "
      ]
     },
     "execution_count": 62,
     "metadata": {},
     "output_type": "execute_result"
    }
   ],
   "source": [
    "happ[happ.Generosity > 0.55]"
   ]
  },
  {
   "cell_type": "code",
   "execution_count": 63,
   "metadata": {
    "ExecuteTime": {
     "end_time": "2023-08-29T11:57:29.975181Z",
     "start_time": "2023-08-29T11:57:29.907275Z"
    }
   },
   "outputs": [
    {
     "data": {
      "image/png": "[encoded data removed]",
      "text/plain": [
       "<Figure size 640x480 with 1 Axes>"
      ]
     },
     "metadata": {},
     "output_type": "display_data"
    }
   ],
   "source": [
    "happ.Generosity.plot(kind = 'box');"
   ]
  },
  {
   "cell_type": "markdown",
   "metadata": {},
   "source": [
    "<a id='multiple'></a>\n",
    "##  Working with Multiple DataFrames\n",
    "\n",
    "The following two datasets contain information on the matches played at the 2018 FIFA world cup:\n",
    "\n",
    "* `match_schedule.xlsx` - contains the schedule of all 64 matches and their outcomes.\n",
    "* `weatherTable.xlsx` - contains information on the weather at the venue of each match."
   ]
  },
  {
   "cell_type": "code",
   "execution_count": 67,
   "metadata": {
    "ExecuteTime": {
     "end_time": "2023-08-29T12:04:44.041039Z",
     "start_time": "2023-08-29T12:04:44.003312Z"
    }
   },
   "outputs": [],
   "source": [
    "weather = pd.read_excel('../data/weatherTable.xlsx')\n",
    "schedule = pd.read_excel('../data/match_schedule.xlsx')\n",
    "# You may need to install openpyxl (at command prompt, run pip install openpyxl).a"
   ]
  },
  {
   "cell_type": "code",
   "execution_count": 70,
   "metadata": {
    "ExecuteTime": {
     "end_time": "2023-08-29T12:05:53.497559Z",
     "start_time": "2023-08-29T12:05:53.486566Z"
    }
   },
   "outputs": [
    {
     "data": {
      "text/html": [
       "<div>\n",
       "<style scoped>\n",
       "    .dataframe tbody tr th:only-of-type {\n",
       "        vertical-align: middle;\n",
       "    }\n",
       "\n",
       "    .dataframe tbody tr th {\n",
       "        vertical-align: top;\n",
       "    }\n",
       "\n",
       "    .dataframe thead th {\n",
       "        text-align: right;\n",
       "    }\n",
       "</style>\n",
       "<table border=\"1\" class=\"dataframe\">\n",
       "  <thead>\n",
       "    <tr style=\"text-align: right;\">\n",
       "      <th></th>\n",
       "      <th>description</th>\n",
       "      <th>temperature</th>\n",
       "      <th>wind_speed</th>\n",
       "      <th>humid</th>\n",
       "      <th>match_id</th>\n",
       "    </tr>\n",
       "  </thead>\n",
       "  <tbody>\n",
       "    <tr>\n",
       "      <th>0</th>\n",
       "      <td>Clear Night</td>\n",
       "      <td>17</td>\n",
       "      <td>15</td>\n",
       "      <td>49</td>\n",
       "      <td>300331513</td>\n",
       "    </tr>\n",
       "    <tr>\n",
       "      <th>1</th>\n",
       "      <td>Sunny</td>\n",
       "      <td>32</td>\n",
       "      <td>2</td>\n",
       "      <td>19</td>\n",
       "      <td>300331497</td>\n",
       "    </tr>\n",
       "    <tr>\n",
       "      <th>2</th>\n",
       "      <td>Clear Night</td>\n",
       "      <td>24</td>\n",
       "      <td>7</td>\n",
       "      <td>17</td>\n",
       "      <td>300331554</td>\n",
       "    </tr>\n",
       "    <tr>\n",
       "      <th>3</th>\n",
       "      <td>Sunny</td>\n",
       "      <td>32</td>\n",
       "      <td>10</td>\n",
       "      <td>26</td>\n",
       "      <td>300331530</td>\n",
       "    </tr>\n",
       "    <tr>\n",
       "      <th>4</th>\n",
       "      <td>Sunny</td>\n",
       "      <td>27</td>\n",
       "      <td>12</td>\n",
       "      <td>38</td>\n",
       "      <td>300331550</td>\n",
       "    </tr>\n",
       "  </tbody>\n",
       "</table>\n",
       "</div>"
      ],
      "text/plain": [
       "   description  temperature  wind_speed  humid   match_id\n",
       "0  Clear Night           17          15     49  300331513\n",
       "1        Sunny           32           2     19  300331497\n",
       "2  Clear Night           24           7     17  300331554\n",
       "3        Sunny           32          10     26  300331530\n",
       "4        Sunny           27          12     38  300331550"
      ]
     },
     "execution_count": 70,
     "metadata": {},
     "output_type": "execute_result"
    }
   ],
   "source": [
    "weather.head()"
   ]
  },
  {
   "cell_type": "code",
   "execution_count": 71,
   "metadata": {
    "ExecuteTime": {
     "end_time": "2023-08-29T12:06:04.655576Z",
     "start_time": "2023-08-29T12:06:04.641079Z"
    }
   },
   "outputs": [
    {
     "data": {
      "text/html": [
       "<div>\n",
       "<style scoped>\n",
       "    .dataframe tbody tr th:only-of-type {\n",
       "        vertical-align: middle;\n",
       "    }\n",
       "\n",
       "    .dataframe tbody tr th {\n",
       "        vertical-align: top;\n",
       "    }\n",
       "\n",
       "    .dataframe thead th {\n",
       "        text-align: right;\n",
       "    }\n",
       "</style>\n",
       "<table border=\"1\" class=\"dataframe\">\n",
       "  <thead>\n",
       "    <tr style=\"text-align: right;\">\n",
       "      <th></th>\n",
       "      <th>match_id</th>\n",
       "      <th>date_time</th>\n",
       "      <th>stadium</th>\n",
       "      <th>venue</th>\n",
       "      <th>match_info</th>\n",
       "      <th>home_team</th>\n",
       "      <th>away_team</th>\n",
       "      <th>HT</th>\n",
       "      <th>FT</th>\n",
       "      <th>2ET</th>\n",
       "      <th>PEN</th>\n",
       "    </tr>\n",
       "  </thead>\n",
       "  <tbody>\n",
       "    <tr>\n",
       "      <th>0</th>\n",
       "      <td>300331495</td>\n",
       "      <td>19 Jun 2018 - 21:00</td>\n",
       "      <td>Saint Petersburg Stadium</td>\n",
       "      <td>St. Petersburg</td>\n",
       "      <td>Group A</td>\n",
       "      <td>RUS</td>\n",
       "      <td>EGY</td>\n",
       "      <td>0-0</td>\n",
       "      <td>3-1</td>\n",
       "      <td>NaN</td>\n",
       "      <td>NaN</td>\n",
       "    </tr>\n",
       "    <tr>\n",
       "      <th>1</th>\n",
       "      <td>300331496</td>\n",
       "      <td>20 Jun 2018 - 21:00</td>\n",
       "      <td>Kazan Arena</td>\n",
       "      <td>Kazan</td>\n",
       "      <td>Group B</td>\n",
       "      <td>IRN</td>\n",
       "      <td>ESP</td>\n",
       "      <td>0-0</td>\n",
       "      <td>0-1</td>\n",
       "      <td>NaN</td>\n",
       "      <td>NaN</td>\n",
       "    </tr>\n",
       "    <tr>\n",
       "      <th>2</th>\n",
       "      <td>300331497</td>\n",
       "      <td>22 Jun 2018 - 18:00</td>\n",
       "      <td>Volgograd Arena</td>\n",
       "      <td>Volgograd</td>\n",
       "      <td>Group D</td>\n",
       "      <td>NGA</td>\n",
       "      <td>ISL</td>\n",
       "      <td>0-0</td>\n",
       "      <td>2-0</td>\n",
       "      <td>NaN</td>\n",
       "      <td>NaN</td>\n",
       "    </tr>\n",
       "    <tr>\n",
       "      <th>3</th>\n",
       "      <td>300331498</td>\n",
       "      <td>01 Jul 2018 - 21:00</td>\n",
       "      <td>Nizhny Novgorod Stadium</td>\n",
       "      <td>Nizhny Novgorod</td>\n",
       "      <td>Round of 16</td>\n",
       "      <td>CRO</td>\n",
       "      <td>DEN</td>\n",
       "      <td>1-1</td>\n",
       "      <td>1-1</td>\n",
       "      <td>1-1</td>\n",
       "      <td>3-2</td>\n",
       "    </tr>\n",
       "    <tr>\n",
       "      <th>4</th>\n",
       "      <td>300331499</td>\n",
       "      <td>18 Jun 2018 - 15:00</td>\n",
       "      <td>Nizhny Novgorod Stadium</td>\n",
       "      <td>Nizhny Novgorod</td>\n",
       "      <td>Group F</td>\n",
       "      <td>SWE</td>\n",
       "      <td>KOR</td>\n",
       "      <td>0-0</td>\n",
       "      <td>1-0</td>\n",
       "      <td>NaN</td>\n",
       "      <td>NaN</td>\n",
       "    </tr>\n",
       "  </tbody>\n",
       "</table>\n",
       "</div>"
      ],
      "text/plain": [
       "    match_id            date_time                   stadium            venue  \\\n",
       "0  300331495  19 Jun 2018 - 21:00  Saint Petersburg Stadium   St. Petersburg   \n",
       "1  300331496  20 Jun 2018 - 21:00               Kazan Arena            Kazan   \n",
       "2  300331497  22 Jun 2018 - 18:00           Volgograd Arena        Volgograd   \n",
       "3  300331498  01 Jul 2018 - 21:00   Nizhny Novgorod Stadium  Nizhny Novgorod   \n",
       "4  300331499  18 Jun 2018 - 15:00   Nizhny Novgorod Stadium  Nizhny Novgorod   \n",
       "\n",
       "    match_info home_team away_team   HT   FT  2ET  PEN  \n",
       "0      Group A       RUS       EGY  0-0  3-1  NaN  NaN  \n",
       "1      Group B       IRN       ESP  0-0  0-1  NaN  NaN  \n",
       "2      Group D       NGA       ISL  0-0  2-0  NaN  NaN  \n",
       "3  Round of 16       CRO       DEN  1-1  1-1  1-1  3-2  \n",
       "4      Group F       SWE       KOR  0-0  1-0  NaN  NaN  "
      ]
     },
     "execution_count": 71,
     "metadata": {},
     "output_type": "execute_result"
    }
   ],
   "source": [
    "schedule.head()"
   ]
  },
  {
   "cell_type": "markdown",
   "metadata": {},
   "source": [
    "Both dataframes have a match id column. When we want to merge two dataframes, they have to have common column(s). There are two main types of joins: inner and outer joins. Outer joins are left, right or full joins. "
   ]
  },
  {
   "cell_type": "markdown",
   "metadata": {},
   "source": [
    "<img src=\"../figs/join-outer.png\" style=\"width: 450px;\"/>"
   ]
  },
  {
   "cell_type": "markdown",
   "metadata": {},
   "source": [
    "Inner joins keep only the rows that are present in **both** dataframes."
   ]
  },
  {
   "cell_type": "markdown",
   "metadata": {},
   "source": [
    "<img src=\"../figs/join-inner.png\" style=\"width: 450px;\"/>"
   ]
  },
  {
   "cell_type": "markdown",
   "metadata": {},
   "source": [
    "With pandas, things  get an additional layer of complication. Instead of merging on the column, one can merge based on the index. This will only be appropriate if both indices are of the same type."
   ]
  },
  {
   "cell_type": "code",
   "execution_count": 77,
   "metadata": {
    "ExecuteTime": {
     "end_time": "2023-08-29T12:12:17.727628Z",
     "start_time": "2023-08-29T12:12:17.705194Z"
    }
   },
   "outputs": [
    {
     "data": {
      "text/html": [
       "<div>\n",
       "<style scoped>\n",
       "    .dataframe tbody tr th:only-of-type {\n",
       "        vertical-align: middle;\n",
       "    }\n",
       "\n",
       "    .dataframe tbody tr th {\n",
       "        vertical-align: top;\n",
       "    }\n",
       "\n",
       "    .dataframe thead th {\n",
       "        text-align: right;\n",
       "    }\n",
       "</style>\n",
       "<table border=\"1\" class=\"dataframe\">\n",
       "  <thead>\n",
       "    <tr style=\"text-align: right;\">\n",
       "      <th></th>\n",
       "      <th>match_id</th>\n",
       "      <th>date_time</th>\n",
       "      <th>stadium</th>\n",
       "      <th>venue</th>\n",
       "      <th>match_info</th>\n",
       "      <th>home_team</th>\n",
       "      <th>away_team</th>\n",
       "      <th>HT</th>\n",
       "      <th>FT</th>\n",
       "      <th>2ET</th>\n",
       "      <th>PEN</th>\n",
       "      <th>description</th>\n",
       "      <th>temperature</th>\n",
       "      <th>wind_speed</th>\n",
       "      <th>humid</th>\n",
       "    </tr>\n",
       "  </thead>\n",
       "  <tbody>\n",
       "    <tr>\n",
       "      <th>0</th>\n",
       "      <td>300331495</td>\n",
       "      <td>19 Jun 2018 - 21:00</td>\n",
       "      <td>Saint Petersburg Stadium</td>\n",
       "      <td>St. Petersburg</td>\n",
       "      <td>Group A</td>\n",
       "      <td>RUS</td>\n",
       "      <td>EGY</td>\n",
       "      <td>0-0</td>\n",
       "      <td>3-1</td>\n",
       "      <td>NaN</td>\n",
       "      <td>NaN</td>\n",
       "      <td>Cloudy</td>\n",
       "      <td>15</td>\n",
       "      <td>14</td>\n",
       "      <td>83</td>\n",
       "    </tr>\n",
       "    <tr>\n",
       "      <th>1</th>\n",
       "      <td>300331496</td>\n",
       "      <td>20 Jun 2018 - 21:00</td>\n",
       "      <td>Kazan Arena</td>\n",
       "      <td>Kazan</td>\n",
       "      <td>Group B</td>\n",
       "      <td>IRN</td>\n",
       "      <td>ESP</td>\n",
       "      <td>0-0</td>\n",
       "      <td>0-1</td>\n",
       "      <td>NaN</td>\n",
       "      <td>NaN</td>\n",
       "      <td>Clear Night</td>\n",
       "      <td>18</td>\n",
       "      <td>26</td>\n",
       "      <td>48</td>\n",
       "    </tr>\n",
       "    <tr>\n",
       "      <th>2</th>\n",
       "      <td>300331497</td>\n",
       "      <td>22 Jun 2018 - 18:00</td>\n",
       "      <td>Volgograd Arena</td>\n",
       "      <td>Volgograd</td>\n",
       "      <td>Group D</td>\n",
       "      <td>NGA</td>\n",
       "      <td>ISL</td>\n",
       "      <td>0-0</td>\n",
       "      <td>2-0</td>\n",
       "      <td>NaN</td>\n",
       "      <td>NaN</td>\n",
       "      <td>Sunny</td>\n",
       "      <td>32</td>\n",
       "      <td>2</td>\n",
       "      <td>19</td>\n",
       "    </tr>\n",
       "    <tr>\n",
       "      <th>3</th>\n",
       "      <td>300331498</td>\n",
       "      <td>01 Jul 2018 - 21:00</td>\n",
       "      <td>Nizhny Novgorod Stadium</td>\n",
       "      <td>Nizhny Novgorod</td>\n",
       "      <td>Round of 16</td>\n",
       "      <td>CRO</td>\n",
       "      <td>DEN</td>\n",
       "      <td>1-1</td>\n",
       "      <td>1-1</td>\n",
       "      <td>1-1</td>\n",
       "      <td>3-2</td>\n",
       "      <td>Partly Cloudy Night</td>\n",
       "      <td>25</td>\n",
       "      <td>15</td>\n",
       "      <td>48</td>\n",
       "    </tr>\n",
       "    <tr>\n",
       "      <th>4</th>\n",
       "      <td>300331499</td>\n",
       "      <td>18 Jun 2018 - 15:00</td>\n",
       "      <td>Nizhny Novgorod Stadium</td>\n",
       "      <td>Nizhny Novgorod</td>\n",
       "      <td>Group F</td>\n",
       "      <td>SWE</td>\n",
       "      <td>KOR</td>\n",
       "      <td>0-0</td>\n",
       "      <td>1-0</td>\n",
       "      <td>NaN</td>\n",
       "      <td>NaN</td>\n",
       "      <td>Partly Cloudy</td>\n",
       "      <td>25</td>\n",
       "      <td>9</td>\n",
       "      <td>36</td>\n",
       "    </tr>\n",
       "    <tr>\n",
       "      <th>...</th>\n",
       "      <td>...</td>\n",
       "      <td>...</td>\n",
       "      <td>...</td>\n",
       "      <td>...</td>\n",
       "      <td>...</td>\n",
       "      <td>...</td>\n",
       "      <td>...</td>\n",
       "      <td>...</td>\n",
       "      <td>...</td>\n",
       "      <td>...</td>\n",
       "      <td>...</td>\n",
       "      <td>...</td>\n",
       "      <td>...</td>\n",
       "      <td>...</td>\n",
       "      <td>...</td>\n",
       "    </tr>\n",
       "    <tr>\n",
       "      <th>59</th>\n",
       "      <td>300331554</td>\n",
       "      <td>18 Jun 2018 - 21:00</td>\n",
       "      <td>Volgograd Arena</td>\n",
       "      <td>Volgograd</td>\n",
       "      <td>Group G</td>\n",
       "      <td>TUN</td>\n",
       "      <td>ENG</td>\n",
       "      <td>1-1</td>\n",
       "      <td>1-2</td>\n",
       "      <td>NaN</td>\n",
       "      <td>NaN</td>\n",
       "      <td>Clear Night</td>\n",
       "      <td>24</td>\n",
       "      <td>7</td>\n",
       "      <td>17</td>\n",
       "    </tr>\n",
       "    <tr>\n",
       "      <th>60</th>\n",
       "      <td>300340182</td>\n",
       "      <td>28 Jun 2018 - 20:00</td>\n",
       "      <td>Kaliningrad Stadium</td>\n",
       "      <td>Kaliningrad</td>\n",
       "      <td>Group G</td>\n",
       "      <td>ENG</td>\n",
       "      <td>BEL</td>\n",
       "      <td>0-0</td>\n",
       "      <td>0-1</td>\n",
       "      <td>NaN</td>\n",
       "      <td>NaN</td>\n",
       "      <td>Sunny</td>\n",
       "      <td>21</td>\n",
       "      <td>11</td>\n",
       "      <td>61</td>\n",
       "    </tr>\n",
       "    <tr>\n",
       "      <th>61</th>\n",
       "      <td>300340183</td>\n",
       "      <td>22 Jun 2018 - 20:00</td>\n",
       "      <td>Kaliningrad Stadium</td>\n",
       "      <td>Kaliningrad</td>\n",
       "      <td>Group E</td>\n",
       "      <td>SRB</td>\n",
       "      <td>SUI</td>\n",
       "      <td>1-0</td>\n",
       "      <td>1-2</td>\n",
       "      <td>NaN</td>\n",
       "      <td>NaN</td>\n",
       "      <td>Sunny</td>\n",
       "      <td>15</td>\n",
       "      <td>11</td>\n",
       "      <td>55</td>\n",
       "    </tr>\n",
       "    <tr>\n",
       "      <th>62</th>\n",
       "      <td>300340184</td>\n",
       "      <td>25 Jun 2018 - 20:00</td>\n",
       "      <td>Kaliningrad Stadium</td>\n",
       "      <td>Kaliningrad</td>\n",
       "      <td>Group B</td>\n",
       "      <td>ESP</td>\n",
       "      <td>MAR</td>\n",
       "      <td>1-1</td>\n",
       "      <td>2-2</td>\n",
       "      <td>NaN</td>\n",
       "      <td>NaN</td>\n",
       "      <td>Partly Cloudy Night</td>\n",
       "      <td>15</td>\n",
       "      <td>13</td>\n",
       "      <td>70</td>\n",
       "    </tr>\n",
       "    <tr>\n",
       "      <th>63</th>\n",
       "      <td>300353632</td>\n",
       "      <td>15 Jun 2018 - 17:00</td>\n",
       "      <td>Ekaterinburg Arena</td>\n",
       "      <td>Ekaterinburg</td>\n",
       "      <td>Group A</td>\n",
       "      <td>EGY</td>\n",
       "      <td>URU</td>\n",
       "      <td>0-0</td>\n",
       "      <td>0-1</td>\n",
       "      <td>NaN</td>\n",
       "      <td>NaN</td>\n",
       "      <td>Partly Cloudy</td>\n",
       "      <td>14</td>\n",
       "      <td>29</td>\n",
       "      <td>42</td>\n",
       "    </tr>\n",
       "  </tbody>\n",
       "</table>\n",
       "<p>64 rows × 15 columns</p>\n",
       "</div>"
      ],
      "text/plain": [
       "     match_id            date_time                   stadium            venue  \\\n",
       "0   300331495  19 Jun 2018 - 21:00  Saint Petersburg Stadium   St. Petersburg   \n",
       "1   300331496  20 Jun 2018 - 21:00               Kazan Arena            Kazan   \n",
       "2   300331497  22 Jun 2018 - 18:00           Volgograd Arena        Volgograd   \n",
       "3   300331498  01 Jul 2018 - 21:00   Nizhny Novgorod Stadium  Nizhny Novgorod   \n",
       "4   300331499  18 Jun 2018 - 15:00   Nizhny Novgorod Stadium  Nizhny Novgorod   \n",
       "..        ...                  ...                       ...              ...   \n",
       "59  300331554  18 Jun 2018 - 21:00           Volgograd Arena        Volgograd   \n",
       "60  300340182  28 Jun 2018 - 20:00       Kaliningrad Stadium      Kaliningrad   \n",
       "61  300340183  22 Jun 2018 - 20:00       Kaliningrad Stadium      Kaliningrad   \n",
       "62  300340184  25 Jun 2018 - 20:00       Kaliningrad Stadium      Kaliningrad   \n",
       "63  300353632  15 Jun 2018 - 17:00        Ekaterinburg Arena     Ekaterinburg   \n",
       "\n",
       "     match_info home_team away_team   HT   FT  2ET  PEN          description  \\\n",
       "0       Group A       RUS       EGY  0-0  3-1  NaN  NaN               Cloudy   \n",
       "1       Group B       IRN       ESP  0-0  0-1  NaN  NaN          Clear Night   \n",
       "2       Group D       NGA       ISL  0-0  2-0  NaN  NaN                Sunny   \n",
       "3   Round of 16       CRO       DEN  1-1  1-1  1-1  3-2  Partly Cloudy Night   \n",
       "4       Group F       SWE       KOR  0-0  1-0  NaN  NaN        Partly Cloudy   \n",
       "..          ...       ...       ...  ...  ...  ...  ...                  ...   \n",
       "59      Group G       TUN       ENG  1-1  1-2  NaN  NaN          Clear Night   \n",
       "60      Group G       ENG       BEL  0-0  0-1  NaN  NaN                Sunny   \n",
       "61      Group E       SRB       SUI  1-0  1-2  NaN  NaN                Sunny   \n",
       "62      Group B       ESP       MAR  1-1  2-2  NaN  NaN  Partly Cloudy Night   \n",
       "63      Group A       EGY       URU  0-0  0-1  NaN  NaN        Partly Cloudy   \n",
       "\n",
       "    temperature  wind_speed  humid  \n",
       "0            15          14     83  \n",
       "1            18          26     48  \n",
       "2            32           2     19  \n",
       "3            25          15     48  \n",
       "4            25           9     36  \n",
       "..          ...         ...    ...  \n",
       "59           24           7     17  \n",
       "60           21          11     61  \n",
       "61           15          11     55  \n",
       "62           15          13     70  \n",
       "63           14          29     42  \n",
       "\n",
       "[64 rows x 15 columns]"
      ]
     },
     "execution_count": 77,
     "metadata": {},
     "output_type": "execute_result"
    }
   ],
   "source": [
    "sched_weather = pd.merge(schedule, weather, how='outer', on = 'match_id')\n",
    "\"\"\"\n",
    "pd.DataFrame.merge(\n",
    "    self,\n",
    "    right: 'DataFrame | Series',\n",
    "    how: 'MergeHow' = 'inner',\n",
    "    on: 'IndexLabel | None' = None,\n",
    "    left_on: 'IndexLabel | None' = None,\n",
    "    right_on: 'IndexLabel | None' = None,\n",
    "    left_index: 'bool' = False,\n",
    "    right_index: 'bool' = False,\n",
    "    sort: 'bool' = False,\n",
    "    suffixes: 'Suffixes' = ('_x', '_y'),\n",
    "    copy: 'bool | None' = None,\n",
    "    indicator: 'str | bool' = False,\n",
    "    validate: 'str | None' = None,\n",
    ") -> 'DataFrame'\n",
    "\"\"\"\n",
    "sched_weather"
   ]
  },
  {
   "cell_type": "code",
   "execution_count": 79,
   "metadata": {
    "ExecuteTime": {
     "end_time": "2023-08-29T12:12:52.256052Z",
     "start_time": "2023-08-29T12:12:52.247173Z"
    }
   },
   "outputs": [
    {
     "data": {
      "text/plain": [
       "count    64.000000\n",
       "mean     23.750000\n",
       "std       5.312459\n",
       "min      12.000000\n",
       "25%      20.000000\n",
       "50%      24.000000\n",
       "75%      27.000000\n",
       "max      36.000000\n",
       "Name: temperature, dtype: float64"
      ]
     },
     "execution_count": 79,
     "metadata": {},
     "output_type": "execute_result"
    }
   ],
   "source": [
    "sched_weather.temperature.describe()"
   ]
  },
  {
   "cell_type": "code",
   "execution_count": 80,
   "metadata": {
    "ExecuteTime": {
     "end_time": "2023-08-29T12:13:02.182994Z",
     "start_time": "2023-08-29T12:13:02.153737Z"
    }
   },
   "outputs": [
    {
     "data": {
      "text/html": [
       "<div>\n",
       "<style scoped>\n",
       "    .dataframe tbody tr th:only-of-type {\n",
       "        vertical-align: middle;\n",
       "    }\n",
       "\n",
       "    .dataframe tbody tr th {\n",
       "        vertical-align: top;\n",
       "    }\n",
       "\n",
       "    .dataframe thead th {\n",
       "        text-align: right;\n",
       "    }\n",
       "</style>\n",
       "<table border=\"1\" class=\"dataframe\">\n",
       "  <thead>\n",
       "    <tr style=\"text-align: right;\">\n",
       "      <th></th>\n",
       "      <th>count</th>\n",
       "      <th>mean</th>\n",
       "      <th>std</th>\n",
       "      <th>min</th>\n",
       "      <th>25%</th>\n",
       "      <th>50%</th>\n",
       "      <th>75%</th>\n",
       "      <th>max</th>\n",
       "    </tr>\n",
       "    <tr>\n",
       "      <th>venue</th>\n",
       "      <th></th>\n",
       "      <th></th>\n",
       "      <th></th>\n",
       "      <th></th>\n",
       "      <th></th>\n",
       "      <th></th>\n",
       "      <th></th>\n",
       "      <th></th>\n",
       "    </tr>\n",
       "  </thead>\n",
       "  <tbody>\n",
       "    <tr>\n",
       "      <th>Ekaterinburg</th>\n",
       "      <td>4.0</td>\n",
       "      <td>19.500000</td>\n",
       "      <td>7.593857</td>\n",
       "      <td>12.0</td>\n",
       "      <td>13.50</td>\n",
       "      <td>19.5</td>\n",
       "      <td>25.50</td>\n",
       "      <td>27.0</td>\n",
       "    </tr>\n",
       "    <tr>\n",
       "      <th>Kaliningrad</th>\n",
       "      <td>4.0</td>\n",
       "      <td>17.750000</td>\n",
       "      <td>3.201562</td>\n",
       "      <td>15.0</td>\n",
       "      <td>15.00</td>\n",
       "      <td>17.5</td>\n",
       "      <td>20.25</td>\n",
       "      <td>21.0</td>\n",
       "    </tr>\n",
       "    <tr>\n",
       "      <th>Kazan</th>\n",
       "      <td>6.0</td>\n",
       "      <td>23.166667</td>\n",
       "      <td>4.665476</td>\n",
       "      <td>18.0</td>\n",
       "      <td>19.25</td>\n",
       "      <td>23.0</td>\n",
       "      <td>27.50</td>\n",
       "      <td>28.0</td>\n",
       "    </tr>\n",
       "    <tr>\n",
       "      <th>Moscow</th>\n",
       "      <td>12.0</td>\n",
       "      <td>22.916667</td>\n",
       "      <td>3.502164</td>\n",
       "      <td>17.0</td>\n",
       "      <td>20.75</td>\n",
       "      <td>23.5</td>\n",
       "      <td>24.75</td>\n",
       "      <td>28.0</td>\n",
       "    </tr>\n",
       "    <tr>\n",
       "      <th>Nizhny Novgorod</th>\n",
       "      <td>6.0</td>\n",
       "      <td>23.166667</td>\n",
       "      <td>4.535049</td>\n",
       "      <td>17.0</td>\n",
       "      <td>20.50</td>\n",
       "      <td>23.5</td>\n",
       "      <td>25.00</td>\n",
       "      <td>30.0</td>\n",
       "    </tr>\n",
       "    <tr>\n",
       "      <th>Rostov-On-Don</th>\n",
       "      <td>5.0</td>\n",
       "      <td>29.000000</td>\n",
       "      <td>3.807887</td>\n",
       "      <td>25.0</td>\n",
       "      <td>25.00</td>\n",
       "      <td>30.0</td>\n",
       "      <td>32.00</td>\n",
       "      <td>33.0</td>\n",
       "    </tr>\n",
       "    <tr>\n",
       "      <th>Samara</th>\n",
       "      <td>6.0</td>\n",
       "      <td>27.333333</td>\n",
       "      <td>4.366539</td>\n",
       "      <td>22.0</td>\n",
       "      <td>24.50</td>\n",
       "      <td>26.5</td>\n",
       "      <td>30.75</td>\n",
       "      <td>33.0</td>\n",
       "    </tr>\n",
       "    <tr>\n",
       "      <th>Saransk</th>\n",
       "      <td>4.0</td>\n",
       "      <td>22.000000</td>\n",
       "      <td>3.915780</td>\n",
       "      <td>18.0</td>\n",
       "      <td>19.50</td>\n",
       "      <td>21.5</td>\n",
       "      <td>24.00</td>\n",
       "      <td>27.0</td>\n",
       "    </tr>\n",
       "    <tr>\n",
       "      <th>Sochi</th>\n",
       "      <td>6.0</td>\n",
       "      <td>25.166667</td>\n",
       "      <td>2.857738</td>\n",
       "      <td>22.0</td>\n",
       "      <td>24.00</td>\n",
       "      <td>24.0</td>\n",
       "      <td>26.25</td>\n",
       "      <td>30.0</td>\n",
       "    </tr>\n",
       "    <tr>\n",
       "      <th>St. Petersburg</th>\n",
       "      <td>7.0</td>\n",
       "      <td>20.428571</td>\n",
       "      <td>4.035556</td>\n",
       "      <td>15.0</td>\n",
       "      <td>18.00</td>\n",
       "      <td>19.0</td>\n",
       "      <td>23.50</td>\n",
       "      <td>26.0</td>\n",
       "    </tr>\n",
       "    <tr>\n",
       "      <th>Volgograd</th>\n",
       "      <td>4.0</td>\n",
       "      <td>31.750000</td>\n",
       "      <td>5.439056</td>\n",
       "      <td>24.0</td>\n",
       "      <td>30.00</td>\n",
       "      <td>33.5</td>\n",
       "      <td>35.25</td>\n",
       "      <td>36.0</td>\n",
       "    </tr>\n",
       "  </tbody>\n",
       "</table>\n",
       "</div>"
      ],
      "text/plain": [
       "                 count       mean       std   min    25%   50%    75%   max\n",
       "venue                                                                      \n",
       "Ekaterinburg       4.0  19.500000  7.593857  12.0  13.50  19.5  25.50  27.0\n",
       "Kaliningrad        4.0  17.750000  3.201562  15.0  15.00  17.5  20.25  21.0\n",
       "Kazan              6.0  23.166667  4.665476  18.0  19.25  23.0  27.50  28.0\n",
       "Moscow            12.0  22.916667  3.502164  17.0  20.75  23.5  24.75  28.0\n",
       "Nizhny Novgorod    6.0  23.166667  4.535049  17.0  20.50  23.5  25.00  30.0\n",
       "Rostov-On-Don      5.0  29.000000  3.807887  25.0  25.00  30.0  32.00  33.0\n",
       "Samara             6.0  27.333333  4.366539  22.0  24.50  26.5  30.75  33.0\n",
       "Saransk            4.0  22.000000  3.915780  18.0  19.50  21.5  24.00  27.0\n",
       "Sochi              6.0  25.166667  2.857738  22.0  24.00  24.0  26.25  30.0\n",
       "St. Petersburg     7.0  20.428571  4.035556  15.0  18.00  19.0  23.50  26.0\n",
       "Volgograd          4.0  31.750000  5.439056  24.0  30.00  33.5  35.25  36.0"
      ]
     },
     "execution_count": 80,
     "metadata": {},
     "output_type": "execute_result"
    }
   ],
   "source": [
    "sched_weather.groupby('venue').temperature.describe()"
   ]
  },
  {
   "cell_type": "code",
   "execution_count": 81,
   "metadata": {
    "ExecuteTime": {
     "end_time": "2023-08-29T12:13:30.934608Z",
     "start_time": "2023-08-29T12:13:30.893970Z"
    }
   },
   "outputs": [
    {
     "data": {
      "text/html": [
       "<div>\n",
       "<style scoped>\n",
       "    .dataframe tbody tr th:only-of-type {\n",
       "        vertical-align: middle;\n",
       "    }\n",
       "\n",
       "    .dataframe tbody tr th {\n",
       "        vertical-align: top;\n",
       "    }\n",
       "\n",
       "    .dataframe thead tr th {\n",
       "        text-align: left;\n",
       "    }\n",
       "\n",
       "    .dataframe thead tr:last-of-type th {\n",
       "        text-align: right;\n",
       "    }\n",
       "</style>\n",
       "<table border=\"1\" class=\"dataframe\">\n",
       "  <thead>\n",
       "    <tr>\n",
       "      <th></th>\n",
       "      <th colspan=\"8\" halign=\"left\">temperature</th>\n",
       "      <th colspan=\"8\" halign=\"left\">wind_speed</th>\n",
       "    </tr>\n",
       "    <tr>\n",
       "      <th></th>\n",
       "      <th>count</th>\n",
       "      <th>mean</th>\n",
       "      <th>std</th>\n",
       "      <th>min</th>\n",
       "      <th>25%</th>\n",
       "      <th>50%</th>\n",
       "      <th>75%</th>\n",
       "      <th>max</th>\n",
       "      <th>count</th>\n",
       "      <th>mean</th>\n",
       "      <th>std</th>\n",
       "      <th>min</th>\n",
       "      <th>25%</th>\n",
       "      <th>50%</th>\n",
       "      <th>75%</th>\n",
       "      <th>max</th>\n",
       "    </tr>\n",
       "    <tr>\n",
       "      <th>venue</th>\n",
       "      <th></th>\n",
       "      <th></th>\n",
       "      <th></th>\n",
       "      <th></th>\n",
       "      <th></th>\n",
       "      <th></th>\n",
       "      <th></th>\n",
       "      <th></th>\n",
       "      <th></th>\n",
       "      <th></th>\n",
       "      <th></th>\n",
       "      <th></th>\n",
       "      <th></th>\n",
       "      <th></th>\n",
       "      <th></th>\n",
       "      <th></th>\n",
       "    </tr>\n",
       "  </thead>\n",
       "  <tbody>\n",
       "    <tr>\n",
       "      <th>Ekaterinburg</th>\n",
       "      <td>4.0</td>\n",
       "      <td>19.500000</td>\n",
       "      <td>7.593857</td>\n",
       "      <td>12.0</td>\n",
       "      <td>13.50</td>\n",
       "      <td>19.5</td>\n",
       "      <td>25.50</td>\n",
       "      <td>27.0</td>\n",
       "      <td>4.0</td>\n",
       "      <td>23.500000</td>\n",
       "      <td>4.932883</td>\n",
       "      <td>18.0</td>\n",
       "      <td>20.25</td>\n",
       "      <td>23.5</td>\n",
       "      <td>26.75</td>\n",
       "      <td>29.0</td>\n",
       "    </tr>\n",
       "    <tr>\n",
       "      <th>Kaliningrad</th>\n",
       "      <td>4.0</td>\n",
       "      <td>17.750000</td>\n",
       "      <td>3.201562</td>\n",
       "      <td>15.0</td>\n",
       "      <td>15.00</td>\n",
       "      <td>17.5</td>\n",
       "      <td>20.25</td>\n",
       "      <td>21.0</td>\n",
       "      <td>4.0</td>\n",
       "      <td>10.500000</td>\n",
       "      <td>2.516611</td>\n",
       "      <td>7.0</td>\n",
       "      <td>10.00</td>\n",
       "      <td>11.0</td>\n",
       "      <td>11.50</td>\n",
       "      <td>13.0</td>\n",
       "    </tr>\n",
       "    <tr>\n",
       "      <th>Kazan</th>\n",
       "      <td>6.0</td>\n",
       "      <td>23.166667</td>\n",
       "      <td>4.665476</td>\n",
       "      <td>18.0</td>\n",
       "      <td>19.25</td>\n",
       "      <td>23.0</td>\n",
       "      <td>27.50</td>\n",
       "      <td>28.0</td>\n",
       "      <td>6.0</td>\n",
       "      <td>15.333333</td>\n",
       "      <td>6.918574</td>\n",
       "      <td>8.0</td>\n",
       "      <td>9.75</td>\n",
       "      <td>15.0</td>\n",
       "      <td>18.75</td>\n",
       "      <td>26.0</td>\n",
       "    </tr>\n",
       "    <tr>\n",
       "      <th>Moscow</th>\n",
       "      <td>12.0</td>\n",
       "      <td>22.916667</td>\n",
       "      <td>3.502164</td>\n",
       "      <td>17.0</td>\n",
       "      <td>20.75</td>\n",
       "      <td>23.5</td>\n",
       "      <td>24.75</td>\n",
       "      <td>28.0</td>\n",
       "      <td>12.0</td>\n",
       "      <td>11.250000</td>\n",
       "      <td>5.785955</td>\n",
       "      <td>3.0</td>\n",
       "      <td>6.75</td>\n",
       "      <td>11.0</td>\n",
       "      <td>12.25</td>\n",
       "      <td>24.0</td>\n",
       "    </tr>\n",
       "    <tr>\n",
       "      <th>Nizhny Novgorod</th>\n",
       "      <td>6.0</td>\n",
       "      <td>23.166667</td>\n",
       "      <td>4.535049</td>\n",
       "      <td>17.0</td>\n",
       "      <td>20.50</td>\n",
       "      <td>23.5</td>\n",
       "      <td>25.00</td>\n",
       "      <td>30.0</td>\n",
       "      <td>6.0</td>\n",
       "      <td>13.333333</td>\n",
       "      <td>2.338090</td>\n",
       "      <td>9.0</td>\n",
       "      <td>13.00</td>\n",
       "      <td>14.0</td>\n",
       "      <td>15.00</td>\n",
       "      <td>15.0</td>\n",
       "    </tr>\n",
       "    <tr>\n",
       "      <th>Rostov-On-Don</th>\n",
       "      <td>5.0</td>\n",
       "      <td>29.000000</td>\n",
       "      <td>3.807887</td>\n",
       "      <td>25.0</td>\n",
       "      <td>25.00</td>\n",
       "      <td>30.0</td>\n",
       "      <td>32.00</td>\n",
       "      <td>33.0</td>\n",
       "      <td>5.0</td>\n",
       "      <td>13.400000</td>\n",
       "      <td>5.029911</td>\n",
       "      <td>9.0</td>\n",
       "      <td>10.00</td>\n",
       "      <td>11.0</td>\n",
       "      <td>16.00</td>\n",
       "      <td>21.0</td>\n",
       "    </tr>\n",
       "    <tr>\n",
       "      <th>Samara</th>\n",
       "      <td>6.0</td>\n",
       "      <td>27.333333</td>\n",
       "      <td>4.366539</td>\n",
       "      <td>22.0</td>\n",
       "      <td>24.50</td>\n",
       "      <td>26.5</td>\n",
       "      <td>30.75</td>\n",
       "      <td>33.0</td>\n",
       "      <td>6.0</td>\n",
       "      <td>15.166667</td>\n",
       "      <td>7.626707</td>\n",
       "      <td>6.0</td>\n",
       "      <td>8.75</td>\n",
       "      <td>16.0</td>\n",
       "      <td>20.25</td>\n",
       "      <td>25.0</td>\n",
       "    </tr>\n",
       "    <tr>\n",
       "      <th>Saransk</th>\n",
       "      <td>4.0</td>\n",
       "      <td>22.000000</td>\n",
       "      <td>3.915780</td>\n",
       "      <td>18.0</td>\n",
       "      <td>19.50</td>\n",
       "      <td>21.5</td>\n",
       "      <td>24.00</td>\n",
       "      <td>27.0</td>\n",
       "      <td>4.0</td>\n",
       "      <td>10.000000</td>\n",
       "      <td>2.449490</td>\n",
       "      <td>7.0</td>\n",
       "      <td>8.50</td>\n",
       "      <td>10.5</td>\n",
       "      <td>12.00</td>\n",
       "      <td>12.0</td>\n",
       "    </tr>\n",
       "    <tr>\n",
       "      <th>Sochi</th>\n",
       "      <td>6.0</td>\n",
       "      <td>25.166667</td>\n",
       "      <td>2.857738</td>\n",
       "      <td>22.0</td>\n",
       "      <td>24.00</td>\n",
       "      <td>24.0</td>\n",
       "      <td>26.25</td>\n",
       "      <td>30.0</td>\n",
       "      <td>6.0</td>\n",
       "      <td>11.000000</td>\n",
       "      <td>0.894427</td>\n",
       "      <td>10.0</td>\n",
       "      <td>10.25</td>\n",
       "      <td>11.0</td>\n",
       "      <td>11.75</td>\n",
       "      <td>12.0</td>\n",
       "    </tr>\n",
       "    <tr>\n",
       "      <th>St. Petersburg</th>\n",
       "      <td>7.0</td>\n",
       "      <td>20.428571</td>\n",
       "      <td>4.035556</td>\n",
       "      <td>15.0</td>\n",
       "      <td>18.00</td>\n",
       "      <td>19.0</td>\n",
       "      <td>23.50</td>\n",
       "      <td>26.0</td>\n",
       "      <td>7.0</td>\n",
       "      <td>13.571429</td>\n",
       "      <td>3.690399</td>\n",
       "      <td>10.0</td>\n",
       "      <td>10.50</td>\n",
       "      <td>13.0</td>\n",
       "      <td>16.00</td>\n",
       "      <td>19.0</td>\n",
       "    </tr>\n",
       "    <tr>\n",
       "      <th>Volgograd</th>\n",
       "      <td>4.0</td>\n",
       "      <td>31.750000</td>\n",
       "      <td>5.439056</td>\n",
       "      <td>24.0</td>\n",
       "      <td>30.00</td>\n",
       "      <td>33.5</td>\n",
       "      <td>35.25</td>\n",
       "      <td>36.0</td>\n",
       "      <td>4.0</td>\n",
       "      <td>8.000000</td>\n",
       "      <td>4.690416</td>\n",
       "      <td>2.0</td>\n",
       "      <td>5.75</td>\n",
       "      <td>8.5</td>\n",
       "      <td>10.75</td>\n",
       "      <td>13.0</td>\n",
       "    </tr>\n",
       "  </tbody>\n",
       "</table>\n",
       "</div>"
      ],
      "text/plain": [
       "                temperature                                                 \\\n",
       "                      count       mean       std   min    25%   50%    75%   \n",
       "venue                                                                        \n",
       "Ekaterinburg            4.0  19.500000  7.593857  12.0  13.50  19.5  25.50   \n",
       "Kaliningrad             4.0  17.750000  3.201562  15.0  15.00  17.5  20.25   \n",
       "Kazan                   6.0  23.166667  4.665476  18.0  19.25  23.0  27.50   \n",
       "Moscow                 12.0  22.916667  3.502164  17.0  20.75  23.5  24.75   \n",
       "Nizhny Novgorod         6.0  23.166667  4.535049  17.0  20.50  23.5  25.00   \n",
       "Rostov-On-Don           5.0  29.000000  3.807887  25.0  25.00  30.0  32.00   \n",
       "Samara                  6.0  27.333333  4.366539  22.0  24.50  26.5  30.75   \n",
       "Saransk                 4.0  22.000000  3.915780  18.0  19.50  21.5  24.00   \n",
       "Sochi                   6.0  25.166667  2.857738  22.0  24.00  24.0  26.25   \n",
       "St. Petersburg          7.0  20.428571  4.035556  15.0  18.00  19.0  23.50   \n",
       "Volgograd               4.0  31.750000  5.439056  24.0  30.00  33.5  35.25   \n",
       "\n",
       "                      wind_speed                                          \\\n",
       "                  max      count       mean       std   min    25%   50%   \n",
       "venue                                                                      \n",
       "Ekaterinburg     27.0        4.0  23.500000  4.932883  18.0  20.25  23.5   \n",
       "Kaliningrad      21.0        4.0  10.500000  2.516611   7.0  10.00  11.0   \n",
       "Kazan            28.0        6.0  15.333333  6.918574   8.0   9.75  15.0   \n",
       "Moscow           28.0       12.0  11.250000  5.785955   3.0   6.75  11.0   \n",
       "Nizhny Novgorod  30.0        6.0  13.333333  2.338090   9.0  13.00  14.0   \n",
       "Rostov-On-Don    33.0        5.0  13.400000  5.029911   9.0  10.00  11.0   \n",
       "Samara           33.0        6.0  15.166667  7.626707   6.0   8.75  16.0   \n",
       "Saransk          27.0        4.0  10.000000  2.449490   7.0   8.50  10.5   \n",
       "Sochi            30.0        6.0  11.000000  0.894427  10.0  10.25  11.0   \n",
       "St. Petersburg   26.0        7.0  13.571429  3.690399  10.0  10.50  13.0   \n",
       "Volgograd        36.0        4.0   8.000000  4.690416   2.0   5.75   8.5   \n",
       "\n",
       "                              \n",
       "                   75%   max  \n",
       "venue                         \n",
       "Ekaterinburg     26.75  29.0  \n",
       "Kaliningrad      11.50  13.0  \n",
       "Kazan            18.75  26.0  \n",
       "Moscow           12.25  24.0  \n",
       "Nizhny Novgorod  15.00  15.0  \n",
       "Rostov-On-Don    16.00  21.0  \n",
       "Samara           20.25  25.0  \n",
       "Saransk          12.00  12.0  \n",
       "Sochi            11.75  12.0  \n",
       "St. Petersburg   16.00  19.0  \n",
       "Volgograd        10.75  13.0  "
      ]
     },
     "execution_count": 81,
     "metadata": {},
     "output_type": "execute_result"
    }
   ],
   "source": [
    "sched_weather.groupby('venue')[['temperature', 'wind_speed']].describe()"
   ]
  },
  {
   "cell_type": "markdown",
   "metadata": {},
   "source": [
    "The other pandas functions for joining datasets that you should be aware of is `pd.concat`. This is appropriate when you are adding new rows to a dataframe (ingore the index) or new columns (may need to ignore index)."
   ]
  },
  {
   "cell_type": "markdown",
   "metadata": {
    "slideshow": {
     "slide_type": "slide"
    }
   },
   "source": [
    "<a id='ref'></a>\n",
    "# 3. References and Links\n",
    "<a href=#top>(back to top)</a>\n",
    "\n",
    "1. [Numpy user manual](https://numpy.org/doc/stable/user/index.html)\n",
    "2. [10-minutes to Pandas](https://pandas.pydata.org/pandas-docs/stable/user_guide/10min.html) User manuals and references can be found through here.\n",
    "3. [Selection with Pandas](https://pandas.pydata.org/pandas-docs/stable/user_guide/indexing.html) Using .loc and .iloc.\n",
    "4. [World Happiness Report](https://worldhappiness.report/ed/2017/)"
   ]
  }
 ],
 "metadata": {
  "kernelspec": {
   "display_name": "Python 3 (ipykernel)",
   "language": "python",
   "name": "python3"
  },
  "language_info": {
   "codemirror_mode": {
    "name": "ipython",
    "version": 3
   },
   "file_extension": ".py",
   "mimetype": "text/x-python",
   "name": "python",
   "nbconvert_exporter": "python",
   "pygments_lexer": "ipython3",
   "version": "3.11.4"
  },
  "toc": {
   "base_numbering": 1,
   "nav_menu": {},
   "number_sections": false,
   "sideBar": true,
   "skip_h1_title": false,
   "title_cell": "Table of Contents",
   "title_sidebar": "Contents",
   "toc_cell": false,
   "toc_position": {},
   "toc_section_display": true,
   "toc_window_display": false
  },
  "varInspector": {
   "cols": {
    "lenName": 16,
    "lenType": 16,
    "lenVar": 40
   },
   "kernels_config": {
    "python": {
     "delete_cmd_postfix": "",
     "delete_cmd_prefix": "del ",
     "library": "var_list.py",
     "varRefreshCmd": "print(var_dic_list())"
    },
    "r": {
     "delete_cmd_postfix": ") ",
     "delete_cmd_prefix": "rm(",
     "library": "var_list.r",
     "varRefreshCmd": "cat(var_dic_list()) "
    }
   },
   "types_to_exclude": [
    "module",
    "function",
    "builtin_function_or_method",
    "instance",
    "_Feature"
   ],
   "window_display": false
  }
 },
 "nbformat": 4,
 "nbformat_minor": 4
}
